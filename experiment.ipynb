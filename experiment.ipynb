{
 "cells": [
  {
   "cell_type": "code",
   "execution_count": 1,
   "metadata": {},
   "outputs": [
    {
     "name": "stderr",
     "output_type": "stream",
     "text": [
      "\u001b[36m\u001b[1m[ \u001b[22m\u001b[39m\u001b[36m\u001b[1mInfo: \u001b[22m\u001b[39mPrecompiling ConstrainedDynamicsSimulator [c57ba902-cf0d-4687-8605-981b463e8666] (cache misses: include_dependency fsize change (2), incompatible header (10))\n"
     ]
    }
   ],
   "source": [
    "using Revise\n",
    "using Molly\n",
    "using Unitful\n",
    "using ConstrainedDynamicsSimulator"
   ]
  },
  {
   "cell_type": "code",
   "execution_count": 2,
   "metadata": {},
   "outputs": [
    {
     "data": {
      "text/plain": [
       "CVConstrainedOverdampedLangevin{Quantity{Float64, 𝐓, Unitful.FreeUnits{(ps,), 𝐓, nothing}}, Quantity{Float64, 𝚯, Unitful.FreeUnits{(K,), 𝚯, nothing}}, Quantity{Float64, 𝐓⁻¹, Unitful.FreeUnits{(ps⁻¹,), 𝐓⁻¹, nothing}}, typeof(ConstrainedDynamicsSimulator.Dihedrals.φ_grid), typeof(ConstrainedDynamicsSimulator.Dihedrals.φ_flat)}(0.002 ps, 30.0 K, 5000.0 ps⁻¹, ConstrainedDynamicsSimulator.Dihedrals.φ_grid, ConstrainedDynamicsSimulator.Dihedrals.φ_flat, 1)"
      ]
     },
     "execution_count": 2,
     "metadata": {},
     "output_type": "execute_result"
    }
   ],
   "source": [
    "# TODO: might still need to worry about boundary issues\n",
    "ff_dir = joinpath(dirname(pathof(Molly)), \"..\", \"data\", \"force_fields\")\n",
    "ff = MolecularForceField(joinpath.(ff_dir, [\"ff99SBildn.xml\", \"tip3p_standard.xml\"])...)\n",
    "sys = System(\"dipeptide_nowater.pdb\", ff; rename_terminal_res=false)\n",
    "\n",
    "function phi_wrapper(sys, args...; kwargs...)\n",
    "    rad2deg(torsion_angle(sys.coords[5], sys.coords[7], sys.coords[9],\n",
    "                          sys.coords[15], sys.boundary))\n",
    "end\n",
    "\n",
    "function psi_wrapper(sys, args...; kwargs...)\n",
    "    rad2deg(torsion_angle(sys.coords[7], sys.coords[9], sys.coords[15],\n",
    "                          sys.coords[17], sys.boundary))\n",
    "end\n",
    "\n",
    "sys = System(\n",
    "    \"dipeptide_nowater.pdb\",\n",
    "    ff;\n",
    "    rename_terminal_res=false,\n",
    "    loggers=(\n",
    "        writer=StructureWriter(100, \"trajectory.pdb\"),\n",
    "        phi=GeneralObservableLogger(phi_wrapper, Float64, 100),\n",
    "        psi=GeneralObservableLogger(psi_wrapper, Float64, 100),\n",
    "    ),\n",
    "    implicit_solvent=\"gbn2\",\n",
    ")\n",
    "\n",
    "temp = 30.0u\"K\"\n",
    "timestep = 0.002u\"ps\"\n",
    "fric = 5000.0u\"ps^-1\"\n",
    "simulator = CVConstrainedOverdampedLangevin(dt=timestep, T=temp, γ=fric, φ_grid=ConstrainedDynamicsSimulator.Dihedrals.φ_grid, φ_flat=ConstrainedDynamicsSimulator.Dihedrals.φ_flat)"
   ]
  },
  {
   "cell_type": "code",
   "execution_count": 3,
   "metadata": {},
   "outputs": [
    {
     "data": {
      "text/plain": [
       "OverdampedLangevin{Quantity{Float64, 𝐓, Unitful.FreeUnits{(ps,), 𝐓, nothing}}, Quantity{Float64, 𝚯, Unitful.FreeUnits{(K,), 𝚯, nothing}}, Quantity{Float64, 𝐓⁻¹, Unitful.FreeUnits{(ps⁻¹,), 𝐓⁻¹, nothing}}}(0.002 ps, 300.0 K, 5000.0 ps⁻¹, 1)"
      ]
     },
     "execution_count": 3,
     "metadata": {},
     "output_type": "execute_result"
    }
   ],
   "source": [
    "simulator = OverdampedLangevin(\n",
    "    dt=timestep,\n",
    "    temperature=temp,\n",
    "    friction=fric,\n",
    ")"
   ]
  },
  {
   "cell_type": "code",
   "execution_count": null,
   "metadata": {},
   "outputs": [],
   "source": [
    "Molly.simulate!(sys, simulator, 100000)"
   ]
  },
  {
   "cell_type": "code",
   "execution_count": 3,
   "metadata": {},
   "outputs": [
    {
     "name": "stdout",
     "output_type": "stream",
     "text": [
      "progress = Progress(n_steps) = ProgressMeter.Progress(100000, 0, nothing, ProgressMeter.BarGlyphs('|', '█', ['▏', '▎', '▍', '▌', '▋', '▊', '▉'], ' ', '|'), ProgressMeter.ProgressCore(:green, \"Progress: \", 0.1, true, 0, IJulia.IJuliaStdio{Base.PipeEndpoint}(IOContext(Base.PipeEndpoint(RawFD(40) open, 0 bytes waiting))), false, 1, 0, ReentrantLock(nothing, 0x00000000, 0x00, Base.GenericCondition{Base.Threads.SpinLock}(Base.IntrusiveLinkedList{Task}(nothing, nothing), Base.Threads.SpinLock(0)), (13231357456, 13340132496, 1)), 0, 1, false, false, 1.74281534580187e9, 1.74281534580187e9, 1.74281534580187e9))\n"
     ]
    },
    {
     "name": "stderr",
     "output_type": "stream",
     "text": [
      "\u001b[32mProgress: 100%|█████████████████████████████████████████| Time: 0:00:31\u001b[39m9:15\u001b[39m\n"
     ]
    },
    {
     "data": {
      "text/plain": [
       "(System with 22 atoms, boundary CubicBoundary{Quantity{Float64, 𝐋, Unitful.FreeUnits{(nm,), 𝐋, nothing}}}(Quantity{Float64, 𝐋, Unitful.FreeUnits{(nm,), 𝐋, nothing}}[3.4224000000000006 nm, 3.9133000000000004 nm, 3.3010999999999995 nm]), [100000, 0, 0])"
      ]
     },
     "execution_count": 3,
     "metadata": {},
     "output_type": "execute_result"
    }
   ],
   "source": [
    "ConstrainedDynamicsSimulator.euler_maruyama_split_time!(sys, simulator, 100_000) # This will take a little while to run"
   ]
  },
  {
   "cell_type": "code",
   "execution_count": null,
   "metadata": {},
   "outputs": [],
   "source": [
    "# TODO: We need to investigate how multiprocessing works with Zigote and ForwardDIff in Julia"
   ]
  },
  {
   "cell_type": "code",
   "execution_count": 4,
   "metadata": {},
   "outputs": [
    {
     "data": {
      "text/plain": [
       "1001-element Vector{Float64}:\n",
       " 160.7338408636881\n",
       " 165.83615820416162\n",
       " 165.5812434694452\n",
       " 162.9099717743194\n",
       " 163.7713623477379\n",
       " 164.5960525178608\n",
       " 164.02979543554667\n",
       " 163.30899159231703\n",
       " 160.52986788531192\n",
       " 161.01039629998618\n",
       " 162.04596495574225\n",
       " 161.0616018808695\n",
       " 162.19587358315428\n",
       "   ⋮\n",
       " 158.9835463676879\n",
       " 159.4298726089395\n",
       " 156.92055499868832\n",
       " 159.894627541675\n",
       " 159.92650289878796\n",
       " 156.43729532562523\n",
       " 158.8409344314697\n",
       " 157.82328586104447\n",
       " 161.66247630341036\n",
       " 159.3312514816547\n",
       " 162.60318978171134\n",
       " 162.11492157750266"
      ]
     },
     "execution_count": 4,
     "metadata": {},
     "output_type": "execute_result"
    }
   ],
   "source": [
    "phi_values = values(sys.loggers.phi)\n",
    "psi_values = values(sys.loggers.psi)"
   ]
  },
  {
   "cell_type": "code",
   "execution_count": 5,
   "metadata": {},
   "outputs": [
    {
     "data": {
      "image/png": "[encoded data removed]",
      "image/svg+xml": [
       "<?xml version=\"1.0\" encoding=\"utf-8\"?>\n",
       "<svg xmlns=\"http://www.w3.org/2000/svg\" xmlns:xlink=\"http://www.w3.org/1999/xlink\" width=\"600\" height=\"400\" viewBox=\"0 0 2400 1600\">\n",
       "<defs>\n",
       "  <clipPath id=\"clip570\">\n",
       "    <rect x=\"0\" y=\"0\" width=\"2400\" height=\"1600\"/>\n",
       "  </clipPath>\n",
       "</defs>\n",
       "<path clip-path=\"url(#clip570)\" d=\"M0 1600 L2400 1600 L2400 0 L0 0  Z\" fill=\"#ffffff\" fill-rule=\"evenodd\" fill-opacity=\"1\"/>\n",
       "<defs>\n",
       "  <clipPath id=\"clip571\">\n",
       "    <rect x=\"480\" y=\"0\" width=\"1681\" height=\"1600\"/>\n",
       "  </clipPath>\n",
       "</defs>\n",
       "<path clip-path=\"url(#clip570)\" d=\"M209.029 1486.45 L2352.76 1486.45 L2352.76 47.2441 L209.029 47.2441  Z\" fill=\"#ffffff\" fill-rule=\"evenodd\" fill-opacity=\"1\"/>\n",
       "<defs>\n",
       "  <clipPath id=\"clip572\">\n",
       "    <rect x=\"209\" y=\"47\" width=\"2145\" height=\"1440\"/>\n",
       "  </clipPath>\n",
       "</defs>\n",
       "<polyline clip-path=\"url(#clip572)\" style=\"stroke:#000000; stroke-linecap:round; stroke-linejoin:round; stroke-width:2; stroke-opacity:0.1; fill:none\" points=\"267.678,1486.45 267.678,47.2441 \"/>\n",
       "<polyline clip-path=\"url(#clip572)\" style=\"stroke:#000000; stroke-linecap:round; stroke-linejoin:round; stroke-width:2; stroke-opacity:0.1; fill:none\" points=\"773.274,1486.45 773.274,47.2441 \"/>\n",
       "<polyline clip-path=\"url(#clip572)\" style=\"stroke:#000000; stroke-linecap:round; stroke-linejoin:round; stroke-width:2; stroke-opacity:0.1; fill:none\" points=\"1278.87,1486.45 1278.87,47.2441 \"/>\n",
       "<polyline clip-path=\"url(#clip572)\" style=\"stroke:#000000; stroke-linecap:round; stroke-linejoin:round; stroke-width:2; stroke-opacity:0.1; fill:none\" points=\"1784.47,1486.45 1784.47,47.2441 \"/>\n",
       "<polyline clip-path=\"url(#clip572)\" style=\"stroke:#000000; stroke-linecap:round; stroke-linejoin:round; stroke-width:2; stroke-opacity:0.1; fill:none\" points=\"2290.06,1486.45 2290.06,47.2441 \"/>\n",
       "<polyline clip-path=\"url(#clip572)\" style=\"stroke:#000000; stroke-linecap:round; stroke-linejoin:round; stroke-width:2; stroke-opacity:0.1; fill:none\" points=\"209.029,1403.82 2352.76,1403.82 \"/>\n",
       "<polyline clip-path=\"url(#clip572)\" style=\"stroke:#000000; stroke-linecap:round; stroke-linejoin:round; stroke-width:2; stroke-opacity:0.1; fill:none\" points=\"209.029,1200.91 2352.76,1200.91 \"/>\n",
       "<polyline clip-path=\"url(#clip572)\" style=\"stroke:#000000; stroke-linecap:round; stroke-linejoin:round; stroke-width:2; stroke-opacity:0.1; fill:none\" points=\"209.029,998.001 2352.76,998.001 \"/>\n",
       "<polyline clip-path=\"url(#clip572)\" style=\"stroke:#000000; stroke-linecap:round; stroke-linejoin:round; stroke-width:2; stroke-opacity:0.1; fill:none\" points=\"209.029,795.091 2352.76,795.091 \"/>\n",
       "<polyline clip-path=\"url(#clip572)\" style=\"stroke:#000000; stroke-linecap:round; stroke-linejoin:round; stroke-width:2; stroke-opacity:0.1; fill:none\" points=\"209.029,592.18 2352.76,592.18 \"/>\n",
       "<polyline clip-path=\"url(#clip572)\" style=\"stroke:#000000; stroke-linecap:round; stroke-linejoin:round; stroke-width:2; stroke-opacity:0.1; fill:none\" points=\"209.029,389.269 2352.76,389.269 \"/>\n",
       "<polyline clip-path=\"url(#clip572)\" style=\"stroke:#000000; stroke-linecap:round; stroke-linejoin:round; stroke-width:2; stroke-opacity:0.1; fill:none\" points=\"209.029,186.359 2352.76,186.359 \"/>\n",
       "<polyline clip-path=\"url(#clip570)\" style=\"stroke:#000000; stroke-linecap:round; stroke-linejoin:round; stroke-width:4; stroke-opacity:1; fill:none\" points=\"209.029,1486.45 2352.76,1486.45 \"/>\n",
       "<polyline clip-path=\"url(#clip570)\" style=\"stroke:#000000; stroke-linecap:round; stroke-linejoin:round; stroke-width:4; stroke-opacity:1; fill:none\" points=\"267.678,1486.45 267.678,1467.55 \"/>\n",
       "<polyline clip-path=\"url(#clip570)\" style=\"stroke:#000000; stroke-linecap:round; stroke-linejoin:round; stroke-width:4; stroke-opacity:1; fill:none\" points=\"773.274,1486.45 773.274,1467.55 \"/>\n",
       "<polyline clip-path=\"url(#clip570)\" style=\"stroke:#000000; stroke-linecap:round; stroke-linejoin:round; stroke-width:4; stroke-opacity:1; fill:none\" points=\"1278.87,1486.45 1278.87,1467.55 \"/>\n",
       "<polyline clip-path=\"url(#clip570)\" style=\"stroke:#000000; stroke-linecap:round; stroke-linejoin:round; stroke-width:4; stroke-opacity:1; fill:none\" points=\"1784.47,1486.45 1784.47,1467.55 \"/>\n",
       "<polyline clip-path=\"url(#clip570)\" style=\"stroke:#000000; stroke-linecap:round; stroke-linejoin:round; stroke-width:4; stroke-opacity:1; fill:none\" points=\"2290.06,1486.45 2290.06,1467.55 \"/>\n",
       "<path clip-path=\"url(#clip570)\" d=\"M267.678 1517.37 Q264.067 1517.37 262.238 1520.93 Q260.432 1524.47 260.432 1531.6 Q260.432 1538.71 262.238 1542.27 Q264.067 1545.82 267.678 1545.82 Q271.312 1545.82 273.117 1542.27 Q274.946 1538.71 274.946 1531.6 Q274.946 1524.47 273.117 1520.93 Q271.312 1517.37 267.678 1517.37 M267.678 1513.66 Q273.488 1513.66 276.543 1518.27 Q279.622 1522.85 279.622 1531.6 Q279.622 1540.33 276.543 1544.94 Q273.488 1549.52 267.678 1549.52 Q261.868 1549.52 258.789 1544.94 Q255.733 1540.33 255.733 1531.6 Q255.733 1522.85 258.789 1518.27 Q261.868 1513.66 267.678 1513.66 Z\" fill=\"#000000\" fill-rule=\"nonzero\" fill-opacity=\"1\" /><path clip-path=\"url(#clip570)\" d=\"M736.966 1544.91 L753.285 1544.91 L753.285 1548.85 L731.341 1548.85 L731.341 1544.91 Q734.003 1542.16 738.586 1537.53 Q743.193 1532.88 744.373 1531.53 Q746.619 1529.01 747.498 1527.27 Q748.401 1525.51 748.401 1523.82 Q748.401 1521.07 746.457 1519.33 Q744.535 1517.6 741.434 1517.6 Q739.235 1517.6 736.781 1518.36 Q734.35 1519.13 731.573 1520.68 L731.573 1515.95 Q734.397 1514.82 736.85 1514.24 Q739.304 1513.66 741.341 1513.66 Q746.711 1513.66 749.906 1516.35 Q753.1 1519.03 753.1 1523.52 Q753.1 1525.65 752.29 1527.57 Q751.503 1529.47 749.397 1532.07 Q748.818 1532.74 745.716 1535.95 Q742.614 1539.15 736.966 1544.91 Z\" fill=\"#000000\" fill-rule=\"nonzero\" fill-opacity=\"1\" /><path clip-path=\"url(#clip570)\" d=\"M763.146 1514.29 L781.503 1514.29 L781.503 1518.22 L767.429 1518.22 L767.429 1526.7 Q768.447 1526.35 769.466 1526.19 Q770.484 1526 771.503 1526 Q777.29 1526 780.67 1529.17 Q784.049 1532.34 784.049 1537.76 Q784.049 1543.34 780.577 1546.44 Q777.105 1549.52 770.785 1549.52 Q768.609 1549.52 766.341 1549.15 Q764.096 1548.78 761.688 1548.04 L761.688 1543.34 Q763.771 1544.47 765.994 1545.03 Q768.216 1545.58 770.693 1545.58 Q774.697 1545.58 777.035 1543.48 Q779.373 1541.37 779.373 1537.76 Q779.373 1534.15 777.035 1532.04 Q774.697 1529.94 770.693 1529.94 Q768.818 1529.94 766.943 1530.35 Q765.091 1530.77 763.146 1531.65 L763.146 1514.29 Z\" fill=\"#000000\" fill-rule=\"nonzero\" fill-opacity=\"1\" /><path clip-path=\"url(#clip570)\" d=\"M803.262 1517.37 Q799.651 1517.37 797.822 1520.93 Q796.017 1524.47 796.017 1531.6 Q796.017 1538.71 797.822 1542.27 Q799.651 1545.82 803.262 1545.82 Q806.896 1545.82 808.702 1542.27 Q810.53 1538.71 810.53 1531.6 Q810.53 1524.47 808.702 1520.93 Q806.896 1517.37 803.262 1517.37 M803.262 1513.66 Q809.072 1513.66 812.128 1518.27 Q815.206 1522.85 815.206 1531.6 Q815.206 1540.33 812.128 1544.94 Q809.072 1549.52 803.262 1549.52 Q797.452 1549.52 794.373 1544.94 Q791.318 1540.33 791.318 1531.6 Q791.318 1522.85 794.373 1518.27 Q797.452 1513.66 803.262 1513.66 Z\" fill=\"#000000\" fill-rule=\"nonzero\" fill-opacity=\"1\" /><path clip-path=\"url(#clip570)\" d=\"M1238.49 1514.29 L1256.84 1514.29 L1256.84 1518.22 L1242.77 1518.22 L1242.77 1526.7 Q1243.79 1526.35 1244.81 1526.19 Q1245.83 1526 1246.84 1526 Q1252.63 1526 1256.01 1529.17 Q1259.39 1532.34 1259.39 1537.76 Q1259.39 1543.34 1255.92 1546.44 Q1252.45 1549.52 1246.13 1549.52 Q1243.95 1549.52 1241.68 1549.15 Q1239.44 1548.78 1237.03 1548.04 L1237.03 1543.34 Q1239.11 1544.47 1241.34 1545.03 Q1243.56 1545.58 1246.03 1545.58 Q1250.04 1545.58 1252.38 1543.48 Q1254.71 1541.37 1254.71 1537.76 Q1254.71 1534.15 1252.38 1532.04 Q1250.04 1529.94 1246.03 1529.94 Q1244.16 1529.94 1242.28 1530.35 Q1240.43 1530.77 1238.49 1531.65 L1238.49 1514.29 Z\" fill=\"#000000\" fill-rule=\"nonzero\" fill-opacity=\"1\" /><path clip-path=\"url(#clip570)\" d=\"M1278.6 1517.37 Q1274.99 1517.37 1273.16 1520.93 Q1271.36 1524.47 1271.36 1531.6 Q1271.36 1538.71 1273.16 1542.27 Q1274.99 1545.82 1278.6 1545.82 Q1282.24 1545.82 1284.04 1542.27 Q1285.87 1538.71 1285.87 1531.6 Q1285.87 1524.47 1284.04 1520.93 Q1282.24 1517.37 1278.6 1517.37 M1278.6 1513.66 Q1284.41 1513.66 1287.47 1518.27 Q1290.55 1522.85 1290.55 1531.6 Q1290.55 1540.33 1287.47 1544.94 Q1284.41 1549.52 1278.6 1549.52 Q1272.79 1549.52 1269.71 1544.94 Q1266.66 1540.33 1266.66 1531.6 Q1266.66 1522.85 1269.71 1518.27 Q1272.79 1513.66 1278.6 1513.66 Z\" fill=\"#000000\" fill-rule=\"nonzero\" fill-opacity=\"1\" /><path clip-path=\"url(#clip570)\" d=\"M1308.77 1517.37 Q1305.15 1517.37 1303.33 1520.93 Q1301.52 1524.47 1301.52 1531.6 Q1301.52 1538.71 1303.33 1542.27 Q1305.15 1545.82 1308.77 1545.82 Q1312.4 1545.82 1314.21 1542.27 Q1316.03 1538.71 1316.03 1531.6 Q1316.03 1524.47 1314.21 1520.93 Q1312.4 1517.37 1308.77 1517.37 M1308.77 1513.66 Q1314.58 1513.66 1317.63 1518.27 Q1320.71 1522.85 1320.71 1531.6 Q1320.71 1540.33 1317.63 1544.94 Q1314.58 1549.52 1308.77 1549.52 Q1302.96 1549.52 1299.88 1544.94 Q1296.82 1540.33 1296.82 1531.6 Q1296.82 1522.85 1299.88 1518.27 Q1302.96 1513.66 1308.77 1513.66 Z\" fill=\"#000000\" fill-rule=\"nonzero\" fill-opacity=\"1\" /><path clip-path=\"url(#clip570)\" d=\"M1742.74 1514.29 L1764.96 1514.29 L1764.96 1516.28 L1752.42 1548.85 L1747.53 1548.85 L1759.34 1518.22 L1742.74 1518.22 L1742.74 1514.29 Z\" fill=\"#000000\" fill-rule=\"nonzero\" fill-opacity=\"1\" /><path clip-path=\"url(#clip570)\" d=\"M1774.13 1514.29 L1792.49 1514.29 L1792.49 1518.22 L1778.41 1518.22 L1778.41 1526.7 Q1779.43 1526.35 1780.45 1526.19 Q1781.47 1526 1782.49 1526 Q1788.27 1526 1791.65 1529.17 Q1795.03 1532.34 1795.03 1537.76 Q1795.03 1543.34 1791.56 1546.44 Q1788.09 1549.52 1781.77 1549.52 Q1779.59 1549.52 1777.32 1549.15 Q1775.08 1548.78 1772.67 1548.04 L1772.67 1543.34 Q1774.76 1544.47 1776.98 1545.03 Q1779.2 1545.58 1781.68 1545.58 Q1785.68 1545.58 1788.02 1543.48 Q1790.36 1541.37 1790.36 1537.76 Q1790.36 1534.15 1788.02 1532.04 Q1785.68 1529.94 1781.68 1529.94 Q1779.8 1529.94 1777.93 1530.35 Q1776.07 1530.77 1774.13 1531.65 L1774.13 1514.29 Z\" fill=\"#000000\" fill-rule=\"nonzero\" fill-opacity=\"1\" /><path clip-path=\"url(#clip570)\" d=\"M1814.25 1517.37 Q1810.63 1517.37 1808.81 1520.93 Q1807 1524.47 1807 1531.6 Q1807 1538.71 1808.81 1542.27 Q1810.63 1545.82 1814.25 1545.82 Q1817.88 1545.82 1819.69 1542.27 Q1821.51 1538.71 1821.51 1531.6 Q1821.51 1524.47 1819.69 1520.93 Q1817.88 1517.37 1814.25 1517.37 M1814.25 1513.66 Q1820.06 1513.66 1823.11 1518.27 Q1826.19 1522.85 1826.19 1531.6 Q1826.19 1540.33 1823.11 1544.94 Q1820.06 1549.52 1814.25 1549.52 Q1808.44 1549.52 1805.36 1544.94 Q1802.3 1540.33 1802.3 1531.6 Q1802.3 1522.85 1805.36 1518.27 Q1808.44 1513.66 1814.25 1513.66 Z\" fill=\"#000000\" fill-rule=\"nonzero\" fill-opacity=\"1\" /><path clip-path=\"url(#clip570)\" d=\"M2234.59 1544.91 L2242.23 1544.91 L2242.23 1518.55 L2233.92 1520.21 L2233.92 1515.95 L2242.18 1514.29 L2246.86 1514.29 L2246.86 1544.91 L2254.5 1544.91 L2254.5 1548.85 L2234.59 1548.85 L2234.59 1544.91 Z\" fill=\"#000000\" fill-rule=\"nonzero\" fill-opacity=\"1\" /><path clip-path=\"url(#clip570)\" d=\"M2273.94 1517.37 Q2270.33 1517.37 2268.5 1520.93 Q2266.69 1524.47 2266.69 1531.6 Q2266.69 1538.71 2268.5 1542.27 Q2270.33 1545.82 2273.94 1545.82 Q2277.57 1545.82 2279.38 1542.27 Q2281.21 1538.71 2281.21 1531.6 Q2281.21 1524.47 2279.38 1520.93 Q2277.57 1517.37 2273.94 1517.37 M2273.94 1513.66 Q2279.75 1513.66 2282.81 1518.27 Q2285.88 1522.85 2285.88 1531.6 Q2285.88 1540.33 2282.81 1544.94 Q2279.75 1549.52 2273.94 1549.52 Q2268.13 1549.52 2265.05 1544.94 Q2262 1540.33 2262 1531.6 Q2262 1522.85 2265.05 1518.27 Q2268.13 1513.66 2273.94 1513.66 Z\" fill=\"#000000\" fill-rule=\"nonzero\" fill-opacity=\"1\" /><path clip-path=\"url(#clip570)\" d=\"M2304.1 1517.37 Q2300.49 1517.37 2298.66 1520.93 Q2296.86 1524.47 2296.86 1531.6 Q2296.86 1538.71 2298.66 1542.27 Q2300.49 1545.82 2304.1 1545.82 Q2307.74 1545.82 2309.54 1542.27 Q2311.37 1538.71 2311.37 1531.6 Q2311.37 1524.47 2309.54 1520.93 Q2307.74 1517.37 2304.1 1517.37 M2304.1 1513.66 Q2309.91 1513.66 2312.97 1518.27 Q2316.05 1522.85 2316.05 1531.6 Q2316.05 1540.33 2312.97 1544.94 Q2309.91 1549.52 2304.1 1549.52 Q2298.29 1549.52 2295.21 1544.94 Q2292.16 1540.33 2292.16 1531.6 Q2292.16 1522.85 2295.21 1518.27 Q2298.29 1513.66 2304.1 1513.66 Z\" fill=\"#000000\" fill-rule=\"nonzero\" fill-opacity=\"1\" /><path clip-path=\"url(#clip570)\" d=\"M2334.26 1517.37 Q2330.65 1517.37 2328.82 1520.93 Q2327.02 1524.47 2327.02 1531.6 Q2327.02 1538.71 2328.82 1542.27 Q2330.65 1545.82 2334.26 1545.82 Q2337.9 1545.82 2339.7 1542.27 Q2341.53 1538.71 2341.53 1531.6 Q2341.53 1524.47 2339.7 1520.93 Q2337.9 1517.37 2334.26 1517.37 M2334.26 1513.66 Q2340.07 1513.66 2343.13 1518.27 Q2346.21 1522.85 2346.21 1531.6 Q2346.21 1540.33 2343.13 1544.94 Q2340.07 1549.52 2334.26 1549.52 Q2328.45 1549.52 2325.37 1544.94 Q2322.32 1540.33 2322.32 1531.6 Q2322.32 1522.85 2325.37 1518.27 Q2328.45 1513.66 2334.26 1513.66 Z\" fill=\"#000000\" fill-rule=\"nonzero\" fill-opacity=\"1\" /><polyline clip-path=\"url(#clip570)\" style=\"stroke:#000000; stroke-linecap:round; stroke-linejoin:round; stroke-width:4; stroke-opacity:1; fill:none\" points=\"209.029,1486.45 209.029,47.2441 \"/>\n",
       "<polyline clip-path=\"url(#clip570)\" style=\"stroke:#000000; stroke-linecap:round; stroke-linejoin:round; stroke-width:4; stroke-opacity:1; fill:none\" points=\"209.029,1403.82 227.926,1403.82 \"/>\n",
       "<polyline clip-path=\"url(#clip570)\" style=\"stroke:#000000; stroke-linecap:round; stroke-linejoin:round; stroke-width:4; stroke-opacity:1; fill:none\" points=\"209.029,1200.91 227.926,1200.91 \"/>\n",
       "<polyline clip-path=\"url(#clip570)\" style=\"stroke:#000000; stroke-linecap:round; stroke-linejoin:round; stroke-width:4; stroke-opacity:1; fill:none\" points=\"209.029,998.001 227.926,998.001 \"/>\n",
       "<polyline clip-path=\"url(#clip570)\" style=\"stroke:#000000; stroke-linecap:round; stroke-linejoin:round; stroke-width:4; stroke-opacity:1; fill:none\" points=\"209.029,795.091 227.926,795.091 \"/>\n",
       "<polyline clip-path=\"url(#clip570)\" style=\"stroke:#000000; stroke-linecap:round; stroke-linejoin:round; stroke-width:4; stroke-opacity:1; fill:none\" points=\"209.029,592.18 227.926,592.18 \"/>\n",
       "<polyline clip-path=\"url(#clip570)\" style=\"stroke:#000000; stroke-linecap:round; stroke-linejoin:round; stroke-width:4; stroke-opacity:1; fill:none\" points=\"209.029,389.269 227.926,389.269 \"/>\n",
       "<polyline clip-path=\"url(#clip570)\" style=\"stroke:#000000; stroke-linecap:round; stroke-linejoin:round; stroke-width:4; stroke-opacity:1; fill:none\" points=\"209.029,186.359 227.926,186.359 \"/>\n",
       "<path clip-path=\"url(#clip570)\" d=\"M50.9921 1404.27 L80.6679 1404.27 L80.6679 1408.21 L50.9921 1408.21 L50.9921 1404.27 Z\" fill=\"#000000\" fill-rule=\"nonzero\" fill-opacity=\"1\" /><path clip-path=\"url(#clip570)\" d=\"M91.5706 1417.17 L99.2095 1417.17 L99.2095 1390.8 L90.8993 1392.47 L90.8993 1388.21 L99.1632 1386.54 L103.839 1386.54 L103.839 1417.17 L111.478 1417.17 L111.478 1421.1 L91.5706 1421.1 L91.5706 1417.17 Z\" fill=\"#000000\" fill-rule=\"nonzero\" fill-opacity=\"1\" /><path clip-path=\"url(#clip570)\" d=\"M120.969 1386.54 L139.325 1386.54 L139.325 1390.48 L125.251 1390.48 L125.251 1398.95 Q126.27 1398.6 127.288 1398.44 Q128.307 1398.26 129.325 1398.26 Q135.112 1398.26 138.492 1401.43 Q141.871 1404.6 141.871 1410.01 Q141.871 1415.59 138.399 1418.7 Q134.927 1421.77 128.607 1421.77 Q126.432 1421.77 124.163 1421.4 Q121.918 1421.03 119.51 1420.29 L119.51 1415.59 Q121.594 1416.73 123.816 1417.28 Q126.038 1417.84 128.515 1417.84 Q132.519 1417.84 134.857 1415.73 Q137.195 1413.63 137.195 1410.01 Q137.195 1406.4 134.857 1404.3 Q132.519 1402.19 128.515 1402.19 Q126.64 1402.19 124.765 1402.61 Q122.913 1403.02 120.969 1403.9 L120.969 1386.54 Z\" fill=\"#000000\" fill-rule=\"nonzero\" fill-opacity=\"1\" /><path clip-path=\"url(#clip570)\" d=\"M161.084 1389.62 Q157.473 1389.62 155.644 1393.19 Q153.839 1396.73 153.839 1403.86 Q153.839 1410.96 155.644 1414.53 Q157.473 1418.07 161.084 1418.07 Q164.718 1418.07 166.524 1414.53 Q168.353 1410.96 168.353 1403.86 Q168.353 1396.73 166.524 1393.19 Q164.718 1389.62 161.084 1389.62 M161.084 1385.92 Q166.894 1385.92 169.95 1390.52 Q173.029 1395.11 173.029 1403.86 Q173.029 1412.58 169.95 1417.19 Q166.894 1421.77 161.084 1421.77 Q155.274 1421.77 152.195 1417.19 Q149.14 1412.58 149.14 1403.86 Q149.14 1395.11 152.195 1390.52 Q155.274 1385.92 161.084 1385.92 Z\" fill=\"#000000\" fill-rule=\"nonzero\" fill-opacity=\"1\" /><path clip-path=\"url(#clip570)\" d=\"M50.9921 1201.36 L80.6679 1201.36 L80.6679 1205.3 L50.9921 1205.3 L50.9921 1201.36 Z\" fill=\"#000000\" fill-rule=\"nonzero\" fill-opacity=\"1\" /><path clip-path=\"url(#clip570)\" d=\"M91.5706 1214.26 L99.2095 1214.26 L99.2095 1187.89 L90.8993 1189.56 L90.8993 1185.3 L99.1632 1183.63 L103.839 1183.63 L103.839 1214.26 L111.478 1214.26 L111.478 1218.19 L91.5706 1218.19 L91.5706 1214.26 Z\" fill=\"#000000\" fill-rule=\"nonzero\" fill-opacity=\"1\" /><path clip-path=\"url(#clip570)\" d=\"M130.922 1186.71 Q127.311 1186.71 125.482 1190.28 Q123.677 1193.82 123.677 1200.95 Q123.677 1208.05 125.482 1211.62 Q127.311 1215.16 130.922 1215.16 Q134.556 1215.16 136.362 1211.62 Q138.191 1208.05 138.191 1200.95 Q138.191 1193.82 136.362 1190.28 Q134.556 1186.71 130.922 1186.71 M130.922 1183.01 Q136.732 1183.01 139.788 1187.61 Q142.867 1192.2 142.867 1200.95 Q142.867 1209.67 139.788 1214.28 Q136.732 1218.86 130.922 1218.86 Q125.112 1218.86 122.033 1214.28 Q118.978 1209.67 118.978 1200.95 Q118.978 1192.2 122.033 1187.61 Q125.112 1183.01 130.922 1183.01 Z\" fill=\"#000000\" fill-rule=\"nonzero\" fill-opacity=\"1\" /><path clip-path=\"url(#clip570)\" d=\"M161.084 1186.71 Q157.473 1186.71 155.644 1190.28 Q153.839 1193.82 153.839 1200.95 Q153.839 1208.05 155.644 1211.62 Q157.473 1215.16 161.084 1215.16 Q164.718 1215.16 166.524 1211.62 Q168.353 1208.05 168.353 1200.95 Q168.353 1193.82 166.524 1190.28 Q164.718 1186.71 161.084 1186.71 M161.084 1183.01 Q166.894 1183.01 169.95 1187.61 Q173.029 1192.2 173.029 1200.95 Q173.029 1209.67 169.95 1214.28 Q166.894 1218.86 161.084 1218.86 Q155.274 1218.86 152.195 1214.28 Q149.14 1209.67 149.14 1200.95 Q149.14 1192.2 152.195 1187.61 Q155.274 1183.01 161.084 1183.01 Z\" fill=\"#000000\" fill-rule=\"nonzero\" fill-opacity=\"1\" /><path clip-path=\"url(#clip570)\" d=\"M81.154 998.453 L110.83 998.453 L110.83 1002.39 L81.154 1002.39 L81.154 998.453 Z\" fill=\"#000000\" fill-rule=\"nonzero\" fill-opacity=\"1\" /><path clip-path=\"url(#clip570)\" d=\"M120.969 980.721 L139.325 980.721 L139.325 984.657 L125.251 984.657 L125.251 993.129 Q126.27 992.781 127.288 992.619 Q128.307 992.434 129.325 992.434 Q135.112 992.434 138.492 995.606 Q141.871 998.777 141.871 1004.19 Q141.871 1009.77 138.399 1012.87 Q134.927 1015.95 128.607 1015.95 Q126.432 1015.95 124.163 1015.58 Q121.918 1015.21 119.51 1014.47 L119.51 1009.77 Q121.594 1010.91 123.816 1011.46 Q126.038 1012.02 128.515 1012.02 Q132.519 1012.02 134.857 1009.91 Q137.195 1007.8 137.195 1004.19 Q137.195 1000.58 134.857 998.476 Q132.519 996.369 128.515 996.369 Q126.64 996.369 124.765 996.786 Q122.913 997.203 120.969 998.082 L120.969 980.721 Z\" fill=\"#000000\" fill-rule=\"nonzero\" fill-opacity=\"1\" /><path clip-path=\"url(#clip570)\" d=\"M161.084 983.8 Q157.473 983.8 155.644 987.365 Q153.839 990.906 153.839 998.036 Q153.839 1005.14 155.644 1008.71 Q157.473 1012.25 161.084 1012.25 Q164.718 1012.25 166.524 1008.71 Q168.353 1005.14 168.353 998.036 Q168.353 990.906 166.524 987.365 Q164.718 983.8 161.084 983.8 M161.084 980.096 Q166.894 980.096 169.95 984.703 Q173.029 989.286 173.029 998.036 Q173.029 1006.76 169.95 1011.37 Q166.894 1015.95 161.084 1015.95 Q155.274 1015.95 152.195 1011.37 Q149.14 1006.76 149.14 998.036 Q149.14 989.286 152.195 984.703 Q155.274 980.096 161.084 980.096 Z\" fill=\"#000000\" fill-rule=\"nonzero\" fill-opacity=\"1\" /><path clip-path=\"url(#clip570)\" d=\"M161.084 780.889 Q157.473 780.889 155.644 784.454 Q153.839 787.996 153.839 795.125 Q153.839 802.232 155.644 805.797 Q157.473 809.338 161.084 809.338 Q164.718 809.338 166.524 805.797 Q168.353 802.232 168.353 795.125 Q168.353 787.996 166.524 784.454 Q164.718 780.889 161.084 780.889 M161.084 777.186 Q166.894 777.186 169.95 781.792 Q173.029 786.375 173.029 795.125 Q173.029 803.852 169.95 808.459 Q166.894 813.042 161.084 813.042 Q155.274 813.042 152.195 808.459 Q149.14 803.852 149.14 795.125 Q149.14 786.375 152.195 781.792 Q155.274 777.186 161.084 777.186 Z\" fill=\"#000000\" fill-rule=\"nonzero\" fill-opacity=\"1\" /><path clip-path=\"url(#clip570)\" d=\"M120.969 574.9 L139.325 574.9 L139.325 578.835 L125.251 578.835 L125.251 587.307 Q126.27 586.96 127.288 586.798 Q128.307 586.613 129.325 586.613 Q135.112 586.613 138.492 589.784 Q141.871 592.956 141.871 598.372 Q141.871 603.951 138.399 607.053 Q134.927 610.131 128.607 610.131 Q126.432 610.131 124.163 609.761 Q121.918 609.391 119.51 608.65 L119.51 603.951 Q121.594 605.085 123.816 605.641 Q126.038 606.196 128.515 606.196 Q132.519 606.196 134.857 604.09 Q137.195 601.983 137.195 598.372 Q137.195 594.761 134.857 592.655 Q132.519 590.548 128.515 590.548 Q126.64 590.548 124.765 590.965 Q122.913 591.381 120.969 592.261 L120.969 574.9 Z\" fill=\"#000000\" fill-rule=\"nonzero\" fill-opacity=\"1\" /><path clip-path=\"url(#clip570)\" d=\"M161.084 577.979 Q157.473 577.979 155.644 581.544 Q153.839 585.085 153.839 592.215 Q153.839 599.321 155.644 602.886 Q157.473 606.428 161.084 606.428 Q164.718 606.428 166.524 602.886 Q168.353 599.321 168.353 592.215 Q168.353 585.085 166.524 581.544 Q164.718 577.979 161.084 577.979 M161.084 574.275 Q166.894 574.275 169.95 578.882 Q173.029 583.465 173.029 592.215 Q173.029 600.942 169.95 605.548 Q166.894 610.131 161.084 610.131 Q155.274 610.131 152.195 605.548 Q149.14 600.942 149.14 592.215 Q149.14 583.465 152.195 578.882 Q155.274 574.275 161.084 574.275 Z\" fill=\"#000000\" fill-rule=\"nonzero\" fill-opacity=\"1\" /><path clip-path=\"url(#clip570)\" d=\"M91.5706 402.614 L99.2095 402.614 L99.2095 376.249 L90.8993 377.915 L90.8993 373.656 L99.1632 371.989 L103.839 371.989 L103.839 402.614 L111.478 402.614 L111.478 406.549 L91.5706 406.549 L91.5706 402.614 Z\" fill=\"#000000\" fill-rule=\"nonzero\" fill-opacity=\"1\" /><path clip-path=\"url(#clip570)\" d=\"M130.922 375.068 Q127.311 375.068 125.482 378.633 Q123.677 382.175 123.677 389.304 Q123.677 396.411 125.482 399.975 Q127.311 403.517 130.922 403.517 Q134.556 403.517 136.362 399.975 Q138.191 396.411 138.191 389.304 Q138.191 382.175 136.362 378.633 Q134.556 375.068 130.922 375.068 M130.922 371.364 Q136.732 371.364 139.788 375.971 Q142.867 380.554 142.867 389.304 Q142.867 398.031 139.788 402.637 Q136.732 407.221 130.922 407.221 Q125.112 407.221 122.033 402.637 Q118.978 398.031 118.978 389.304 Q118.978 380.554 122.033 375.971 Q125.112 371.364 130.922 371.364 Z\" fill=\"#000000\" fill-rule=\"nonzero\" fill-opacity=\"1\" /><path clip-path=\"url(#clip570)\" d=\"M161.084 375.068 Q157.473 375.068 155.644 378.633 Q153.839 382.175 153.839 389.304 Q153.839 396.411 155.644 399.975 Q157.473 403.517 161.084 403.517 Q164.718 403.517 166.524 399.975 Q168.353 396.411 168.353 389.304 Q168.353 382.175 166.524 378.633 Q164.718 375.068 161.084 375.068 M161.084 371.364 Q166.894 371.364 169.95 375.971 Q173.029 380.554 173.029 389.304 Q173.029 398.031 169.95 402.637 Q166.894 407.221 161.084 407.221 Q155.274 407.221 152.195 402.637 Q149.14 398.031 149.14 389.304 Q149.14 380.554 152.195 375.971 Q155.274 371.364 161.084 371.364 Z\" fill=\"#000000\" fill-rule=\"nonzero\" fill-opacity=\"1\" /><path clip-path=\"url(#clip570)\" d=\"M91.5706 199.704 L99.2095 199.704 L99.2095 173.338 L90.8993 175.005 L90.8993 170.745 L99.1632 169.079 L103.839 169.079 L103.839 199.704 L111.478 199.704 L111.478 203.639 L91.5706 203.639 L91.5706 199.704 Z\" fill=\"#000000\" fill-rule=\"nonzero\" fill-opacity=\"1\" /><path clip-path=\"url(#clip570)\" d=\"M120.969 169.079 L139.325 169.079 L139.325 173.014 L125.251 173.014 L125.251 181.486 Q126.27 181.139 127.288 180.977 Q128.307 180.792 129.325 180.792 Q135.112 180.792 138.492 183.963 Q141.871 187.134 141.871 192.551 Q141.871 198.13 138.399 201.231 Q134.927 204.31 128.607 204.31 Q126.432 204.31 124.163 203.94 Q121.918 203.569 119.51 202.829 L119.51 198.13 Q121.594 199.264 123.816 199.819 Q126.038 200.375 128.515 200.375 Q132.519 200.375 134.857 198.268 Q137.195 196.162 137.195 192.551 Q137.195 188.94 134.857 186.833 Q132.519 184.727 128.515 184.727 Q126.64 184.727 124.765 185.144 Q122.913 185.56 120.969 186.44 L120.969 169.079 Z\" fill=\"#000000\" fill-rule=\"nonzero\" fill-opacity=\"1\" /><path clip-path=\"url(#clip570)\" d=\"M161.084 172.157 Q157.473 172.157 155.644 175.722 Q153.839 179.264 153.839 186.394 Q153.839 193.5 155.644 197.065 Q157.473 200.606 161.084 200.606 Q164.718 200.606 166.524 197.065 Q168.353 193.5 168.353 186.394 Q168.353 179.264 166.524 175.722 Q164.718 172.157 161.084 172.157 M161.084 168.454 Q166.894 168.454 169.95 173.06 Q173.029 177.644 173.029 186.394 Q173.029 195.12 169.95 199.727 Q166.894 204.31 161.084 204.31 Q155.274 204.31 152.195 199.727 Q149.14 195.12 149.14 186.394 Q149.14 177.644 152.195 173.06 Q155.274 168.454 161.084 168.454 Z\" fill=\"#000000\" fill-rule=\"nonzero\" fill-opacity=\"1\" /><polyline clip-path=\"url(#clip572)\" style=\"stroke:#009af9; stroke-linecap:round; stroke-linejoin:round; stroke-width:4; stroke-opacity:1; fill:none\" points=\"269.7,1445.72 271.722,1445.72 273.745,1445.72 275.767,1445.72 277.79,1445.72 279.812,1445.72 281.834,1445.72 283.857,1445.72 285.879,1445.72 287.901,1445.72 289.924,1445.72 291.946,1445.72 293.969,1445.72 295.991,1445.72 298.013,1445.72 300.036,1445.72 302.058,1445.72 304.081,1445.72 306.103,1445.72 308.125,1445.72 310.148,1445.72 312.17,1445.72 314.192,1445.72 316.215,1445.72 318.237,1445.72 320.26,1445.72 322.282,1445.72 324.304,1445.72 326.327,1445.72 328.349,1445.72 330.372,1445.72 332.394,1445.72 334.416,1445.72 336.439,1445.72 338.461,1445.72 340.483,1445.72 342.506,1445.72 344.528,1445.72 346.551,1445.72 348.573,1445.72 350.595,1445.72 352.618,1445.72 354.64,1445.72 356.663,1445.72 358.685,1445.72 360.707,1445.72 362.73,1445.72 364.752,1445.72 366.774,1445.72 368.797,1445.72 370.819,1445.72 372.842,1445.72 374.864,1445.72 376.886,1445.72 378.909,1445.72 380.931,1445.72 382.954,1445.72 384.976,1445.72 386.998,1445.72 389.021,1445.72 391.043,1445.72 393.065,1445.72 395.088,1445.72 397.11,1445.72 399.133,1445.72 401.155,1445.72 403.177,1445.72 405.2,1445.72 407.222,1445.72 409.245,1445.72 411.267,1445.72 413.289,1445.72 415.312,1445.72 417.334,1445.72 419.356,1445.72 421.379,1445.72 423.401,1445.72 425.424,1445.72 427.446,1445.72 429.468,1445.72 431.491,1445.72 433.513,1445.72 435.536,1445.72 437.558,1445.72 439.58,1445.72 441.603,1445.72 443.625,1445.72 445.647,1445.72 447.67,1445.72 449.692,1445.72 451.715,1445.72 453.737,1445.72 455.759,1445.72 457.782,1445.72 459.804,1445.72 461.827,1445.72 463.849,1445.72 465.871,1445.72 467.894,1445.72 469.916,1445.72 471.938,1445.72 473.961,1445.72 475.983,1445.72 478.006,1445.72 480.028,1445.72 482.05,1445.72 484.073,1445.72 486.095,1445.72 488.118,1445.72 490.14,1445.72 492.162,1445.72 494.185,1445.72 496.207,1445.72 498.229,1445.72 500.252,1445.72 502.274,1445.72 504.297,1445.72 506.319,1445.72 508.341,1445.72 510.364,1445.72 512.386,1445.72 514.409,1445.72 516.431,1445.72 518.453,1445.72 520.476,1445.72 522.498,1445.72 524.52,1445.72 526.543,1445.72 528.565,1445.72 530.588,1445.72 532.61,1445.72 534.632,1445.72 536.655,1445.72 538.677,1445.72 540.7,1445.72 542.722,1445.72 544.744,1445.72 546.767,1445.72 548.789,1445.72 550.811,1445.72 552.834,1445.72 554.856,1445.72 556.879,1445.72 558.901,1445.72 560.923,1445.72 562.946,1445.72 564.968,1445.72 566.991,1445.72 569.013,1445.72 571.035,1445.72 573.058,1445.72 575.08,1445.72 577.102,1445.72 579.125,1445.72 581.147,1445.72 583.17,1445.72 585.192,1445.72 587.214,1445.72 589.237,1445.72 591.259,1445.72 593.282,1445.72 595.304,1445.72 597.326,1445.72 599.349,1445.72 601.371,1445.72 603.393,1445.72 605.416,1445.72 607.438,1445.72 609.461,1445.72 611.483,1445.72 613.505,1445.72 615.528,1445.72 617.55,1445.72 619.573,1445.72 621.595,1445.72 623.617,1445.72 625.64,1445.72 627.662,1445.72 629.684,1445.72 631.707,1445.72 633.729,1445.72 635.752,1445.72 637.774,1445.72 639.796,1445.72 641.819,1445.72 643.841,1445.72 645.864,1445.72 647.886,1445.72 649.908,1445.72 651.931,1445.72 653.953,1445.72 655.975,1445.72 657.998,1445.72 660.02,1445.72 662.043,1445.72 664.065,1445.72 666.087,1445.72 668.11,1445.72 670.132,1445.72 672.155,1445.72 674.177,1445.72 676.199,1445.72 678.222,1445.72 680.244,1445.72 682.266,1445.72 684.289,1445.72 686.311,1445.72 688.334,1445.72 690.356,1445.72 692.378,1445.72 694.401,1445.72 696.423,1445.72 698.446,1445.72 700.468,1445.72 702.49,1445.72 704.513,1445.72 706.535,1445.72 708.557,1445.72 710.58,1445.72 712.602,1445.72 714.625,1445.72 716.647,1445.72 718.669,1445.72 720.692,1445.72 722.714,1445.72 724.737,1445.72 726.759,1445.72 728.781,1445.72 730.804,1445.72 732.826,1445.72 734.848,1445.72 736.871,1445.72 738.893,1445.72 740.916,1445.72 742.938,1445.72 744.96,1445.72 746.983,1445.72 749.005,1445.72 751.028,1445.72 753.05,1445.72 755.072,1445.72 757.095,1445.72 759.117,1445.72 761.139,1445.72 763.162,1445.72 765.184,1445.72 767.207,1445.72 769.229,1445.72 771.251,1445.72 773.274,1445.72 775.296,1445.72 777.319,1445.72 779.341,1445.72 781.363,1445.72 783.386,1445.72 785.408,1445.72 787.43,1445.72 789.453,1445.72 791.475,1445.72 793.498,1445.72 795.52,1445.72 797.542,1445.72 799.565,1445.72 801.587,1445.72 803.61,1445.72 805.632,1445.72 807.654,1445.72 809.677,1445.72 811.699,1445.72 813.721,1445.72 815.744,1445.72 817.766,1445.72 819.789,1445.72 821.811,1445.72 823.833,1445.72 825.856,1445.72 827.878,1445.72 829.901,1445.72 831.923,1445.72 833.945,1445.72 835.968,1445.72 837.99,1445.72 840.012,1445.72 842.035,1445.72 844.057,1445.72 846.08,1445.72 848.102,1445.72 850.124,1445.72 852.147,1445.72 854.169,1445.72 856.191,1445.72 858.214,1445.72 860.236,1445.72 862.259,1445.72 864.281,1445.72 866.303,1445.72 868.326,1445.72 870.348,1445.72 872.371,1445.72 874.393,1445.72 876.415,1445.72 878.438,1445.72 880.46,1445.72 882.482,1445.72 884.505,1445.72 886.527,1445.72 888.55,1445.72 890.572,1445.72 892.594,1445.72 894.617,1445.72 896.639,1445.72 898.662,1445.72 900.684,1445.72 902.706,1445.72 904.729,1445.72 906.751,1445.72 908.773,1445.72 910.796,1445.72 912.818,1445.72 914.841,1445.72 916.863,1445.72 918.885,1445.72 920.908,1445.72 922.93,1445.72 924.953,1445.72 926.975,1445.72 928.997,1445.72 931.02,1445.72 933.042,1445.72 935.064,1445.72 937.087,1445.72 939.109,1445.72 941.132,1445.72 943.154,1445.72 945.176,1445.72 947.199,1445.72 949.221,1445.72 951.244,1445.72 953.266,1445.72 955.288,1445.72 957.311,1445.72 959.333,1445.72 961.355,1445.72 963.378,1445.72 965.4,1445.72 967.423,1445.72 969.445,1445.72 971.467,1445.72 973.49,1445.72 975.512,1445.72 977.535,1445.72 979.557,1445.72 981.579,1445.72 983.602,1445.72 985.624,1445.72 987.646,1445.72 989.669,1445.72 991.691,1445.72 993.714,1445.72 995.736,1445.72 997.758,1445.72 999.781,1445.72 1001.8,1445.72 1003.83,1445.72 1005.85,1445.72 1007.87,1445.72 1009.89,1445.72 1011.92,1445.72 1013.94,1445.72 1015.96,1445.72 1017.98,1445.72 1020,1445.72 1022.03,1445.72 1024.05,1445.72 1026.07,1445.72 1028.09,1445.72 1030.12,1445.72 1032.14,1445.72 1034.16,1445.72 1036.18,1445.72 1038.21,1445.72 1040.23,1445.72 1042.25,1445.72 1044.27,1445.72 1046.3,1445.72 1048.32,1445.72 1050.34,1445.72 1052.36,1445.72 1054.39,1445.72 1056.41,1445.72 1058.43,1445.72 1060.45,1445.72 1062.47,1445.72 1064.5,1445.72 1066.52,1445.72 1068.54,1445.72 1070.56,1445.72 1072.59,1445.72 1074.61,1445.72 1076.63,1445.72 1078.65,1445.72 1080.68,1445.72 1082.7,1445.72 1084.72,1445.72 1086.74,1445.72 1088.77,1445.72 1090.79,1445.72 1092.81,1445.72 1094.83,1445.72 1096.86,1445.72 1098.88,1445.72 1100.9,1445.72 1102.92,1445.72 1104.94,1445.72 1106.97,1445.72 1108.99,1445.72 1111.01,1445.72 1113.03,1445.72 1115.06,1445.72 1117.08,1445.72 1119.1,1445.72 1121.12,1445.72 1123.15,1445.72 1125.17,1445.72 1127.19,1445.72 1129.21,1445.72 1131.24,1445.72 1133.26,1445.72 1135.28,1445.72 1137.3,1445.72 1139.33,1445.72 1141.35,1445.72 1143.37,1445.72 1145.39,1445.72 1147.41,1445.72 1149.44,1445.72 1151.46,1445.72 1153.48,1445.72 1155.5,1445.72 1157.53,1445.72 1159.55,1445.72 1161.57,1445.72 1163.59,1445.72 1165.62,1445.72 1167.64,1445.72 1169.66,1445.72 1171.68,1445.72 1173.71,1445.72 1175.73,1445.72 1177.75,1445.72 1179.77,1445.72 1181.8,1445.72 1183.82,1445.72 1185.84,1445.72 1187.86,1445.72 1189.88,1445.72 1191.91,1445.72 1193.93,1445.72 1195.95,1445.72 1197.97,1445.72 1200,1445.72 1202.02,1445.72 1204.04,1445.72 1206.06,1445.72 1208.09,1445.72 1210.11,1445.72 1212.13,1445.72 1214.15,1445.72 1216.18,1445.72 1218.2,1445.72 1220.22,1445.72 1222.24,1445.72 1224.27,1445.72 1226.29,1445.72 1228.31,1445.72 1230.33,1445.72 1232.35,1445.72 1234.38,1445.72 1236.4,1445.72 1238.42,1445.72 1240.44,1445.72 1242.47,1445.72 1244.49,1445.72 1246.51,1445.72 1248.53,1445.72 1250.56,1445.72 1252.58,1445.72 1254.6,1445.72 1256.62,1445.72 1258.65,1445.72 1260.67,1445.72 1262.69,1445.72 1264.71,1445.72 1266.74,1445.72 1268.76,1445.72 1270.78,1445.72 1272.8,1445.72 1274.83,1445.72 1276.85,1445.72 1278.87,1445.72 1280.89,1445.72 1282.91,1445.72 1284.94,1445.72 1286.96,1445.72 1288.98,1445.72 1291,1445.72 1293.03,1445.72 1295.05,1445.72 1297.07,1445.72 1299.09,1445.72 1301.12,1445.72 1303.14,1445.72 1305.16,1445.72 1307.18,1445.72 1309.21,1445.72 1311.23,1445.72 1313.25,1445.72 1315.27,1445.72 1317.3,1445.72 1319.32,1445.72 1321.34,1445.72 1323.36,1445.72 1325.38,1445.72 1327.41,1445.72 1329.43,1445.72 1331.45,1445.72 1333.47,1445.72 1335.5,1445.72 1337.52,1445.72 1339.54,1445.72 1341.56,1445.72 1343.59,1445.72 1345.61,1445.72 1347.63,1445.72 1349.65,1445.72 1351.68,1445.72 1353.7,1445.72 1355.72,1445.72 1357.74,1445.72 1359.77,1445.72 1361.79,1445.72 1363.81,1445.72 1365.83,1445.72 1367.85,1445.72 1369.88,1445.72 1371.9,1445.72 1373.92,1445.72 1375.94,1445.72 1377.97,1445.72 1379.99,1445.72 1382.01,1445.72 1384.03,1445.72 1386.06,1445.72 1388.08,1445.72 1390.1,1445.72 1392.12,1445.72 1394.15,1445.72 1396.17,1445.72 1398.19,1445.72 1400.21,1445.72 1402.24,1445.72 1404.26,1445.72 1406.28,1445.72 1408.3,1445.72 1410.32,1445.72 1412.35,1445.72 1414.37,1445.72 1416.39,1445.72 1418.41,1445.72 1420.44,1445.72 1422.46,1445.72 1424.48,1445.72 1426.5,1445.72 1428.53,1445.72 1430.55,1445.72 1432.57,1445.72 1434.59,1445.72 1436.62,1445.72 1438.64,1445.72 1440.66,1445.72 1442.68,1445.72 1444.71,1445.72 1446.73,1445.72 1448.75,1445.72 1450.77,1445.72 1452.79,1445.72 1454.82,1445.72 1456.84,1445.72 1458.86,1445.72 1460.88,1445.72 1462.91,1445.72 1464.93,1445.72 1466.95,1445.72 1468.97,1445.72 1471,1445.72 1473.02,1445.72 1475.04,1445.72 1477.06,1445.72 1479.09,1445.72 1481.11,1445.72 1483.13,1445.72 1485.15,1445.72 1487.18,1445.72 1489.2,1445.72 1491.22,1445.72 1493.24,1445.72 1495.26,1445.72 1497.29,1445.72 1499.31,1445.72 1501.33,1445.72 1503.35,1445.72 1505.38,1445.72 1507.4,1445.72 1509.42,1445.72 1511.44,1445.72 1513.47,1445.72 1515.49,1445.72 1517.51,1445.72 1519.53,1445.72 1521.56,1445.72 1523.58,1445.72 1525.6,1445.72 1527.62,1445.72 1529.65,1445.72 1531.67,1445.72 1533.69,1445.72 1535.71,1445.72 1537.74,1445.72 1539.76,1445.72 1541.78,1445.72 1543.8,1445.72 1545.82,1445.72 1547.85,1445.72 1549.87,1445.72 1551.89,1445.72 1553.91,1445.72 1555.94,1445.72 1557.96,1445.72 1559.98,1445.72 1562,1445.72 1564.03,1445.72 1566.05,1445.72 1568.07,1445.72 1570.09,1445.72 1572.12,1445.72 1574.14,1445.72 1576.16,1445.72 1578.18,1445.72 1580.21,1445.72 1582.23,1445.72 1584.25,1445.72 1586.27,1445.72 1588.29,1445.72 1590.32,1445.72 1592.34,1445.72 1594.36,1445.72 1596.38,1445.72 1598.41,1445.72 1600.43,1445.72 1602.45,1445.72 1604.47,1445.72 1606.5,1445.72 1608.52,1445.72 1610.54,1445.72 1612.56,1445.72 1614.59,1445.72 1616.61,1445.72 1618.63,1445.72 1620.65,1445.72 1622.68,1445.72 1624.7,1445.72 1626.72,1445.72 1628.74,1445.72 1630.76,1445.72 1632.79,1445.72 1634.81,1445.72 1636.83,1445.72 1638.85,1445.72 1640.88,1445.72 1642.9,1445.72 1644.92,1445.72 1646.94,1445.72 1648.97,1445.72 1650.99,1445.72 1653.01,1445.72 1655.03,1445.72 1657.06,1445.72 1659.08,1445.72 1661.1,1445.72 1663.12,1445.72 1665.15,1445.72 1667.17,1445.72 1669.19,1445.72 1671.21,1445.72 1673.23,1445.72 1675.26,1445.72 1677.28,1445.72 1679.3,1445.72 1681.32,1445.72 1683.35,1445.72 1685.37,1445.72 1687.39,1445.72 1689.41,1445.72 1691.44,1445.72 1693.46,1445.72 1695.48,1445.72 1697.5,1445.72 1699.53,1445.72 1701.55,1445.72 1703.57,1445.72 1705.59,1445.72 1707.62,1445.72 1709.64,1445.72 1711.66,1445.72 1713.68,1445.72 1715.7,1445.72 1717.73,1445.72 1719.75,1445.72 1721.77,1445.72 1723.79,1445.72 1725.82,1445.72 1727.84,1445.72 1729.86,1445.72 1731.88,1445.72 1733.91,1445.72 1735.93,1445.72 1737.95,1445.72 1739.97,1445.72 1742,1445.72 1744.02,1445.72 1746.04,1445.72 1748.06,1445.72 1750.09,1445.72 1752.11,1445.72 1754.13,1445.72 1756.15,1445.72 1758.17,1445.72 1760.2,1445.72 1762.22,1445.72 1764.24,1445.72 1766.26,1445.72 1768.29,1445.72 1770.31,1445.72 1772.33,1445.72 1774.35,1445.72 1776.38,1445.72 1778.4,1445.72 1780.42,1445.72 1782.44,1445.72 1784.47,1445.72 1786.49,1445.72 1788.51,1445.72 1790.53,1445.72 1792.56,1445.72 1794.58,1445.72 1796.6,1445.72 1798.62,1445.72 1800.64,1445.72 1802.67,1445.72 1804.69,1445.72 1806.71,1445.72 1808.73,1445.72 1810.76,1445.72 1812.78,1445.72 1814.8,1445.72 1816.82,1445.72 1818.85,1445.72 1820.87,1445.72 1822.89,1445.72 1824.91,1445.72 1826.94,1445.72 1828.96,1445.72 1830.98,1445.72 1833,1445.72 1835.03,1445.72 1837.05,1445.72 1839.07,1445.72 1841.09,1445.72 1843.12,1445.72 1845.14,1445.72 1847.16,1445.72 1849.18,1445.72 1851.2,1445.72 1853.23,1445.72 1855.25,1445.72 1857.27,1445.72 1859.29,1445.72 1861.32,1445.72 1863.34,1445.72 1865.36,1445.72 1867.38,1445.72 1869.41,1445.72 1871.43,1445.72 1873.45,1445.72 1875.47,1445.72 1877.5,1445.72 1879.52,1445.72 1881.54,1445.72 1883.56,1445.72 1885.59,1445.72 1887.61,1445.72 1889.63,1445.72 1891.65,1445.72 1893.67,1445.72 1895.7,1445.72 1897.72,1445.72 1899.74,1445.72 1901.76,1445.72 1903.79,1445.72 1905.81,1445.72 1907.83,1445.72 1909.85,1445.72 1911.88,1445.72 1913.9,1445.72 1915.92,1445.72 1917.94,1445.72 1919.97,1445.72 1921.99,1445.72 1924.01,1445.72 1926.03,1445.72 1928.06,1445.72 1930.08,1445.72 1932.1,1445.72 1934.12,1445.72 1936.14,1445.72 1938.17,1445.72 1940.19,1445.72 1942.21,1445.72 1944.23,1445.72 1946.26,1445.72 1948.28,1445.72 1950.3,1445.72 1952.32,1445.72 1954.35,1445.72 1956.37,1445.72 1958.39,1445.72 1960.41,1445.72 1962.44,1445.72 1964.46,1445.72 1966.48,1445.72 1968.5,1445.72 1970.53,1445.72 1972.55,1445.72 1974.57,1445.72 1976.59,1445.72 1978.61,1445.72 1980.64,1445.72 1982.66,1445.72 1984.68,1445.72 1986.7,1445.72 1988.73,1445.72 1990.75,1445.72 1992.77,1445.72 1994.79,1445.72 1996.82,1445.72 1998.84,1445.72 2000.86,1445.72 2002.88,1445.72 2004.91,1445.72 2006.93,1445.72 2008.95,1445.72 2010.97,1445.72 2013,1445.72 2015.02,1445.72 2017.04,1445.72 2019.06,1445.72 2021.08,1445.72 2023.11,1445.72 2025.13,1445.72 2027.15,1445.72 2029.17,1445.72 2031.2,1445.72 2033.22,1445.72 2035.24,1445.72 2037.26,1445.72 2039.29,1445.72 2041.31,1445.72 2043.33,1445.72 2045.35,1445.72 2047.38,1445.72 2049.4,1445.72 2051.42,1445.72 2053.44,1445.72 2055.47,1445.72 2057.49,1445.72 2059.51,1445.72 2061.53,1445.72 2063.55,1445.72 2065.58,1445.72 2067.6,1445.72 2069.62,1445.72 2071.64,1445.72 2073.67,1445.72 2075.69,1445.72 2077.71,1445.72 2079.73,1445.72 2081.76,1445.72 2083.78,1445.72 2085.8,1445.72 2087.82,1445.72 2089.85,1445.72 2091.87,1445.72 2093.89,1445.72 2095.91,1445.72 2097.94,1445.72 2099.96,1445.72 2101.98,1445.72 2104,1445.72 2106.03,1445.72 2108.05,1445.72 2110.07,1445.72 2112.09,1445.72 2114.11,1445.72 2116.14,1445.72 2118.16,1445.72 2120.18,1445.72 2122.2,1445.72 2124.23,1445.72 2126.25,1445.72 2128.27,1445.72 2130.29,1445.72 2132.32,1445.72 2134.34,1445.72 2136.36,1445.72 2138.38,1445.72 2140.41,1445.72 2142.43,1445.72 2144.45,1445.72 2146.47,1445.72 2148.5,1445.72 2150.52,1445.72 2152.54,1445.72 2154.56,1445.72 2156.58,1445.72 2158.61,1445.72 2160.63,1445.72 2162.65,1445.72 2164.67,1445.72 2166.7,1445.72 2168.72,1445.72 2170.74,1445.72 2172.76,1445.72 2174.79,1445.72 2176.81,1445.72 2178.83,1445.72 2180.85,1445.72 2182.88,1445.72 2184.9,1445.72 2186.92,1445.72 2188.94,1445.72 2190.97,1445.72 2192.99,1445.72 2195.01,1445.72 2197.03,1445.72 2199.05,1445.72 2201.08,1445.72 2203.1,1445.72 2205.12,1445.72 2207.14,1445.72 2209.17,1445.72 2211.19,1445.72 2213.21,1445.72 2215.23,1445.72 2217.26,1445.72 2219.28,1445.72 2221.3,1445.72 2223.32,1445.72 2225.35,1445.72 2227.37,1445.72 2229.39,1445.72 2231.41,1445.72 2233.44,1445.72 2235.46,1445.72 2237.48,1445.72 2239.5,1445.72 2241.52,1445.72 2243.55,1445.72 2245.57,1445.72 2247.59,1445.72 2249.61,1445.72 2251.64,1445.72 2253.66,1445.72 2255.68,1445.72 2257.7,1445.72 2259.73,1445.72 2261.75,1445.72 2263.77,1445.72 2265.79,1445.72 2267.82,1445.72 2269.84,1445.72 2271.86,1445.72 2273.88,1445.72 2275.91,1445.72 2277.93,1445.72 2279.95,1445.72 2281.97,1445.72 2283.99,1445.72 2286.02,1445.72 2288.04,1445.72 2290.06,1445.72 2292.08,1445.72 \"/>\n",
       "<polyline clip-path=\"url(#clip572)\" style=\"stroke:#e26f46; stroke-linecap:round; stroke-linejoin:round; stroke-width:4; stroke-opacity:1; fill:none\" points=\"269.7,142.799 271.722,122.092 273.745,123.127 275.767,133.967 277.79,130.472 279.812,127.125 281.834,129.423 283.857,132.348 285.879,143.626 287.901,141.676 289.924,137.474 291.946,141.468 293.969,136.865 295.991,144.252 298.013,149.442 300.036,148.017 302.058,150.998 304.081,154.002 306.103,154.556 308.125,147.305 310.148,151.629 312.17,147.807 314.192,154.19 316.215,152.036 318.237,153.603 320.26,154.339 322.282,147.438 324.304,145.682 326.327,153.957 328.349,156.624 330.372,157.508 332.394,154.495 334.416,148.651 336.439,158.431 338.461,151.256 340.483,159.734 342.506,164.251 344.528,167.493 346.551,143.875 348.573,145.357 350.595,153.913 352.618,151.615 354.64,164.063 356.663,154.758 358.685,157.536 360.707,153.427 362.73,159.159 364.752,168.054 366.774,163.609 368.797,160.72 370.819,162.505 372.842,159.142 374.864,153.662 376.886,159.112 378.909,159.242 380.931,159.473 382.954,159.185 384.976,151.159 386.998,146.195 389.021,151.209 391.043,157.231 393.065,158.028 395.088,156.519 397.11,164.255 399.133,158.495 401.155,166.358 403.177,170.229 405.2,172.291 407.222,157.438 409.245,163.436 411.267,153.642 413.289,156.021 415.312,150.565 417.334,156.2 419.356,157.583 421.379,154.508 423.401,157.264 425.424,153.267 427.446,145.978 429.468,145.773 431.491,137.545 433.513,132.879 435.536,142.544 437.558,146.216 439.58,145.416 441.603,151.65 443.625,147.282 445.647,147.163 447.67,146.251 449.692,132.431 451.715,130.153 453.737,137.501 455.759,153.04 457.782,152.693 459.804,138.155 461.827,141.937 463.849,146.815 465.871,139.864 467.894,143.074 469.916,147.975 471.938,141.857 473.961,135.369 475.983,137.864 478.006,141.613 480.028,151.672 482.05,140.397 484.073,137.198 486.095,143.316 488.118,153.179 490.14,153.005 492.162,157.645 494.185,154.517 496.207,154.185 498.229,156.764 500.252,158.85 502.274,152.507 504.297,162.875 506.319,153.782 508.341,154.687 510.364,157.19 512.386,156.974 514.409,150.442 516.431,143.743 518.453,147.261 520.476,144.302 522.498,144.422 524.52,147.23 526.543,141.19 528.565,138.78 530.588,139.088 532.61,140.44 534.632,135.229 536.655,131.914 538.677,130.686 540.7,130.323 542.722,123.621 544.744,145.405 546.767,136.432 548.789,137.1 550.811,137.612 552.834,141.583 554.856,139.083 556.879,140.892 558.901,139.893 560.923,140.943 562.946,143.286 564.968,133.786 566.991,135.349 569.013,127.085 571.035,130.271 573.058,133.386 575.08,132.344 577.102,125.764 579.125,140.005 581.147,133.254 583.17,137.567 585.192,139.463 587.214,144.74 589.237,142.535 591.259,142.371 593.282,142.702 595.304,138.174 597.326,151.336 599.349,155.984 601.371,148.758 603.393,151.071 605.416,141.878 607.438,141.568 609.461,148.446 611.483,151.854 613.505,143.39 615.528,147.717 617.55,152.566 619.573,136.061 621.595,144.664 623.617,125.722 625.64,128.803 627.662,130.671 629.684,133.746 631.707,134.682 633.729,147.84 635.752,142.739 637.774,146.087 639.796,144.217 641.819,136.927 643.841,132.873 645.864,130.127 647.886,136.733 649.908,142.128 651.931,147.907 653.953,144.807 655.975,141.687 657.998,142.95 660.02,145.859 662.043,151.138 664.065,144.748 666.087,155.877 668.11,146.497 670.132,159.68 672.155,145.953 674.177,155.837 676.199,159.578 678.222,146.669 680.244,154.074 682.266,164.22 684.289,162.026 686.311,153.848 688.334,157.783 690.356,146.962 692.378,141.728 694.401,140.678 696.423,141.975 698.446,147.982 700.468,147.288 702.49,143.541 704.513,143.898 706.535,130.901 708.557,134.702 710.58,140.637 712.602,134.243 714.625,132.22 716.647,119.351 718.669,135.063 720.692,133.426 722.714,141.762 724.737,144.949 726.759,130.516 728.781,144.693 730.804,150.835 732.826,148.288 734.848,146.199 736.871,153.295 738.893,154.566 740.916,140.776 742.938,143.307 744.96,134.147 746.983,138.833 749.005,132.707 751.028,133.849 753.05,128.425 755.072,116.997 757.095,120.947 759.117,121.233 761.139,125.812 763.162,133.135 765.184,120.531 767.207,116.254 769.229,110.906 771.251,111.133 773.274,118.159 775.296,122.586 777.319,126.285 779.341,124.309 781.363,122.712 783.386,130.984 785.408,133.406 787.43,130.548 789.453,134.259 791.475,125.081 793.498,132.662 795.52,135.342 797.542,151.967 799.565,152.742 801.587,156.267 803.61,150.682 805.632,152.196 807.654,147.525 809.677,153.426 811.699,147.173 813.721,163.939 815.744,151.656 817.766,161.832 819.789,160.182 821.811,163.224 823.833,154.144 825.856,150.883 827.878,154.521 829.901,156.157 831.923,157.933 833.945,151.777 835.968,145.42 837.99,143.824 840.012,140.535 842.035,139.224 844.057,149.808 846.08,143.833 848.102,146.562 850.124,148.612 852.147,148.479 854.169,150.238 856.191,143.206 858.214,137.563 860.236,132.269 862.259,141.598 864.281,142.698 866.303,132.412 868.326,136.854 870.348,137.14 872.371,147.672 874.393,143.72 876.415,139.123 878.438,142.278 880.46,149.671 882.482,150.14 884.505,130.58 886.527,136.351 888.55,152.075 890.572,155.906 892.594,158.547 894.617,159.335 896.639,140.657 898.662,150.997 900.684,158.353 902.706,150.395 904.729,140.255 906.751,155.137 908.773,147.168 910.796,152.064 912.818,138.321 914.841,157.475 916.863,159.166 918.885,153.059 920.908,165.227 922.93,158.152 924.953,166.064 926.975,157.339 928.997,154.581 931.02,156.202 933.042,151.119 935.064,157.784 937.087,160.19 939.109,162.371 941.132,157.805 943.154,162.683 945.176,154.463 947.199,151.166 949.221,159.121 951.244,166.124 953.266,171.54 955.288,165.29 957.311,163.142 959.333,158.692 961.355,158.613 963.378,163.997 965.4,165.179 967.423,171.54 969.445,167.8 971.467,172.641 973.49,165.032 975.512,160.72 977.535,166.971 979.557,163.777 981.579,167.549 983.602,169.624 985.624,165.309 987.646,168.532 989.669,165.401 991.691,167.199 993.714,172.55 995.736,159.357 997.758,157.697 999.781,155.674 1001.8,147.576 1003.83,144.406 1005.85,132.467 1007.87,142.404 1009.89,137.373 1011.92,141.469 1013.94,141.703 1015.96,158.217 1017.98,154.947 1020,161.587 1022.03,152.556 1024.05,158.308 1026.07,157.282 1028.09,157.681 1030.12,168.925 1032.14,166.445 1034.16,161.116 1036.18,161.244 1038.21,157.941 1040.23,165.58 1042.25,159.801 1044.27,170.372 1046.3,163.488 1048.32,167.448 1050.34,178.661 1052.36,166.875 1054.39,171.113 1056.41,170.933 1058.43,163.137 1060.45,173.201 1062.47,166.969 1064.5,161.354 1066.52,157.625 1068.54,169.12 1070.56,168.958 1072.59,166.269 1074.61,163.95 1076.63,168.47 1078.65,169.132 1080.68,177.434 1082.7,172.015 1084.72,166.036 1086.74,173.517 1088.77,165.032 1090.79,164.069 1092.81,153.978 1094.83,161.873 1096.86,168.041 1098.88,161.834 1100.9,158.038 1102.92,163.294 1104.94,158.572 1106.97,156.001 1108.99,155.624 1111.01,157.673 1113.03,164.862 1115.06,161.739 1117.08,173.617 1119.1,159.727 1121.12,159.372 1123.15,158.524 1125.17,162.975 1127.19,145.7 1129.21,156.605 1131.24,148.139 1133.26,153.661 1135.28,142.353 1137.3,140.001 1139.33,154.85 1141.35,153.434 1143.37,148.082 1145.39,140.262 1147.41,159.152 1149.44,161.157 1151.46,151.673 1153.48,151.431 1155.5,146.741 1157.53,136.033 1159.55,136.435 1161.57,129.588 1163.59,122.729 1165.62,117.692 1167.64,127.451 1169.66,115.177 1171.68,124.827 1173.71,128.096 1175.73,120.107 1177.75,138.381 1179.77,137.346 1181.8,137.113 1183.82,138.391 1185.84,136.049 1187.86,140.74 1189.88,135.787 1191.91,127.303 1193.93,128.274 1195.95,119.333 1197.97,139.031 1200,128.941 1202.02,140.488 1204.04,154.638 1206.06,150.903 1208.09,157.795 1210.11,158.637 1212.13,165.258 1214.15,155.154 1216.18,159.613 1218.2,140.968 1220.22,155.784 1222.24,162.678 1224.27,158.98 1226.29,165.237 1228.31,168.686 1230.33,160.555 1232.35,167.543 1234.38,158.992 1236.4,158.942 1238.42,163.085 1240.44,154.865 1242.47,166.065 1244.49,169.682 1246.51,171.056 1248.53,154.682 1250.56,169.722 1252.58,175.875 1254.6,166.484 1256.62,165.435 1258.65,167.661 1260.67,145.02 1262.69,152.985 1264.71,147.972 1266.74,152.788 1268.76,146.931 1270.78,146.802 1272.8,153.211 1274.83,155.425 1276.85,156.438 1278.87,153.484 1280.89,156.474 1282.91,153.242 1284.94,158.83 1286.96,168.26 1288.98,161.187 1291,156.795 1293.03,153.203 1295.05,162.209 1297.07,158.871 1299.09,160.037 1301.12,163.622 1303.14,152.626 1305.16,156.704 1307.18,151.911 1309.21,161.172 1311.23,167.211 1313.25,173.752 1315.27,160.016 1317.3,159.527 1319.32,148.838 1321.34,143.355 1323.36,152.097 1325.38,143.431 1327.41,151.201 1329.43,149.439 1331.45,148.22 1333.47,148.95 1335.5,151.091 1337.52,157.307 1339.54,148.214 1341.56,131.854 1343.59,146.337 1345.61,135.812 1347.63,140.417 1349.65,139.714 1351.68,135.439 1353.7,132.087 1355.72,130.134 1357.74,124.493 1359.77,132 1361.79,124.683 1363.81,131.342 1365.83,126.849 1367.85,132.462 1369.88,127.651 1371.9,127.149 1373.92,142.076 1375.94,139.576 1377.97,145.291 1379.99,145.794 1382.01,144.92 1384.03,145.796 1386.06,142.852 1388.08,142.065 1390.1,137.685 1392.12,146.397 1394.15,144.256 1396.17,144.144 1398.19,129.969 1400.21,140.608 1402.24,132.129 1404.26,132.386 1406.28,142.154 1408.3,136.265 1410.32,139.16 1412.35,130.238 1414.37,137.541 1416.39,131.95 1418.41,140.456 1420.44,133.859 1422.46,142.97 1424.48,137.077 1426.5,150.92 1428.53,146.733 1430.55,143.338 1432.57,139.352 1434.59,154.086 1436.62,145.639 1438.64,157.775 1440.66,158.977 1442.68,143.773 1444.71,156.018 1446.73,160.151 1448.75,149.462 1450.77,155.589 1452.79,150.073 1454.82,153.181 1456.84,131.48 1458.86,141.139 1460.88,135.657 1462.91,127.942 1464.93,130.491 1466.95,138.448 1468.97,138.508 1471,140.436 1473.02,145.522 1475.04,155.019 1477.06,150.388 1479.09,144.406 1481.11,157.478 1483.13,143.161 1485.15,143.329 1487.18,147.439 1489.2,132.46 1491.22,139.746 1493.24,119.425 1495.26,125.173 1497.29,123.897 1499.31,126.932 1501.33,127.796 1503.35,121.813 1505.38,134.549 1507.4,116.894 1509.42,126.115 1511.44,125.147 1513.47,123.541 1515.49,123.557 1517.51,120.404 1519.53,120.59 1521.56,126.331 1523.58,130.743 1525.6,120.599 1527.62,121.064 1529.65,122.409 1531.67,128.742 1533.69,131.536 1535.71,127.553 1537.74,118.508 1539.76,122.348 1541.78,126.727 1543.8,116.007 1545.82,123.958 1547.85,126.983 1549.87,126.063 1551.89,127.32 1553.91,117.347 1555.94,127.126 1557.96,121.964 1559.98,116.649 1562,122.756 1564.03,117.986 1566.05,131.849 1568.07,122.268 1570.09,123.473 1572.12,135.974 1574.14,142.13 1576.16,142.598 1578.18,145.704 1580.21,133.811 1582.23,135.261 1584.25,144.495 1586.27,138.136 1588.29,132.219 1590.32,129.039 1592.34,132.365 1594.36,138.824 1596.38,139.724 1598.41,131.81 1600.43,134.998 1602.45,131.913 1604.47,144.937 1606.5,139.824 1608.52,151.821 1610.54,159.018 1612.56,141.684 1614.59,136.76 1616.61,138.396 1618.63,138.436 1620.65,128.362 1622.68,140.08 1624.7,135.346 1626.72,131.059 1628.74,137.11 1630.76,145.903 1632.79,143.024 1634.81,150.912 1636.83,147.419 1638.85,150.682 1640.88,146.957 1642.9,155.361 1644.92,159.277 1646.94,166.016 1648.97,160.558 1650.99,151.476 1653.01,148.369 1655.03,150.632 1657.06,158.715 1659.08,143.637 1661.1,139.093 1663.12,133.545 1665.15,130.38 1667.17,145.502 1669.19,137.026 1671.21,145.646 1673.23,142.653 1675.26,140.354 1677.28,140.525 1679.3,151.231 1681.32,145.778 1683.35,149.884 1685.37,144.532 1687.39,145.905 1689.41,146.611 1691.44,139.362 1693.46,138.481 1695.48,136.475 1697.5,125.663 1699.53,131.523 1701.55,122.283 1703.57,128.744 1705.59,114.815 1707.62,118.91 1709.64,131.109 1711.66,123 1713.68,121.561 1715.7,121.326 1717.73,131.149 1719.75,136.345 1721.77,129.381 1723.79,127.332 1725.82,120.06 1727.84,118.997 1729.86,122.745 1731.88,128.946 1733.91,132.822 1735.93,125.478 1737.95,127.145 1739.97,130.522 1742,118.84 1744.02,126.973 1746.04,128.044 1748.06,142.794 1750.09,139.425 1752.11,148.276 1754.13,142.878 1756.15,141.977 1758.17,143.953 1760.2,142.3 1762.22,128.545 1764.24,125.442 1766.26,128.688 1768.29,139.333 1770.31,132.224 1772.33,131.619 1774.35,143.982 1776.38,131.457 1778.4,119.818 1780.42,116.247 1782.44,117.254 1784.47,112.837 1786.49,110.684 1788.51,112.724 1790.53,107.395 1792.56,101.169 1794.58,102.052 1796.6,101.837 1798.62,102.409 1800.64,106.951 1802.67,105.944 1804.69,104.05 1806.71,96.147 1808.73,92.9924 1810.76,95.6646 1812.78,89.5306 1814.8,96.2889 1816.82,93.4782 1818.85,106.735 1820.87,87.9763 1822.89,106.273 1824.91,102.834 1826.94,108.904 1828.96,106.368 1830.98,110.999 1833,111.916 1835.03,104.623 1837.05,105.448 1839.07,110.363 1841.09,105.055 1843.12,104.335 1845.14,109.758 1847.16,106.465 1849.18,108.665 1851.2,111.085 1853.23,102.172 1855.25,129.384 1857.27,116.286 1859.29,107.893 1861.32,112.223 1863.34,120.293 1865.36,114.9 1867.38,124.274 1869.41,123.394 1871.43,123.872 1873.45,115.342 1875.47,116.586 1877.5,121.342 1879.52,126.055 1881.54,111.575 1883.56,113.504 1885.59,123.653 1887.61,125.09 1889.63,135.697 1891.65,123.893 1893.67,117.118 1895.7,118.257 1897.72,119.501 1899.74,115.621 1901.76,126.245 1903.79,115.578 1905.81,124.125 1907.83,109.922 1909.85,106.178 1911.88,115.978 1913.9,103.414 1915.92,117.07 1917.94,118.062 1919.97,117.191 1921.99,107.226 1924.01,108.928 1926.03,108.967 1928.06,108.751 1930.08,115.082 1932.1,123.19 1934.12,123.295 1936.14,130.372 1938.17,128.937 1940.19,133.839 1942.21,133.671 1944.23,134.003 1946.26,134.708 1948.28,130.392 1950.3,131.454 1952.32,134.566 1954.35,125.742 1956.37,129.142 1958.39,134.414 1960.41,136.761 1962.44,134.964 1964.46,150.671 1966.48,139.706 1968.5,141.999 1970.53,147.759 1972.55,145.331 1974.57,158.603 1976.59,150.619 1978.61,162.823 1980.64,164.829 1982.66,157.106 1984.68,154.279 1986.7,150.895 1988.73,156.915 1990.75,153.607 1992.77,154.979 1994.79,147.962 1996.82,157.3 1998.84,157.695 2000.86,158.04 2002.88,143.754 2004.91,148.137 2006.93,159.372 2008.95,140.594 2010.97,141.539 2013,140.89 2015.02,136.324 2017.04,138.476 2019.06,151.629 2021.08,138.944 2023.11,145.021 2025.13,142.107 2027.15,147.408 2029.17,136.176 2031.2,144.619 2033.22,139.948 2035.24,128.611 2037.26,121.227 2039.29,125.975 2041.31,136.594 2043.33,139.607 2045.35,136.984 2047.38,143.329 2049.4,146.245 2051.42,147.108 2053.44,145.682 2055.47,136.436 2057.49,125.036 2059.51,125.72 2061.53,129.428 2063.55,127.561 2065.58,124.197 2067.6,132.77 2069.62,131.829 2071.64,131.875 2073.67,129.18 2075.69,139.099 2077.71,134.388 2079.73,126.31 2081.76,138.809 2083.78,129.829 2085.8,127.901 2087.82,128.781 2089.85,136.423 2091.87,132.214 2093.89,137.649 2095.91,128.251 2097.94,129.659 2099.96,144.474 2101.98,146.205 2104,147.167 2106.03,138.551 2108.05,136.245 2110.07,139.677 2112.09,133.215 2114.11,133.982 2116.14,139.048 2118.16,132.874 2120.18,138.134 2122.2,140.872 2124.23,142.62 2126.25,141.563 2128.27,131.852 2130.29,131.379 2132.32,132.427 2134.34,132.029 2136.36,136.666 2138.38,131.692 2140.41,126.97 2142.43,128.293 2144.45,126.262 2146.47,127.839 2148.5,115.965 2150.52,122.718 2152.54,118.565 2154.56,117.199 2156.58,121.882 2158.61,124.486 2160.63,124.938 2162.65,118.393 2164.67,117.639 2166.7,112.1 2168.72,102.68 2170.74,106.144 2172.76,114.314 2174.79,119.06 2176.81,115.251 2178.83,116.407 2180.85,122.371 2182.88,123.751 2184.9,121.233 2186.92,129.665 2188.94,128.957 2190.97,125.402 2192.99,135.336 2195.01,123.581 2197.03,135.797 2199.05,139.931 2201.08,143.421 2203.1,142.084 2205.12,136.86 2207.14,141.696 2209.17,146.156 2211.19,139.131 2213.21,139.856 2215.23,143.221 2217.26,128.333 2219.28,127.847 2221.3,131.987 2223.32,136.875 2225.35,130.446 2227.37,129.938 2229.39,133.581 2231.41,136.123 2233.44,131.023 2235.46,140.801 2237.48,128.224 2239.5,134.133 2241.52,142.391 2243.55,138.335 2245.57,146.749 2247.59,144.425 2249.61,138.498 2251.64,129.853 2253.66,149.775 2255.68,141.487 2257.7,142.918 2259.73,142.315 2261.75,148.976 2263.77,154.957 2265.79,152.783 2267.82,157.654 2269.84,149.902 2271.86,148.09 2273.88,158.274 2275.91,146.204 2277.93,146.075 2279.95,160.235 2281.97,150.48 2283.99,154.61 2286.02,139.03 2288.04,148.491 2290.06,135.212 2292.08,137.194 \"/>\n",
       "<path clip-path=\"url(#clip570)\" d=\"M280.486 250.738 L547.289 250.738 L547.289 95.2176 L280.486 95.2176  Z\" fill=\"#ffffff\" fill-rule=\"evenodd\" fill-opacity=\"1\"/>\n",
       "<polyline clip-path=\"url(#clip570)\" style=\"stroke:#000000; stroke-linecap:round; stroke-linejoin:round; stroke-width:4; stroke-opacity:1; fill:none\" points=\"280.486,250.738 547.289,250.738 547.289,95.2176 280.486,95.2176 280.486,250.738 \"/>\n",
       "<polyline clip-path=\"url(#clip570)\" style=\"stroke:#009af9; stroke-linecap:round; stroke-linejoin:round; stroke-width:4; stroke-opacity:1; fill:none\" points=\"304.305,147.058 447.22,147.058 \"/>\n",
       "<path clip-path=\"url(#clip570)\" d=\"M484.882 166.745 Q483.077 171.375 481.364 172.787 Q479.651 174.199 476.78 174.199 L473.378 174.199 L473.378 170.634 L475.878 170.634 Q477.637 170.634 478.609 169.8 Q479.581 168.967 480.762 165.865 L481.526 163.921 L471.04 138.412 L475.554 138.412 L483.655 158.689 L491.757 138.412 L496.271 138.412 L484.882 166.745 Z\" fill=\"#000000\" fill-rule=\"nonzero\" fill-opacity=\"1\" /><path clip-path=\"url(#clip570)\" d=\"M503.563 160.402 L511.201 160.402 L511.201 134.037 L502.891 135.703 L502.891 131.444 L511.155 129.778 L515.831 129.778 L515.831 160.402 L523.47 160.402 L523.47 164.338 L503.563 164.338 L503.563 160.402 Z\" fill=\"#000000\" fill-rule=\"nonzero\" fill-opacity=\"1\" /><polyline clip-path=\"url(#clip570)\" style=\"stroke:#e26f46; stroke-linecap:round; stroke-linejoin:round; stroke-width:4; stroke-opacity:1; fill:none\" points=\"304.305,198.898 447.22,198.898 \"/>\n",
       "<path clip-path=\"url(#clip570)\" d=\"M484.882 218.585 Q483.077 223.215 481.364 224.627 Q479.651 226.039 476.78 226.039 L473.378 226.039 L473.378 222.474 L475.878 222.474 Q477.637 222.474 478.609 221.64 Q479.581 220.807 480.762 217.705 L481.526 215.761 L471.04 190.252 L475.554 190.252 L483.655 210.529 L491.757 190.252 L496.271 190.252 L484.882 218.585 Z\" fill=\"#000000\" fill-rule=\"nonzero\" fill-opacity=\"1\" /><path clip-path=\"url(#clip570)\" d=\"M506.78 212.242 L523.1 212.242 L523.1 216.178 L501.155 216.178 L501.155 212.242 Q503.817 209.488 508.401 204.858 Q513.007 200.205 514.188 198.863 Q516.433 196.34 517.313 194.604 Q518.215 192.844 518.215 191.155 Q518.215 188.4 516.271 186.664 Q514.35 184.928 511.248 184.928 Q509.049 184.928 506.595 185.692 Q504.164 186.455 501.387 188.006 L501.387 183.284 Q504.211 182.15 506.664 181.571 Q509.118 180.993 511.155 180.993 Q516.526 180.993 519.72 183.678 Q522.914 186.363 522.914 190.854 Q522.914 192.983 522.104 194.905 Q521.317 196.803 519.211 199.395 Q518.632 200.067 515.53 203.284 Q512.428 206.479 506.78 212.242 Z\" fill=\"#000000\" fill-rule=\"nonzero\" fill-opacity=\"1\" /></svg>\n"
      ],
      "text/html": [
       "<?xml version=\"1.0\" encoding=\"utf-8\"?>\n",
       "<svg xmlns=\"http://www.w3.org/2000/svg\" xmlns:xlink=\"http://www.w3.org/1999/xlink\" width=\"600\" height=\"400\" viewBox=\"0 0 2400 1600\">\n",
       "<defs>\n",
       "  <clipPath id=\"clip620\">\n",
       "    <rect x=\"0\" y=\"0\" width=\"2400\" height=\"1600\"/>\n",
       "  </clipPath>\n",
       "</defs>\n",
       "<path clip-path=\"url(#clip620)\" d=\"M0 1600 L2400 1600 L2400 0 L0 0  Z\" fill=\"#ffffff\" fill-rule=\"evenodd\" fill-opacity=\"1\"/>\n",
       "<defs>\n",
       "  <clipPath id=\"clip621\">\n",
       "    <rect x=\"480\" y=\"0\" width=\"1681\" height=\"1600\"/>\n",
       "  </clipPath>\n",
       "</defs>\n",
       "<path clip-path=\"url(#clip620)\" d=\"M209.029 1486.45 L2352.76 1486.45 L2352.76 47.2441 L209.029 47.2441  Z\" fill=\"#ffffff\" fill-rule=\"evenodd\" fill-opacity=\"1\"/>\n",
       "<defs>\n",
       "  <clipPath id=\"clip622\">\n",
       "    <rect x=\"209\" y=\"47\" width=\"2145\" height=\"1440\"/>\n",
       "  </clipPath>\n",
       "</defs>\n",
       "<polyline clip-path=\"url(#clip622)\" style=\"stroke:#000000; stroke-linecap:round; stroke-linejoin:round; stroke-width:2; stroke-opacity:0.1; fill:none\" points=\"267.678,1486.45 267.678,47.2441 \"/>\n",
       "<polyline clip-path=\"url(#clip622)\" style=\"stroke:#000000; stroke-linecap:round; stroke-linejoin:round; stroke-width:2; stroke-opacity:0.1; fill:none\" points=\"773.274,1486.45 773.274,47.2441 \"/>\n",
       "<polyline clip-path=\"url(#clip622)\" style=\"stroke:#000000; stroke-linecap:round; stroke-linejoin:round; stroke-width:2; stroke-opacity:0.1; fill:none\" points=\"1278.87,1486.45 1278.87,47.2441 \"/>\n",
       "<polyline clip-path=\"url(#clip622)\" style=\"stroke:#000000; stroke-linecap:round; stroke-linejoin:round; stroke-width:2; stroke-opacity:0.1; fill:none\" points=\"1784.47,1486.45 1784.47,47.2441 \"/>\n",
       "<polyline clip-path=\"url(#clip622)\" style=\"stroke:#000000; stroke-linecap:round; stroke-linejoin:round; stroke-width:2; stroke-opacity:0.1; fill:none\" points=\"2290.06,1486.45 2290.06,47.2441 \"/>\n",
       "<polyline clip-path=\"url(#clip622)\" style=\"stroke:#000000; stroke-linecap:round; stroke-linejoin:round; stroke-width:2; stroke-opacity:0.1; fill:none\" points=\"209.029,1403.82 2352.76,1403.82 \"/>\n",
       "<polyline clip-path=\"url(#clip622)\" style=\"stroke:#000000; stroke-linecap:round; stroke-linejoin:round; stroke-width:2; stroke-opacity:0.1; fill:none\" points=\"209.029,1200.91 2352.76,1200.91 \"/>\n",
       "<polyline clip-path=\"url(#clip622)\" style=\"stroke:#000000; stroke-linecap:round; stroke-linejoin:round; stroke-width:2; stroke-opacity:0.1; fill:none\" points=\"209.029,998.001 2352.76,998.001 \"/>\n",
       "<polyline clip-path=\"url(#clip622)\" style=\"stroke:#000000; stroke-linecap:round; stroke-linejoin:round; stroke-width:2; stroke-opacity:0.1; fill:none\" points=\"209.029,795.091 2352.76,795.091 \"/>\n",
       "<polyline clip-path=\"url(#clip622)\" style=\"stroke:#000000; stroke-linecap:round; stroke-linejoin:round; stroke-width:2; stroke-opacity:0.1; fill:none\" points=\"209.029,592.18 2352.76,592.18 \"/>\n",
       "<polyline clip-path=\"url(#clip622)\" style=\"stroke:#000000; stroke-linecap:round; stroke-linejoin:round; stroke-width:2; stroke-opacity:0.1; fill:none\" points=\"209.029,389.269 2352.76,389.269 \"/>\n",
       "<polyline clip-path=\"url(#clip622)\" style=\"stroke:#000000; stroke-linecap:round; stroke-linejoin:round; stroke-width:2; stroke-opacity:0.1; fill:none\" points=\"209.029,186.359 2352.76,186.359 \"/>\n",
       "<polyline clip-path=\"url(#clip620)\" style=\"stroke:#000000; stroke-linecap:round; stroke-linejoin:round; stroke-width:4; stroke-opacity:1; fill:none\" points=\"209.029,1486.45 2352.76,1486.45 \"/>\n",
       "<polyline clip-path=\"url(#clip620)\" style=\"stroke:#000000; stroke-linecap:round; stroke-linejoin:round; stroke-width:4; stroke-opacity:1; fill:none\" points=\"267.678,1486.45 267.678,1467.55 \"/>\n",
       "<polyline clip-path=\"url(#clip620)\" style=\"stroke:#000000; stroke-linecap:round; stroke-linejoin:round; stroke-width:4; stroke-opacity:1; fill:none\" points=\"773.274,1486.45 773.274,1467.55 \"/>\n",
       "<polyline clip-path=\"url(#clip620)\" style=\"stroke:#000000; stroke-linecap:round; stroke-linejoin:round; stroke-width:4; stroke-opacity:1; fill:none\" points=\"1278.87,1486.45 1278.87,1467.55 \"/>\n",
       "<polyline clip-path=\"url(#clip620)\" style=\"stroke:#000000; stroke-linecap:round; stroke-linejoin:round; stroke-width:4; stroke-opacity:1; fill:none\" points=\"1784.47,1486.45 1784.47,1467.55 \"/>\n",
       "<polyline clip-path=\"url(#clip620)\" style=\"stroke:#000000; stroke-linecap:round; stroke-linejoin:round; stroke-width:4; stroke-opacity:1; fill:none\" points=\"2290.06,1486.45 2290.06,1467.55 \"/>\n",
       "<path clip-path=\"url(#clip620)\" d=\"M267.678 1517.37 Q264.067 1517.37 262.238 1520.93 Q260.432 1524.47 260.432 1531.6 Q260.432 1538.71 262.238 1542.27 Q264.067 1545.82 267.678 1545.82 Q271.312 1545.82 273.117 1542.27 Q274.946 1538.71 274.946 1531.6 Q274.946 1524.47 273.117 1520.93 Q271.312 1517.37 267.678 1517.37 M267.678 1513.66 Q273.488 1513.66 276.543 1518.27 Q279.622 1522.85 279.622 1531.6 Q279.622 1540.33 276.543 1544.94 Q273.488 1549.52 267.678 1549.52 Q261.868 1549.52 258.789 1544.94 Q255.733 1540.33 255.733 1531.6 Q255.733 1522.85 258.789 1518.27 Q261.868 1513.66 267.678 1513.66 Z\" fill=\"#000000\" fill-rule=\"nonzero\" fill-opacity=\"1\" /><path clip-path=\"url(#clip620)\" d=\"M736.966 1544.91 L753.285 1544.91 L753.285 1548.85 L731.341 1548.85 L731.341 1544.91 Q734.003 1542.16 738.586 1537.53 Q743.193 1532.88 744.373 1531.53 Q746.619 1529.01 747.498 1527.27 Q748.401 1525.51 748.401 1523.82 Q748.401 1521.07 746.457 1519.33 Q744.535 1517.6 741.434 1517.6 Q739.235 1517.6 736.781 1518.36 Q734.35 1519.13 731.573 1520.68 L731.573 1515.95 Q734.397 1514.82 736.85 1514.24 Q739.304 1513.66 741.341 1513.66 Q746.711 1513.66 749.906 1516.35 Q753.1 1519.03 753.1 1523.52 Q753.1 1525.65 752.29 1527.57 Q751.503 1529.47 749.397 1532.07 Q748.818 1532.74 745.716 1535.95 Q742.614 1539.15 736.966 1544.91 Z\" fill=\"#000000\" fill-rule=\"nonzero\" fill-opacity=\"1\" /><path clip-path=\"url(#clip620)\" d=\"M763.146 1514.29 L781.503 1514.29 L781.503 1518.22 L767.429 1518.22 L767.429 1526.7 Q768.447 1526.35 769.466 1526.19 Q770.484 1526 771.503 1526 Q777.29 1526 780.67 1529.17 Q784.049 1532.34 784.049 1537.76 Q784.049 1543.34 780.577 1546.44 Q777.105 1549.52 770.785 1549.52 Q768.609 1549.52 766.341 1549.15 Q764.096 1548.78 761.688 1548.04 L761.688 1543.34 Q763.771 1544.47 765.994 1545.03 Q768.216 1545.58 770.693 1545.58 Q774.697 1545.58 777.035 1543.48 Q779.373 1541.37 779.373 1537.76 Q779.373 1534.15 777.035 1532.04 Q774.697 1529.94 770.693 1529.94 Q768.818 1529.94 766.943 1530.35 Q765.091 1530.77 763.146 1531.65 L763.146 1514.29 Z\" fill=\"#000000\" fill-rule=\"nonzero\" fill-opacity=\"1\" /><path clip-path=\"url(#clip620)\" d=\"M803.262 1517.37 Q799.651 1517.37 797.822 1520.93 Q796.017 1524.47 796.017 1531.6 Q796.017 1538.71 797.822 1542.27 Q799.651 1545.82 803.262 1545.82 Q806.896 1545.82 808.702 1542.27 Q810.53 1538.71 810.53 1531.6 Q810.53 1524.47 808.702 1520.93 Q806.896 1517.37 803.262 1517.37 M803.262 1513.66 Q809.072 1513.66 812.128 1518.27 Q815.206 1522.85 815.206 1531.6 Q815.206 1540.33 812.128 1544.94 Q809.072 1549.52 803.262 1549.52 Q797.452 1549.52 794.373 1544.94 Q791.318 1540.33 791.318 1531.6 Q791.318 1522.85 794.373 1518.27 Q797.452 1513.66 803.262 1513.66 Z\" fill=\"#000000\" fill-rule=\"nonzero\" fill-opacity=\"1\" /><path clip-path=\"url(#clip620)\" d=\"M1238.49 1514.29 L1256.84 1514.29 L1256.84 1518.22 L1242.77 1518.22 L1242.77 1526.7 Q1243.79 1526.35 1244.81 1526.19 Q1245.83 1526 1246.84 1526 Q1252.63 1526 1256.01 1529.17 Q1259.39 1532.34 1259.39 1537.76 Q1259.39 1543.34 1255.92 1546.44 Q1252.45 1549.52 1246.13 1549.52 Q1243.95 1549.52 1241.68 1549.15 Q1239.44 1548.78 1237.03 1548.04 L1237.03 1543.34 Q1239.11 1544.47 1241.34 1545.03 Q1243.56 1545.58 1246.03 1545.58 Q1250.04 1545.58 1252.38 1543.48 Q1254.71 1541.37 1254.71 1537.76 Q1254.71 1534.15 1252.38 1532.04 Q1250.04 1529.94 1246.03 1529.94 Q1244.16 1529.94 1242.28 1530.35 Q1240.43 1530.77 1238.49 1531.65 L1238.49 1514.29 Z\" fill=\"#000000\" fill-rule=\"nonzero\" fill-opacity=\"1\" /><path clip-path=\"url(#clip620)\" d=\"M1278.6 1517.37 Q1274.99 1517.37 1273.16 1520.93 Q1271.36 1524.47 1271.36 1531.6 Q1271.36 1538.71 1273.16 1542.27 Q1274.99 1545.82 1278.6 1545.82 Q1282.24 1545.82 1284.04 1542.27 Q1285.87 1538.71 1285.87 1531.6 Q1285.87 1524.47 1284.04 1520.93 Q1282.24 1517.37 1278.6 1517.37 M1278.6 1513.66 Q1284.41 1513.66 1287.47 1518.27 Q1290.55 1522.85 1290.55 1531.6 Q1290.55 1540.33 1287.47 1544.94 Q1284.41 1549.52 1278.6 1549.52 Q1272.79 1549.52 1269.71 1544.94 Q1266.66 1540.33 1266.66 1531.6 Q1266.66 1522.85 1269.71 1518.27 Q1272.79 1513.66 1278.6 1513.66 Z\" fill=\"#000000\" fill-rule=\"nonzero\" fill-opacity=\"1\" /><path clip-path=\"url(#clip620)\" d=\"M1308.77 1517.37 Q1305.15 1517.37 1303.33 1520.93 Q1301.52 1524.47 1301.52 1531.6 Q1301.52 1538.71 1303.33 1542.27 Q1305.15 1545.82 1308.77 1545.82 Q1312.4 1545.82 1314.21 1542.27 Q1316.03 1538.71 1316.03 1531.6 Q1316.03 1524.47 1314.21 1520.93 Q1312.4 1517.37 1308.77 1517.37 M1308.77 1513.66 Q1314.58 1513.66 1317.63 1518.27 Q1320.71 1522.85 1320.71 1531.6 Q1320.71 1540.33 1317.63 1544.94 Q1314.58 1549.52 1308.77 1549.52 Q1302.96 1549.52 1299.88 1544.94 Q1296.82 1540.33 1296.82 1531.6 Q1296.82 1522.85 1299.88 1518.27 Q1302.96 1513.66 1308.77 1513.66 Z\" fill=\"#000000\" fill-rule=\"nonzero\" fill-opacity=\"1\" /><path clip-path=\"url(#clip620)\" d=\"M1742.74 1514.29 L1764.96 1514.29 L1764.96 1516.28 L1752.42 1548.85 L1747.53 1548.85 L1759.34 1518.22 L1742.74 1518.22 L1742.74 1514.29 Z\" fill=\"#000000\" fill-rule=\"nonzero\" fill-opacity=\"1\" /><path clip-path=\"url(#clip620)\" d=\"M1774.13 1514.29 L1792.49 1514.29 L1792.49 1518.22 L1778.41 1518.22 L1778.41 1526.7 Q1779.43 1526.35 1780.45 1526.19 Q1781.47 1526 1782.49 1526 Q1788.27 1526 1791.65 1529.17 Q1795.03 1532.34 1795.03 1537.76 Q1795.03 1543.34 1791.56 1546.44 Q1788.09 1549.52 1781.77 1549.52 Q1779.59 1549.52 1777.32 1549.15 Q1775.08 1548.78 1772.67 1548.04 L1772.67 1543.34 Q1774.76 1544.47 1776.98 1545.03 Q1779.2 1545.58 1781.68 1545.58 Q1785.68 1545.58 1788.02 1543.48 Q1790.36 1541.37 1790.36 1537.76 Q1790.36 1534.15 1788.02 1532.04 Q1785.68 1529.94 1781.68 1529.94 Q1779.8 1529.94 1777.93 1530.35 Q1776.07 1530.77 1774.13 1531.65 L1774.13 1514.29 Z\" fill=\"#000000\" fill-rule=\"nonzero\" fill-opacity=\"1\" /><path clip-path=\"url(#clip620)\" d=\"M1814.25 1517.37 Q1810.63 1517.37 1808.81 1520.93 Q1807 1524.47 1807 1531.6 Q1807 1538.71 1808.81 1542.27 Q1810.63 1545.82 1814.25 1545.82 Q1817.88 1545.82 1819.69 1542.27 Q1821.51 1538.71 1821.51 1531.6 Q1821.51 1524.47 1819.69 1520.93 Q1817.88 1517.37 1814.25 1517.37 M1814.25 1513.66 Q1820.06 1513.66 1823.11 1518.27 Q1826.19 1522.85 1826.19 1531.6 Q1826.19 1540.33 1823.11 1544.94 Q1820.06 1549.52 1814.25 1549.52 Q1808.44 1549.52 1805.36 1544.94 Q1802.3 1540.33 1802.3 1531.6 Q1802.3 1522.85 1805.36 1518.27 Q1808.44 1513.66 1814.25 1513.66 Z\" fill=\"#000000\" fill-rule=\"nonzero\" fill-opacity=\"1\" /><path clip-path=\"url(#clip620)\" d=\"M2234.59 1544.91 L2242.23 1544.91 L2242.23 1518.55 L2233.92 1520.21 L2233.92 1515.95 L2242.18 1514.29 L2246.86 1514.29 L2246.86 1544.91 L2254.5 1544.91 L2254.5 1548.85 L2234.59 1548.85 L2234.59 1544.91 Z\" fill=\"#000000\" fill-rule=\"nonzero\" fill-opacity=\"1\" /><path clip-path=\"url(#clip620)\" d=\"M2273.94 1517.37 Q2270.33 1517.37 2268.5 1520.93 Q2266.69 1524.47 2266.69 1531.6 Q2266.69 1538.71 2268.5 1542.27 Q2270.33 1545.82 2273.94 1545.82 Q2277.57 1545.82 2279.38 1542.27 Q2281.21 1538.71 2281.21 1531.6 Q2281.21 1524.47 2279.38 1520.93 Q2277.57 1517.37 2273.94 1517.37 M2273.94 1513.66 Q2279.75 1513.66 2282.81 1518.27 Q2285.88 1522.85 2285.88 1531.6 Q2285.88 1540.33 2282.81 1544.94 Q2279.75 1549.52 2273.94 1549.52 Q2268.13 1549.52 2265.05 1544.94 Q2262 1540.33 2262 1531.6 Q2262 1522.85 2265.05 1518.27 Q2268.13 1513.66 2273.94 1513.66 Z\" fill=\"#000000\" fill-rule=\"nonzero\" fill-opacity=\"1\" /><path clip-path=\"url(#clip620)\" d=\"M2304.1 1517.37 Q2300.49 1517.37 2298.66 1520.93 Q2296.86 1524.47 2296.86 1531.6 Q2296.86 1538.71 2298.66 1542.27 Q2300.49 1545.82 2304.1 1545.82 Q2307.74 1545.82 2309.54 1542.27 Q2311.37 1538.71 2311.37 1531.6 Q2311.37 1524.47 2309.54 1520.93 Q2307.74 1517.37 2304.1 1517.37 M2304.1 1513.66 Q2309.91 1513.66 2312.97 1518.27 Q2316.05 1522.85 2316.05 1531.6 Q2316.05 1540.33 2312.97 1544.94 Q2309.91 1549.52 2304.1 1549.52 Q2298.29 1549.52 2295.21 1544.94 Q2292.16 1540.33 2292.16 1531.6 Q2292.16 1522.85 2295.21 1518.27 Q2298.29 1513.66 2304.1 1513.66 Z\" fill=\"#000000\" fill-rule=\"nonzero\" fill-opacity=\"1\" /><path clip-path=\"url(#clip620)\" d=\"M2334.26 1517.37 Q2330.65 1517.37 2328.82 1520.93 Q2327.02 1524.47 2327.02 1531.6 Q2327.02 1538.71 2328.82 1542.27 Q2330.65 1545.82 2334.26 1545.82 Q2337.9 1545.82 2339.7 1542.27 Q2341.53 1538.71 2341.53 1531.6 Q2341.53 1524.47 2339.7 1520.93 Q2337.9 1517.37 2334.26 1517.37 M2334.26 1513.66 Q2340.07 1513.66 2343.13 1518.27 Q2346.21 1522.85 2346.21 1531.6 Q2346.21 1540.33 2343.13 1544.94 Q2340.07 1549.52 2334.26 1549.52 Q2328.45 1549.52 2325.37 1544.94 Q2322.32 1540.33 2322.32 1531.6 Q2322.32 1522.85 2325.37 1518.27 Q2328.45 1513.66 2334.26 1513.66 Z\" fill=\"#000000\" fill-rule=\"nonzero\" fill-opacity=\"1\" /><polyline clip-path=\"url(#clip620)\" style=\"stroke:#000000; stroke-linecap:round; stroke-linejoin:round; stroke-width:4; stroke-opacity:1; fill:none\" points=\"209.029,1486.45 209.029,47.2441 \"/>\n",
       "<polyline clip-path=\"url(#clip620)\" style=\"stroke:#000000; stroke-linecap:round; stroke-linejoin:round; stroke-width:4; stroke-opacity:1; fill:none\" points=\"209.029,1403.82 227.926,1403.82 \"/>\n",
       "<polyline clip-path=\"url(#clip620)\" style=\"stroke:#000000; stroke-linecap:round; stroke-linejoin:round; stroke-width:4; stroke-opacity:1; fill:none\" points=\"209.029,1200.91 227.926,1200.91 \"/>\n",
       "<polyline clip-path=\"url(#clip620)\" style=\"stroke:#000000; stroke-linecap:round; stroke-linejoin:round; stroke-width:4; stroke-opacity:1; fill:none\" points=\"209.029,998.001 227.926,998.001 \"/>\n",
       "<polyline clip-path=\"url(#clip620)\" style=\"stroke:#000000; stroke-linecap:round; stroke-linejoin:round; stroke-width:4; stroke-opacity:1; fill:none\" points=\"209.029,795.091 227.926,795.091 \"/>\n",
       "<polyline clip-path=\"url(#clip620)\" style=\"stroke:#000000; stroke-linecap:round; stroke-linejoin:round; stroke-width:4; stroke-opacity:1; fill:none\" points=\"209.029,592.18 227.926,592.18 \"/>\n",
       "<polyline clip-path=\"url(#clip620)\" style=\"stroke:#000000; stroke-linecap:round; stroke-linejoin:round; stroke-width:4; stroke-opacity:1; fill:none\" points=\"209.029,389.269 227.926,389.269 \"/>\n",
       "<polyline clip-path=\"url(#clip620)\" style=\"stroke:#000000; stroke-linecap:round; stroke-linejoin:round; stroke-width:4; stroke-opacity:1; fill:none\" points=\"209.029,186.359 227.926,186.359 \"/>\n",
       "<path clip-path=\"url(#clip620)\" d=\"M50.9921 1404.27 L80.6679 1404.27 L80.6679 1408.21 L50.9921 1408.21 L50.9921 1404.27 Z\" fill=\"#000000\" fill-rule=\"nonzero\" fill-opacity=\"1\" /><path clip-path=\"url(#clip620)\" d=\"M91.5706 1417.17 L99.2095 1417.17 L99.2095 1390.8 L90.8993 1392.47 L90.8993 1388.21 L99.1632 1386.54 L103.839 1386.54 L103.839 1417.17 L111.478 1417.17 L111.478 1421.1 L91.5706 1421.1 L91.5706 1417.17 Z\" fill=\"#000000\" fill-rule=\"nonzero\" fill-opacity=\"1\" /><path clip-path=\"url(#clip620)\" d=\"M120.969 1386.54 L139.325 1386.54 L139.325 1390.48 L125.251 1390.48 L125.251 1398.95 Q126.27 1398.6 127.288 1398.44 Q128.307 1398.26 129.325 1398.26 Q135.112 1398.26 138.492 1401.43 Q141.871 1404.6 141.871 1410.01 Q141.871 1415.59 138.399 1418.7 Q134.927 1421.77 128.607 1421.77 Q126.432 1421.77 124.163 1421.4 Q121.918 1421.03 119.51 1420.29 L119.51 1415.59 Q121.594 1416.73 123.816 1417.28 Q126.038 1417.84 128.515 1417.84 Q132.519 1417.84 134.857 1415.73 Q137.195 1413.63 137.195 1410.01 Q137.195 1406.4 134.857 1404.3 Q132.519 1402.19 128.515 1402.19 Q126.64 1402.19 124.765 1402.61 Q122.913 1403.02 120.969 1403.9 L120.969 1386.54 Z\" fill=\"#000000\" fill-rule=\"nonzero\" fill-opacity=\"1\" /><path clip-path=\"url(#clip620)\" d=\"M161.084 1389.62 Q157.473 1389.62 155.644 1393.19 Q153.839 1396.73 153.839 1403.86 Q153.839 1410.96 155.644 1414.53 Q157.473 1418.07 161.084 1418.07 Q164.718 1418.07 166.524 1414.53 Q168.353 1410.96 168.353 1403.86 Q168.353 1396.73 166.524 1393.19 Q164.718 1389.62 161.084 1389.62 M161.084 1385.92 Q166.894 1385.92 169.95 1390.52 Q173.029 1395.11 173.029 1403.86 Q173.029 1412.58 169.95 1417.19 Q166.894 1421.77 161.084 1421.77 Q155.274 1421.77 152.195 1417.19 Q149.14 1412.58 149.14 1403.86 Q149.14 1395.11 152.195 1390.52 Q155.274 1385.92 161.084 1385.92 Z\" fill=\"#000000\" fill-rule=\"nonzero\" fill-opacity=\"1\" /><path clip-path=\"url(#clip620)\" d=\"M50.9921 1201.36 L80.6679 1201.36 L80.6679 1205.3 L50.9921 1205.3 L50.9921 1201.36 Z\" fill=\"#000000\" fill-rule=\"nonzero\" fill-opacity=\"1\" /><path clip-path=\"url(#clip620)\" d=\"M91.5706 1214.26 L99.2095 1214.26 L99.2095 1187.89 L90.8993 1189.56 L90.8993 1185.3 L99.1632 1183.63 L103.839 1183.63 L103.839 1214.26 L111.478 1214.26 L111.478 1218.19 L91.5706 1218.19 L91.5706 1214.26 Z\" fill=\"#000000\" fill-rule=\"nonzero\" fill-opacity=\"1\" /><path clip-path=\"url(#clip620)\" d=\"M130.922 1186.71 Q127.311 1186.71 125.482 1190.28 Q123.677 1193.82 123.677 1200.95 Q123.677 1208.05 125.482 1211.62 Q127.311 1215.16 130.922 1215.16 Q134.556 1215.16 136.362 1211.62 Q138.191 1208.05 138.191 1200.95 Q138.191 1193.82 136.362 1190.28 Q134.556 1186.71 130.922 1186.71 M130.922 1183.01 Q136.732 1183.01 139.788 1187.61 Q142.867 1192.2 142.867 1200.95 Q142.867 1209.67 139.788 1214.28 Q136.732 1218.86 130.922 1218.86 Q125.112 1218.86 122.033 1214.28 Q118.978 1209.67 118.978 1200.95 Q118.978 1192.2 122.033 1187.61 Q125.112 1183.01 130.922 1183.01 Z\" fill=\"#000000\" fill-rule=\"nonzero\" fill-opacity=\"1\" /><path clip-path=\"url(#clip620)\" d=\"M161.084 1186.71 Q157.473 1186.71 155.644 1190.28 Q153.839 1193.82 153.839 1200.95 Q153.839 1208.05 155.644 1211.62 Q157.473 1215.16 161.084 1215.16 Q164.718 1215.16 166.524 1211.62 Q168.353 1208.05 168.353 1200.95 Q168.353 1193.82 166.524 1190.28 Q164.718 1186.71 161.084 1186.71 M161.084 1183.01 Q166.894 1183.01 169.95 1187.61 Q173.029 1192.2 173.029 1200.95 Q173.029 1209.67 169.95 1214.28 Q166.894 1218.86 161.084 1218.86 Q155.274 1218.86 152.195 1214.28 Q149.14 1209.67 149.14 1200.95 Q149.14 1192.2 152.195 1187.61 Q155.274 1183.01 161.084 1183.01 Z\" fill=\"#000000\" fill-rule=\"nonzero\" fill-opacity=\"1\" /><path clip-path=\"url(#clip620)\" d=\"M81.154 998.453 L110.83 998.453 L110.83 1002.39 L81.154 1002.39 L81.154 998.453 Z\" fill=\"#000000\" fill-rule=\"nonzero\" fill-opacity=\"1\" /><path clip-path=\"url(#clip620)\" d=\"M120.969 980.721 L139.325 980.721 L139.325 984.657 L125.251 984.657 L125.251 993.129 Q126.27 992.781 127.288 992.619 Q128.307 992.434 129.325 992.434 Q135.112 992.434 138.492 995.606 Q141.871 998.777 141.871 1004.19 Q141.871 1009.77 138.399 1012.87 Q134.927 1015.95 128.607 1015.95 Q126.432 1015.95 124.163 1015.58 Q121.918 1015.21 119.51 1014.47 L119.51 1009.77 Q121.594 1010.91 123.816 1011.46 Q126.038 1012.02 128.515 1012.02 Q132.519 1012.02 134.857 1009.91 Q137.195 1007.8 137.195 1004.19 Q137.195 1000.58 134.857 998.476 Q132.519 996.369 128.515 996.369 Q126.64 996.369 124.765 996.786 Q122.913 997.203 120.969 998.082 L120.969 980.721 Z\" fill=\"#000000\" fill-rule=\"nonzero\" fill-opacity=\"1\" /><path clip-path=\"url(#clip620)\" d=\"M161.084 983.8 Q157.473 983.8 155.644 987.365 Q153.839 990.906 153.839 998.036 Q153.839 1005.14 155.644 1008.71 Q157.473 1012.25 161.084 1012.25 Q164.718 1012.25 166.524 1008.71 Q168.353 1005.14 168.353 998.036 Q168.353 990.906 166.524 987.365 Q164.718 983.8 161.084 983.8 M161.084 980.096 Q166.894 980.096 169.95 984.703 Q173.029 989.286 173.029 998.036 Q173.029 1006.76 169.95 1011.37 Q166.894 1015.95 161.084 1015.95 Q155.274 1015.95 152.195 1011.37 Q149.14 1006.76 149.14 998.036 Q149.14 989.286 152.195 984.703 Q155.274 980.096 161.084 980.096 Z\" fill=\"#000000\" fill-rule=\"nonzero\" fill-opacity=\"1\" /><path clip-path=\"url(#clip620)\" d=\"M161.084 780.889 Q157.473 780.889 155.644 784.454 Q153.839 787.996 153.839 795.125 Q153.839 802.232 155.644 805.797 Q157.473 809.338 161.084 809.338 Q164.718 809.338 166.524 805.797 Q168.353 802.232 168.353 795.125 Q168.353 787.996 166.524 784.454 Q164.718 780.889 161.084 780.889 M161.084 777.186 Q166.894 777.186 169.95 781.792 Q173.029 786.375 173.029 795.125 Q173.029 803.852 169.95 808.459 Q166.894 813.042 161.084 813.042 Q155.274 813.042 152.195 808.459 Q149.14 803.852 149.14 795.125 Q149.14 786.375 152.195 781.792 Q155.274 777.186 161.084 777.186 Z\" fill=\"#000000\" fill-rule=\"nonzero\" fill-opacity=\"1\" /><path clip-path=\"url(#clip620)\" d=\"M120.969 574.9 L139.325 574.9 L139.325 578.835 L125.251 578.835 L125.251 587.307 Q126.27 586.96 127.288 586.798 Q128.307 586.613 129.325 586.613 Q135.112 586.613 138.492 589.784 Q141.871 592.956 141.871 598.372 Q141.871 603.951 138.399 607.053 Q134.927 610.131 128.607 610.131 Q126.432 610.131 124.163 609.761 Q121.918 609.391 119.51 608.65 L119.51 603.951 Q121.594 605.085 123.816 605.641 Q126.038 606.196 128.515 606.196 Q132.519 606.196 134.857 604.09 Q137.195 601.983 137.195 598.372 Q137.195 594.761 134.857 592.655 Q132.519 590.548 128.515 590.548 Q126.64 590.548 124.765 590.965 Q122.913 591.381 120.969 592.261 L120.969 574.9 Z\" fill=\"#000000\" fill-rule=\"nonzero\" fill-opacity=\"1\" /><path clip-path=\"url(#clip620)\" d=\"M161.084 577.979 Q157.473 577.979 155.644 581.544 Q153.839 585.085 153.839 592.215 Q153.839 599.321 155.644 602.886 Q157.473 606.428 161.084 606.428 Q164.718 606.428 166.524 602.886 Q168.353 599.321 168.353 592.215 Q168.353 585.085 166.524 581.544 Q164.718 577.979 161.084 577.979 M161.084 574.275 Q166.894 574.275 169.95 578.882 Q173.029 583.465 173.029 592.215 Q173.029 600.942 169.95 605.548 Q166.894 610.131 161.084 610.131 Q155.274 610.131 152.195 605.548 Q149.14 600.942 149.14 592.215 Q149.14 583.465 152.195 578.882 Q155.274 574.275 161.084 574.275 Z\" fill=\"#000000\" fill-rule=\"nonzero\" fill-opacity=\"1\" /><path clip-path=\"url(#clip620)\" d=\"M91.5706 402.614 L99.2095 402.614 L99.2095 376.249 L90.8993 377.915 L90.8993 373.656 L99.1632 371.989 L103.839 371.989 L103.839 402.614 L111.478 402.614 L111.478 406.549 L91.5706 406.549 L91.5706 402.614 Z\" fill=\"#000000\" fill-rule=\"nonzero\" fill-opacity=\"1\" /><path clip-path=\"url(#clip620)\" d=\"M130.922 375.068 Q127.311 375.068 125.482 378.633 Q123.677 382.175 123.677 389.304 Q123.677 396.411 125.482 399.975 Q127.311 403.517 130.922 403.517 Q134.556 403.517 136.362 399.975 Q138.191 396.411 138.191 389.304 Q138.191 382.175 136.362 378.633 Q134.556 375.068 130.922 375.068 M130.922 371.364 Q136.732 371.364 139.788 375.971 Q142.867 380.554 142.867 389.304 Q142.867 398.031 139.788 402.637 Q136.732 407.221 130.922 407.221 Q125.112 407.221 122.033 402.637 Q118.978 398.031 118.978 389.304 Q118.978 380.554 122.033 375.971 Q125.112 371.364 130.922 371.364 Z\" fill=\"#000000\" fill-rule=\"nonzero\" fill-opacity=\"1\" /><path clip-path=\"url(#clip620)\" d=\"M161.084 375.068 Q157.473 375.068 155.644 378.633 Q153.839 382.175 153.839 389.304 Q153.839 396.411 155.644 399.975 Q157.473 403.517 161.084 403.517 Q164.718 403.517 166.524 399.975 Q168.353 396.411 168.353 389.304 Q168.353 382.175 166.524 378.633 Q164.718 375.068 161.084 375.068 M161.084 371.364 Q166.894 371.364 169.95 375.971 Q173.029 380.554 173.029 389.304 Q173.029 398.031 169.95 402.637 Q166.894 407.221 161.084 407.221 Q155.274 407.221 152.195 402.637 Q149.14 398.031 149.14 389.304 Q149.14 380.554 152.195 375.971 Q155.274 371.364 161.084 371.364 Z\" fill=\"#000000\" fill-rule=\"nonzero\" fill-opacity=\"1\" /><path clip-path=\"url(#clip620)\" d=\"M91.5706 199.704 L99.2095 199.704 L99.2095 173.338 L90.8993 175.005 L90.8993 170.745 L99.1632 169.079 L103.839 169.079 L103.839 199.704 L111.478 199.704 L111.478 203.639 L91.5706 203.639 L91.5706 199.704 Z\" fill=\"#000000\" fill-rule=\"nonzero\" fill-opacity=\"1\" /><path clip-path=\"url(#clip620)\" d=\"M120.969 169.079 L139.325 169.079 L139.325 173.014 L125.251 173.014 L125.251 181.486 Q126.27 181.139 127.288 180.977 Q128.307 180.792 129.325 180.792 Q135.112 180.792 138.492 183.963 Q141.871 187.134 141.871 192.551 Q141.871 198.13 138.399 201.231 Q134.927 204.31 128.607 204.31 Q126.432 204.31 124.163 203.94 Q121.918 203.569 119.51 202.829 L119.51 198.13 Q121.594 199.264 123.816 199.819 Q126.038 200.375 128.515 200.375 Q132.519 200.375 134.857 198.268 Q137.195 196.162 137.195 192.551 Q137.195 188.94 134.857 186.833 Q132.519 184.727 128.515 184.727 Q126.64 184.727 124.765 185.144 Q122.913 185.56 120.969 186.44 L120.969 169.079 Z\" fill=\"#000000\" fill-rule=\"nonzero\" fill-opacity=\"1\" /><path clip-path=\"url(#clip620)\" d=\"M161.084 172.157 Q157.473 172.157 155.644 175.722 Q153.839 179.264 153.839 186.394 Q153.839 193.5 155.644 197.065 Q157.473 200.606 161.084 200.606 Q164.718 200.606 166.524 197.065 Q168.353 193.5 168.353 186.394 Q168.353 179.264 166.524 175.722 Q164.718 172.157 161.084 172.157 M161.084 168.454 Q166.894 168.454 169.95 173.06 Q173.029 177.644 173.029 186.394 Q173.029 195.12 169.95 199.727 Q166.894 204.31 161.084 204.31 Q155.274 204.31 152.195 199.727 Q149.14 195.12 149.14 186.394 Q149.14 177.644 152.195 173.06 Q155.274 168.454 161.084 168.454 Z\" fill=\"#000000\" fill-rule=\"nonzero\" fill-opacity=\"1\" /><polyline clip-path=\"url(#clip622)\" style=\"stroke:#009af9; stroke-linecap:round; stroke-linejoin:round; stroke-width:4; stroke-opacity:1; fill:none\" points=\"269.7,1445.72 271.722,1445.72 273.745,1445.72 275.767,1445.72 277.79,1445.72 279.812,1445.72 281.834,1445.72 283.857,1445.72 285.879,1445.72 287.901,1445.72 289.924,1445.72 291.946,1445.72 293.969,1445.72 295.991,1445.72 298.013,1445.72 300.036,1445.72 302.058,1445.72 304.081,1445.72 306.103,1445.72 308.125,1445.72 310.148,1445.72 312.17,1445.72 314.192,1445.72 316.215,1445.72 318.237,1445.72 320.26,1445.72 322.282,1445.72 324.304,1445.72 326.327,1445.72 328.349,1445.72 330.372,1445.72 332.394,1445.72 334.416,1445.72 336.439,1445.72 338.461,1445.72 340.483,1445.72 342.506,1445.72 344.528,1445.72 346.551,1445.72 348.573,1445.72 350.595,1445.72 352.618,1445.72 354.64,1445.72 356.663,1445.72 358.685,1445.72 360.707,1445.72 362.73,1445.72 364.752,1445.72 366.774,1445.72 368.797,1445.72 370.819,1445.72 372.842,1445.72 374.864,1445.72 376.886,1445.72 378.909,1445.72 380.931,1445.72 382.954,1445.72 384.976,1445.72 386.998,1445.72 389.021,1445.72 391.043,1445.72 393.065,1445.72 395.088,1445.72 397.11,1445.72 399.133,1445.72 401.155,1445.72 403.177,1445.72 405.2,1445.72 407.222,1445.72 409.245,1445.72 411.267,1445.72 413.289,1445.72 415.312,1445.72 417.334,1445.72 419.356,1445.72 421.379,1445.72 423.401,1445.72 425.424,1445.72 427.446,1445.72 429.468,1445.72 431.491,1445.72 433.513,1445.72 435.536,1445.72 437.558,1445.72 439.58,1445.72 441.603,1445.72 443.625,1445.72 445.647,1445.72 447.67,1445.72 449.692,1445.72 451.715,1445.72 453.737,1445.72 455.759,1445.72 457.782,1445.72 459.804,1445.72 461.827,1445.72 463.849,1445.72 465.871,1445.72 467.894,1445.72 469.916,1445.72 471.938,1445.72 473.961,1445.72 475.983,1445.72 478.006,1445.72 480.028,1445.72 482.05,1445.72 484.073,1445.72 486.095,1445.72 488.118,1445.72 490.14,1445.72 492.162,1445.72 494.185,1445.72 496.207,1445.72 498.229,1445.72 500.252,1445.72 502.274,1445.72 504.297,1445.72 506.319,1445.72 508.341,1445.72 510.364,1445.72 512.386,1445.72 514.409,1445.72 516.431,1445.72 518.453,1445.72 520.476,1445.72 522.498,1445.72 524.52,1445.72 526.543,1445.72 528.565,1445.72 530.588,1445.72 532.61,1445.72 534.632,1445.72 536.655,1445.72 538.677,1445.72 540.7,1445.72 542.722,1445.72 544.744,1445.72 546.767,1445.72 548.789,1445.72 550.811,1445.72 552.834,1445.72 554.856,1445.72 556.879,1445.72 558.901,1445.72 560.923,1445.72 562.946,1445.72 564.968,1445.72 566.991,1445.72 569.013,1445.72 571.035,1445.72 573.058,1445.72 575.08,1445.72 577.102,1445.72 579.125,1445.72 581.147,1445.72 583.17,1445.72 585.192,1445.72 587.214,1445.72 589.237,1445.72 591.259,1445.72 593.282,1445.72 595.304,1445.72 597.326,1445.72 599.349,1445.72 601.371,1445.72 603.393,1445.72 605.416,1445.72 607.438,1445.72 609.461,1445.72 611.483,1445.72 613.505,1445.72 615.528,1445.72 617.55,1445.72 619.573,1445.72 621.595,1445.72 623.617,1445.72 625.64,1445.72 627.662,1445.72 629.684,1445.72 631.707,1445.72 633.729,1445.72 635.752,1445.72 637.774,1445.72 639.796,1445.72 641.819,1445.72 643.841,1445.72 645.864,1445.72 647.886,1445.72 649.908,1445.72 651.931,1445.72 653.953,1445.72 655.975,1445.72 657.998,1445.72 660.02,1445.72 662.043,1445.72 664.065,1445.72 666.087,1445.72 668.11,1445.72 670.132,1445.72 672.155,1445.72 674.177,1445.72 676.199,1445.72 678.222,1445.72 680.244,1445.72 682.266,1445.72 684.289,1445.72 686.311,1445.72 688.334,1445.72 690.356,1445.72 692.378,1445.72 694.401,1445.72 696.423,1445.72 698.446,1445.72 700.468,1445.72 702.49,1445.72 704.513,1445.72 706.535,1445.72 708.557,1445.72 710.58,1445.72 712.602,1445.72 714.625,1445.72 716.647,1445.72 718.669,1445.72 720.692,1445.72 722.714,1445.72 724.737,1445.72 726.759,1445.72 728.781,1445.72 730.804,1445.72 732.826,1445.72 734.848,1445.72 736.871,1445.72 738.893,1445.72 740.916,1445.72 742.938,1445.72 744.96,1445.72 746.983,1445.72 749.005,1445.72 751.028,1445.72 753.05,1445.72 755.072,1445.72 757.095,1445.72 759.117,1445.72 761.139,1445.72 763.162,1445.72 765.184,1445.72 767.207,1445.72 769.229,1445.72 771.251,1445.72 773.274,1445.72 775.296,1445.72 777.319,1445.72 779.341,1445.72 781.363,1445.72 783.386,1445.72 785.408,1445.72 787.43,1445.72 789.453,1445.72 791.475,1445.72 793.498,1445.72 795.52,1445.72 797.542,1445.72 799.565,1445.72 801.587,1445.72 803.61,1445.72 805.632,1445.72 807.654,1445.72 809.677,1445.72 811.699,1445.72 813.721,1445.72 815.744,1445.72 817.766,1445.72 819.789,1445.72 821.811,1445.72 823.833,1445.72 825.856,1445.72 827.878,1445.72 829.901,1445.72 831.923,1445.72 833.945,1445.72 835.968,1445.72 837.99,1445.72 840.012,1445.72 842.035,1445.72 844.057,1445.72 846.08,1445.72 848.102,1445.72 850.124,1445.72 852.147,1445.72 854.169,1445.72 856.191,1445.72 858.214,1445.72 860.236,1445.72 862.259,1445.72 864.281,1445.72 866.303,1445.72 868.326,1445.72 870.348,1445.72 872.371,1445.72 874.393,1445.72 876.415,1445.72 878.438,1445.72 880.46,1445.72 882.482,1445.72 884.505,1445.72 886.527,1445.72 888.55,1445.72 890.572,1445.72 892.594,1445.72 894.617,1445.72 896.639,1445.72 898.662,1445.72 900.684,1445.72 902.706,1445.72 904.729,1445.72 906.751,1445.72 908.773,1445.72 910.796,1445.72 912.818,1445.72 914.841,1445.72 916.863,1445.72 918.885,1445.72 920.908,1445.72 922.93,1445.72 924.953,1445.72 926.975,1445.72 928.997,1445.72 931.02,1445.72 933.042,1445.72 935.064,1445.72 937.087,1445.72 939.109,1445.72 941.132,1445.72 943.154,1445.72 945.176,1445.72 947.199,1445.72 949.221,1445.72 951.244,1445.72 953.266,1445.72 955.288,1445.72 957.311,1445.72 959.333,1445.72 961.355,1445.72 963.378,1445.72 965.4,1445.72 967.423,1445.72 969.445,1445.72 971.467,1445.72 973.49,1445.72 975.512,1445.72 977.535,1445.72 979.557,1445.72 981.579,1445.72 983.602,1445.72 985.624,1445.72 987.646,1445.72 989.669,1445.72 991.691,1445.72 993.714,1445.72 995.736,1445.72 997.758,1445.72 999.781,1445.72 1001.8,1445.72 1003.83,1445.72 1005.85,1445.72 1007.87,1445.72 1009.89,1445.72 1011.92,1445.72 1013.94,1445.72 1015.96,1445.72 1017.98,1445.72 1020,1445.72 1022.03,1445.72 1024.05,1445.72 1026.07,1445.72 1028.09,1445.72 1030.12,1445.72 1032.14,1445.72 1034.16,1445.72 1036.18,1445.72 1038.21,1445.72 1040.23,1445.72 1042.25,1445.72 1044.27,1445.72 1046.3,1445.72 1048.32,1445.72 1050.34,1445.72 1052.36,1445.72 1054.39,1445.72 1056.41,1445.72 1058.43,1445.72 1060.45,1445.72 1062.47,1445.72 1064.5,1445.72 1066.52,1445.72 1068.54,1445.72 1070.56,1445.72 1072.59,1445.72 1074.61,1445.72 1076.63,1445.72 1078.65,1445.72 1080.68,1445.72 1082.7,1445.72 1084.72,1445.72 1086.74,1445.72 1088.77,1445.72 1090.79,1445.72 1092.81,1445.72 1094.83,1445.72 1096.86,1445.72 1098.88,1445.72 1100.9,1445.72 1102.92,1445.72 1104.94,1445.72 1106.97,1445.72 1108.99,1445.72 1111.01,1445.72 1113.03,1445.72 1115.06,1445.72 1117.08,1445.72 1119.1,1445.72 1121.12,1445.72 1123.15,1445.72 1125.17,1445.72 1127.19,1445.72 1129.21,1445.72 1131.24,1445.72 1133.26,1445.72 1135.28,1445.72 1137.3,1445.72 1139.33,1445.72 1141.35,1445.72 1143.37,1445.72 1145.39,1445.72 1147.41,1445.72 1149.44,1445.72 1151.46,1445.72 1153.48,1445.72 1155.5,1445.72 1157.53,1445.72 1159.55,1445.72 1161.57,1445.72 1163.59,1445.72 1165.62,1445.72 1167.64,1445.72 1169.66,1445.72 1171.68,1445.72 1173.71,1445.72 1175.73,1445.72 1177.75,1445.72 1179.77,1445.72 1181.8,1445.72 1183.82,1445.72 1185.84,1445.72 1187.86,1445.72 1189.88,1445.72 1191.91,1445.72 1193.93,1445.72 1195.95,1445.72 1197.97,1445.72 1200,1445.72 1202.02,1445.72 1204.04,1445.72 1206.06,1445.72 1208.09,1445.72 1210.11,1445.72 1212.13,1445.72 1214.15,1445.72 1216.18,1445.72 1218.2,1445.72 1220.22,1445.72 1222.24,1445.72 1224.27,1445.72 1226.29,1445.72 1228.31,1445.72 1230.33,1445.72 1232.35,1445.72 1234.38,1445.72 1236.4,1445.72 1238.42,1445.72 1240.44,1445.72 1242.47,1445.72 1244.49,1445.72 1246.51,1445.72 1248.53,1445.72 1250.56,1445.72 1252.58,1445.72 1254.6,1445.72 1256.62,1445.72 1258.65,1445.72 1260.67,1445.72 1262.69,1445.72 1264.71,1445.72 1266.74,1445.72 1268.76,1445.72 1270.78,1445.72 1272.8,1445.72 1274.83,1445.72 1276.85,1445.72 1278.87,1445.72 1280.89,1445.72 1282.91,1445.72 1284.94,1445.72 1286.96,1445.72 1288.98,1445.72 1291,1445.72 1293.03,1445.72 1295.05,1445.72 1297.07,1445.72 1299.09,1445.72 1301.12,1445.72 1303.14,1445.72 1305.16,1445.72 1307.18,1445.72 1309.21,1445.72 1311.23,1445.72 1313.25,1445.72 1315.27,1445.72 1317.3,1445.72 1319.32,1445.72 1321.34,1445.72 1323.36,1445.72 1325.38,1445.72 1327.41,1445.72 1329.43,1445.72 1331.45,1445.72 1333.47,1445.72 1335.5,1445.72 1337.52,1445.72 1339.54,1445.72 1341.56,1445.72 1343.59,1445.72 1345.61,1445.72 1347.63,1445.72 1349.65,1445.72 1351.68,1445.72 1353.7,1445.72 1355.72,1445.72 1357.74,1445.72 1359.77,1445.72 1361.79,1445.72 1363.81,1445.72 1365.83,1445.72 1367.85,1445.72 1369.88,1445.72 1371.9,1445.72 1373.92,1445.72 1375.94,1445.72 1377.97,1445.72 1379.99,1445.72 1382.01,1445.72 1384.03,1445.72 1386.06,1445.72 1388.08,1445.72 1390.1,1445.72 1392.12,1445.72 1394.15,1445.72 1396.17,1445.72 1398.19,1445.72 1400.21,1445.72 1402.24,1445.72 1404.26,1445.72 1406.28,1445.72 1408.3,1445.72 1410.32,1445.72 1412.35,1445.72 1414.37,1445.72 1416.39,1445.72 1418.41,1445.72 1420.44,1445.72 1422.46,1445.72 1424.48,1445.72 1426.5,1445.72 1428.53,1445.72 1430.55,1445.72 1432.57,1445.72 1434.59,1445.72 1436.62,1445.72 1438.64,1445.72 1440.66,1445.72 1442.68,1445.72 1444.71,1445.72 1446.73,1445.72 1448.75,1445.72 1450.77,1445.72 1452.79,1445.72 1454.82,1445.72 1456.84,1445.72 1458.86,1445.72 1460.88,1445.72 1462.91,1445.72 1464.93,1445.72 1466.95,1445.72 1468.97,1445.72 1471,1445.72 1473.02,1445.72 1475.04,1445.72 1477.06,1445.72 1479.09,1445.72 1481.11,1445.72 1483.13,1445.72 1485.15,1445.72 1487.18,1445.72 1489.2,1445.72 1491.22,1445.72 1493.24,1445.72 1495.26,1445.72 1497.29,1445.72 1499.31,1445.72 1501.33,1445.72 1503.35,1445.72 1505.38,1445.72 1507.4,1445.72 1509.42,1445.72 1511.44,1445.72 1513.47,1445.72 1515.49,1445.72 1517.51,1445.72 1519.53,1445.72 1521.56,1445.72 1523.58,1445.72 1525.6,1445.72 1527.62,1445.72 1529.65,1445.72 1531.67,1445.72 1533.69,1445.72 1535.71,1445.72 1537.74,1445.72 1539.76,1445.72 1541.78,1445.72 1543.8,1445.72 1545.82,1445.72 1547.85,1445.72 1549.87,1445.72 1551.89,1445.72 1553.91,1445.72 1555.94,1445.72 1557.96,1445.72 1559.98,1445.72 1562,1445.72 1564.03,1445.72 1566.05,1445.72 1568.07,1445.72 1570.09,1445.72 1572.12,1445.72 1574.14,1445.72 1576.16,1445.72 1578.18,1445.72 1580.21,1445.72 1582.23,1445.72 1584.25,1445.72 1586.27,1445.72 1588.29,1445.72 1590.32,1445.72 1592.34,1445.72 1594.36,1445.72 1596.38,1445.72 1598.41,1445.72 1600.43,1445.72 1602.45,1445.72 1604.47,1445.72 1606.5,1445.72 1608.52,1445.72 1610.54,1445.72 1612.56,1445.72 1614.59,1445.72 1616.61,1445.72 1618.63,1445.72 1620.65,1445.72 1622.68,1445.72 1624.7,1445.72 1626.72,1445.72 1628.74,1445.72 1630.76,1445.72 1632.79,1445.72 1634.81,1445.72 1636.83,1445.72 1638.85,1445.72 1640.88,1445.72 1642.9,1445.72 1644.92,1445.72 1646.94,1445.72 1648.97,1445.72 1650.99,1445.72 1653.01,1445.72 1655.03,1445.72 1657.06,1445.72 1659.08,1445.72 1661.1,1445.72 1663.12,1445.72 1665.15,1445.72 1667.17,1445.72 1669.19,1445.72 1671.21,1445.72 1673.23,1445.72 1675.26,1445.72 1677.28,1445.72 1679.3,1445.72 1681.32,1445.72 1683.35,1445.72 1685.37,1445.72 1687.39,1445.72 1689.41,1445.72 1691.44,1445.72 1693.46,1445.72 1695.48,1445.72 1697.5,1445.72 1699.53,1445.72 1701.55,1445.72 1703.57,1445.72 1705.59,1445.72 1707.62,1445.72 1709.64,1445.72 1711.66,1445.72 1713.68,1445.72 1715.7,1445.72 1717.73,1445.72 1719.75,1445.72 1721.77,1445.72 1723.79,1445.72 1725.82,1445.72 1727.84,1445.72 1729.86,1445.72 1731.88,1445.72 1733.91,1445.72 1735.93,1445.72 1737.95,1445.72 1739.97,1445.72 1742,1445.72 1744.02,1445.72 1746.04,1445.72 1748.06,1445.72 1750.09,1445.72 1752.11,1445.72 1754.13,1445.72 1756.15,1445.72 1758.17,1445.72 1760.2,1445.72 1762.22,1445.72 1764.24,1445.72 1766.26,1445.72 1768.29,1445.72 1770.31,1445.72 1772.33,1445.72 1774.35,1445.72 1776.38,1445.72 1778.4,1445.72 1780.42,1445.72 1782.44,1445.72 1784.47,1445.72 1786.49,1445.72 1788.51,1445.72 1790.53,1445.72 1792.56,1445.72 1794.58,1445.72 1796.6,1445.72 1798.62,1445.72 1800.64,1445.72 1802.67,1445.72 1804.69,1445.72 1806.71,1445.72 1808.73,1445.72 1810.76,1445.72 1812.78,1445.72 1814.8,1445.72 1816.82,1445.72 1818.85,1445.72 1820.87,1445.72 1822.89,1445.72 1824.91,1445.72 1826.94,1445.72 1828.96,1445.72 1830.98,1445.72 1833,1445.72 1835.03,1445.72 1837.05,1445.72 1839.07,1445.72 1841.09,1445.72 1843.12,1445.72 1845.14,1445.72 1847.16,1445.72 1849.18,1445.72 1851.2,1445.72 1853.23,1445.72 1855.25,1445.72 1857.27,1445.72 1859.29,1445.72 1861.32,1445.72 1863.34,1445.72 1865.36,1445.72 1867.38,1445.72 1869.41,1445.72 1871.43,1445.72 1873.45,1445.72 1875.47,1445.72 1877.5,1445.72 1879.52,1445.72 1881.54,1445.72 1883.56,1445.72 1885.59,1445.72 1887.61,1445.72 1889.63,1445.72 1891.65,1445.72 1893.67,1445.72 1895.7,1445.72 1897.72,1445.72 1899.74,1445.72 1901.76,1445.72 1903.79,1445.72 1905.81,1445.72 1907.83,1445.72 1909.85,1445.72 1911.88,1445.72 1913.9,1445.72 1915.92,1445.72 1917.94,1445.72 1919.97,1445.72 1921.99,1445.72 1924.01,1445.72 1926.03,1445.72 1928.06,1445.72 1930.08,1445.72 1932.1,1445.72 1934.12,1445.72 1936.14,1445.72 1938.17,1445.72 1940.19,1445.72 1942.21,1445.72 1944.23,1445.72 1946.26,1445.72 1948.28,1445.72 1950.3,1445.72 1952.32,1445.72 1954.35,1445.72 1956.37,1445.72 1958.39,1445.72 1960.41,1445.72 1962.44,1445.72 1964.46,1445.72 1966.48,1445.72 1968.5,1445.72 1970.53,1445.72 1972.55,1445.72 1974.57,1445.72 1976.59,1445.72 1978.61,1445.72 1980.64,1445.72 1982.66,1445.72 1984.68,1445.72 1986.7,1445.72 1988.73,1445.72 1990.75,1445.72 1992.77,1445.72 1994.79,1445.72 1996.82,1445.72 1998.84,1445.72 2000.86,1445.72 2002.88,1445.72 2004.91,1445.72 2006.93,1445.72 2008.95,1445.72 2010.97,1445.72 2013,1445.72 2015.02,1445.72 2017.04,1445.72 2019.06,1445.72 2021.08,1445.72 2023.11,1445.72 2025.13,1445.72 2027.15,1445.72 2029.17,1445.72 2031.2,1445.72 2033.22,1445.72 2035.24,1445.72 2037.26,1445.72 2039.29,1445.72 2041.31,1445.72 2043.33,1445.72 2045.35,1445.72 2047.38,1445.72 2049.4,1445.72 2051.42,1445.72 2053.44,1445.72 2055.47,1445.72 2057.49,1445.72 2059.51,1445.72 2061.53,1445.72 2063.55,1445.72 2065.58,1445.72 2067.6,1445.72 2069.62,1445.72 2071.64,1445.72 2073.67,1445.72 2075.69,1445.72 2077.71,1445.72 2079.73,1445.72 2081.76,1445.72 2083.78,1445.72 2085.8,1445.72 2087.82,1445.72 2089.85,1445.72 2091.87,1445.72 2093.89,1445.72 2095.91,1445.72 2097.94,1445.72 2099.96,1445.72 2101.98,1445.72 2104,1445.72 2106.03,1445.72 2108.05,1445.72 2110.07,1445.72 2112.09,1445.72 2114.11,1445.72 2116.14,1445.72 2118.16,1445.72 2120.18,1445.72 2122.2,1445.72 2124.23,1445.72 2126.25,1445.72 2128.27,1445.72 2130.29,1445.72 2132.32,1445.72 2134.34,1445.72 2136.36,1445.72 2138.38,1445.72 2140.41,1445.72 2142.43,1445.72 2144.45,1445.72 2146.47,1445.72 2148.5,1445.72 2150.52,1445.72 2152.54,1445.72 2154.56,1445.72 2156.58,1445.72 2158.61,1445.72 2160.63,1445.72 2162.65,1445.72 2164.67,1445.72 2166.7,1445.72 2168.72,1445.72 2170.74,1445.72 2172.76,1445.72 2174.79,1445.72 2176.81,1445.72 2178.83,1445.72 2180.85,1445.72 2182.88,1445.72 2184.9,1445.72 2186.92,1445.72 2188.94,1445.72 2190.97,1445.72 2192.99,1445.72 2195.01,1445.72 2197.03,1445.72 2199.05,1445.72 2201.08,1445.72 2203.1,1445.72 2205.12,1445.72 2207.14,1445.72 2209.17,1445.72 2211.19,1445.72 2213.21,1445.72 2215.23,1445.72 2217.26,1445.72 2219.28,1445.72 2221.3,1445.72 2223.32,1445.72 2225.35,1445.72 2227.37,1445.72 2229.39,1445.72 2231.41,1445.72 2233.44,1445.72 2235.46,1445.72 2237.48,1445.72 2239.5,1445.72 2241.52,1445.72 2243.55,1445.72 2245.57,1445.72 2247.59,1445.72 2249.61,1445.72 2251.64,1445.72 2253.66,1445.72 2255.68,1445.72 2257.7,1445.72 2259.73,1445.72 2261.75,1445.72 2263.77,1445.72 2265.79,1445.72 2267.82,1445.72 2269.84,1445.72 2271.86,1445.72 2273.88,1445.72 2275.91,1445.72 2277.93,1445.72 2279.95,1445.72 2281.97,1445.72 2283.99,1445.72 2286.02,1445.72 2288.04,1445.72 2290.06,1445.72 2292.08,1445.72 \"/>\n",
       "<polyline clip-path=\"url(#clip622)\" style=\"stroke:#e26f46; stroke-linecap:round; stroke-linejoin:round; stroke-width:4; stroke-opacity:1; fill:none\" points=\"269.7,142.799 271.722,122.092 273.745,123.127 275.767,133.967 277.79,130.472 279.812,127.125 281.834,129.423 283.857,132.348 285.879,143.626 287.901,141.676 289.924,137.474 291.946,141.468 293.969,136.865 295.991,144.252 298.013,149.442 300.036,148.017 302.058,150.998 304.081,154.002 306.103,154.556 308.125,147.305 310.148,151.629 312.17,147.807 314.192,154.19 316.215,152.036 318.237,153.603 320.26,154.339 322.282,147.438 324.304,145.682 326.327,153.957 328.349,156.624 330.372,157.508 332.394,154.495 334.416,148.651 336.439,158.431 338.461,151.256 340.483,159.734 342.506,164.251 344.528,167.493 346.551,143.875 348.573,145.357 350.595,153.913 352.618,151.615 354.64,164.063 356.663,154.758 358.685,157.536 360.707,153.427 362.73,159.159 364.752,168.054 366.774,163.609 368.797,160.72 370.819,162.505 372.842,159.142 374.864,153.662 376.886,159.112 378.909,159.242 380.931,159.473 382.954,159.185 384.976,151.159 386.998,146.195 389.021,151.209 391.043,157.231 393.065,158.028 395.088,156.519 397.11,164.255 399.133,158.495 401.155,166.358 403.177,170.229 405.2,172.291 407.222,157.438 409.245,163.436 411.267,153.642 413.289,156.021 415.312,150.565 417.334,156.2 419.356,157.583 421.379,154.508 423.401,157.264 425.424,153.267 427.446,145.978 429.468,145.773 431.491,137.545 433.513,132.879 435.536,142.544 437.558,146.216 439.58,145.416 441.603,151.65 443.625,147.282 445.647,147.163 447.67,146.251 449.692,132.431 451.715,130.153 453.737,137.501 455.759,153.04 457.782,152.693 459.804,138.155 461.827,141.937 463.849,146.815 465.871,139.864 467.894,143.074 469.916,147.975 471.938,141.857 473.961,135.369 475.983,137.864 478.006,141.613 480.028,151.672 482.05,140.397 484.073,137.198 486.095,143.316 488.118,153.179 490.14,153.005 492.162,157.645 494.185,154.517 496.207,154.185 498.229,156.764 500.252,158.85 502.274,152.507 504.297,162.875 506.319,153.782 508.341,154.687 510.364,157.19 512.386,156.974 514.409,150.442 516.431,143.743 518.453,147.261 520.476,144.302 522.498,144.422 524.52,147.23 526.543,141.19 528.565,138.78 530.588,139.088 532.61,140.44 534.632,135.229 536.655,131.914 538.677,130.686 540.7,130.323 542.722,123.621 544.744,145.405 546.767,136.432 548.789,137.1 550.811,137.612 552.834,141.583 554.856,139.083 556.879,140.892 558.901,139.893 560.923,140.943 562.946,143.286 564.968,133.786 566.991,135.349 569.013,127.085 571.035,130.271 573.058,133.386 575.08,132.344 577.102,125.764 579.125,140.005 581.147,133.254 583.17,137.567 585.192,139.463 587.214,144.74 589.237,142.535 591.259,142.371 593.282,142.702 595.304,138.174 597.326,151.336 599.349,155.984 601.371,148.758 603.393,151.071 605.416,141.878 607.438,141.568 609.461,148.446 611.483,151.854 613.505,143.39 615.528,147.717 617.55,152.566 619.573,136.061 621.595,144.664 623.617,125.722 625.64,128.803 627.662,130.671 629.684,133.746 631.707,134.682 633.729,147.84 635.752,142.739 637.774,146.087 639.796,144.217 641.819,136.927 643.841,132.873 645.864,130.127 647.886,136.733 649.908,142.128 651.931,147.907 653.953,144.807 655.975,141.687 657.998,142.95 660.02,145.859 662.043,151.138 664.065,144.748 666.087,155.877 668.11,146.497 670.132,159.68 672.155,145.953 674.177,155.837 676.199,159.578 678.222,146.669 680.244,154.074 682.266,164.22 684.289,162.026 686.311,153.848 688.334,157.783 690.356,146.962 692.378,141.728 694.401,140.678 696.423,141.975 698.446,147.982 700.468,147.288 702.49,143.541 704.513,143.898 706.535,130.901 708.557,134.702 710.58,140.637 712.602,134.243 714.625,132.22 716.647,119.351 718.669,135.063 720.692,133.426 722.714,141.762 724.737,144.949 726.759,130.516 728.781,144.693 730.804,150.835 732.826,148.288 734.848,146.199 736.871,153.295 738.893,154.566 740.916,140.776 742.938,143.307 744.96,134.147 746.983,138.833 749.005,132.707 751.028,133.849 753.05,128.425 755.072,116.997 757.095,120.947 759.117,121.233 761.139,125.812 763.162,133.135 765.184,120.531 767.207,116.254 769.229,110.906 771.251,111.133 773.274,118.159 775.296,122.586 777.319,126.285 779.341,124.309 781.363,122.712 783.386,130.984 785.408,133.406 787.43,130.548 789.453,134.259 791.475,125.081 793.498,132.662 795.52,135.342 797.542,151.967 799.565,152.742 801.587,156.267 803.61,150.682 805.632,152.196 807.654,147.525 809.677,153.426 811.699,147.173 813.721,163.939 815.744,151.656 817.766,161.832 819.789,160.182 821.811,163.224 823.833,154.144 825.856,150.883 827.878,154.521 829.901,156.157 831.923,157.933 833.945,151.777 835.968,145.42 837.99,143.824 840.012,140.535 842.035,139.224 844.057,149.808 846.08,143.833 848.102,146.562 850.124,148.612 852.147,148.479 854.169,150.238 856.191,143.206 858.214,137.563 860.236,132.269 862.259,141.598 864.281,142.698 866.303,132.412 868.326,136.854 870.348,137.14 872.371,147.672 874.393,143.72 876.415,139.123 878.438,142.278 880.46,149.671 882.482,150.14 884.505,130.58 886.527,136.351 888.55,152.075 890.572,155.906 892.594,158.547 894.617,159.335 896.639,140.657 898.662,150.997 900.684,158.353 902.706,150.395 904.729,140.255 906.751,155.137 908.773,147.168 910.796,152.064 912.818,138.321 914.841,157.475 916.863,159.166 918.885,153.059 920.908,165.227 922.93,158.152 924.953,166.064 926.975,157.339 928.997,154.581 931.02,156.202 933.042,151.119 935.064,157.784 937.087,160.19 939.109,162.371 941.132,157.805 943.154,162.683 945.176,154.463 947.199,151.166 949.221,159.121 951.244,166.124 953.266,171.54 955.288,165.29 957.311,163.142 959.333,158.692 961.355,158.613 963.378,163.997 965.4,165.179 967.423,171.54 969.445,167.8 971.467,172.641 973.49,165.032 975.512,160.72 977.535,166.971 979.557,163.777 981.579,167.549 983.602,169.624 985.624,165.309 987.646,168.532 989.669,165.401 991.691,167.199 993.714,172.55 995.736,159.357 997.758,157.697 999.781,155.674 1001.8,147.576 1003.83,144.406 1005.85,132.467 1007.87,142.404 1009.89,137.373 1011.92,141.469 1013.94,141.703 1015.96,158.217 1017.98,154.947 1020,161.587 1022.03,152.556 1024.05,158.308 1026.07,157.282 1028.09,157.681 1030.12,168.925 1032.14,166.445 1034.16,161.116 1036.18,161.244 1038.21,157.941 1040.23,165.58 1042.25,159.801 1044.27,170.372 1046.3,163.488 1048.32,167.448 1050.34,178.661 1052.36,166.875 1054.39,171.113 1056.41,170.933 1058.43,163.137 1060.45,173.201 1062.47,166.969 1064.5,161.354 1066.52,157.625 1068.54,169.12 1070.56,168.958 1072.59,166.269 1074.61,163.95 1076.63,168.47 1078.65,169.132 1080.68,177.434 1082.7,172.015 1084.72,166.036 1086.74,173.517 1088.77,165.032 1090.79,164.069 1092.81,153.978 1094.83,161.873 1096.86,168.041 1098.88,161.834 1100.9,158.038 1102.92,163.294 1104.94,158.572 1106.97,156.001 1108.99,155.624 1111.01,157.673 1113.03,164.862 1115.06,161.739 1117.08,173.617 1119.1,159.727 1121.12,159.372 1123.15,158.524 1125.17,162.975 1127.19,145.7 1129.21,156.605 1131.24,148.139 1133.26,153.661 1135.28,142.353 1137.3,140.001 1139.33,154.85 1141.35,153.434 1143.37,148.082 1145.39,140.262 1147.41,159.152 1149.44,161.157 1151.46,151.673 1153.48,151.431 1155.5,146.741 1157.53,136.033 1159.55,136.435 1161.57,129.588 1163.59,122.729 1165.62,117.692 1167.64,127.451 1169.66,115.177 1171.68,124.827 1173.71,128.096 1175.73,120.107 1177.75,138.381 1179.77,137.346 1181.8,137.113 1183.82,138.391 1185.84,136.049 1187.86,140.74 1189.88,135.787 1191.91,127.303 1193.93,128.274 1195.95,119.333 1197.97,139.031 1200,128.941 1202.02,140.488 1204.04,154.638 1206.06,150.903 1208.09,157.795 1210.11,158.637 1212.13,165.258 1214.15,155.154 1216.18,159.613 1218.2,140.968 1220.22,155.784 1222.24,162.678 1224.27,158.98 1226.29,165.237 1228.31,168.686 1230.33,160.555 1232.35,167.543 1234.38,158.992 1236.4,158.942 1238.42,163.085 1240.44,154.865 1242.47,166.065 1244.49,169.682 1246.51,171.056 1248.53,154.682 1250.56,169.722 1252.58,175.875 1254.6,166.484 1256.62,165.435 1258.65,167.661 1260.67,145.02 1262.69,152.985 1264.71,147.972 1266.74,152.788 1268.76,146.931 1270.78,146.802 1272.8,153.211 1274.83,155.425 1276.85,156.438 1278.87,153.484 1280.89,156.474 1282.91,153.242 1284.94,158.83 1286.96,168.26 1288.98,161.187 1291,156.795 1293.03,153.203 1295.05,162.209 1297.07,158.871 1299.09,160.037 1301.12,163.622 1303.14,152.626 1305.16,156.704 1307.18,151.911 1309.21,161.172 1311.23,167.211 1313.25,173.752 1315.27,160.016 1317.3,159.527 1319.32,148.838 1321.34,143.355 1323.36,152.097 1325.38,143.431 1327.41,151.201 1329.43,149.439 1331.45,148.22 1333.47,148.95 1335.5,151.091 1337.52,157.307 1339.54,148.214 1341.56,131.854 1343.59,146.337 1345.61,135.812 1347.63,140.417 1349.65,139.714 1351.68,135.439 1353.7,132.087 1355.72,130.134 1357.74,124.493 1359.77,132 1361.79,124.683 1363.81,131.342 1365.83,126.849 1367.85,132.462 1369.88,127.651 1371.9,127.149 1373.92,142.076 1375.94,139.576 1377.97,145.291 1379.99,145.794 1382.01,144.92 1384.03,145.796 1386.06,142.852 1388.08,142.065 1390.1,137.685 1392.12,146.397 1394.15,144.256 1396.17,144.144 1398.19,129.969 1400.21,140.608 1402.24,132.129 1404.26,132.386 1406.28,142.154 1408.3,136.265 1410.32,139.16 1412.35,130.238 1414.37,137.541 1416.39,131.95 1418.41,140.456 1420.44,133.859 1422.46,142.97 1424.48,137.077 1426.5,150.92 1428.53,146.733 1430.55,143.338 1432.57,139.352 1434.59,154.086 1436.62,145.639 1438.64,157.775 1440.66,158.977 1442.68,143.773 1444.71,156.018 1446.73,160.151 1448.75,149.462 1450.77,155.589 1452.79,150.073 1454.82,153.181 1456.84,131.48 1458.86,141.139 1460.88,135.657 1462.91,127.942 1464.93,130.491 1466.95,138.448 1468.97,138.508 1471,140.436 1473.02,145.522 1475.04,155.019 1477.06,150.388 1479.09,144.406 1481.11,157.478 1483.13,143.161 1485.15,143.329 1487.18,147.439 1489.2,132.46 1491.22,139.746 1493.24,119.425 1495.26,125.173 1497.29,123.897 1499.31,126.932 1501.33,127.796 1503.35,121.813 1505.38,134.549 1507.4,116.894 1509.42,126.115 1511.44,125.147 1513.47,123.541 1515.49,123.557 1517.51,120.404 1519.53,120.59 1521.56,126.331 1523.58,130.743 1525.6,120.599 1527.62,121.064 1529.65,122.409 1531.67,128.742 1533.69,131.536 1535.71,127.553 1537.74,118.508 1539.76,122.348 1541.78,126.727 1543.8,116.007 1545.82,123.958 1547.85,126.983 1549.87,126.063 1551.89,127.32 1553.91,117.347 1555.94,127.126 1557.96,121.964 1559.98,116.649 1562,122.756 1564.03,117.986 1566.05,131.849 1568.07,122.268 1570.09,123.473 1572.12,135.974 1574.14,142.13 1576.16,142.598 1578.18,145.704 1580.21,133.811 1582.23,135.261 1584.25,144.495 1586.27,138.136 1588.29,132.219 1590.32,129.039 1592.34,132.365 1594.36,138.824 1596.38,139.724 1598.41,131.81 1600.43,134.998 1602.45,131.913 1604.47,144.937 1606.5,139.824 1608.52,151.821 1610.54,159.018 1612.56,141.684 1614.59,136.76 1616.61,138.396 1618.63,138.436 1620.65,128.362 1622.68,140.08 1624.7,135.346 1626.72,131.059 1628.74,137.11 1630.76,145.903 1632.79,143.024 1634.81,150.912 1636.83,147.419 1638.85,150.682 1640.88,146.957 1642.9,155.361 1644.92,159.277 1646.94,166.016 1648.97,160.558 1650.99,151.476 1653.01,148.369 1655.03,150.632 1657.06,158.715 1659.08,143.637 1661.1,139.093 1663.12,133.545 1665.15,130.38 1667.17,145.502 1669.19,137.026 1671.21,145.646 1673.23,142.653 1675.26,140.354 1677.28,140.525 1679.3,151.231 1681.32,145.778 1683.35,149.884 1685.37,144.532 1687.39,145.905 1689.41,146.611 1691.44,139.362 1693.46,138.481 1695.48,136.475 1697.5,125.663 1699.53,131.523 1701.55,122.283 1703.57,128.744 1705.59,114.815 1707.62,118.91 1709.64,131.109 1711.66,123 1713.68,121.561 1715.7,121.326 1717.73,131.149 1719.75,136.345 1721.77,129.381 1723.79,127.332 1725.82,120.06 1727.84,118.997 1729.86,122.745 1731.88,128.946 1733.91,132.822 1735.93,125.478 1737.95,127.145 1739.97,130.522 1742,118.84 1744.02,126.973 1746.04,128.044 1748.06,142.794 1750.09,139.425 1752.11,148.276 1754.13,142.878 1756.15,141.977 1758.17,143.953 1760.2,142.3 1762.22,128.545 1764.24,125.442 1766.26,128.688 1768.29,139.333 1770.31,132.224 1772.33,131.619 1774.35,143.982 1776.38,131.457 1778.4,119.818 1780.42,116.247 1782.44,117.254 1784.47,112.837 1786.49,110.684 1788.51,112.724 1790.53,107.395 1792.56,101.169 1794.58,102.052 1796.6,101.837 1798.62,102.409 1800.64,106.951 1802.67,105.944 1804.69,104.05 1806.71,96.147 1808.73,92.9924 1810.76,95.6646 1812.78,89.5306 1814.8,96.2889 1816.82,93.4782 1818.85,106.735 1820.87,87.9763 1822.89,106.273 1824.91,102.834 1826.94,108.904 1828.96,106.368 1830.98,110.999 1833,111.916 1835.03,104.623 1837.05,105.448 1839.07,110.363 1841.09,105.055 1843.12,104.335 1845.14,109.758 1847.16,106.465 1849.18,108.665 1851.2,111.085 1853.23,102.172 1855.25,129.384 1857.27,116.286 1859.29,107.893 1861.32,112.223 1863.34,120.293 1865.36,114.9 1867.38,124.274 1869.41,123.394 1871.43,123.872 1873.45,115.342 1875.47,116.586 1877.5,121.342 1879.52,126.055 1881.54,111.575 1883.56,113.504 1885.59,123.653 1887.61,125.09 1889.63,135.697 1891.65,123.893 1893.67,117.118 1895.7,118.257 1897.72,119.501 1899.74,115.621 1901.76,126.245 1903.79,115.578 1905.81,124.125 1907.83,109.922 1909.85,106.178 1911.88,115.978 1913.9,103.414 1915.92,117.07 1917.94,118.062 1919.97,117.191 1921.99,107.226 1924.01,108.928 1926.03,108.967 1928.06,108.751 1930.08,115.082 1932.1,123.19 1934.12,123.295 1936.14,130.372 1938.17,128.937 1940.19,133.839 1942.21,133.671 1944.23,134.003 1946.26,134.708 1948.28,130.392 1950.3,131.454 1952.32,134.566 1954.35,125.742 1956.37,129.142 1958.39,134.414 1960.41,136.761 1962.44,134.964 1964.46,150.671 1966.48,139.706 1968.5,141.999 1970.53,147.759 1972.55,145.331 1974.57,158.603 1976.59,150.619 1978.61,162.823 1980.64,164.829 1982.66,157.106 1984.68,154.279 1986.7,150.895 1988.73,156.915 1990.75,153.607 1992.77,154.979 1994.79,147.962 1996.82,157.3 1998.84,157.695 2000.86,158.04 2002.88,143.754 2004.91,148.137 2006.93,159.372 2008.95,140.594 2010.97,141.539 2013,140.89 2015.02,136.324 2017.04,138.476 2019.06,151.629 2021.08,138.944 2023.11,145.021 2025.13,142.107 2027.15,147.408 2029.17,136.176 2031.2,144.619 2033.22,139.948 2035.24,128.611 2037.26,121.227 2039.29,125.975 2041.31,136.594 2043.33,139.607 2045.35,136.984 2047.38,143.329 2049.4,146.245 2051.42,147.108 2053.44,145.682 2055.47,136.436 2057.49,125.036 2059.51,125.72 2061.53,129.428 2063.55,127.561 2065.58,124.197 2067.6,132.77 2069.62,131.829 2071.64,131.875 2073.67,129.18 2075.69,139.099 2077.71,134.388 2079.73,126.31 2081.76,138.809 2083.78,129.829 2085.8,127.901 2087.82,128.781 2089.85,136.423 2091.87,132.214 2093.89,137.649 2095.91,128.251 2097.94,129.659 2099.96,144.474 2101.98,146.205 2104,147.167 2106.03,138.551 2108.05,136.245 2110.07,139.677 2112.09,133.215 2114.11,133.982 2116.14,139.048 2118.16,132.874 2120.18,138.134 2122.2,140.872 2124.23,142.62 2126.25,141.563 2128.27,131.852 2130.29,131.379 2132.32,132.427 2134.34,132.029 2136.36,136.666 2138.38,131.692 2140.41,126.97 2142.43,128.293 2144.45,126.262 2146.47,127.839 2148.5,115.965 2150.52,122.718 2152.54,118.565 2154.56,117.199 2156.58,121.882 2158.61,124.486 2160.63,124.938 2162.65,118.393 2164.67,117.639 2166.7,112.1 2168.72,102.68 2170.74,106.144 2172.76,114.314 2174.79,119.06 2176.81,115.251 2178.83,116.407 2180.85,122.371 2182.88,123.751 2184.9,121.233 2186.92,129.665 2188.94,128.957 2190.97,125.402 2192.99,135.336 2195.01,123.581 2197.03,135.797 2199.05,139.931 2201.08,143.421 2203.1,142.084 2205.12,136.86 2207.14,141.696 2209.17,146.156 2211.19,139.131 2213.21,139.856 2215.23,143.221 2217.26,128.333 2219.28,127.847 2221.3,131.987 2223.32,136.875 2225.35,130.446 2227.37,129.938 2229.39,133.581 2231.41,136.123 2233.44,131.023 2235.46,140.801 2237.48,128.224 2239.5,134.133 2241.52,142.391 2243.55,138.335 2245.57,146.749 2247.59,144.425 2249.61,138.498 2251.64,129.853 2253.66,149.775 2255.68,141.487 2257.7,142.918 2259.73,142.315 2261.75,148.976 2263.77,154.957 2265.79,152.783 2267.82,157.654 2269.84,149.902 2271.86,148.09 2273.88,158.274 2275.91,146.204 2277.93,146.075 2279.95,160.235 2281.97,150.48 2283.99,154.61 2286.02,139.03 2288.04,148.491 2290.06,135.212 2292.08,137.194 \"/>\n",
       "<path clip-path=\"url(#clip620)\" d=\"M280.486 250.738 L547.289 250.738 L547.289 95.2176 L280.486 95.2176  Z\" fill=\"#ffffff\" fill-rule=\"evenodd\" fill-opacity=\"1\"/>\n",
       "<polyline clip-path=\"url(#clip620)\" style=\"stroke:#000000; stroke-linecap:round; stroke-linejoin:round; stroke-width:4; stroke-opacity:1; fill:none\" points=\"280.486,250.738 547.289,250.738 547.289,95.2176 280.486,95.2176 280.486,250.738 \"/>\n",
       "<polyline clip-path=\"url(#clip620)\" style=\"stroke:#009af9; stroke-linecap:round; stroke-linejoin:round; stroke-width:4; stroke-opacity:1; fill:none\" points=\"304.305,147.058 447.22,147.058 \"/>\n",
       "<path clip-path=\"url(#clip620)\" d=\"M484.882 166.745 Q483.077 171.375 481.364 172.787 Q479.651 174.199 476.78 174.199 L473.378 174.199 L473.378 170.634 L475.878 170.634 Q477.637 170.634 478.609 169.8 Q479.581 168.967 480.762 165.865 L481.526 163.921 L471.04 138.412 L475.554 138.412 L483.655 158.689 L491.757 138.412 L496.271 138.412 L484.882 166.745 Z\" fill=\"#000000\" fill-rule=\"nonzero\" fill-opacity=\"1\" /><path clip-path=\"url(#clip620)\" d=\"M503.563 160.402 L511.201 160.402 L511.201 134.037 L502.891 135.703 L502.891 131.444 L511.155 129.778 L515.831 129.778 L515.831 160.402 L523.47 160.402 L523.47 164.338 L503.563 164.338 L503.563 160.402 Z\" fill=\"#000000\" fill-rule=\"nonzero\" fill-opacity=\"1\" /><polyline clip-path=\"url(#clip620)\" style=\"stroke:#e26f46; stroke-linecap:round; stroke-linejoin:round; stroke-width:4; stroke-opacity:1; fill:none\" points=\"304.305,198.898 447.22,198.898 \"/>\n",
       "<path clip-path=\"url(#clip620)\" d=\"M484.882 218.585 Q483.077 223.215 481.364 224.627 Q479.651 226.039 476.78 226.039 L473.378 226.039 L473.378 222.474 L475.878 222.474 Q477.637 222.474 478.609 221.64 Q479.581 220.807 480.762 217.705 L481.526 215.761 L471.04 190.252 L475.554 190.252 L483.655 210.529 L491.757 190.252 L496.271 190.252 L484.882 218.585 Z\" fill=\"#000000\" fill-rule=\"nonzero\" fill-opacity=\"1\" /><path clip-path=\"url(#clip620)\" d=\"M506.78 212.242 L523.1 212.242 L523.1 216.178 L501.155 216.178 L501.155 212.242 Q503.817 209.488 508.401 204.858 Q513.007 200.205 514.188 198.863 Q516.433 196.34 517.313 194.604 Q518.215 192.844 518.215 191.155 Q518.215 188.4 516.271 186.664 Q514.35 184.928 511.248 184.928 Q509.049 184.928 506.595 185.692 Q504.164 186.455 501.387 188.006 L501.387 183.284 Q504.211 182.15 506.664 181.571 Q509.118 180.993 511.155 180.993 Q516.526 180.993 519.72 183.678 Q522.914 186.363 522.914 190.854 Q522.914 192.983 522.104 194.905 Q521.317 196.803 519.211 199.395 Q518.632 200.067 515.53 203.284 Q512.428 206.479 506.78 212.242 Z\" fill=\"#000000\" fill-rule=\"nonzero\" fill-opacity=\"1\" /></svg>\n"
      ]
     },
     "execution_count": 5,
     "metadata": {},
     "output_type": "execute_result"
    }
   ],
   "source": [
    "# This is with the default integrator\n",
    "\n",
    "using Plots\n",
    "\n",
    "plot(phi_values)\n",
    "plot!(psi_values)"
   ]
  },
  {
   "cell_type": "code",
   "execution_count": null,
   "metadata": {},
   "outputs": [
    {
     "name": "stdout",
     "output_type": "stream",
     "text": [
      "progress = Progress(n_steps) = ProgressMeter.Progress(1000, 0, nothing, ProgressMeter.BarGlyphs('|', '█', ['▏', '▎', '▍', '▌', '▋', '▊', '▉'], ' ', '|'), ProgressMeter.ProgressCore(:green, \"Progress: \", 0.1, true, 0, IJulia.IJuliaStdio{Base.PipeEndpoint}(IOContext(Base.PipeEndpoint(RawFD(40) open, 0 bytes waiting))), false, 1, 0, ReentrantLock(nothing, 0x00000000, 0x00, Base.GenericCondition{Base.Threads.SpinLock}(Base.IntrusiveLinkedList{Task}(nothing, nothing), Base.Threads.SpinLock(0)), (0, 0, 144336173941)), 0, 1, false, false, 1.742397775215447e9, 1.742397775215447e9, 1.742397775215447e9))\n"
     ]
    },
    {
     "name": "stderr",
     "output_type": "stream",
     "text": [
      "\u001b[32mProgress: 100%|█████████████████████████████████████████| Time: 0:00:00\u001b[39m\n"
     ]
    },
    {
     "name": "stdout",
     "output_type": "stream",
     "text": [
      "progress = Progress(n_steps) = ProgressMeter.Progress(1000, 0, nothing, ProgressMeter.BarGlyphs('|', '█', ['▏', '▎', '▍', '▌', '▋', '▊', '▉'], ' ', '|'), ProgressMeter.ProgressCore(:green, \"Progress: \", 0.1, true, 0, IJulia.IJuliaStdio{Base.PipeEndpoint}(IOContext(Base.PipeEndpoint(RawFD(40) open, 0 bytes waiting))), false, 1, 0, ReentrantLock(nothing, 0x00000000, 0x00, Base.GenericCondition{Base.Threads.SpinLock}(Base.IntrusiveLinkedList{Task}(nothing, nothing), Base.Threads.SpinLock(0)), (4300722896, 4300513024, -1)), 0, 1, false, false, 1.742397775427767e9, 1.742397775427767e9, 1.742397775427767e9))\n"
     ]
    },
    {
     "name": "stderr",
     "output_type": "stream",
     "text": [
      "\u001b[32mProgress: 100%|█████████████████████████████████████████| Time: 0:00:00\u001b[39m\n"
     ]
    },
    {
     "name": "stdout",
     "output_type": "stream",
     "text": [
      "progress = Progress(n_steps) = ProgressMeter.Progress(1000, 0, nothing, ProgressMeter.BarGlyphs('|', '█', ['▏', '▎', '▍', '▌', '▋', '▊', '▉'], ' ', '|'), ProgressMeter.ProgressCore(:green, \"Progress: \", 0.1, true, 0, IJulia.IJuliaStdio{Base.PipeEndpoint}(IOContext(Base.PipeEndpoint(RawFD(40) open, 0 bytes waiting))), false, 1, 0, ReentrantLock(nothing, 0x00000000, 0x00, Base.GenericCondition{Base.Threads.SpinLock}(Base.IntrusiveLinkedList{Task}(nothing, nothing), Base.Threads.SpinLock(0)), (5709910320, 5709910352, 431792399119)), 0, 1, false, false, 1.742397775633433e9, 1.742397775633433e9, 1.742397775633433e9))\n"
     ]
    },
    {
     "name": "stderr",
     "output_type": "stream",
     "text": [
      "\u001b[32mProgress: 100%|█████████████████████████████████████████| Time: 0:00:00\u001b[39m\n"
     ]
    },
    {
     "name": "stdout",
     "output_type": "stream",
     "text": [
      "progress = Progress(n_steps) = ProgressMeter.Progress(1000, 0, nothing, ProgressMeter.BarGlyphs('|', '█', ['▏', '▎', '▍', '▌', '▋', '▊', '▉'], ' ', '|'), ProgressMeter.ProgressCore(:green, \"Progress: \", 0.1, true, 0, IJulia.IJuliaStdio{Base.PipeEndpoint}(IOContext(Base.PipeEndpoint(RawFD(40) open, 0 bytes waiting))), false, 1, 0, ReentrantLock(nothing, 0x00000000, 0x00, Base.GenericCondition{Base.Threads.SpinLock}(Base.IntrusiveLinkedList{Task}(nothing, nothing), Base.Threads.SpinLock(0)), (0, 0, 2377900747084643388)), 0, 1, false, false, 1.742397775833764e9, 1.742397775833764e9, 1.742397775833764e9))\n"
     ]
    },
    {
     "name": "stderr",
     "output_type": "stream",
     "text": [
      "\u001b[32mProgress: 100%|█████████████████████████████████████████| Time: 0:00:00\u001b[39m\n"
     ]
    },
    {
     "name": "stdout",
     "output_type": "stream",
     "text": [
      "progress = Progress(n_steps) = ProgressMeter.Progress(1000, 0, nothing, ProgressMeter.BarGlyphs('|', '█', ['▏', '▎', '▍', '▌', '▋', '▊', '▉'], ' ', '|'), ProgressMeter.ProgressCore(:green, \"Progress: \", 0.1, true, 0, IJulia.IJuliaStdio{Base.PipeEndpoint}(IOContext(Base.PipeEndpoint(RawFD(40) open, 0 bytes waiting))), false, 1, 0, ReentrantLock(nothing, 0x00000000, 0x00, Base.GenericCondition{Base.Threads.SpinLock}(Base.IntrusiveLinkedList{Task}(nothing, nothing), Base.Threads.SpinLock(0)), (0, 0, 141733920768)), 0, 1, false, false, 1.742397776075817e9, 1.742397776075817e9, 1.742397776075817e9))\n"
     ]
    },
    {
     "name": "stderr",
     "output_type": "stream",
     "text": [
      "\u001b[32mProgress: 100%|█████████████████████████████████████████| Time: 0:00:00\u001b[39m\n"
     ]
    },
    {
     "name": "stdout",
     "output_type": "stream",
     "text": [
      "progress = Progress(n_steps) = ProgressMeter.Progress(1000, 0, nothing, ProgressMeter.BarGlyphs('|', '█', ['▏', '▎', '▍', '▌', '▋', '▊', '▉'], ' ', '|'), ProgressMeter.ProgressCore(:green, \"Progress: \", 0.1, true, 0, IJulia.IJuliaStdio{Base.PipeEndpoint}(IOContext(Base.PipeEndpoint(RawFD(40) open, 0 bytes waiting))), false, 1, 0, ReentrantLock(nothing, 0x00000000, 0x00, Base.GenericCondition{Base.Threads.SpinLock}(Base.IntrusiveLinkedList{Task}(nothing, nothing), Base.Threads.SpinLock(0)), (0, 0, 144336173941)), 0, 1, false, false, 1.742397776277502e9, 1.742397776277502e9, 1.742397776277502e9))\n"
     ]
    },
    {
     "name": "stderr",
     "output_type": "stream",
     "text": [
      "\u001b[32mProgress: 100%|█████████████████████████████████████████| Time: 0:00:00\u001b[39m\n"
     ]
    },
    {
     "name": "stdout",
     "output_type": "stream",
     "text": [
      "progress = Progress(n_steps) = ProgressMeter.Progress(1000, 0, nothing, ProgressMeter.BarGlyphs('|', '█', ['▏', '▎', '▍', '▌', '▋', '▊', '▉'], ' ', '|'), ProgressMeter.ProgressCore(:green, \"Progress: \", 0.1, true, 0, IJulia.IJuliaStdio{Base.PipeEndpoint}(IOContext(Base.PipeEndpoint(RawFD(40) open, 0 bytes waiting))), false, 1, 0, ReentrantLock(nothing, 0x00000000, 0x00, Base.GenericCondition{Base.Threads.SpinLock}(Base.IntrusiveLinkedList{Task}(nothing, nothing), Base.Threads.SpinLock(0)), (5, 6, -281333242789888)), 0, 1, false, false, 1.742397776479636e9, 1.742397776479638e9, 1.742397776479638e9))\n"
     ]
    },
    {
     "name": "stderr",
     "output_type": "stream",
     "text": [
      "\u001b[32mProgress: 100%|█████████████████████████████████████████| Time: 0:00:00\u001b[39m\n"
     ]
    },
    {
     "name": "stdout",
     "output_type": "stream",
     "text": [
      "progress = Progress(n_steps) = ProgressMeter.Progress(1000, 0, nothing, ProgressMeter.BarGlyphs('|', '█', ['▏', '▎', '▍', '▌', '▋', '▊', '▉'], ' ', '|'), ProgressMeter.ProgressCore(:green, \"Progress: \", 0.1, true, 0, IJulia.IJuliaStdio{Base.PipeEndpoint}(IOContext(Base.PipeEndpoint(RawFD(40) open, 0 bytes waiting))), false, 1, 0, ReentrantLock(nothing, 0x00000000, 0x00, Base.GenericCondition{Base.Threads.SpinLock}(Base.IntrusiveLinkedList{Task}(nothing, nothing), Base.Threads.SpinLock(0)), (1, 1, 22)), 0, 1, false, false, 1.742397776678322e9, 1.742397776678322e9, 1.742397776678322e9))\n"
     ]
    },
    {
     "name": "stderr",
     "output_type": "stream",
     "text": [
      "\u001b[32mProgress: 100%|█████████████████████████████████████████| Time: 0:00:00\u001b[39m\n"
     ]
    },
    {
     "name": "stdout",
     "output_type": "stream",
     "text": [
      "progress = Progress(n_steps) = ProgressMeter.Progress(1000, 0, nothing, ProgressMeter.BarGlyphs('|', '█', ['▏', '▎', '▍', '▌', '▋', '▊', '▉'], ' ', '|'), ProgressMeter.ProgressCore(:green, \"Progress: \", 0.1, true, 0, IJulia.IJuliaStdio{Base.PipeEndpoint}(IOContext(Base.PipeEndpoint(RawFD(40) open, 0 bytes waiting))), false, 1, 0, ReentrantLock(nothing, 0x00000000, 0x00, Base.GenericCondition{Base.Threads.SpinLock}(Base.IntrusiveLinkedList{Task}(nothing, nothing), Base.Threads.SpinLock(0)), (7, 0, -1)), 0, 1, false, false, 1.742397776879789e9, 1.742397776879789e9, 1.742397776879789e9))\n"
     ]
    },
    {
     "name": "stderr",
     "output_type": "stream",
     "text": [
      "\u001b[32mProgress: 100%|█████████████████████████████████████████| Time: 0:00:00\u001b[39m\n"
     ]
    },
    {
     "name": "stdout",
     "output_type": "stream",
     "text": [
      "progress = Progress(n_steps) = ProgressMeter.Progress(1000, 0, nothing, ProgressMeter.BarGlyphs('|', '█', ['▏', '▎', '▍', '▌', '▋', '▊', '▉'], ' ', '|'), ProgressMeter.ProgressCore(:green, \"Progress: \", 0.1, true, 0, IJulia.IJuliaStdio{Base.PipeEndpoint}(IOContext(Base.PipeEndpoint(RawFD(40) open, 0 bytes waiting))), false, 1, 0, ReentrantLock(nothing, 0x00000000, 0x00, Base.GenericCondition{Base.Threads.SpinLock}(Base.IntrusiveLinkedList{Task}(nothing, nothing), Base.Threads.SpinLock(0)), (0, 0, 430036378497)), 0, 1, false, false, 1.742397777082881e9, 1.742397777082881e9, 1.742397777082881e9))\n"
     ]
    },
    {
     "name": "stderr",
     "output_type": "stream",
     "text": [
      "\u001b[32mProgress: 100%|█████████████████████████████████████████| Time: 0:00:00\u001b[39m\n"
     ]
    },
    {
     "name": "stdout",
     "output_type": "stream",
     "text": [
      "progress = Progress(n_steps) = ProgressMeter.Progress(1000, 0, nothing, ProgressMeter.BarGlyphs('|', '█', ['▏', '▎', '▍', '▌', '▋', '▊', '▉'], ' ', '|'), ProgressMeter.ProgressCore(:green, \"Progress: \", 0.1, true, 0, IJulia.IJuliaStdio{Base.PipeEndpoint}(IOContext(Base.PipeEndpoint(RawFD(40) open, 0 bytes waiting))), false, 1, 0, ReentrantLock(nothing, 0x00000000, 0x00, Base.GenericCondition{Base.Threads.SpinLock}(Base.IntrusiveLinkedList{Task}(nothing, nothing), Base.Threads.SpinLock(0)), (1, 1, 22)), 0, 1, false, false, 1.742397777282821e9, 1.742397777282821e9, 1.742397777282821e9))"
     ]
    },
    {
     "name": "stderr",
     "output_type": "stream",
     "text": [
      "\u001b[32mProgress:  51%|████████████████████▉                    |  ETA: 0:00:00\u001b[39m"
     ]
    },
    {
     "name": "stdout",
     "output_type": "stream",
     "text": [
      "\n"
     ]
    },
    {
     "name": "stderr",
     "output_type": "stream",
     "text": [
      "\u001b[32mProgress: 100%|█████████████████████████████████████████| Time: 0:00:00\u001b[39m\n"
     ]
    },
    {
     "name": "stdout",
     "output_type": "stream",
     "text": [
      "progress = Progress(n_steps) = ProgressMeter.Progress(1000, 0, nothing, ProgressMeter.BarGlyphs('|', '█', ['▏', '▎', '▍', '▌', '▋', '▊', '▉'], ' ', '|'), ProgressMeter.ProgressCore(:green, \"Progress: \", 0.1, true, 0, IJulia.IJuliaStdio{Base.PipeEndpoint}(IOContext(Base.PipeEndpoint(RawFD(40) open, 0 bytes waiting))), false, 1, 0, ReentrantLock(nothing, 0x00000000, 0x00, Base.GenericCondition{Base.Threads.SpinLock}(Base.IntrusiveLinkedList{Task}(nothing, nothing), Base.Threads.SpinLock(0)), (8, 14, 141733920768)), 0, 1, false, false, 1.74239777748339e9, 1.74239777748339e9, 1.74239777748339e9))\n"
     ]
    },
    {
     "name": "stderr",
     "output_type": "stream",
     "text": [
      "\u001b[32mProgress: 100%|█████████████████████████████████████████| Time: 0:00:00\u001b[39m\n"
     ]
    },
    {
     "name": "stdout",
     "output_type": "stream",
     "text": [
      "progress = Progress(n_steps) = ProgressMeter.Progress(1000, 0, nothing, ProgressMeter.BarGlyphs('|', '█', ['▏', '▎', '▍', '▌', '▋', '▊', '▉'], ' ', '|'), ProgressMeter.ProgressCore(:green, \"Progress: \", 0.1, true, 0, IJulia.IJuliaStdio{Base.PipeEndpoint}(IOContext(Base.PipeEndpoint(RawFD(40) open, 0 bytes waiting))), false, 1, 0, ReentrantLock(nothing, 0x00000000, 0x00, Base.GenericCondition{Base.Threads.SpinLock}(Base.IntrusiveLinkedList{Task}(nothing, nothing), Base.Threads.SpinLock(0)), (4664767233, 1, 22)), 0, 1, false, false, 1.742397777685163e9, 1.742397777685163e9, 1.742397777685163e9))"
     ]
    },
    {
     "name": "stderr",
     "output_type": "stream",
     "text": [
      "\u001b[32mProgress:  50%|████████████████████▋                    |  ETA: 0:00:00\u001b[39m"
     ]
    },
    {
     "name": "stdout",
     "output_type": "stream",
     "text": [
      "\n"
     ]
    },
    {
     "name": "stderr",
     "output_type": "stream",
     "text": [
      "\u001b[32mProgress: 100%|█████████████████████████████████████████| Time: 0:00:00\u001b[39m\n"
     ]
    },
    {
     "name": "stdout",
     "output_type": "stream",
     "text": [
      "progress = Progress(n_steps) = ProgressMeter.Progress(1000, 0, nothing, ProgressMeter.BarGlyphs('|', '█', ['▏', '▎', '▍', '▌', '▋', '▊', '▉'], ' ', '|'), ProgressMeter.ProgressCore(:green, \"Progress: \", 0.1, true, 0, IJulia.IJuliaStdio{Base.PipeEndpoint}(IOContext(Base.PipeEndpoint(RawFD(40) open, 0 bytes waiting))), false, 1, 0, ReentrantLock(nothing, 0x00000000, 0x00, Base.GenericCondition{Base.Threads.SpinLock}(Base.IntrusiveLinkedList{Task}(nothing, nothing), Base.Threads.SpinLock(0)), (13152099329, 1, 22)), 0, 1, false, false, 1.742397777934899e9, 1.742397777934899e9, 1.742397777934899e9))\n"
     ]
    },
    {
     "name": "stderr",
     "output_type": "stream",
     "text": [
      "\u001b[32mProgress: 100%|█████████████████████████████████████████| Time: 0:00:00\u001b[39m\n"
     ]
    },
    {
     "name": "stdout",
     "output_type": "stream",
     "text": [
      "progress = Progress(n_steps) = ProgressMeter.Progress(1000, 0, nothing, ProgressMeter.BarGlyphs('|', '█', ['▏', '▎', '▍', '▌', '▋', '▊', '▉'], ' ', '|'), ProgressMeter.ProgressCore(:green, \"Progress: \", 0.1, true, 0, IJulia.IJuliaStdio{Base.PipeEndpoint}(IOContext(Base.PipeEndpoint(RawFD(40) open, 0 bytes waiting))), false, 1, 0, ReentrantLock(nothing, 0x00000000, 0x00, Base.GenericCondition{Base.Threads.SpinLock}(Base.IntrusiveLinkedList{Task}(nothing, nothing), Base.Threads.SpinLock(0)), (0, 0, -281330640536715)), 0, 1, false, false, 1.742397778137442e9, 1.742397778137442e9, 1.742397778137442e9))\n"
     ]
    },
    {
     "name": "stderr",
     "output_type": "stream",
     "text": [
      "\u001b[32mProgress: 100%|█████████████████████████████████████████| Time: 0:00:00\u001b[39m\n"
     ]
    },
    {
     "name": "stdout",
     "output_type": "stream",
     "text": [
      "progress = Progress(n_steps) = ProgressMeter.Progress(1000, 0, nothing, ProgressMeter.BarGlyphs('|', '█', ['▏', '▎', '▍', '▌', '▋', '▊', '▉'], ' ', '|'), ProgressMeter.ProgressCore(:green, \"Progress: \", 0.1, true, 0, IJulia.IJuliaStdio{Base.PipeEndpoint}(IOContext(Base.PipeEndpoint(RawFD(40) open, 0 bytes waiting))), false, 1, 0, ReentrantLock(nothing, 0x00000000, 0x00, Base.GenericCondition{Base.Threads.SpinLock}(Base.IntrusiveLinkedList{Task}(nothing, nothing), Base.Threads.SpinLock(0)), (4610916787295108353, 1, 22)), 0, 1, false, false, 1.742397778337591e9, 1.742397778337591e9, 1.742397778337591e9))\n"
     ]
    },
    {
     "name": "stderr",
     "output_type": "stream",
     "text": [
      "\u001b[32mProgress: 100%|█████████████████████████████████████████| Time: 0:00:00\u001b[39m\n"
     ]
    },
    {
     "name": "stdout",
     "output_type": "stream",
     "text": [
      "progress = Progress(n_steps) = ProgressMeter.Progress(1000, 0, nothing, ProgressMeter.BarGlyphs('|', '█', ['▏', '▎', '▍', '▌', '▋', '▊', '▉'], ' ', '|'), ProgressMeter.ProgressCore(:green, \"Progress: \", 0.1, true, 0, IJulia.IJuliaStdio{Base.PipeEndpoint}(IOContext(Base.PipeEndpoint(RawFD(40) open, 0 bytes waiting))), false, 1, 0, ReentrantLock(nothing, 0x00000000, 0x00, Base.GenericCondition{Base.Threads.SpinLock}(Base.IntrusiveLinkedList{Task}(nothing, nothing), Base.Threads.SpinLock(0)), (1, 1, 22)), 0, 1, false, false, 1.74239777853844e9, 1.74239777853844e9, 1.74239777853844e9))\n"
     ]
    },
    {
     "name": "stderr",
     "output_type": "stream",
     "text": [
      "\u001b[32mProgress: 100%|█████████████████████████████████████████| Time: 0:00:00\u001b[39m\n"
     ]
    },
    {
     "name": "stdout",
     "output_type": "stream",
     "text": [
      "progress = Progress(n_steps) = ProgressMeter.Progress(1000, 0, nothing, ProgressMeter.BarGlyphs('|', '█', ['▏', '▎', '▍', '▌', '▋', '▊', '▉'], ' ', '|'), ProgressMeter.ProgressCore(:green, \"Progress: \", 0.1, true, 0, IJulia.IJuliaStdio{Base.PipeEndpoint}(IOContext(Base.PipeEndpoint(RawFD(40) open, 0 bytes waiting))), false, 1, 0, ReentrantLock(nothing, 0x00000000, 0x00, Base.GenericCondition{Base.Threads.SpinLock}(Base.IntrusiveLinkedList{Task}(nothing, nothing), Base.Threads.SpinLock(0)), (0, 0, 430036378497)), 0, 1, false, false, 1.742397778736625e9, 1.742397778736625e9, 1.742397778736625e9))\n"
     ]
    },
    {
     "name": "stderr",
     "output_type": "stream",
     "text": [
      "\u001b[32mProgress: 100%|█████████████████████████████████████████| Time: 0:00:00\u001b[39m\n"
     ]
    },
    {
     "name": "stdout",
     "output_type": "stream",
     "text": [
      "progress = Progress(n_steps) = ProgressMeter.Progress(1000, 0, nothing, ProgressMeter.BarGlyphs('|', '█', ['▏', '▎', '▍', '▌', '▋', '▊', '▉'], ' ', '|'), ProgressMeter.ProgressCore(:green, \"Progress: \", 0.1, true, 0, IJulia.IJuliaStdio{Base.PipeEndpoint}(IOContext(Base.PipeEndpoint(RawFD(40) open, 0 bytes waiting))), false, 1, 0, ReentrantLock(nothing, 0x00000000, 0x00, Base.GenericCondition{Base.Threads.SpinLock}(Base.IntrusiveLinkedList{Task}(nothing, nothing), Base.Threads.SpinLock(0)), (1, 1, 22)), 0, 1, false, false, 1.742397778942657e9, 1.742397778942657e9, 1.742397778942657e9))\n"
     ]
    },
    {
     "name": "stderr",
     "output_type": "stream",
     "text": [
      "\u001b[32mProgress: 100%|█████████████████████████████████████████| Time: 0:00:00\u001b[39m\n"
     ]
    },
    {
     "name": "stdout",
     "output_type": "stream",
     "text": [
      "progress = Progress(n_steps) = ProgressMeter.Progress(1000, 0, nothing, ProgressMeter.BarGlyphs('|', '█', ['▏', '▎', '▍', '▌', '▋', '▊', '▉'], ' ', '|'), ProgressMeter.ProgressCore(:green, \"Progress: \", 0.1, true, 0, IJulia.IJuliaStdio{Base.PipeEndpoint}(IOContext(Base.PipeEndpoint(RawFD(40) open, 0 bytes waiting))), false, 1, 0, ReentrantLock(nothing, 0x00000000, 0x00, Base.GenericCondition{Base.Threads.SpinLock}(Base.IntrusiveLinkedList{Task}(nothing, nothing), Base.Threads.SpinLock(0)), (4611859651306884353, 1, 22)), 0, 1, false, false, 1.74239777913884e9, 1.74239777913884e9, 1.74239777913884e9))\n"
     ]
    },
    {
     "name": "stderr",
     "output_type": "stream",
     "text": [
      "\u001b[32mProgress: 100%|█████████████████████████████████████████| Time: 0:00:00\u001b[39m\n"
     ]
    },
    {
     "name": "stdout",
     "output_type": "stream",
     "text": [
      "progress = Progress(n_steps) = ProgressMeter.Progress(1000, 0, nothing, ProgressMeter.BarGlyphs('|', '█', ['▏', '▎', '▍', '▌', '▋', '▊', '▉'], ' ', '|'), ProgressMeter.ProgressCore(:green, \"Progress: \", 0.1, true, 0, IJulia.IJuliaStdio{Base.PipeEndpoint}(IOContext(Base.PipeEndpoint(RawFD(40) open, 0 bytes waiting))), false, 1, 0, ReentrantLock(nothing, 0x00000000, 0x00, Base.GenericCondition{Base.Threads.SpinLock}(Base.IntrusiveLinkedList{Task}(nothing, nothing), Base.Threads.SpinLock(0)), (0, 0, 4703380704)), 0, 1, false, false, 1.742397779341487e9, 1.742397779341487e9, 1.742397779341487e9))\n"
     ]
    },
    {
     "name": "stderr",
     "output_type": "stream",
     "text": [
      "\u001b[32mProgress: 100%|█████████████████████████████████████████| Time: 0:00:00\u001b[39m\n"
     ]
    },
    {
     "name": "stdout",
     "output_type": "stream",
     "text": [
      "progress = Progress(n_steps) = ProgressMeter.Progress(1000, 0, nothing, ProgressMeter.BarGlyphs('|', '█', ['▏', '▎', '▍', '▌', '▋', '▊', '▉'], ' ', '|'), ProgressMeter.ProgressCore(:green, \"Progress: \", 0.1, true, 0, IJulia.IJuliaStdio{Base.PipeEndpoint}(IOContext(Base.PipeEndpoint(RawFD(40) open, 0 bytes waiting))), false, 1, 0, ReentrantLock(nothing, 0x00000000, 0x00, Base.GenericCondition{Base.Threads.SpinLock}(Base.IntrusiveLinkedList{Task}(nothing, nothing), Base.Threads.SpinLock(0)), (1, 1, 22)), 0, 1, false, false, 1.742397779547172e9, 1.742397779547172e9, 1.742397779547172e9))\n"
     ]
    },
    {
     "name": "stderr",
     "output_type": "stream",
     "text": [
      "\u001b[32mProgress: 100%|█████████████████████████████████████████| Time: 0:00:00\u001b[39m\n"
     ]
    },
    {
     "name": "stdout",
     "output_type": "stream",
     "text": [
      "progress = Progress(n_steps) = ProgressMeter.Progress(1000, 0, nothing, ProgressMeter.BarGlyphs('|', '█', ['▏', '▎', '▍', '▌', '▋', '▊', '▉'], ' ', '|'), ProgressMeter.ProgressCore(:green, \"Progress: \", 0.1, true, 0, IJulia.IJuliaStdio{Base.PipeEndpoint}(IOContext(Base.PipeEndpoint(RawFD(40) open, 0 bytes waiting))), false, 1, 0, ReentrantLock(nothing, 0x00000000, 0x00, Base.GenericCondition{Base.Threads.SpinLock}(Base.IntrusiveLinkedList{Task}(nothing, nothing), Base.Threads.SpinLock(0)), (2, 1, 431322352720)), 0, 1, false, false, 1.742397779753839e9, 1.742397779753839e9, 1.742397779753839e9))\n"
     ]
    },
    {
     "name": "stderr",
     "output_type": "stream",
     "text": [
      "\u001b[32mProgress: 100%|█████████████████████████████████████████| Time: 0:00:00\u001b[39m\n"
     ]
    },
    {
     "name": "stdout",
     "output_type": "stream",
     "text": [
      "progress = Progress(n_steps) = ProgressMeter.Progress(1000, 0, nothing, ProgressMeter.BarGlyphs('|', '█', ['▏', '▎', '▍', '▌', '▋', '▊', '▉'], ' ', '|'), ProgressMeter.ProgressCore(:green, \"Progress: \", 0.1, true, 0, IJulia.IJuliaStdio{Base.PipeEndpoint}(IOContext(Base.PipeEndpoint(RawFD(40) open, 0 bytes waiting))), false, 1, 0, ReentrantLock(nothing, 0x00000000, 0x00, Base.GenericCondition{Base.Threads.SpinLock}(Base.IntrusiveLinkedList{Task}(nothing, nothing), Base.Threads.SpinLock(0)), (5714805200, 4705868944, 4703380704)), 0, 1, false, false, 1.742397779999227e9, 1.742397779999227e9, 1.742397779999227e9))\n"
     ]
    },
    {
     "name": "stderr",
     "output_type": "stream",
     "text": [
      "\u001b[32mProgress: 100%|█████████████████████████████████████████| Time: 0:00:00\u001b[39m\n"
     ]
    },
    {
     "name": "stdout",
     "output_type": "stream",
     "text": [
      "progress = Progress(n_steps) = ProgressMeter.Progress(1000, 0, nothing, ProgressMeter.BarGlyphs('|', '█', ['▏', '▎', '▍', '▌', '▋', '▊', '▉'], ' ', '|'), ProgressMeter.ProgressCore(:green, \"Progress: \", 0.1, true, 0, IJulia.IJuliaStdio{Base.PipeEndpoint}(IOContext(Base.PipeEndpoint(RawFD(40) open, 0 bytes waiting))), false, 1, 0, ReentrantLock(nothing, 0x00000000, 0x00, Base.GenericCondition{Base.Threads.SpinLock}(Base.IntrusiveLinkedList{Task}(nothing, nothing), Base.Threads.SpinLock(0)), (1, 1, 22)), 0, 1, false, false, 1.742397780203213e9, 1.742397780203213e9, 1.742397780203213e9))\n"
     ]
    },
    {
     "name": "stderr",
     "output_type": "stream",
     "text": [
      "\u001b[32mProgress: 100%|█████████████████████████████████████████| Time: 0:00:00\u001b[39m\n"
     ]
    },
    {
     "name": "stdout",
     "output_type": "stream",
     "text": [
      "progress = Progress(n_steps) = ProgressMeter.Progress(1000, 0, nothing, ProgressMeter.BarGlyphs('|', '█', ['▏', '▎', '▍', '▌', '▋', '▊', '▉'], ' ', '|'), ProgressMeter.ProgressCore(:green, \"Progress: \", 0.1, true, 0, IJulia.IJuliaStdio{Base.PipeEndpoint}(IOContext(Base.PipeEndpoint(RawFD(40) open, 0 bytes waiting))), false, 1, 0, ReentrantLock(nothing, 0x00000000, 0x00, Base.GenericCondition{Base.Threads.SpinLock}(Base.IntrusiveLinkedList{Task}(nothing, nothing), Base.Threads.SpinLock(0)), (1, 1, 22)), 0, 1, false, false, 1.74239778040032e9, 1.74239778040032e9, 1.74239778040032e9))\n"
     ]
    },
    {
     "name": "stderr",
     "output_type": "stream",
     "text": [
      "\u001b[32mProgress: 100%|█████████████████████████████████████████| Time: 0:00:00\u001b[39m\n"
     ]
    },
    {
     "name": "stdout",
     "output_type": "stream",
     "text": [
      "progress = Progress(n_steps) = ProgressMeter.Progress(1000, 0, nothing, ProgressMeter.BarGlyphs('|', '█', ['▏', '▎', '▍', '▌', '▋', '▊', '▉'], ' ', '|'), ProgressMeter.ProgressCore(:green, \"Progress: \", 0.1, true, 0, IJulia.IJuliaStdio{Base.PipeEndpoint}(IOContext(Base.PipeEndpoint(RawFD(40) open, 0 bytes waiting))), false, 1, 0, ReentrantLock(nothing, 0x00000000, 0x00, Base.GenericCondition{Base.Threads.SpinLock}(Base.IntrusiveLinkedList{Task}(nothing, nothing), Base.Threads.SpinLock(0)), (4610890368634902137, 4610135022540745064, 22)), 0, 1, false, false, 1.742397780605907e9, 1.742397780605907e9, 1.742397780605908e9))"
     ]
    },
    {
     "name": "stderr",
     "output_type": "stream",
     "text": [
      "\u001b[32mProgress:  51%|████████████████████▉                    |  ETA: 0:00:00\u001b[39m"
     ]
    },
    {
     "name": "stdout",
     "output_type": "stream",
     "text": [
      "\n"
     ]
    },
    {
     "name": "stderr",
     "output_type": "stream",
     "text": [
      "\u001b[32mProgress: 100%|█████████████████████████████████████████| Time: 0:00:00\u001b[39m\n"
     ]
    },
    {
     "name": "stdout",
     "output_type": "stream",
     "text": [
      "progress = Progress(n_steps) = ProgressMeter.Progress(1000, 0, nothing, ProgressMeter.BarGlyphs('|', '█', ['▏', '▎', '▍', '▌', '▋', '▊', '▉'], ' ', '|'), ProgressMeter.ProgressCore(:green, \"Progress: \", 0.1, true, 0, IJulia.IJuliaStdio{Base.PipeEndpoint}(IOContext(Base.PipeEndpoint(RawFD(40) open, 0 bytes waiting))), false, 1, 0, ReentrantLock(nothing, 0x00000000, 0x00, Base.GenericCondition{Base.Threads.SpinLock}(Base.IntrusiveLinkedList{Task}(nothing, nothing), Base.Threads.SpinLock(0)), (1, 1, 22)), 0, 1, false, false, 1.742397780808183e9, 1.742397780808183e9, 1.742397780808183e9))\n"
     ]
    },
    {
     "name": "stderr",
     "output_type": "stream",
     "text": [
      "\u001b[32mProgress: 100%|█████████████████████████████████████████| Time: 0:00:00\u001b[39m\n"
     ]
    },
    {
     "name": "stdout",
     "output_type": "stream",
     "text": [
      "progress = Progress(n_steps) = ProgressMeter.Progress(1000, 0, nothing, ProgressMeter.BarGlyphs('|', '█', ['▏', '▎', '▍', '▌', '▋', '▊', '▉'], ' ', '|'), ProgressMeter.ProgressCore(:green, \"Progress: \", 0.1, true, 0, IJulia.IJuliaStdio{Base.PipeEndpoint}(IOContext(Base.PipeEndpoint(RawFD(40) open, 0 bytes waiting))), false, 1, 0, ReentrantLock(nothing, 0x00000000, 0x00, Base.GenericCondition{Base.Threads.SpinLock}(Base.IntrusiveLinkedList{Task}(nothing, nothing), Base.Threads.SpinLock(0)), (0, 0, -281330640536715)), 0, 1, false, false, 1.742397781010801e9, 1.742397781010801e9, 1.742397781010801e9))\n"
     ]
    },
    {
     "name": "stderr",
     "output_type": "stream",
     "text": [
      "\u001b[32mProgress: 100%|█████████████████████████████████████████| Time: 0:00:00\u001b[39m\n"
     ]
    },
    {
     "name": "stdout",
     "output_type": "stream",
     "text": [
      "progress = Progress(n_steps) = ProgressMeter.Progress(1000, 0, nothing, ProgressMeter.BarGlyphs('|', '█', ['▏', '▎', '▍', '▌', '▋', '▊', '▉'], ' ', '|'), ProgressMeter.ProgressCore(:green, \"Progress: \", 0.1, true, 0, IJulia.IJuliaStdio{Base.PipeEndpoint}(IOContext(Base.PipeEndpoint(RawFD(40) open, 0 bytes waiting))), false, 1, 0, ReentrantLock(nothing, 0x00000000, 0x00, Base.GenericCondition{Base.Threads.SpinLock}(Base.IntrusiveLinkedList{Task}(nothing, nothing), Base.Threads.SpinLock(0)), (4611468723124210433, 1, 22)), 0, 1, false, false, 1.742397781213911e9, 1.742397781213911e9, 1.742397781213911e9))"
     ]
    },
    {
     "name": "stderr",
     "output_type": "stream",
     "text": [
      "\u001b[32mProgress:  51%|█████████████████████▏                   |  ETA: 0:00:00\u001b[39m"
     ]
    },
    {
     "name": "stdout",
     "output_type": "stream",
     "text": [
      "\n"
     ]
    },
    {
     "name": "stderr",
     "output_type": "stream",
     "text": [
      "\u001b[32mProgress: 100%|█████████████████████████████████████████| Time: 0:00:00\u001b[39m\n"
     ]
    },
    {
     "name": "stdout",
     "output_type": "stream",
     "text": [
      "progress = Progress(n_steps) = ProgressMeter.Progress(1000, 0, nothing, ProgressMeter.BarGlyphs('|', '█', ['▏', '▎', '▍', '▌', '▋', '▊', '▉'], ' ', '|'), ProgressMeter.ProgressCore(:green, \"Progress: \", 0.1, true, 0, IJulia.IJuliaStdio{Base.PipeEndpoint}(IOContext(Base.PipeEndpoint(RawFD(40) open, 0 bytes waiting))), false, 1, 0, ReentrantLock(nothing, 0x00000000, 0x00, Base.GenericCondition{Base.Threads.SpinLock}(Base.IntrusiveLinkedList{Task}(nothing, nothing), Base.Threads.SpinLock(0)), (4568645510995893283, 5694363216, 22)), 0, 1, false, false, 1.742397781415803e9, 1.742397781415803e9, 1.742397781415803e9))\n"
     ]
    },
    {
     "name": "stderr",
     "output_type": "stream",
     "text": [
      "\u001b[32mProgress: 100%|█████████████████████████████████████████| Time: 0:00:00\u001b[39m\n"
     ]
    },
    {
     "name": "stdout",
     "output_type": "stream",
     "text": [
      "Results saved to mean_and_std_angles.csv\n"
     ]
    }
   ],
   "source": [
    "using Statistics\n",
    "using Molly\n",
    "using ConstrainedDynamicsSimulator\n",
    "using Unitful\n",
    "using CSV\n",
    "using DataFrames\n",
    "using Threads\n",
    "\n",
    "function init_system(logging_interval)\n",
    "    ff_dir = joinpath(dirname(pathof(Molly)), \"..\", \"data\", \"force_fields\")\n",
    "    ff = MolecularForceField(joinpath.(ff_dir, [\"ff99SBildn.xml\", \"tip3p_standard.xml\"])...)\n",
    "    sys = System(\"dipeptide_nowater.pdb\", ff; rename_terminal_res=false)\n",
    "\n",
    "    function phi_wrapper(sys, args...; kwargs...)\n",
    "        rad2deg(torsion_angle(sys.coords[5], sys.coords[7], sys.coords[9],\n",
    "                            sys.coords[15], sys.boundary))\n",
    "    end\n",
    "\n",
    "    function psi_wrapper(sys, args...; kwargs...)\n",
    "        rad2deg(torsion_angle(sys.coords[7], sys.coords[9], sys.coords[15],\n",
    "                            sys.coords[17], sys.boundary))\n",
    "    end\n",
    "\n",
    "    sys = System(\n",
    "        \"dipeptide_nowater.pdb\",\n",
    "        ff;\n",
    "        rename_terminal_res=false,\n",
    "        loggers=(\n",
    "            phi=GeneralObservableLogger(phi_wrapper, Float64, logging_interval),\n",
    "            psi=GeneralObservableLogger(psi_wrapper, Float64, logging_interval),\n",
    "        ),\n",
    "        implicit_solvent=\"gbn2\",\n",
    "    )\n",
    "\n",
    "    return sys\n",
    "end\n",
    "\n",
    "timestep = 0.002u\"ps\"\n",
    "fric = 5000.0u\"ps^-1\"\n",
    "temps = [3 * 10^(x) for x in 0:0.1:3]\n",
    "traj_length = 1_000\n",
    "logging_interval = 1\n",
    "phi_data_array = zeros((length(temps), div(traj_length, logging_interval) + 1))\n",
    "psi_data_array = zeros((length(temps), div(traj_length, logging_interval) + 1))\n",
    "mean_phi_increment = zeros(length(temps))\n",
    "mean_psi_increment = zeros(length(temps))\n",
    "\n",
    "@threads for (idx, temp) in enumerate(temps)\n",
    "    sys = init_system(logging_interval)\n",
    "    temp = temp*u\"K\"\n",
    "    simulator = CVConstrainedOverdampedLangevin(dt=timestep, T=temp, γ=fric, φ_grid=ConstrainedDynamicsSimulator.Dihedrals.φ_grid, φ_flat=ConstrainedDynamicsSimulator.Dihedrals.φ_flat)\n",
    "    ConstrainedDynamicsSimulator.simulate!(sys, simulator, traj_length)\n",
    "    phi_data_array[idx, :] = values(sys.loggers.phi)\n",
    "    psi_data_array[idx, :] = values(sys.loggers.psi)\n",
    "    mean_phi_increment[idx] = mean(abs.(diff(values(sys.loggers.phi))))\n",
    "    mean_psi_increment[idx] = mean(abs.(diff(values(sys.loggers.psi))))\n",
    "end\n",
    "\n",
    "mean_phi_angles = vec(mean(phi_data_array, dims=2))\n",
    "mean_psi_angles = vec(mean(psi_data_array, dims=2))\n",
    "std_phi_angles = vec(std(phi_data_array, dims=2))\n",
    "std_psi_angles = vec(std(psi_data_array, dims=2))\n",
    "\n",
    "df = DataFrame(\n",
    "    Temperature_K = temps,\n",
    "    Mean_Phi_Angles = mean_phi_angles,\n",
    "    Std_Phi_Angles = std_phi_angles,\n",
    "    Mean_Phi_Increment = mean_phi_increment,\n",
    "    Mean_Psi_Angles = mean_psi_angles,\n",
    "    Std_Psi_Angles = std_psi_angles,\n",
    "    Mean_Psi_Increment = mean_psi_increment\n",
    ")\n",
    "\n",
    "metadata = \"\"\"\n",
    "# Timestep: $(timestep)\n",
    "# Friction Coefficient: $(fric)\n",
    "# Trajectory Length: $(traj_length) steps\n",
    "# Logging Interval: $(logging_interval)\n",
    "# Temperature Range: $(minimum(temps)) K to $(maximum(temps)) K\n",
    "# Number of Temperatures: $(length(temps))\n",
    "\"\"\"\n",
    "\n",
    "open(\"./results/EM/mean_and_std_angles.csv\", \"w\") do io\n",
    "    write(io, metadata)\n",
    "    CSV.write(io, df; append=true, writeheader=true)\n",
    "end\n",
    "\n",
    "println(\"Results saved to mean_and_std_angles.csv\")"
   ]
  },
  {
   "cell_type": "code",
   "execution_count": null,
   "metadata": {},
   "outputs": [],
   "source": []
  }
 ],
 "metadata": {
  "kernelspec": {
   "display_name": "Julia 1.11 1.11.4",
   "language": "julia",
   "name": "julia-1.11-1.11"
  },
  "language_info": {
   "file_extension": ".jl",
   "mimetype": "application/julia",
   "name": "julia",
   "version": "1.11.4"
  }
 },
 "nbformat": 4,
 "nbformat_minor": 2
}
