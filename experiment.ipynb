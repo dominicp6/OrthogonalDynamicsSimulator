{
 "cells": [
  {
   "cell_type": "code",
   "execution_count": 1,
   "metadata": {},
   "outputs": [
    {
     "name": "stderr",
     "output_type": "stream",
     "text": [
      "\u001b[36m\u001b[1m[ \u001b[22m\u001b[39m\u001b[36m\u001b[1mInfo: \u001b[22m\u001b[39mPrecompiling ConstrainedDynamicsSimulator [c57ba902-cf0d-4687-8605-981b463e8666] (cache misses: include_dependency fsize change (4), incompatible header (10), mismatched flags (2))\n"
     ]
    }
   ],
   "source": [
    "using Revise\n",
    "using Molly\n",
    "using Unitful\n",
    "using ConstrainedDynamicsSimulator"
   ]
  },
  {
   "cell_type": "code",
   "execution_count": 6,
   "metadata": {},
   "outputs": [
    {
     "data": {
      "text/plain": [
       "ConstrainedDynamicsSimulator.CVConstrainedOverdampedLangevin{Quantity{Float64, 𝐓, Unitful.FreeUnits{(ps,), 𝐓, nothing}}, Quantity{Float64, 𝚯, Unitful.FreeUnits{(K,), 𝚯, nothing}}, Quantity{Float64, 𝐓⁻¹, Unitful.FreeUnits{(ps⁻¹,), 𝐓⁻¹, nothing}}, typeof(ConstrainedDynamicsSimulator.Dihedrals.φ_grid), typeof(ConstrainedDynamicsSimulator.Dihedrals.φ_flat)}(0.002 ps, 3.0 K, 5000.0 ps⁻¹, ConstrainedDynamicsSimulator.Dihedrals.φ_grid, ConstrainedDynamicsSimulator.Dihedrals.φ_flat, 1)"
      ]
     },
     "execution_count": 6,
     "metadata": {},
     "output_type": "execute_result"
    }
   ],
   "source": [
    "# TODO: might still need to worry about boundary issues\n",
    "ff_dir = joinpath(dirname(pathof(Molly)), \"..\", \"data\", \"force_fields\")\n",
    "ff = MolecularForceField(joinpath.(ff_dir, [\"ff99SBildn.xml\", \"tip3p_standard.xml\"])...)\n",
    "sys = System(\"dipeptide_nowater.pdb\", ff; rename_terminal_res=false)\n",
    "\n",
    "function phi_wrapper(sys, args...; kwargs...)\n",
    "    rad2deg(torsion_angle(sys.coords[5], sys.coords[7], sys.coords[9],\n",
    "                          sys.coords[15], sys.boundary))\n",
    "end\n",
    "\n",
    "function psi_wrapper(sys, args...; kwargs...)\n",
    "    rad2deg(torsion_angle(sys.coords[7], sys.coords[9], sys.coords[15],\n",
    "                          sys.coords[17], sys.boundary))\n",
    "end\n",
    "\n",
    "sys = System(\n",
    "    \"dipeptide_nowater.pdb\",\n",
    "    ff;\n",
    "    rename_terminal_res=false,\n",
    "    loggers=(\n",
    "        writer=StructureWriter(100, \"trajectory.pdb\"),\n",
    "        phi=GeneralObservableLogger(phi_wrapper, Float64, 100),\n",
    "        psi=GeneralObservableLogger(psi_wrapper, Float64, 100),\n",
    "    ),\n",
    "    implicit_solvent=\"gbn2\",\n",
    ")\n",
    "\n",
    "temp = 3.0u\"K\"\n",
    "timestep = 0.002u\"ps\"\n",
    "fric = 5000.0u\"ps^-1\"\n",
    "simulator = ConstrainedDynamicsSimulator.CVConstrainedOverdampedLangevin(dt=timestep, T=temp, γ=fric, φ_grid=ConstrainedDynamicsSimulator.Dihedrals.φ_grid, φ_flat=ConstrainedDynamicsSimulator.Dihedrals.φ_flat)"
   ]
  },
  {
   "cell_type": "code",
   "execution_count": 9,
   "metadata": {},
   "outputs": [
    {
     "data": {
      "text/plain": [
       "OverdampedLangevin{Quantity{Float64, 𝐓, Unitful.FreeUnits{(ps,), 𝐓, nothing}}, Quantity{Float64, 𝚯, Unitful.FreeUnits{(K,), 𝚯, nothing}}, Quantity{Float64, 𝐓⁻¹, Unitful.FreeUnits{(ps⁻¹,), 𝐓⁻¹, nothing}}}(0.002 ps, 4.0 K, 5000.0 ps⁻¹, 1)"
      ]
     },
     "execution_count": 9,
     "metadata": {},
     "output_type": "execute_result"
    }
   ],
   "source": [
    "simulator = OverdampedLangevin(\n",
    "    dt=timestep,\n",
    "    temperature=temp,\n",
    "    friction=fric,\n",
    ")"
   ]
  },
  {
   "cell_type": "code",
   "execution_count": null,
   "metadata": {},
   "outputs": [],
   "source": [
    "Molly.simulate!(sys, simulator, 100000)"
   ]
  },
  {
   "cell_type": "code",
   "execution_count": 7,
   "metadata": {},
   "outputs": [
    {
     "name": "stderr",
     "output_type": "stream",
     "text": [
      "\u001b[32mProgress: 100%|█████████████████████████████████████████| Time: 0:00:12\u001b[39m\n"
     ]
    },
    {
     "data": {
      "text/plain": [
       "System with 22 atoms, boundary CubicBoundary{Quantity{Float64, 𝐋, Unitful.FreeUnits{(nm,), 𝐋, nothing}}}(Quantity{Float64, 𝐋, Unitful.FreeUnits{(nm,), 𝐋, nothing}}[3.4224000000000006 nm, 3.9133000000000004 nm, 3.3010999999999995 nm])"
      ]
     },
     "execution_count": 7,
     "metadata": {},
     "output_type": "execute_result"
    }
   ],
   "source": [
    "ConstrainedDynamicsSimulator.PVD2!(sys, simulator, 10_000) # This will take a little while to run"
   ]
  },
  {
   "cell_type": "code",
   "execution_count": null,
   "metadata": {},
   "outputs": [],
   "source": [
    "# TODO: We need to investigate how multiprocessing works with Zigote and ForwardDIff in Julia"
   ]
  },
  {
   "cell_type": "code",
   "execution_count": 8,
   "metadata": {},
   "outputs": [
    {
     "data": {
      "text/plain": [
       "101-element Vector{Float64}:\n",
       " 160.7338408636881\n",
       " 163.58845656086777\n",
       " 164.21487536755663\n",
       " 164.58395050224885\n",
       " 163.90783966146068\n",
       " 164.0001400434573\n",
       " 164.56195595589517\n",
       " 165.36181726192177\n",
       " 165.7145439357834\n",
       " 165.04949896393924\n",
       " 164.80283955447425\n",
       " 164.78674956907872\n",
       " 165.21248032877648\n",
       "   ⋮\n",
       " 160.70855261177007\n",
       " 161.25857184298508\n",
       " 161.5385459872821\n",
       " 160.31213567269805\n",
       " 161.39346183385067\n",
       " 161.61506911817622\n",
       " 161.30430449697482\n",
       " 161.84119045032486\n",
       " 162.3999953051447\n",
       " 161.24776214028782\n",
       " 162.46211894429575\n",
       " 162.3205464540547"
      ]
     },
     "execution_count": 8,
     "metadata": {},
     "output_type": "execute_result"
    }
   ],
   "source": [
    "phi_values = values(sys.loggers.phi)\n",
    "psi_values = values(sys.loggers.psi)"
   ]
  },
  {
   "cell_type": "code",
   "execution_count": 9,
   "metadata": {},
   "outputs": [
    {
     "data": {
      "image/png": "[encoded data removed]",
      "image/svg+xml": [
       "<?xml version=\"1.0\" encoding=\"utf-8\"?>\n",
       "<svg xmlns=\"http://www.w3.org/2000/svg\" xmlns:xlink=\"http://www.w3.org/1999/xlink\" width=\"600\" height=\"400\" viewBox=\"0 0 2400 1600\">\n",
       "<defs>\n",
       "  <clipPath id=\"clip900\">\n",
       "    <rect x=\"0\" y=\"0\" width=\"2400\" height=\"1600\"/>\n",
       "  </clipPath>\n",
       "</defs>\n",
       "<path clip-path=\"url(#clip900)\" d=\"M0 1600 L2400 1600 L2400 0 L0 0  Z\" fill=\"#ffffff\" fill-rule=\"evenodd\" fill-opacity=\"1\"/>\n",
       "<defs>\n",
       "  <clipPath id=\"clip901\">\n",
       "    <rect x=\"480\" y=\"0\" width=\"1681\" height=\"1600\"/>\n",
       "  </clipPath>\n",
       "</defs>\n",
       "<path clip-path=\"url(#clip900)\" d=\"M209.029 1486.45 L2352.76 1486.45 L2352.76 47.2441 L209.029 47.2441  Z\" fill=\"#ffffff\" fill-rule=\"evenodd\" fill-opacity=\"1\"/>\n",
       "<defs>\n",
       "  <clipPath id=\"clip902\">\n",
       "    <rect x=\"209\" y=\"47\" width=\"2145\" height=\"1440\"/>\n",
       "  </clipPath>\n",
       "</defs>\n",
       "<polyline clip-path=\"url(#clip902)\" style=\"stroke:#000000; stroke-linecap:round; stroke-linejoin:round; stroke-width:2; stroke-opacity:0.1; fill:none\" points=\"249.476,1486.45 249.476,47.2441 \"/>\n",
       "<polyline clip-path=\"url(#clip902)\" style=\"stroke:#000000; stroke-linecap:round; stroke-linejoin:round; stroke-width:2; stroke-opacity:0.1; fill:none\" points=\"755.072,1486.45 755.072,47.2441 \"/>\n",
       "<polyline clip-path=\"url(#clip902)\" style=\"stroke:#000000; stroke-linecap:round; stroke-linejoin:round; stroke-width:2; stroke-opacity:0.1; fill:none\" points=\"1260.67,1486.45 1260.67,47.2441 \"/>\n",
       "<polyline clip-path=\"url(#clip902)\" style=\"stroke:#000000; stroke-linecap:round; stroke-linejoin:round; stroke-width:2; stroke-opacity:0.1; fill:none\" points=\"1766.26,1486.45 1766.26,47.2441 \"/>\n",
       "<polyline clip-path=\"url(#clip902)\" style=\"stroke:#000000; stroke-linecap:round; stroke-linejoin:round; stroke-width:2; stroke-opacity:0.1; fill:none\" points=\"2271.86,1486.45 2271.86,47.2441 \"/>\n",
       "<polyline clip-path=\"url(#clip902)\" style=\"stroke:#000000; stroke-linecap:round; stroke-linejoin:round; stroke-width:2; stroke-opacity:0.1; fill:none\" points=\"209.029,1402.58 2352.76,1402.58 \"/>\n",
       "<polyline clip-path=\"url(#clip902)\" style=\"stroke:#000000; stroke-linecap:round; stroke-linejoin:round; stroke-width:2; stroke-opacity:0.1; fill:none\" points=\"209.029,1194.39 2352.76,1194.39 \"/>\n",
       "<polyline clip-path=\"url(#clip902)\" style=\"stroke:#000000; stroke-linecap:round; stroke-linejoin:round; stroke-width:2; stroke-opacity:0.1; fill:none\" points=\"209.029,986.193 2352.76,986.193 \"/>\n",
       "<polyline clip-path=\"url(#clip902)\" style=\"stroke:#000000; stroke-linecap:round; stroke-linejoin:round; stroke-width:2; stroke-opacity:0.1; fill:none\" points=\"209.029,777.997 2352.76,777.997 \"/>\n",
       "<polyline clip-path=\"url(#clip902)\" style=\"stroke:#000000; stroke-linecap:round; stroke-linejoin:round; stroke-width:2; stroke-opacity:0.1; fill:none\" points=\"209.029,569.801 2352.76,569.801 \"/>\n",
       "<polyline clip-path=\"url(#clip902)\" style=\"stroke:#000000; stroke-linecap:round; stroke-linejoin:round; stroke-width:2; stroke-opacity:0.1; fill:none\" points=\"209.029,361.606 2352.76,361.606 \"/>\n",
       "<polyline clip-path=\"url(#clip902)\" style=\"stroke:#000000; stroke-linecap:round; stroke-linejoin:round; stroke-width:2; stroke-opacity:0.1; fill:none\" points=\"209.029,153.41 2352.76,153.41 \"/>\n",
       "<polyline clip-path=\"url(#clip900)\" style=\"stroke:#000000; stroke-linecap:round; stroke-linejoin:round; stroke-width:4; stroke-opacity:1; fill:none\" points=\"209.029,1486.45 2352.76,1486.45 \"/>\n",
       "<polyline clip-path=\"url(#clip900)\" style=\"stroke:#000000; stroke-linecap:round; stroke-linejoin:round; stroke-width:4; stroke-opacity:1; fill:none\" points=\"249.476,1486.45 249.476,1467.55 \"/>\n",
       "<polyline clip-path=\"url(#clip900)\" style=\"stroke:#000000; stroke-linecap:round; stroke-linejoin:round; stroke-width:4; stroke-opacity:1; fill:none\" points=\"755.072,1486.45 755.072,1467.55 \"/>\n",
       "<polyline clip-path=\"url(#clip900)\" style=\"stroke:#000000; stroke-linecap:round; stroke-linejoin:round; stroke-width:4; stroke-opacity:1; fill:none\" points=\"1260.67,1486.45 1260.67,1467.55 \"/>\n",
       "<polyline clip-path=\"url(#clip900)\" style=\"stroke:#000000; stroke-linecap:round; stroke-linejoin:round; stroke-width:4; stroke-opacity:1; fill:none\" points=\"1766.26,1486.45 1766.26,1467.55 \"/>\n",
       "<polyline clip-path=\"url(#clip900)\" style=\"stroke:#000000; stroke-linecap:round; stroke-linejoin:round; stroke-width:4; stroke-opacity:1; fill:none\" points=\"2271.86,1486.45 2271.86,1467.55 \"/>\n",
       "<path clip-path=\"url(#clip900)\" d=\"M249.476 1517.37 Q245.865 1517.37 244.036 1520.93 Q242.231 1524.47 242.231 1531.6 Q242.231 1538.71 244.036 1542.27 Q245.865 1545.82 249.476 1545.82 Q253.11 1545.82 254.916 1542.27 Q256.745 1538.71 256.745 1531.6 Q256.745 1524.47 254.916 1520.93 Q253.11 1517.37 249.476 1517.37 M249.476 1513.66 Q255.286 1513.66 258.342 1518.27 Q261.421 1522.85 261.421 1531.6 Q261.421 1540.33 258.342 1544.94 Q255.286 1549.52 249.476 1549.52 Q243.666 1549.52 240.587 1544.94 Q237.532 1540.33 237.532 1531.6 Q237.532 1522.85 240.587 1518.27 Q243.666 1513.66 249.476 1513.66 Z\" fill=\"#000000\" fill-rule=\"nonzero\" fill-opacity=\"1\" /><path clip-path=\"url(#clip900)\" d=\"M734.343 1544.91 L750.663 1544.91 L750.663 1548.85 L728.718 1548.85 L728.718 1544.91 Q731.38 1542.16 735.964 1537.53 Q740.57 1532.88 741.751 1531.53 Q743.996 1529.01 744.876 1527.27 Q745.778 1525.51 745.778 1523.82 Q745.778 1521.07 743.834 1519.33 Q741.913 1517.6 738.811 1517.6 Q736.612 1517.6 734.158 1518.36 Q731.727 1519.13 728.95 1520.68 L728.95 1515.95 Q731.774 1514.82 734.227 1514.24 Q736.681 1513.66 738.718 1513.66 Q744.089 1513.66 747.283 1516.35 Q750.477 1519.03 750.477 1523.52 Q750.477 1525.65 749.667 1527.57 Q748.88 1529.47 746.774 1532.07 Q746.195 1532.74 743.093 1535.95 Q739.991 1539.15 734.343 1544.91 Z\" fill=\"#000000\" fill-rule=\"nonzero\" fill-opacity=\"1\" /><path clip-path=\"url(#clip900)\" d=\"M760.524 1514.29 L778.88 1514.29 L778.88 1518.22 L764.806 1518.22 L764.806 1526.7 Q765.825 1526.35 766.843 1526.19 Q767.862 1526 768.88 1526 Q774.667 1526 778.047 1529.17 Q781.426 1532.34 781.426 1537.76 Q781.426 1543.34 777.954 1546.44 Q774.482 1549.52 768.162 1549.52 Q765.987 1549.52 763.718 1549.15 Q761.473 1548.78 759.065 1548.04 L759.065 1543.34 Q761.149 1544.47 763.371 1545.03 Q765.593 1545.58 768.07 1545.58 Q772.075 1545.58 774.412 1543.48 Q776.75 1541.37 776.75 1537.76 Q776.75 1534.15 774.412 1532.04 Q772.075 1529.94 768.07 1529.94 Q766.195 1529.94 764.32 1530.35 Q762.468 1530.77 760.524 1531.65 L760.524 1514.29 Z\" fill=\"#000000\" fill-rule=\"nonzero\" fill-opacity=\"1\" /><path clip-path=\"url(#clip900)\" d=\"M1235.37 1514.29 L1253.72 1514.29 L1253.72 1518.22 L1239.65 1518.22 L1239.65 1526.7 Q1240.67 1526.35 1241.69 1526.19 Q1242.71 1526 1243.72 1526 Q1249.51 1526 1252.89 1529.17 Q1256.27 1532.34 1256.27 1537.76 Q1256.27 1543.34 1252.8 1546.44 Q1249.33 1549.52 1243.01 1549.52 Q1240.83 1549.52 1238.56 1549.15 Q1236.32 1548.78 1233.91 1548.04 L1233.91 1543.34 Q1235.99 1544.47 1238.21 1545.03 Q1240.44 1545.58 1242.91 1545.58 Q1246.92 1545.58 1249.26 1543.48 Q1251.59 1541.37 1251.59 1537.76 Q1251.59 1534.15 1249.26 1532.04 Q1246.92 1529.94 1242.91 1529.94 Q1241.04 1529.94 1239.16 1530.35 Q1237.31 1530.77 1235.37 1531.65 L1235.37 1514.29 Z\" fill=\"#000000\" fill-rule=\"nonzero\" fill-opacity=\"1\" /><path clip-path=\"url(#clip900)\" d=\"M1275.48 1517.37 Q1271.87 1517.37 1270.04 1520.93 Q1268.24 1524.47 1268.24 1531.6 Q1268.24 1538.71 1270.04 1542.27 Q1271.87 1545.82 1275.48 1545.82 Q1279.12 1545.82 1280.92 1542.27 Q1282.75 1538.71 1282.75 1531.6 Q1282.75 1524.47 1280.92 1520.93 Q1279.12 1517.37 1275.48 1517.37 M1275.48 1513.66 Q1281.29 1513.66 1284.35 1518.27 Q1287.43 1522.85 1287.43 1531.6 Q1287.43 1540.33 1284.35 1544.94 Q1281.29 1549.52 1275.48 1549.52 Q1269.67 1549.52 1266.59 1544.94 Q1263.54 1540.33 1263.54 1531.6 Q1263.54 1522.85 1266.59 1518.27 Q1269.67 1513.66 1275.48 1513.66 Z\" fill=\"#000000\" fill-rule=\"nonzero\" fill-opacity=\"1\" /><path clip-path=\"url(#clip900)\" d=\"M1740.12 1514.29 L1762.34 1514.29 L1762.34 1516.28 L1749.79 1548.85 L1744.91 1548.85 L1756.72 1518.22 L1740.12 1518.22 L1740.12 1514.29 Z\" fill=\"#000000\" fill-rule=\"nonzero\" fill-opacity=\"1\" /><path clip-path=\"url(#clip900)\" d=\"M1771.51 1514.29 L1789.86 1514.29 L1789.86 1518.22 L1775.79 1518.22 L1775.79 1526.7 Q1776.81 1526.35 1777.83 1526.19 Q1778.85 1526 1779.86 1526 Q1785.65 1526 1789.03 1529.17 Q1792.41 1532.34 1792.41 1537.76 Q1792.41 1543.34 1788.94 1546.44 Q1785.47 1549.52 1779.15 1549.52 Q1776.97 1549.52 1774.7 1549.15 Q1772.46 1548.78 1770.05 1548.04 L1770.05 1543.34 Q1772.13 1544.47 1774.35 1545.03 Q1776.58 1545.58 1779.05 1545.58 Q1783.06 1545.58 1785.4 1543.48 Q1787.73 1541.37 1787.73 1537.76 Q1787.73 1534.15 1785.4 1532.04 Q1783.06 1529.94 1779.05 1529.94 Q1777.18 1529.94 1775.3 1530.35 Q1773.45 1530.77 1771.51 1531.65 L1771.51 1514.29 Z\" fill=\"#000000\" fill-rule=\"nonzero\" fill-opacity=\"1\" /><path clip-path=\"url(#clip900)\" d=\"M2231.47 1544.91 L2239.11 1544.91 L2239.11 1518.55 L2230.8 1520.21 L2230.8 1515.95 L2239.06 1514.29 L2243.74 1514.29 L2243.74 1544.91 L2251.37 1544.91 L2251.37 1548.85 L2231.47 1548.85 L2231.47 1544.91 Z\" fill=\"#000000\" fill-rule=\"nonzero\" fill-opacity=\"1\" /><path clip-path=\"url(#clip900)\" d=\"M2270.82 1517.37 Q2267.21 1517.37 2265.38 1520.93 Q2263.57 1524.47 2263.57 1531.6 Q2263.57 1538.71 2265.38 1542.27 Q2267.21 1545.82 2270.82 1545.82 Q2274.45 1545.82 2276.26 1542.27 Q2278.09 1538.71 2278.09 1531.6 Q2278.09 1524.47 2276.26 1520.93 Q2274.45 1517.37 2270.82 1517.37 M2270.82 1513.66 Q2276.63 1513.66 2279.68 1518.27 Q2282.76 1522.85 2282.76 1531.6 Q2282.76 1540.33 2279.68 1544.94 Q2276.63 1549.52 2270.82 1549.52 Q2265.01 1549.52 2261.93 1544.94 Q2258.87 1540.33 2258.87 1531.6 Q2258.87 1522.85 2261.93 1518.27 Q2265.01 1513.66 2270.82 1513.66 Z\" fill=\"#000000\" fill-rule=\"nonzero\" fill-opacity=\"1\" /><path clip-path=\"url(#clip900)\" d=\"M2300.98 1517.37 Q2297.37 1517.37 2295.54 1520.93 Q2293.74 1524.47 2293.74 1531.6 Q2293.74 1538.71 2295.54 1542.27 Q2297.37 1545.82 2300.98 1545.82 Q2304.61 1545.82 2306.42 1542.27 Q2308.25 1538.71 2308.25 1531.6 Q2308.25 1524.47 2306.42 1520.93 Q2304.61 1517.37 2300.98 1517.37 M2300.98 1513.66 Q2306.79 1513.66 2309.85 1518.27 Q2312.93 1522.85 2312.93 1531.6 Q2312.93 1540.33 2309.85 1544.94 Q2306.79 1549.52 2300.98 1549.52 Q2295.17 1549.52 2292.09 1544.94 Q2289.04 1540.33 2289.04 1531.6 Q2289.04 1522.85 2292.09 1518.27 Q2295.17 1513.66 2300.98 1513.66 Z\" fill=\"#000000\" fill-rule=\"nonzero\" fill-opacity=\"1\" /><polyline clip-path=\"url(#clip900)\" style=\"stroke:#000000; stroke-linecap:round; stroke-linejoin:round; stroke-width:4; stroke-opacity:1; fill:none\" points=\"209.029,1486.45 209.029,47.2441 \"/>\n",
       "<polyline clip-path=\"url(#clip900)\" style=\"stroke:#000000; stroke-linecap:round; stroke-linejoin:round; stroke-width:4; stroke-opacity:1; fill:none\" points=\"209.029,1402.58 227.926,1402.58 \"/>\n",
       "<polyline clip-path=\"url(#clip900)\" style=\"stroke:#000000; stroke-linecap:round; stroke-linejoin:round; stroke-width:4; stroke-opacity:1; fill:none\" points=\"209.029,1194.39 227.926,1194.39 \"/>\n",
       "<polyline clip-path=\"url(#clip900)\" style=\"stroke:#000000; stroke-linecap:round; stroke-linejoin:round; stroke-width:4; stroke-opacity:1; fill:none\" points=\"209.029,986.193 227.926,986.193 \"/>\n",
       "<polyline clip-path=\"url(#clip900)\" style=\"stroke:#000000; stroke-linecap:round; stroke-linejoin:round; stroke-width:4; stroke-opacity:1; fill:none\" points=\"209.029,777.997 227.926,777.997 \"/>\n",
       "<polyline clip-path=\"url(#clip900)\" style=\"stroke:#000000; stroke-linecap:round; stroke-linejoin:round; stroke-width:4; stroke-opacity:1; fill:none\" points=\"209.029,569.801 227.926,569.801 \"/>\n",
       "<polyline clip-path=\"url(#clip900)\" style=\"stroke:#000000; stroke-linecap:round; stroke-linejoin:round; stroke-width:4; stroke-opacity:1; fill:none\" points=\"209.029,361.606 227.926,361.606 \"/>\n",
       "<polyline clip-path=\"url(#clip900)\" style=\"stroke:#000000; stroke-linecap:round; stroke-linejoin:round; stroke-width:4; stroke-opacity:1; fill:none\" points=\"209.029,153.41 227.926,153.41 \"/>\n",
       "<path clip-path=\"url(#clip900)\" d=\"M50.9921 1403.04 L80.6679 1403.04 L80.6679 1406.97 L50.9921 1406.97 L50.9921 1403.04 Z\" fill=\"#000000\" fill-rule=\"nonzero\" fill-opacity=\"1\" /><path clip-path=\"url(#clip900)\" d=\"M91.5706 1415.93 L99.2095 1415.93 L99.2095 1389.56 L90.8993 1391.23 L90.8993 1386.97 L99.1632 1385.3 L103.839 1385.3 L103.839 1415.93 L111.478 1415.93 L111.478 1419.86 L91.5706 1419.86 L91.5706 1415.93 Z\" fill=\"#000000\" fill-rule=\"nonzero\" fill-opacity=\"1\" /><path clip-path=\"url(#clip900)\" d=\"M120.969 1385.3 L139.325 1385.3 L139.325 1389.24 L125.251 1389.24 L125.251 1397.71 Q126.27 1397.36 127.288 1397.2 Q128.307 1397.02 129.325 1397.02 Q135.112 1397.02 138.492 1400.19 Q141.871 1403.36 141.871 1408.78 Q141.871 1414.35 138.399 1417.46 Q134.927 1420.54 128.607 1420.54 Q126.432 1420.54 124.163 1420.16 Q121.918 1419.79 119.51 1419.05 L119.51 1414.35 Q121.594 1415.49 123.816 1416.04 Q126.038 1416.6 128.515 1416.6 Q132.519 1416.6 134.857 1414.49 Q137.195 1412.39 137.195 1408.78 Q137.195 1405.16 134.857 1403.06 Q132.519 1400.95 128.515 1400.95 Q126.64 1400.95 124.765 1401.37 Q122.913 1401.79 120.969 1402.66 L120.969 1385.3 Z\" fill=\"#000000\" fill-rule=\"nonzero\" fill-opacity=\"1\" /><path clip-path=\"url(#clip900)\" d=\"M161.084 1388.38 Q157.473 1388.38 155.644 1391.95 Q153.839 1395.49 153.839 1402.62 Q153.839 1409.72 155.644 1413.29 Q157.473 1416.83 161.084 1416.83 Q164.718 1416.83 166.524 1413.29 Q168.353 1409.72 168.353 1402.62 Q168.353 1395.49 166.524 1391.95 Q164.718 1388.38 161.084 1388.38 M161.084 1384.68 Q166.894 1384.68 169.95 1389.29 Q173.029 1393.87 173.029 1402.62 Q173.029 1411.35 169.95 1415.95 Q166.894 1420.54 161.084 1420.54 Q155.274 1420.54 152.195 1415.95 Q149.14 1411.35 149.14 1402.62 Q149.14 1393.87 152.195 1389.29 Q155.274 1384.68 161.084 1384.68 Z\" fill=\"#000000\" fill-rule=\"nonzero\" fill-opacity=\"1\" /><path clip-path=\"url(#clip900)\" d=\"M50.9921 1194.84 L80.6679 1194.84 L80.6679 1198.77 L50.9921 1198.77 L50.9921 1194.84 Z\" fill=\"#000000\" fill-rule=\"nonzero\" fill-opacity=\"1\" /><path clip-path=\"url(#clip900)\" d=\"M91.5706 1207.73 L99.2095 1207.73 L99.2095 1181.37 L90.8993 1183.03 L90.8993 1178.77 L99.1632 1177.11 L103.839 1177.11 L103.839 1207.73 L111.478 1207.73 L111.478 1211.67 L91.5706 1211.67 L91.5706 1207.73 Z\" fill=\"#000000\" fill-rule=\"nonzero\" fill-opacity=\"1\" /><path clip-path=\"url(#clip900)\" d=\"M130.922 1180.19 Q127.311 1180.19 125.482 1183.75 Q123.677 1187.29 123.677 1194.42 Q123.677 1201.53 125.482 1205.09 Q127.311 1208.64 130.922 1208.64 Q134.556 1208.64 136.362 1205.09 Q138.191 1201.53 138.191 1194.42 Q138.191 1187.29 136.362 1183.75 Q134.556 1180.19 130.922 1180.19 M130.922 1176.48 Q136.732 1176.48 139.788 1181.09 Q142.867 1185.67 142.867 1194.42 Q142.867 1203.15 139.788 1207.76 Q136.732 1212.34 130.922 1212.34 Q125.112 1212.34 122.033 1207.76 Q118.978 1203.15 118.978 1194.42 Q118.978 1185.67 122.033 1181.09 Q125.112 1176.48 130.922 1176.48 Z\" fill=\"#000000\" fill-rule=\"nonzero\" fill-opacity=\"1\" /><path clip-path=\"url(#clip900)\" d=\"M161.084 1180.19 Q157.473 1180.19 155.644 1183.75 Q153.839 1187.29 153.839 1194.42 Q153.839 1201.53 155.644 1205.09 Q157.473 1208.64 161.084 1208.64 Q164.718 1208.64 166.524 1205.09 Q168.353 1201.53 168.353 1194.42 Q168.353 1187.29 166.524 1183.75 Q164.718 1180.19 161.084 1180.19 M161.084 1176.48 Q166.894 1176.48 169.95 1181.09 Q173.029 1185.67 173.029 1194.42 Q173.029 1203.15 169.95 1207.76 Q166.894 1212.34 161.084 1212.34 Q155.274 1212.34 152.195 1207.76 Q149.14 1203.15 149.14 1194.42 Q149.14 1185.67 152.195 1181.09 Q155.274 1176.48 161.084 1176.48 Z\" fill=\"#000000\" fill-rule=\"nonzero\" fill-opacity=\"1\" /><path clip-path=\"url(#clip900)\" d=\"M81.154 986.644 L110.83 986.644 L110.83 990.579 L81.154 990.579 L81.154 986.644 Z\" fill=\"#000000\" fill-rule=\"nonzero\" fill-opacity=\"1\" /><path clip-path=\"url(#clip900)\" d=\"M120.969 968.913 L139.325 968.913 L139.325 972.848 L125.251 972.848 L125.251 981.32 Q126.27 980.973 127.288 980.811 Q128.307 980.626 129.325 980.626 Q135.112 980.626 138.492 983.797 Q141.871 986.968 141.871 992.385 Q141.871 997.963 138.399 1001.07 Q134.927 1004.14 128.607 1004.14 Q126.432 1004.14 124.163 1003.77 Q121.918 1003.4 119.51 1002.66 L119.51 997.963 Q121.594 999.098 123.816 999.653 Q126.038 1000.21 128.515 1000.21 Q132.519 1000.21 134.857 998.102 Q137.195 995.996 137.195 992.385 Q137.195 988.774 134.857 986.667 Q132.519 984.561 128.515 984.561 Q126.64 984.561 124.765 984.977 Q122.913 985.394 120.969 986.274 L120.969 968.913 Z\" fill=\"#000000\" fill-rule=\"nonzero\" fill-opacity=\"1\" /><path clip-path=\"url(#clip900)\" d=\"M161.084 971.991 Q157.473 971.991 155.644 975.556 Q153.839 979.098 153.839 986.227 Q153.839 993.334 155.644 996.899 Q157.473 1000.44 161.084 1000.44 Q164.718 1000.44 166.524 996.899 Q168.353 993.334 168.353 986.227 Q168.353 979.098 166.524 975.556 Q164.718 971.991 161.084 971.991 M161.084 968.288 Q166.894 968.288 169.95 972.894 Q173.029 977.477 173.029 986.227 Q173.029 994.954 169.95 999.561 Q166.894 1004.14 161.084 1004.14 Q155.274 1004.14 152.195 999.561 Q149.14 994.954 149.14 986.227 Q149.14 977.477 152.195 972.894 Q155.274 968.288 161.084 968.288 Z\" fill=\"#000000\" fill-rule=\"nonzero\" fill-opacity=\"1\" /><path clip-path=\"url(#clip900)\" d=\"M161.084 763.796 Q157.473 763.796 155.644 767.36 Q153.839 770.902 153.839 778.032 Q153.839 785.138 155.644 788.703 Q157.473 792.245 161.084 792.245 Q164.718 792.245 166.524 788.703 Q168.353 785.138 168.353 778.032 Q168.353 770.902 166.524 767.36 Q164.718 763.796 161.084 763.796 M161.084 760.092 Q166.894 760.092 169.95 764.698 Q173.029 769.282 173.029 778.032 Q173.029 786.759 169.95 791.365 Q166.894 795.948 161.084 795.948 Q155.274 795.948 152.195 791.365 Q149.14 786.759 149.14 778.032 Q149.14 769.282 152.195 764.698 Q155.274 760.092 161.084 760.092 Z\" fill=\"#000000\" fill-rule=\"nonzero\" fill-opacity=\"1\" /><path clip-path=\"url(#clip900)\" d=\"M120.969 552.521 L139.325 552.521 L139.325 556.457 L125.251 556.457 L125.251 564.929 Q126.27 564.582 127.288 564.42 Q128.307 564.234 129.325 564.234 Q135.112 564.234 138.492 567.406 Q141.871 570.577 141.871 575.994 Q141.871 581.572 138.399 584.674 Q134.927 587.753 128.607 587.753 Q126.432 587.753 124.163 587.382 Q121.918 587.012 119.51 586.271 L119.51 581.572 Q121.594 582.706 123.816 583.262 Q126.038 583.818 128.515 583.818 Q132.519 583.818 134.857 581.711 Q137.195 579.605 137.195 575.994 Q137.195 572.382 134.857 570.276 Q132.519 568.169 128.515 568.169 Q126.64 568.169 124.765 568.586 Q122.913 569.003 120.969 569.882 L120.969 552.521 Z\" fill=\"#000000\" fill-rule=\"nonzero\" fill-opacity=\"1\" /><path clip-path=\"url(#clip900)\" d=\"M161.084 555.6 Q157.473 555.6 155.644 559.165 Q153.839 562.707 153.839 569.836 Q153.839 576.943 155.644 580.507 Q157.473 584.049 161.084 584.049 Q164.718 584.049 166.524 580.507 Q168.353 576.943 168.353 569.836 Q168.353 562.707 166.524 559.165 Q164.718 555.6 161.084 555.6 M161.084 551.896 Q166.894 551.896 169.95 556.503 Q173.029 561.086 173.029 569.836 Q173.029 578.563 169.95 583.169 Q166.894 587.753 161.084 587.753 Q155.274 587.753 152.195 583.169 Q149.14 578.563 149.14 569.836 Q149.14 561.086 152.195 556.503 Q155.274 551.896 161.084 551.896 Z\" fill=\"#000000\" fill-rule=\"nonzero\" fill-opacity=\"1\" /><path clip-path=\"url(#clip900)\" d=\"M91.5706 374.951 L99.2095 374.951 L99.2095 348.585 L90.8993 350.252 L90.8993 345.992 L99.1632 344.326 L103.839 344.326 L103.839 374.951 L111.478 374.951 L111.478 378.886 L91.5706 378.886 L91.5706 374.951 Z\" fill=\"#000000\" fill-rule=\"nonzero\" fill-opacity=\"1\" /><path clip-path=\"url(#clip900)\" d=\"M130.922 347.405 Q127.311 347.405 125.482 350.969 Q123.677 354.511 123.677 361.641 Q123.677 368.747 125.482 372.312 Q127.311 375.853 130.922 375.853 Q134.556 375.853 136.362 372.312 Q138.191 368.747 138.191 361.641 Q138.191 354.511 136.362 350.969 Q134.556 347.405 130.922 347.405 M130.922 343.701 Q136.732 343.701 139.788 348.307 Q142.867 352.891 142.867 361.641 Q142.867 370.367 139.788 374.974 Q136.732 379.557 130.922 379.557 Q125.112 379.557 122.033 374.974 Q118.978 370.367 118.978 361.641 Q118.978 352.891 122.033 348.307 Q125.112 343.701 130.922 343.701 Z\" fill=\"#000000\" fill-rule=\"nonzero\" fill-opacity=\"1\" /><path clip-path=\"url(#clip900)\" d=\"M161.084 347.405 Q157.473 347.405 155.644 350.969 Q153.839 354.511 153.839 361.641 Q153.839 368.747 155.644 372.312 Q157.473 375.853 161.084 375.853 Q164.718 375.853 166.524 372.312 Q168.353 368.747 168.353 361.641 Q168.353 354.511 166.524 350.969 Q164.718 347.405 161.084 347.405 M161.084 343.701 Q166.894 343.701 169.95 348.307 Q173.029 352.891 173.029 361.641 Q173.029 370.367 169.95 374.974 Q166.894 379.557 161.084 379.557 Q155.274 379.557 152.195 374.974 Q149.14 370.367 149.14 361.641 Q149.14 352.891 152.195 348.307 Q155.274 343.701 161.084 343.701 Z\" fill=\"#000000\" fill-rule=\"nonzero\" fill-opacity=\"1\" /><path clip-path=\"url(#clip900)\" d=\"M91.5706 166.755 L99.2095 166.755 L99.2095 140.389 L90.8993 142.056 L90.8993 137.797 L99.1632 136.13 L103.839 136.13 L103.839 166.755 L111.478 166.755 L111.478 170.69 L91.5706 170.69 L91.5706 166.755 Z\" fill=\"#000000\" fill-rule=\"nonzero\" fill-opacity=\"1\" /><path clip-path=\"url(#clip900)\" d=\"M120.969 136.13 L139.325 136.13 L139.325 140.065 L125.251 140.065 L125.251 148.538 Q126.27 148.19 127.288 148.028 Q128.307 147.843 129.325 147.843 Q135.112 147.843 138.492 151.014 Q141.871 154.186 141.871 159.602 Q141.871 165.181 138.399 168.283 Q134.927 171.362 128.607 171.362 Q126.432 171.362 124.163 170.991 Q121.918 170.621 119.51 169.88 L119.51 165.181 Q121.594 166.315 123.816 166.871 Q126.038 167.426 128.515 167.426 Q132.519 167.426 134.857 165.32 Q137.195 163.213 137.195 159.602 Q137.195 155.991 134.857 153.885 Q132.519 151.778 128.515 151.778 Q126.64 151.778 124.765 152.195 Q122.913 152.612 120.969 153.491 L120.969 136.13 Z\" fill=\"#000000\" fill-rule=\"nonzero\" fill-opacity=\"1\" /><path clip-path=\"url(#clip900)\" d=\"M161.084 139.209 Q157.473 139.209 155.644 142.774 Q153.839 146.315 153.839 153.445 Q153.839 160.551 155.644 164.116 Q157.473 167.658 161.084 167.658 Q164.718 167.658 166.524 164.116 Q168.353 160.551 168.353 153.445 Q168.353 146.315 166.524 142.774 Q164.718 139.209 161.084 139.209 M161.084 135.505 Q166.894 135.505 169.95 140.112 Q173.029 144.695 173.029 153.445 Q173.029 162.172 169.95 166.778 Q166.894 171.362 161.084 171.362 Q155.274 171.362 152.195 166.778 Q149.14 162.172 149.14 153.445 Q149.14 144.695 152.195 140.112 Q155.274 135.505 161.084 135.505 Z\" fill=\"#000000\" fill-rule=\"nonzero\" fill-opacity=\"1\" /><polyline clip-path=\"url(#clip902)\" style=\"stroke:#009af9; stroke-linecap:round; stroke-linejoin:round; stroke-width:4; stroke-opacity:1; fill:none\" points=\"269.7,1445.57 289.924,1445.65 310.148,1445.66 330.372,1445.66 350.595,1445.66 370.819,1445.66 391.043,1445.66 411.267,1445.66 431.491,1445.66 451.715,1445.66 471.938,1445.66 492.162,1445.66 512.386,1445.66 532.61,1445.66 552.834,1445.66 573.058,1445.66 593.282,1445.66 613.505,1445.66 633.729,1445.66 653.953,1445.66 674.177,1445.66 694.401,1445.66 714.625,1445.65 734.848,1445.65 755.072,1445.65 775.296,1445.66 795.52,1445.66 815.744,1445.66 835.968,1445.66 856.191,1445.66 876.415,1445.66 896.639,1445.67 916.863,1445.66 937.087,1445.66 957.311,1445.67 977.535,1445.67 997.758,1445.68 1017.98,1445.68 1038.21,1445.68 1058.43,1445.68 1078.65,1445.68 1098.88,1445.69 1119.1,1445.68 1139.33,1445.69 1159.55,1445.69 1179.77,1445.69 1200,1445.69 1220.22,1445.69 1240.44,1445.69 1260.67,1445.69 1280.89,1445.69 1301.12,1445.69 1321.34,1445.69 1341.56,1445.69 1361.79,1445.69 1382.01,1445.69 1402.24,1445.7 1422.46,1445.7 1442.68,1445.7 1462.91,1445.69 1483.13,1445.7 1503.35,1445.69 1523.58,1445.69 1543.8,1445.69 1564.03,1445.69 1584.25,1445.68 1604.47,1445.69 1624.7,1445.69 1644.92,1445.7 1665.15,1445.7 1685.37,1445.7 1705.59,1445.7 1725.82,1445.7 1746.04,1445.7 1766.26,1445.7 1786.49,1445.7 1806.71,1445.7 1826.94,1445.7 1847.16,1445.71 1867.38,1445.7 1887.61,1445.7 1907.83,1445.7 1928.06,1445.7 1948.28,1445.7 1968.5,1445.7 1988.73,1445.7 2008.95,1445.7 2029.17,1445.71 2049.4,1445.71 2069.62,1445.71 2089.85,1445.71 2110.07,1445.71 2130.29,1445.71 2150.52,1445.71 2170.74,1445.71 2190.97,1445.71 2211.19,1445.72 2231.41,1445.71 2251.64,1445.71 2271.86,1445.72 2292.08,1445.71 \"/>\n",
       "<polyline clip-path=\"url(#clip902)\" style=\"stroke:#e26f46; stroke-linecap:round; stroke-linejoin:round; stroke-width:4; stroke-opacity:1; fill:none\" points=\"269.7,108.715 289.924,96.8291 310.148,94.2208 330.372,92.684 350.595,95.4992 370.819,95.1149 391.043,92.7756 411.267,89.445 431.491,87.9763 451.715,90.7455 471.938,91.7725 492.162,91.8395 512.386,90.0668 532.61,91.9265 552.834,90.8082 573.058,90.4813 593.282,93.9285 613.505,92.6499 633.729,93.1483 653.953,90.1679 674.177,91.2999 694.401,94.7336 714.625,93.579 734.848,97.7246 755.072,98.6042 775.296,96.3708 795.52,98.4713 815.744,96.8732 835.968,101.395 856.191,103.163 876.415,101.84 896.639,101.39 916.863,101.424 937.087,101.888 957.311,98.4003 977.535,101.356 997.758,103.757 1017.98,103.711 1038.21,103.52 1058.43,102.677 1078.65,101.248 1098.88,105.15 1119.1,106.459 1139.33,108.466 1159.55,104.921 1179.77,103.755 1200,103.829 1220.22,103.576 1240.44,101.996 1260.67,100.828 1280.89,107.134 1301.12,104.756 1321.34,104.518 1341.56,104.938 1361.79,107.662 1382.01,109.417 1402.24,104.863 1422.46,104.922 1442.68,107.549 1462.91,106.071 1483.13,105.438 1503.35,104.048 1523.58,105.808 1543.8,103.42 1564.03,101.606 1584.25,102.482 1604.47,103.979 1624.7,103.311 1644.92,101.082 1665.15,101.384 1685.37,100.706 1705.59,102.694 1725.82,103.033 1746.04,106.34 1766.26,104.765 1786.49,102.556 1806.71,107.449 1826.94,110.602 1847.16,109.85 1867.38,110.002 1887.61,101.977 1907.83,103.642 1928.06,104.933 1948.28,106.41 1968.5,106.737 1988.73,107.108 2008.95,109.408 2029.17,106.863 2049.4,111.189 2069.62,108.821 2089.85,106.531 2110.07,105.365 2130.29,110.471 2150.52,105.969 2170.74,105.046 2190.97,106.34 2211.19,104.105 2231.41,101.778 2251.64,106.576 2271.86,101.519 2292.08,102.109 \"/>\n",
       "<path clip-path=\"url(#clip900)\" d=\"M2014.5 250.738 L2281.3 250.738 L2281.3 95.2176 L2014.5 95.2176  Z\" fill=\"#ffffff\" fill-rule=\"evenodd\" fill-opacity=\"1\"/>\n",
       "<polyline clip-path=\"url(#clip900)\" style=\"stroke:#000000; stroke-linecap:round; stroke-linejoin:round; stroke-width:4; stroke-opacity:1; fill:none\" points=\"2014.5,250.738 2281.3,250.738 2281.3,95.2176 2014.5,95.2176 2014.5,250.738 \"/>\n",
       "<polyline clip-path=\"url(#clip900)\" style=\"stroke:#009af9; stroke-linecap:round; stroke-linejoin:round; stroke-width:4; stroke-opacity:1; fill:none\" points=\"2038.31,147.058 2181.23,147.058 \"/>\n",
       "<path clip-path=\"url(#clip900)\" d=\"M2218.89 166.745 Q2217.09 171.375 2215.37 172.787 Q2213.66 174.199 2210.79 174.199 L2207.39 174.199 L2207.39 170.634 L2209.89 170.634 Q2211.65 170.634 2212.62 169.8 Q2213.59 168.967 2214.77 165.865 L2215.53 163.921 L2205.05 138.412 L2209.56 138.412 L2217.66 158.689 L2225.77 138.412 L2230.28 138.412 L2218.89 166.745 Z\" fill=\"#000000\" fill-rule=\"nonzero\" fill-opacity=\"1\" /><path clip-path=\"url(#clip900)\" d=\"M2237.57 160.402 L2245.21 160.402 L2245.21 134.037 L2236.9 135.703 L2236.9 131.444 L2245.16 129.778 L2249.84 129.778 L2249.84 160.402 L2257.48 160.402 L2257.48 164.338 L2237.57 164.338 L2237.57 160.402 Z\" fill=\"#000000\" fill-rule=\"nonzero\" fill-opacity=\"1\" /><polyline clip-path=\"url(#clip900)\" style=\"stroke:#e26f46; stroke-linecap:round; stroke-linejoin:round; stroke-width:4; stroke-opacity:1; fill:none\" points=\"2038.31,198.898 2181.23,198.898 \"/>\n",
       "<path clip-path=\"url(#clip900)\" d=\"M2218.89 218.585 Q2217.09 223.215 2215.37 224.627 Q2213.66 226.039 2210.79 226.039 L2207.39 226.039 L2207.39 222.474 L2209.89 222.474 Q2211.65 222.474 2212.62 221.64 Q2213.59 220.807 2214.77 217.705 L2215.53 215.761 L2205.05 190.252 L2209.56 190.252 L2217.66 210.529 L2225.77 190.252 L2230.28 190.252 L2218.89 218.585 Z\" fill=\"#000000\" fill-rule=\"nonzero\" fill-opacity=\"1\" /><path clip-path=\"url(#clip900)\" d=\"M2240.79 212.242 L2257.11 212.242 L2257.11 216.178 L2235.16 216.178 L2235.16 212.242 Q2237.83 209.488 2242.41 204.858 Q2247.02 200.205 2248.2 198.863 Q2250.44 196.34 2251.32 194.604 Q2252.22 192.844 2252.22 191.155 Q2252.22 188.4 2250.28 186.664 Q2248.36 184.928 2245.26 184.928 Q2243.06 184.928 2240.6 185.692 Q2238.17 186.455 2235.4 188.006 L2235.4 183.284 Q2238.22 182.15 2240.67 181.571 Q2243.13 180.993 2245.16 180.993 Q2250.53 180.993 2253.73 183.678 Q2256.92 186.363 2256.92 190.854 Q2256.92 192.983 2256.11 194.905 Q2255.33 196.803 2253.22 199.395 Q2252.64 200.067 2249.54 203.284 Q2246.44 206.479 2240.79 212.242 Z\" fill=\"#000000\" fill-rule=\"nonzero\" fill-opacity=\"1\" /></svg>\n"
      ],
      "text/html": [
       "<?xml version=\"1.0\" encoding=\"utf-8\"?>\n",
       "<svg xmlns=\"http://www.w3.org/2000/svg\" xmlns:xlink=\"http://www.w3.org/1999/xlink\" width=\"600\" height=\"400\" viewBox=\"0 0 2400 1600\">\n",
       "<defs>\n",
       "  <clipPath id=\"clip950\">\n",
       "    <rect x=\"0\" y=\"0\" width=\"2400\" height=\"1600\"/>\n",
       "  </clipPath>\n",
       "</defs>\n",
       "<path clip-path=\"url(#clip950)\" d=\"M0 1600 L2400 1600 L2400 0 L0 0  Z\" fill=\"#ffffff\" fill-rule=\"evenodd\" fill-opacity=\"1\"/>\n",
       "<defs>\n",
       "  <clipPath id=\"clip951\">\n",
       "    <rect x=\"480\" y=\"0\" width=\"1681\" height=\"1600\"/>\n",
       "  </clipPath>\n",
       "</defs>\n",
       "<path clip-path=\"url(#clip950)\" d=\"M209.029 1486.45 L2352.76 1486.45 L2352.76 47.2441 L209.029 47.2441  Z\" fill=\"#ffffff\" fill-rule=\"evenodd\" fill-opacity=\"1\"/>\n",
       "<defs>\n",
       "  <clipPath id=\"clip952\">\n",
       "    <rect x=\"209\" y=\"47\" width=\"2145\" height=\"1440\"/>\n",
       "  </clipPath>\n",
       "</defs>\n",
       "<polyline clip-path=\"url(#clip952)\" style=\"stroke:#000000; stroke-linecap:round; stroke-linejoin:round; stroke-width:2; stroke-opacity:0.1; fill:none\" points=\"249.476,1486.45 249.476,47.2441 \"/>\n",
       "<polyline clip-path=\"url(#clip952)\" style=\"stroke:#000000; stroke-linecap:round; stroke-linejoin:round; stroke-width:2; stroke-opacity:0.1; fill:none\" points=\"755.072,1486.45 755.072,47.2441 \"/>\n",
       "<polyline clip-path=\"url(#clip952)\" style=\"stroke:#000000; stroke-linecap:round; stroke-linejoin:round; stroke-width:2; stroke-opacity:0.1; fill:none\" points=\"1260.67,1486.45 1260.67,47.2441 \"/>\n",
       "<polyline clip-path=\"url(#clip952)\" style=\"stroke:#000000; stroke-linecap:round; stroke-linejoin:round; stroke-width:2; stroke-opacity:0.1; fill:none\" points=\"1766.26,1486.45 1766.26,47.2441 \"/>\n",
       "<polyline clip-path=\"url(#clip952)\" style=\"stroke:#000000; stroke-linecap:round; stroke-linejoin:round; stroke-width:2; stroke-opacity:0.1; fill:none\" points=\"2271.86,1486.45 2271.86,47.2441 \"/>\n",
       "<polyline clip-path=\"url(#clip952)\" style=\"stroke:#000000; stroke-linecap:round; stroke-linejoin:round; stroke-width:2; stroke-opacity:0.1; fill:none\" points=\"209.029,1402.58 2352.76,1402.58 \"/>\n",
       "<polyline clip-path=\"url(#clip952)\" style=\"stroke:#000000; stroke-linecap:round; stroke-linejoin:round; stroke-width:2; stroke-opacity:0.1; fill:none\" points=\"209.029,1194.39 2352.76,1194.39 \"/>\n",
       "<polyline clip-path=\"url(#clip952)\" style=\"stroke:#000000; stroke-linecap:round; stroke-linejoin:round; stroke-width:2; stroke-opacity:0.1; fill:none\" points=\"209.029,986.193 2352.76,986.193 \"/>\n",
       "<polyline clip-path=\"url(#clip952)\" style=\"stroke:#000000; stroke-linecap:round; stroke-linejoin:round; stroke-width:2; stroke-opacity:0.1; fill:none\" points=\"209.029,777.997 2352.76,777.997 \"/>\n",
       "<polyline clip-path=\"url(#clip952)\" style=\"stroke:#000000; stroke-linecap:round; stroke-linejoin:round; stroke-width:2; stroke-opacity:0.1; fill:none\" points=\"209.029,569.801 2352.76,569.801 \"/>\n",
       "<polyline clip-path=\"url(#clip952)\" style=\"stroke:#000000; stroke-linecap:round; stroke-linejoin:round; stroke-width:2; stroke-opacity:0.1; fill:none\" points=\"209.029,361.606 2352.76,361.606 \"/>\n",
       "<polyline clip-path=\"url(#clip952)\" style=\"stroke:#000000; stroke-linecap:round; stroke-linejoin:round; stroke-width:2; stroke-opacity:0.1; fill:none\" points=\"209.029,153.41 2352.76,153.41 \"/>\n",
       "<polyline clip-path=\"url(#clip950)\" style=\"stroke:#000000; stroke-linecap:round; stroke-linejoin:round; stroke-width:4; stroke-opacity:1; fill:none\" points=\"209.029,1486.45 2352.76,1486.45 \"/>\n",
       "<polyline clip-path=\"url(#clip950)\" style=\"stroke:#000000; stroke-linecap:round; stroke-linejoin:round; stroke-width:4; stroke-opacity:1; fill:none\" points=\"249.476,1486.45 249.476,1467.55 \"/>\n",
       "<polyline clip-path=\"url(#clip950)\" style=\"stroke:#000000; stroke-linecap:round; stroke-linejoin:round; stroke-width:4; stroke-opacity:1; fill:none\" points=\"755.072,1486.45 755.072,1467.55 \"/>\n",
       "<polyline clip-path=\"url(#clip950)\" style=\"stroke:#000000; stroke-linecap:round; stroke-linejoin:round; stroke-width:4; stroke-opacity:1; fill:none\" points=\"1260.67,1486.45 1260.67,1467.55 \"/>\n",
       "<polyline clip-path=\"url(#clip950)\" style=\"stroke:#000000; stroke-linecap:round; stroke-linejoin:round; stroke-width:4; stroke-opacity:1; fill:none\" points=\"1766.26,1486.45 1766.26,1467.55 \"/>\n",
       "<polyline clip-path=\"url(#clip950)\" style=\"stroke:#000000; stroke-linecap:round; stroke-linejoin:round; stroke-width:4; stroke-opacity:1; fill:none\" points=\"2271.86,1486.45 2271.86,1467.55 \"/>\n",
       "<path clip-path=\"url(#clip950)\" d=\"M249.476 1517.37 Q245.865 1517.37 244.036 1520.93 Q242.231 1524.47 242.231 1531.6 Q242.231 1538.71 244.036 1542.27 Q245.865 1545.82 249.476 1545.82 Q253.11 1545.82 254.916 1542.27 Q256.745 1538.71 256.745 1531.6 Q256.745 1524.47 254.916 1520.93 Q253.11 1517.37 249.476 1517.37 M249.476 1513.66 Q255.286 1513.66 258.342 1518.27 Q261.421 1522.85 261.421 1531.6 Q261.421 1540.33 258.342 1544.94 Q255.286 1549.52 249.476 1549.52 Q243.666 1549.52 240.587 1544.94 Q237.532 1540.33 237.532 1531.6 Q237.532 1522.85 240.587 1518.27 Q243.666 1513.66 249.476 1513.66 Z\" fill=\"#000000\" fill-rule=\"nonzero\" fill-opacity=\"1\" /><path clip-path=\"url(#clip950)\" d=\"M734.343 1544.91 L750.663 1544.91 L750.663 1548.85 L728.718 1548.85 L728.718 1544.91 Q731.38 1542.16 735.964 1537.53 Q740.57 1532.88 741.751 1531.53 Q743.996 1529.01 744.876 1527.27 Q745.778 1525.51 745.778 1523.82 Q745.778 1521.07 743.834 1519.33 Q741.913 1517.6 738.811 1517.6 Q736.612 1517.6 734.158 1518.36 Q731.727 1519.13 728.95 1520.68 L728.95 1515.95 Q731.774 1514.82 734.227 1514.24 Q736.681 1513.66 738.718 1513.66 Q744.089 1513.66 747.283 1516.35 Q750.477 1519.03 750.477 1523.52 Q750.477 1525.65 749.667 1527.57 Q748.88 1529.47 746.774 1532.07 Q746.195 1532.74 743.093 1535.95 Q739.991 1539.15 734.343 1544.91 Z\" fill=\"#000000\" fill-rule=\"nonzero\" fill-opacity=\"1\" /><path clip-path=\"url(#clip950)\" d=\"M760.524 1514.29 L778.88 1514.29 L778.88 1518.22 L764.806 1518.22 L764.806 1526.7 Q765.825 1526.35 766.843 1526.19 Q767.862 1526 768.88 1526 Q774.667 1526 778.047 1529.17 Q781.426 1532.34 781.426 1537.76 Q781.426 1543.34 777.954 1546.44 Q774.482 1549.52 768.162 1549.52 Q765.987 1549.52 763.718 1549.15 Q761.473 1548.78 759.065 1548.04 L759.065 1543.34 Q761.149 1544.47 763.371 1545.03 Q765.593 1545.58 768.07 1545.58 Q772.075 1545.58 774.412 1543.48 Q776.75 1541.37 776.75 1537.76 Q776.75 1534.15 774.412 1532.04 Q772.075 1529.94 768.07 1529.94 Q766.195 1529.94 764.32 1530.35 Q762.468 1530.77 760.524 1531.65 L760.524 1514.29 Z\" fill=\"#000000\" fill-rule=\"nonzero\" fill-opacity=\"1\" /><path clip-path=\"url(#clip950)\" d=\"M1235.37 1514.29 L1253.72 1514.29 L1253.72 1518.22 L1239.65 1518.22 L1239.65 1526.7 Q1240.67 1526.35 1241.69 1526.19 Q1242.71 1526 1243.72 1526 Q1249.51 1526 1252.89 1529.17 Q1256.27 1532.34 1256.27 1537.76 Q1256.27 1543.34 1252.8 1546.44 Q1249.33 1549.52 1243.01 1549.52 Q1240.83 1549.52 1238.56 1549.15 Q1236.32 1548.78 1233.91 1548.04 L1233.91 1543.34 Q1235.99 1544.47 1238.21 1545.03 Q1240.44 1545.58 1242.91 1545.58 Q1246.92 1545.58 1249.26 1543.48 Q1251.59 1541.37 1251.59 1537.76 Q1251.59 1534.15 1249.26 1532.04 Q1246.92 1529.94 1242.91 1529.94 Q1241.04 1529.94 1239.16 1530.35 Q1237.31 1530.77 1235.37 1531.65 L1235.37 1514.29 Z\" fill=\"#000000\" fill-rule=\"nonzero\" fill-opacity=\"1\" /><path clip-path=\"url(#clip950)\" d=\"M1275.48 1517.37 Q1271.87 1517.37 1270.04 1520.93 Q1268.24 1524.47 1268.24 1531.6 Q1268.24 1538.71 1270.04 1542.27 Q1271.87 1545.82 1275.48 1545.82 Q1279.12 1545.82 1280.92 1542.27 Q1282.75 1538.71 1282.75 1531.6 Q1282.75 1524.47 1280.92 1520.93 Q1279.12 1517.37 1275.48 1517.37 M1275.48 1513.66 Q1281.29 1513.66 1284.35 1518.27 Q1287.43 1522.85 1287.43 1531.6 Q1287.43 1540.33 1284.35 1544.94 Q1281.29 1549.52 1275.48 1549.52 Q1269.67 1549.52 1266.59 1544.94 Q1263.54 1540.33 1263.54 1531.6 Q1263.54 1522.85 1266.59 1518.27 Q1269.67 1513.66 1275.48 1513.66 Z\" fill=\"#000000\" fill-rule=\"nonzero\" fill-opacity=\"1\" /><path clip-path=\"url(#clip950)\" d=\"M1740.12 1514.29 L1762.34 1514.29 L1762.34 1516.28 L1749.79 1548.85 L1744.91 1548.85 L1756.72 1518.22 L1740.12 1518.22 L1740.12 1514.29 Z\" fill=\"#000000\" fill-rule=\"nonzero\" fill-opacity=\"1\" /><path clip-path=\"url(#clip950)\" d=\"M1771.51 1514.29 L1789.86 1514.29 L1789.86 1518.22 L1775.79 1518.22 L1775.79 1526.7 Q1776.81 1526.35 1777.83 1526.19 Q1778.85 1526 1779.86 1526 Q1785.65 1526 1789.03 1529.17 Q1792.41 1532.34 1792.41 1537.76 Q1792.41 1543.34 1788.94 1546.44 Q1785.47 1549.52 1779.15 1549.52 Q1776.97 1549.52 1774.7 1549.15 Q1772.46 1548.78 1770.05 1548.04 L1770.05 1543.34 Q1772.13 1544.47 1774.35 1545.03 Q1776.58 1545.58 1779.05 1545.58 Q1783.06 1545.58 1785.4 1543.48 Q1787.73 1541.37 1787.73 1537.76 Q1787.73 1534.15 1785.4 1532.04 Q1783.06 1529.94 1779.05 1529.94 Q1777.18 1529.94 1775.3 1530.35 Q1773.45 1530.77 1771.51 1531.65 L1771.51 1514.29 Z\" fill=\"#000000\" fill-rule=\"nonzero\" fill-opacity=\"1\" /><path clip-path=\"url(#clip950)\" d=\"M2231.47 1544.91 L2239.11 1544.91 L2239.11 1518.55 L2230.8 1520.21 L2230.8 1515.95 L2239.06 1514.29 L2243.74 1514.29 L2243.74 1544.91 L2251.37 1544.91 L2251.37 1548.85 L2231.47 1548.85 L2231.47 1544.91 Z\" fill=\"#000000\" fill-rule=\"nonzero\" fill-opacity=\"1\" /><path clip-path=\"url(#clip950)\" d=\"M2270.82 1517.37 Q2267.21 1517.37 2265.38 1520.93 Q2263.57 1524.47 2263.57 1531.6 Q2263.57 1538.71 2265.38 1542.27 Q2267.21 1545.82 2270.82 1545.82 Q2274.45 1545.82 2276.26 1542.27 Q2278.09 1538.71 2278.09 1531.6 Q2278.09 1524.47 2276.26 1520.93 Q2274.45 1517.37 2270.82 1517.37 M2270.82 1513.66 Q2276.63 1513.66 2279.68 1518.27 Q2282.76 1522.85 2282.76 1531.6 Q2282.76 1540.33 2279.68 1544.94 Q2276.63 1549.52 2270.82 1549.52 Q2265.01 1549.52 2261.93 1544.94 Q2258.87 1540.33 2258.87 1531.6 Q2258.87 1522.85 2261.93 1518.27 Q2265.01 1513.66 2270.82 1513.66 Z\" fill=\"#000000\" fill-rule=\"nonzero\" fill-opacity=\"1\" /><path clip-path=\"url(#clip950)\" d=\"M2300.98 1517.37 Q2297.37 1517.37 2295.54 1520.93 Q2293.74 1524.47 2293.74 1531.6 Q2293.74 1538.71 2295.54 1542.27 Q2297.37 1545.82 2300.98 1545.82 Q2304.61 1545.82 2306.42 1542.27 Q2308.25 1538.71 2308.25 1531.6 Q2308.25 1524.47 2306.42 1520.93 Q2304.61 1517.37 2300.98 1517.37 M2300.98 1513.66 Q2306.79 1513.66 2309.85 1518.27 Q2312.93 1522.85 2312.93 1531.6 Q2312.93 1540.33 2309.85 1544.94 Q2306.79 1549.52 2300.98 1549.52 Q2295.17 1549.52 2292.09 1544.94 Q2289.04 1540.33 2289.04 1531.6 Q2289.04 1522.85 2292.09 1518.27 Q2295.17 1513.66 2300.98 1513.66 Z\" fill=\"#000000\" fill-rule=\"nonzero\" fill-opacity=\"1\" /><polyline clip-path=\"url(#clip950)\" style=\"stroke:#000000; stroke-linecap:round; stroke-linejoin:round; stroke-width:4; stroke-opacity:1; fill:none\" points=\"209.029,1486.45 209.029,47.2441 \"/>\n",
       "<polyline clip-path=\"url(#clip950)\" style=\"stroke:#000000; stroke-linecap:round; stroke-linejoin:round; stroke-width:4; stroke-opacity:1; fill:none\" points=\"209.029,1402.58 227.926,1402.58 \"/>\n",
       "<polyline clip-path=\"url(#clip950)\" style=\"stroke:#000000; stroke-linecap:round; stroke-linejoin:round; stroke-width:4; stroke-opacity:1; fill:none\" points=\"209.029,1194.39 227.926,1194.39 \"/>\n",
       "<polyline clip-path=\"url(#clip950)\" style=\"stroke:#000000; stroke-linecap:round; stroke-linejoin:round; stroke-width:4; stroke-opacity:1; fill:none\" points=\"209.029,986.193 227.926,986.193 \"/>\n",
       "<polyline clip-path=\"url(#clip950)\" style=\"stroke:#000000; stroke-linecap:round; stroke-linejoin:round; stroke-width:4; stroke-opacity:1; fill:none\" points=\"209.029,777.997 227.926,777.997 \"/>\n",
       "<polyline clip-path=\"url(#clip950)\" style=\"stroke:#000000; stroke-linecap:round; stroke-linejoin:round; stroke-width:4; stroke-opacity:1; fill:none\" points=\"209.029,569.801 227.926,569.801 \"/>\n",
       "<polyline clip-path=\"url(#clip950)\" style=\"stroke:#000000; stroke-linecap:round; stroke-linejoin:round; stroke-width:4; stroke-opacity:1; fill:none\" points=\"209.029,361.606 227.926,361.606 \"/>\n",
       "<polyline clip-path=\"url(#clip950)\" style=\"stroke:#000000; stroke-linecap:round; stroke-linejoin:round; stroke-width:4; stroke-opacity:1; fill:none\" points=\"209.029,153.41 227.926,153.41 \"/>\n",
       "<path clip-path=\"url(#clip950)\" d=\"M50.9921 1403.04 L80.6679 1403.04 L80.6679 1406.97 L50.9921 1406.97 L50.9921 1403.04 Z\" fill=\"#000000\" fill-rule=\"nonzero\" fill-opacity=\"1\" /><path clip-path=\"url(#clip950)\" d=\"M91.5706 1415.93 L99.2095 1415.93 L99.2095 1389.56 L90.8993 1391.23 L90.8993 1386.97 L99.1632 1385.3 L103.839 1385.3 L103.839 1415.93 L111.478 1415.93 L111.478 1419.86 L91.5706 1419.86 L91.5706 1415.93 Z\" fill=\"#000000\" fill-rule=\"nonzero\" fill-opacity=\"1\" /><path clip-path=\"url(#clip950)\" d=\"M120.969 1385.3 L139.325 1385.3 L139.325 1389.24 L125.251 1389.24 L125.251 1397.71 Q126.27 1397.36 127.288 1397.2 Q128.307 1397.02 129.325 1397.02 Q135.112 1397.02 138.492 1400.19 Q141.871 1403.36 141.871 1408.78 Q141.871 1414.35 138.399 1417.46 Q134.927 1420.54 128.607 1420.54 Q126.432 1420.54 124.163 1420.16 Q121.918 1419.79 119.51 1419.05 L119.51 1414.35 Q121.594 1415.49 123.816 1416.04 Q126.038 1416.6 128.515 1416.6 Q132.519 1416.6 134.857 1414.49 Q137.195 1412.39 137.195 1408.78 Q137.195 1405.16 134.857 1403.06 Q132.519 1400.95 128.515 1400.95 Q126.64 1400.95 124.765 1401.37 Q122.913 1401.79 120.969 1402.66 L120.969 1385.3 Z\" fill=\"#000000\" fill-rule=\"nonzero\" fill-opacity=\"1\" /><path clip-path=\"url(#clip950)\" d=\"M161.084 1388.38 Q157.473 1388.38 155.644 1391.95 Q153.839 1395.49 153.839 1402.62 Q153.839 1409.72 155.644 1413.29 Q157.473 1416.83 161.084 1416.83 Q164.718 1416.83 166.524 1413.29 Q168.353 1409.72 168.353 1402.62 Q168.353 1395.49 166.524 1391.95 Q164.718 1388.38 161.084 1388.38 M161.084 1384.68 Q166.894 1384.68 169.95 1389.29 Q173.029 1393.87 173.029 1402.62 Q173.029 1411.35 169.95 1415.95 Q166.894 1420.54 161.084 1420.54 Q155.274 1420.54 152.195 1415.95 Q149.14 1411.35 149.14 1402.62 Q149.14 1393.87 152.195 1389.29 Q155.274 1384.68 161.084 1384.68 Z\" fill=\"#000000\" fill-rule=\"nonzero\" fill-opacity=\"1\" /><path clip-path=\"url(#clip950)\" d=\"M50.9921 1194.84 L80.6679 1194.84 L80.6679 1198.77 L50.9921 1198.77 L50.9921 1194.84 Z\" fill=\"#000000\" fill-rule=\"nonzero\" fill-opacity=\"1\" /><path clip-path=\"url(#clip950)\" d=\"M91.5706 1207.73 L99.2095 1207.73 L99.2095 1181.37 L90.8993 1183.03 L90.8993 1178.77 L99.1632 1177.11 L103.839 1177.11 L103.839 1207.73 L111.478 1207.73 L111.478 1211.67 L91.5706 1211.67 L91.5706 1207.73 Z\" fill=\"#000000\" fill-rule=\"nonzero\" fill-opacity=\"1\" /><path clip-path=\"url(#clip950)\" d=\"M130.922 1180.19 Q127.311 1180.19 125.482 1183.75 Q123.677 1187.29 123.677 1194.42 Q123.677 1201.53 125.482 1205.09 Q127.311 1208.64 130.922 1208.64 Q134.556 1208.64 136.362 1205.09 Q138.191 1201.53 138.191 1194.42 Q138.191 1187.29 136.362 1183.75 Q134.556 1180.19 130.922 1180.19 M130.922 1176.48 Q136.732 1176.48 139.788 1181.09 Q142.867 1185.67 142.867 1194.42 Q142.867 1203.15 139.788 1207.76 Q136.732 1212.34 130.922 1212.34 Q125.112 1212.34 122.033 1207.76 Q118.978 1203.15 118.978 1194.42 Q118.978 1185.67 122.033 1181.09 Q125.112 1176.48 130.922 1176.48 Z\" fill=\"#000000\" fill-rule=\"nonzero\" fill-opacity=\"1\" /><path clip-path=\"url(#clip950)\" d=\"M161.084 1180.19 Q157.473 1180.19 155.644 1183.75 Q153.839 1187.29 153.839 1194.42 Q153.839 1201.53 155.644 1205.09 Q157.473 1208.64 161.084 1208.64 Q164.718 1208.64 166.524 1205.09 Q168.353 1201.53 168.353 1194.42 Q168.353 1187.29 166.524 1183.75 Q164.718 1180.19 161.084 1180.19 M161.084 1176.48 Q166.894 1176.48 169.95 1181.09 Q173.029 1185.67 173.029 1194.42 Q173.029 1203.15 169.95 1207.76 Q166.894 1212.34 161.084 1212.34 Q155.274 1212.34 152.195 1207.76 Q149.14 1203.15 149.14 1194.42 Q149.14 1185.67 152.195 1181.09 Q155.274 1176.48 161.084 1176.48 Z\" fill=\"#000000\" fill-rule=\"nonzero\" fill-opacity=\"1\" /><path clip-path=\"url(#clip950)\" d=\"M81.154 986.644 L110.83 986.644 L110.83 990.579 L81.154 990.579 L81.154 986.644 Z\" fill=\"#000000\" fill-rule=\"nonzero\" fill-opacity=\"1\" /><path clip-path=\"url(#clip950)\" d=\"M120.969 968.913 L139.325 968.913 L139.325 972.848 L125.251 972.848 L125.251 981.32 Q126.27 980.973 127.288 980.811 Q128.307 980.626 129.325 980.626 Q135.112 980.626 138.492 983.797 Q141.871 986.968 141.871 992.385 Q141.871 997.963 138.399 1001.07 Q134.927 1004.14 128.607 1004.14 Q126.432 1004.14 124.163 1003.77 Q121.918 1003.4 119.51 1002.66 L119.51 997.963 Q121.594 999.098 123.816 999.653 Q126.038 1000.21 128.515 1000.21 Q132.519 1000.21 134.857 998.102 Q137.195 995.996 137.195 992.385 Q137.195 988.774 134.857 986.667 Q132.519 984.561 128.515 984.561 Q126.64 984.561 124.765 984.977 Q122.913 985.394 120.969 986.274 L120.969 968.913 Z\" fill=\"#000000\" fill-rule=\"nonzero\" fill-opacity=\"1\" /><path clip-path=\"url(#clip950)\" d=\"M161.084 971.991 Q157.473 971.991 155.644 975.556 Q153.839 979.098 153.839 986.227 Q153.839 993.334 155.644 996.899 Q157.473 1000.44 161.084 1000.44 Q164.718 1000.44 166.524 996.899 Q168.353 993.334 168.353 986.227 Q168.353 979.098 166.524 975.556 Q164.718 971.991 161.084 971.991 M161.084 968.288 Q166.894 968.288 169.95 972.894 Q173.029 977.477 173.029 986.227 Q173.029 994.954 169.95 999.561 Q166.894 1004.14 161.084 1004.14 Q155.274 1004.14 152.195 999.561 Q149.14 994.954 149.14 986.227 Q149.14 977.477 152.195 972.894 Q155.274 968.288 161.084 968.288 Z\" fill=\"#000000\" fill-rule=\"nonzero\" fill-opacity=\"1\" /><path clip-path=\"url(#clip950)\" d=\"M161.084 763.796 Q157.473 763.796 155.644 767.36 Q153.839 770.902 153.839 778.032 Q153.839 785.138 155.644 788.703 Q157.473 792.245 161.084 792.245 Q164.718 792.245 166.524 788.703 Q168.353 785.138 168.353 778.032 Q168.353 770.902 166.524 767.36 Q164.718 763.796 161.084 763.796 M161.084 760.092 Q166.894 760.092 169.95 764.698 Q173.029 769.282 173.029 778.032 Q173.029 786.759 169.95 791.365 Q166.894 795.948 161.084 795.948 Q155.274 795.948 152.195 791.365 Q149.14 786.759 149.14 778.032 Q149.14 769.282 152.195 764.698 Q155.274 760.092 161.084 760.092 Z\" fill=\"#000000\" fill-rule=\"nonzero\" fill-opacity=\"1\" /><path clip-path=\"url(#clip950)\" d=\"M120.969 552.521 L139.325 552.521 L139.325 556.457 L125.251 556.457 L125.251 564.929 Q126.27 564.582 127.288 564.42 Q128.307 564.234 129.325 564.234 Q135.112 564.234 138.492 567.406 Q141.871 570.577 141.871 575.994 Q141.871 581.572 138.399 584.674 Q134.927 587.753 128.607 587.753 Q126.432 587.753 124.163 587.382 Q121.918 587.012 119.51 586.271 L119.51 581.572 Q121.594 582.706 123.816 583.262 Q126.038 583.818 128.515 583.818 Q132.519 583.818 134.857 581.711 Q137.195 579.605 137.195 575.994 Q137.195 572.382 134.857 570.276 Q132.519 568.169 128.515 568.169 Q126.64 568.169 124.765 568.586 Q122.913 569.003 120.969 569.882 L120.969 552.521 Z\" fill=\"#000000\" fill-rule=\"nonzero\" fill-opacity=\"1\" /><path clip-path=\"url(#clip950)\" d=\"M161.084 555.6 Q157.473 555.6 155.644 559.165 Q153.839 562.707 153.839 569.836 Q153.839 576.943 155.644 580.507 Q157.473 584.049 161.084 584.049 Q164.718 584.049 166.524 580.507 Q168.353 576.943 168.353 569.836 Q168.353 562.707 166.524 559.165 Q164.718 555.6 161.084 555.6 M161.084 551.896 Q166.894 551.896 169.95 556.503 Q173.029 561.086 173.029 569.836 Q173.029 578.563 169.95 583.169 Q166.894 587.753 161.084 587.753 Q155.274 587.753 152.195 583.169 Q149.14 578.563 149.14 569.836 Q149.14 561.086 152.195 556.503 Q155.274 551.896 161.084 551.896 Z\" fill=\"#000000\" fill-rule=\"nonzero\" fill-opacity=\"1\" /><path clip-path=\"url(#clip950)\" d=\"M91.5706 374.951 L99.2095 374.951 L99.2095 348.585 L90.8993 350.252 L90.8993 345.992 L99.1632 344.326 L103.839 344.326 L103.839 374.951 L111.478 374.951 L111.478 378.886 L91.5706 378.886 L91.5706 374.951 Z\" fill=\"#000000\" fill-rule=\"nonzero\" fill-opacity=\"1\" /><path clip-path=\"url(#clip950)\" d=\"M130.922 347.405 Q127.311 347.405 125.482 350.969 Q123.677 354.511 123.677 361.641 Q123.677 368.747 125.482 372.312 Q127.311 375.853 130.922 375.853 Q134.556 375.853 136.362 372.312 Q138.191 368.747 138.191 361.641 Q138.191 354.511 136.362 350.969 Q134.556 347.405 130.922 347.405 M130.922 343.701 Q136.732 343.701 139.788 348.307 Q142.867 352.891 142.867 361.641 Q142.867 370.367 139.788 374.974 Q136.732 379.557 130.922 379.557 Q125.112 379.557 122.033 374.974 Q118.978 370.367 118.978 361.641 Q118.978 352.891 122.033 348.307 Q125.112 343.701 130.922 343.701 Z\" fill=\"#000000\" fill-rule=\"nonzero\" fill-opacity=\"1\" /><path clip-path=\"url(#clip950)\" d=\"M161.084 347.405 Q157.473 347.405 155.644 350.969 Q153.839 354.511 153.839 361.641 Q153.839 368.747 155.644 372.312 Q157.473 375.853 161.084 375.853 Q164.718 375.853 166.524 372.312 Q168.353 368.747 168.353 361.641 Q168.353 354.511 166.524 350.969 Q164.718 347.405 161.084 347.405 M161.084 343.701 Q166.894 343.701 169.95 348.307 Q173.029 352.891 173.029 361.641 Q173.029 370.367 169.95 374.974 Q166.894 379.557 161.084 379.557 Q155.274 379.557 152.195 374.974 Q149.14 370.367 149.14 361.641 Q149.14 352.891 152.195 348.307 Q155.274 343.701 161.084 343.701 Z\" fill=\"#000000\" fill-rule=\"nonzero\" fill-opacity=\"1\" /><path clip-path=\"url(#clip950)\" d=\"M91.5706 166.755 L99.2095 166.755 L99.2095 140.389 L90.8993 142.056 L90.8993 137.797 L99.1632 136.13 L103.839 136.13 L103.839 166.755 L111.478 166.755 L111.478 170.69 L91.5706 170.69 L91.5706 166.755 Z\" fill=\"#000000\" fill-rule=\"nonzero\" fill-opacity=\"1\" /><path clip-path=\"url(#clip950)\" d=\"M120.969 136.13 L139.325 136.13 L139.325 140.065 L125.251 140.065 L125.251 148.538 Q126.27 148.19 127.288 148.028 Q128.307 147.843 129.325 147.843 Q135.112 147.843 138.492 151.014 Q141.871 154.186 141.871 159.602 Q141.871 165.181 138.399 168.283 Q134.927 171.362 128.607 171.362 Q126.432 171.362 124.163 170.991 Q121.918 170.621 119.51 169.88 L119.51 165.181 Q121.594 166.315 123.816 166.871 Q126.038 167.426 128.515 167.426 Q132.519 167.426 134.857 165.32 Q137.195 163.213 137.195 159.602 Q137.195 155.991 134.857 153.885 Q132.519 151.778 128.515 151.778 Q126.64 151.778 124.765 152.195 Q122.913 152.612 120.969 153.491 L120.969 136.13 Z\" fill=\"#000000\" fill-rule=\"nonzero\" fill-opacity=\"1\" /><path clip-path=\"url(#clip950)\" d=\"M161.084 139.209 Q157.473 139.209 155.644 142.774 Q153.839 146.315 153.839 153.445 Q153.839 160.551 155.644 164.116 Q157.473 167.658 161.084 167.658 Q164.718 167.658 166.524 164.116 Q168.353 160.551 168.353 153.445 Q168.353 146.315 166.524 142.774 Q164.718 139.209 161.084 139.209 M161.084 135.505 Q166.894 135.505 169.95 140.112 Q173.029 144.695 173.029 153.445 Q173.029 162.172 169.95 166.778 Q166.894 171.362 161.084 171.362 Q155.274 171.362 152.195 166.778 Q149.14 162.172 149.14 153.445 Q149.14 144.695 152.195 140.112 Q155.274 135.505 161.084 135.505 Z\" fill=\"#000000\" fill-rule=\"nonzero\" fill-opacity=\"1\" /><polyline clip-path=\"url(#clip952)\" style=\"stroke:#009af9; stroke-linecap:round; stroke-linejoin:round; stroke-width:4; stroke-opacity:1; fill:none\" points=\"269.7,1445.57 289.924,1445.65 310.148,1445.66 330.372,1445.66 350.595,1445.66 370.819,1445.66 391.043,1445.66 411.267,1445.66 431.491,1445.66 451.715,1445.66 471.938,1445.66 492.162,1445.66 512.386,1445.66 532.61,1445.66 552.834,1445.66 573.058,1445.66 593.282,1445.66 613.505,1445.66 633.729,1445.66 653.953,1445.66 674.177,1445.66 694.401,1445.66 714.625,1445.65 734.848,1445.65 755.072,1445.65 775.296,1445.66 795.52,1445.66 815.744,1445.66 835.968,1445.66 856.191,1445.66 876.415,1445.66 896.639,1445.67 916.863,1445.66 937.087,1445.66 957.311,1445.67 977.535,1445.67 997.758,1445.68 1017.98,1445.68 1038.21,1445.68 1058.43,1445.68 1078.65,1445.68 1098.88,1445.69 1119.1,1445.68 1139.33,1445.69 1159.55,1445.69 1179.77,1445.69 1200,1445.69 1220.22,1445.69 1240.44,1445.69 1260.67,1445.69 1280.89,1445.69 1301.12,1445.69 1321.34,1445.69 1341.56,1445.69 1361.79,1445.69 1382.01,1445.69 1402.24,1445.7 1422.46,1445.7 1442.68,1445.7 1462.91,1445.69 1483.13,1445.7 1503.35,1445.69 1523.58,1445.69 1543.8,1445.69 1564.03,1445.69 1584.25,1445.68 1604.47,1445.69 1624.7,1445.69 1644.92,1445.7 1665.15,1445.7 1685.37,1445.7 1705.59,1445.7 1725.82,1445.7 1746.04,1445.7 1766.26,1445.7 1786.49,1445.7 1806.71,1445.7 1826.94,1445.7 1847.16,1445.71 1867.38,1445.7 1887.61,1445.7 1907.83,1445.7 1928.06,1445.7 1948.28,1445.7 1968.5,1445.7 1988.73,1445.7 2008.95,1445.7 2029.17,1445.71 2049.4,1445.71 2069.62,1445.71 2089.85,1445.71 2110.07,1445.71 2130.29,1445.71 2150.52,1445.71 2170.74,1445.71 2190.97,1445.71 2211.19,1445.72 2231.41,1445.71 2251.64,1445.71 2271.86,1445.72 2292.08,1445.71 \"/>\n",
       "<polyline clip-path=\"url(#clip952)\" style=\"stroke:#e26f46; stroke-linecap:round; stroke-linejoin:round; stroke-width:4; stroke-opacity:1; fill:none\" points=\"269.7,108.715 289.924,96.8291 310.148,94.2208 330.372,92.684 350.595,95.4992 370.819,95.1149 391.043,92.7756 411.267,89.445 431.491,87.9763 451.715,90.7455 471.938,91.7725 492.162,91.8395 512.386,90.0668 532.61,91.9265 552.834,90.8082 573.058,90.4813 593.282,93.9285 613.505,92.6499 633.729,93.1483 653.953,90.1679 674.177,91.2999 694.401,94.7336 714.625,93.579 734.848,97.7246 755.072,98.6042 775.296,96.3708 795.52,98.4713 815.744,96.8732 835.968,101.395 856.191,103.163 876.415,101.84 896.639,101.39 916.863,101.424 937.087,101.888 957.311,98.4003 977.535,101.356 997.758,103.757 1017.98,103.711 1038.21,103.52 1058.43,102.677 1078.65,101.248 1098.88,105.15 1119.1,106.459 1139.33,108.466 1159.55,104.921 1179.77,103.755 1200,103.829 1220.22,103.576 1240.44,101.996 1260.67,100.828 1280.89,107.134 1301.12,104.756 1321.34,104.518 1341.56,104.938 1361.79,107.662 1382.01,109.417 1402.24,104.863 1422.46,104.922 1442.68,107.549 1462.91,106.071 1483.13,105.438 1503.35,104.048 1523.58,105.808 1543.8,103.42 1564.03,101.606 1584.25,102.482 1604.47,103.979 1624.7,103.311 1644.92,101.082 1665.15,101.384 1685.37,100.706 1705.59,102.694 1725.82,103.033 1746.04,106.34 1766.26,104.765 1786.49,102.556 1806.71,107.449 1826.94,110.602 1847.16,109.85 1867.38,110.002 1887.61,101.977 1907.83,103.642 1928.06,104.933 1948.28,106.41 1968.5,106.737 1988.73,107.108 2008.95,109.408 2029.17,106.863 2049.4,111.189 2069.62,108.821 2089.85,106.531 2110.07,105.365 2130.29,110.471 2150.52,105.969 2170.74,105.046 2190.97,106.34 2211.19,104.105 2231.41,101.778 2251.64,106.576 2271.86,101.519 2292.08,102.109 \"/>\n",
       "<path clip-path=\"url(#clip950)\" d=\"M2014.5 250.738 L2281.3 250.738 L2281.3 95.2176 L2014.5 95.2176  Z\" fill=\"#ffffff\" fill-rule=\"evenodd\" fill-opacity=\"1\"/>\n",
       "<polyline clip-path=\"url(#clip950)\" style=\"stroke:#000000; stroke-linecap:round; stroke-linejoin:round; stroke-width:4; stroke-opacity:1; fill:none\" points=\"2014.5,250.738 2281.3,250.738 2281.3,95.2176 2014.5,95.2176 2014.5,250.738 \"/>\n",
       "<polyline clip-path=\"url(#clip950)\" style=\"stroke:#009af9; stroke-linecap:round; stroke-linejoin:round; stroke-width:4; stroke-opacity:1; fill:none\" points=\"2038.31,147.058 2181.23,147.058 \"/>\n",
       "<path clip-path=\"url(#clip950)\" d=\"M2218.89 166.745 Q2217.09 171.375 2215.37 172.787 Q2213.66 174.199 2210.79 174.199 L2207.39 174.199 L2207.39 170.634 L2209.89 170.634 Q2211.65 170.634 2212.62 169.8 Q2213.59 168.967 2214.77 165.865 L2215.53 163.921 L2205.05 138.412 L2209.56 138.412 L2217.66 158.689 L2225.77 138.412 L2230.28 138.412 L2218.89 166.745 Z\" fill=\"#000000\" fill-rule=\"nonzero\" fill-opacity=\"1\" /><path clip-path=\"url(#clip950)\" d=\"M2237.57 160.402 L2245.21 160.402 L2245.21 134.037 L2236.9 135.703 L2236.9 131.444 L2245.16 129.778 L2249.84 129.778 L2249.84 160.402 L2257.48 160.402 L2257.48 164.338 L2237.57 164.338 L2237.57 160.402 Z\" fill=\"#000000\" fill-rule=\"nonzero\" fill-opacity=\"1\" /><polyline clip-path=\"url(#clip950)\" style=\"stroke:#e26f46; stroke-linecap:round; stroke-linejoin:round; stroke-width:4; stroke-opacity:1; fill:none\" points=\"2038.31,198.898 2181.23,198.898 \"/>\n",
       "<path clip-path=\"url(#clip950)\" d=\"M2218.89 218.585 Q2217.09 223.215 2215.37 224.627 Q2213.66 226.039 2210.79 226.039 L2207.39 226.039 L2207.39 222.474 L2209.89 222.474 Q2211.65 222.474 2212.62 221.64 Q2213.59 220.807 2214.77 217.705 L2215.53 215.761 L2205.05 190.252 L2209.56 190.252 L2217.66 210.529 L2225.77 190.252 L2230.28 190.252 L2218.89 218.585 Z\" fill=\"#000000\" fill-rule=\"nonzero\" fill-opacity=\"1\" /><path clip-path=\"url(#clip950)\" d=\"M2240.79 212.242 L2257.11 212.242 L2257.11 216.178 L2235.16 216.178 L2235.16 212.242 Q2237.83 209.488 2242.41 204.858 Q2247.02 200.205 2248.2 198.863 Q2250.44 196.34 2251.32 194.604 Q2252.22 192.844 2252.22 191.155 Q2252.22 188.4 2250.28 186.664 Q2248.36 184.928 2245.26 184.928 Q2243.06 184.928 2240.6 185.692 Q2238.17 186.455 2235.4 188.006 L2235.4 183.284 Q2238.22 182.15 2240.67 181.571 Q2243.13 180.993 2245.16 180.993 Q2250.53 180.993 2253.73 183.678 Q2256.92 186.363 2256.92 190.854 Q2256.92 192.983 2256.11 194.905 Q2255.33 196.803 2253.22 199.395 Q2252.64 200.067 2249.54 203.284 Q2246.44 206.479 2240.79 212.242 Z\" fill=\"#000000\" fill-rule=\"nonzero\" fill-opacity=\"1\" /></svg>\n"
      ]
     },
     "execution_count": 9,
     "metadata": {},
     "output_type": "execute_result"
    }
   ],
   "source": [
    "# This is with the default integrator\n",
    "\n",
    "using Plots\n",
    "\n",
    "plot(phi_values)\n",
    "plot!(psi_values)"
   ]
  },
  {
   "cell_type": "code",
   "execution_count": null,
   "metadata": {},
   "outputs": [
    {
     "name": "stdout",
     "output_type": "stream",
     "text": [
      "progress = Progress(n_steps) = ProgressMeter.Progress(1000, 0, nothing, ProgressMeter.BarGlyphs('|', '█', ['▏', '▎', '▍', '▌', '▋', '▊', '▉'], ' ', '|'), ProgressMeter.ProgressCore(:green, \"Progress: \", 0.1, true, 0, IJulia.IJuliaStdio{Base.PipeEndpoint}(IOContext(Base.PipeEndpoint(RawFD(40) open, 0 bytes waiting))), false, 1, 0, ReentrantLock(nothing, 0x00000000, 0x00, Base.GenericCondition{Base.Threads.SpinLock}(Base.IntrusiveLinkedList{Task}(nothing, nothing), Base.Threads.SpinLock(0)), (0, 0, 144336173941)), 0, 1, false, false, 1.742397775215447e9, 1.742397775215447e9, 1.742397775215447e9))\n"
     ]
    },
    {
     "name": "stderr",
     "output_type": "stream",
     "text": [
      "\u001b[32mProgress: 100%|█████████████████████████████████████████| Time: 0:00:00\u001b[39m\n"
     ]
    },
    {
     "name": "stdout",
     "output_type": "stream",
     "text": [
      "progress = Progress(n_steps) = ProgressMeter.Progress(1000, 0, nothing, ProgressMeter.BarGlyphs('|', '█', ['▏', '▎', '▍', '▌', '▋', '▊', '▉'], ' ', '|'), ProgressMeter.ProgressCore(:green, \"Progress: \", 0.1, true, 0, IJulia.IJuliaStdio{Base.PipeEndpoint}(IOContext(Base.PipeEndpoint(RawFD(40) open, 0 bytes waiting))), false, 1, 0, ReentrantLock(nothing, 0x00000000, 0x00, Base.GenericCondition{Base.Threads.SpinLock}(Base.IntrusiveLinkedList{Task}(nothing, nothing), Base.Threads.SpinLock(0)), (4300722896, 4300513024, -1)), 0, 1, false, false, 1.742397775427767e9, 1.742397775427767e9, 1.742397775427767e9))\n"
     ]
    },
    {
     "name": "stderr",
     "output_type": "stream",
     "text": [
      "\u001b[32mProgress: 100%|█████████████████████████████████████████| Time: 0:00:00\u001b[39m\n"
     ]
    },
    {
     "name": "stdout",
     "output_type": "stream",
     "text": [
      "progress = Progress(n_steps) = ProgressMeter.Progress(1000, 0, nothing, ProgressMeter.BarGlyphs('|', '█', ['▏', '▎', '▍', '▌', '▋', '▊', '▉'], ' ', '|'), ProgressMeter.ProgressCore(:green, \"Progress: \", 0.1, true, 0, IJulia.IJuliaStdio{Base.PipeEndpoint}(IOContext(Base.PipeEndpoint(RawFD(40) open, 0 bytes waiting))), false, 1, 0, ReentrantLock(nothing, 0x00000000, 0x00, Base.GenericCondition{Base.Threads.SpinLock}(Base.IntrusiveLinkedList{Task}(nothing, nothing), Base.Threads.SpinLock(0)), (5709910320, 5709910352, 431792399119)), 0, 1, false, false, 1.742397775633433e9, 1.742397775633433e9, 1.742397775633433e9))\n"
     ]
    },
    {
     "name": "stderr",
     "output_type": "stream",
     "text": [
      "\u001b[32mProgress: 100%|█████████████████████████████████████████| Time: 0:00:00\u001b[39m\n"
     ]
    },
    {
     "name": "stdout",
     "output_type": "stream",
     "text": [
      "progress = Progress(n_steps) = ProgressMeter.Progress(1000, 0, nothing, ProgressMeter.BarGlyphs('|', '█', ['▏', '▎', '▍', '▌', '▋', '▊', '▉'], ' ', '|'), ProgressMeter.ProgressCore(:green, \"Progress: \", 0.1, true, 0, IJulia.IJuliaStdio{Base.PipeEndpoint}(IOContext(Base.PipeEndpoint(RawFD(40) open, 0 bytes waiting))), false, 1, 0, ReentrantLock(nothing, 0x00000000, 0x00, Base.GenericCondition{Base.Threads.SpinLock}(Base.IntrusiveLinkedList{Task}(nothing, nothing), Base.Threads.SpinLock(0)), (0, 0, 2377900747084643388)), 0, 1, false, false, 1.742397775833764e9, 1.742397775833764e9, 1.742397775833764e9))\n"
     ]
    },
    {
     "name": "stderr",
     "output_type": "stream",
     "text": [
      "\u001b[32mProgress: 100%|█████████████████████████████████████████| Time: 0:00:00\u001b[39m\n"
     ]
    },
    {
     "name": "stdout",
     "output_type": "stream",
     "text": [
      "progress = Progress(n_steps) = ProgressMeter.Progress(1000, 0, nothing, ProgressMeter.BarGlyphs('|', '█', ['▏', '▎', '▍', '▌', '▋', '▊', '▉'], ' ', '|'), ProgressMeter.ProgressCore(:green, \"Progress: \", 0.1, true, 0, IJulia.IJuliaStdio{Base.PipeEndpoint}(IOContext(Base.PipeEndpoint(RawFD(40) open, 0 bytes waiting))), false, 1, 0, ReentrantLock(nothing, 0x00000000, 0x00, Base.GenericCondition{Base.Threads.SpinLock}(Base.IntrusiveLinkedList{Task}(nothing, nothing), Base.Threads.SpinLock(0)), (0, 0, 141733920768)), 0, 1, false, false, 1.742397776075817e9, 1.742397776075817e9, 1.742397776075817e9))\n"
     ]
    },
    {
     "name": "stderr",
     "output_type": "stream",
     "text": [
      "\u001b[32mProgress: 100%|█████████████████████████████████████████| Time: 0:00:00\u001b[39m\n"
     ]
    },
    {
     "name": "stdout",
     "output_type": "stream",
     "text": [
      "progress = Progress(n_steps) = ProgressMeter.Progress(1000, 0, nothing, ProgressMeter.BarGlyphs('|', '█', ['▏', '▎', '▍', '▌', '▋', '▊', '▉'], ' ', '|'), ProgressMeter.ProgressCore(:green, \"Progress: \", 0.1, true, 0, IJulia.IJuliaStdio{Base.PipeEndpoint}(IOContext(Base.PipeEndpoint(RawFD(40) open, 0 bytes waiting))), false, 1, 0, ReentrantLock(nothing, 0x00000000, 0x00, Base.GenericCondition{Base.Threads.SpinLock}(Base.IntrusiveLinkedList{Task}(nothing, nothing), Base.Threads.SpinLock(0)), (0, 0, 144336173941)), 0, 1, false, false, 1.742397776277502e9, 1.742397776277502e9, 1.742397776277502e9))\n"
     ]
    },
    {
     "name": "stderr",
     "output_type": "stream",
     "text": [
      "\u001b[32mProgress: 100%|█████████████████████████████████████████| Time: 0:00:00\u001b[39m\n"
     ]
    },
    {
     "name": "stdout",
     "output_type": "stream",
     "text": [
      "progress = Progress(n_steps) = ProgressMeter.Progress(1000, 0, nothing, ProgressMeter.BarGlyphs('|', '█', ['▏', '▎', '▍', '▌', '▋', '▊', '▉'], ' ', '|'), ProgressMeter.ProgressCore(:green, \"Progress: \", 0.1, true, 0, IJulia.IJuliaStdio{Base.PipeEndpoint}(IOContext(Base.PipeEndpoint(RawFD(40) open, 0 bytes waiting))), false, 1, 0, ReentrantLock(nothing, 0x00000000, 0x00, Base.GenericCondition{Base.Threads.SpinLock}(Base.IntrusiveLinkedList{Task}(nothing, nothing), Base.Threads.SpinLock(0)), (5, 6, -281333242789888)), 0, 1, false, false, 1.742397776479636e9, 1.742397776479638e9, 1.742397776479638e9))\n"
     ]
    },
    {
     "name": "stderr",
     "output_type": "stream",
     "text": [
      "\u001b[32mProgress: 100%|█████████████████████████████████████████| Time: 0:00:00\u001b[39m\n"
     ]
    },
    {
     "name": "stdout",
     "output_type": "stream",
     "text": [
      "progress = Progress(n_steps) = ProgressMeter.Progress(1000, 0, nothing, ProgressMeter.BarGlyphs('|', '█', ['▏', '▎', '▍', '▌', '▋', '▊', '▉'], ' ', '|'), ProgressMeter.ProgressCore(:green, \"Progress: \", 0.1, true, 0, IJulia.IJuliaStdio{Base.PipeEndpoint}(IOContext(Base.PipeEndpoint(RawFD(40) open, 0 bytes waiting))), false, 1, 0, ReentrantLock(nothing, 0x00000000, 0x00, Base.GenericCondition{Base.Threads.SpinLock}(Base.IntrusiveLinkedList{Task}(nothing, nothing), Base.Threads.SpinLock(0)), (1, 1, 22)), 0, 1, false, false, 1.742397776678322e9, 1.742397776678322e9, 1.742397776678322e9))\n"
     ]
    },
    {
     "name": "stderr",
     "output_type": "stream",
     "text": [
      "\u001b[32mProgress: 100%|█████████████████████████████████████████| Time: 0:00:00\u001b[39m\n"
     ]
    },
    {
     "name": "stdout",
     "output_type": "stream",
     "text": [
      "progress = Progress(n_steps) = ProgressMeter.Progress(1000, 0, nothing, ProgressMeter.BarGlyphs('|', '█', ['▏', '▎', '▍', '▌', '▋', '▊', '▉'], ' ', '|'), ProgressMeter.ProgressCore(:green, \"Progress: \", 0.1, true, 0, IJulia.IJuliaStdio{Base.PipeEndpoint}(IOContext(Base.PipeEndpoint(RawFD(40) open, 0 bytes waiting))), false, 1, 0, ReentrantLock(nothing, 0x00000000, 0x00, Base.GenericCondition{Base.Threads.SpinLock}(Base.IntrusiveLinkedList{Task}(nothing, nothing), Base.Threads.SpinLock(0)), (7, 0, -1)), 0, 1, false, false, 1.742397776879789e9, 1.742397776879789e9, 1.742397776879789e9))\n"
     ]
    },
    {
     "name": "stderr",
     "output_type": "stream",
     "text": [
      "\u001b[32mProgress: 100%|█████████████████████████████████████████| Time: 0:00:00\u001b[39m\n"
     ]
    },
    {
     "name": "stdout",
     "output_type": "stream",
     "text": [
      "progress = Progress(n_steps) = ProgressMeter.Progress(1000, 0, nothing, ProgressMeter.BarGlyphs('|', '█', ['▏', '▎', '▍', '▌', '▋', '▊', '▉'], ' ', '|'), ProgressMeter.ProgressCore(:green, \"Progress: \", 0.1, true, 0, IJulia.IJuliaStdio{Base.PipeEndpoint}(IOContext(Base.PipeEndpoint(RawFD(40) open, 0 bytes waiting))), false, 1, 0, ReentrantLock(nothing, 0x00000000, 0x00, Base.GenericCondition{Base.Threads.SpinLock}(Base.IntrusiveLinkedList{Task}(nothing, nothing), Base.Threads.SpinLock(0)), (0, 0, 430036378497)), 0, 1, false, false, 1.742397777082881e9, 1.742397777082881e9, 1.742397777082881e9))\n"
     ]
    },
    {
     "name": "stderr",
     "output_type": "stream",
     "text": [
      "\u001b[32mProgress: 100%|█████████████████████████████████████████| Time: 0:00:00\u001b[39m\n"
     ]
    },
    {
     "name": "stdout",
     "output_type": "stream",
     "text": [
      "progress = Progress(n_steps) = ProgressMeter.Progress(1000, 0, nothing, ProgressMeter.BarGlyphs('|', '█', ['▏', '▎', '▍', '▌', '▋', '▊', '▉'], ' ', '|'), ProgressMeter.ProgressCore(:green, \"Progress: \", 0.1, true, 0, IJulia.IJuliaStdio{Base.PipeEndpoint}(IOContext(Base.PipeEndpoint(RawFD(40) open, 0 bytes waiting))), false, 1, 0, ReentrantLock(nothing, 0x00000000, 0x00, Base.GenericCondition{Base.Threads.SpinLock}(Base.IntrusiveLinkedList{Task}(nothing, nothing), Base.Threads.SpinLock(0)), (1, 1, 22)), 0, 1, false, false, 1.742397777282821e9, 1.742397777282821e9, 1.742397777282821e9))"
     ]
    },
    {
     "name": "stderr",
     "output_type": "stream",
     "text": [
      "\u001b[32mProgress:  51%|████████████████████▉                    |  ETA: 0:00:00\u001b[39m"
     ]
    },
    {
     "name": "stdout",
     "output_type": "stream",
     "text": [
      "\n"
     ]
    },
    {
     "name": "stderr",
     "output_type": "stream",
     "text": [
      "\u001b[32mProgress: 100%|█████████████████████████████████████████| Time: 0:00:00\u001b[39m\n"
     ]
    },
    {
     "name": "stdout",
     "output_type": "stream",
     "text": [
      "progress = Progress(n_steps) = ProgressMeter.Progress(1000, 0, nothing, ProgressMeter.BarGlyphs('|', '█', ['▏', '▎', '▍', '▌', '▋', '▊', '▉'], ' ', '|'), ProgressMeter.ProgressCore(:green, \"Progress: \", 0.1, true, 0, IJulia.IJuliaStdio{Base.PipeEndpoint}(IOContext(Base.PipeEndpoint(RawFD(40) open, 0 bytes waiting))), false, 1, 0, ReentrantLock(nothing, 0x00000000, 0x00, Base.GenericCondition{Base.Threads.SpinLock}(Base.IntrusiveLinkedList{Task}(nothing, nothing), Base.Threads.SpinLock(0)), (8, 14, 141733920768)), 0, 1, false, false, 1.74239777748339e9, 1.74239777748339e9, 1.74239777748339e9))\n"
     ]
    },
    {
     "name": "stderr",
     "output_type": "stream",
     "text": [
      "\u001b[32mProgress: 100%|█████████████████████████████████████████| Time: 0:00:00\u001b[39m\n"
     ]
    },
    {
     "name": "stdout",
     "output_type": "stream",
     "text": [
      "progress = Progress(n_steps) = ProgressMeter.Progress(1000, 0, nothing, ProgressMeter.BarGlyphs('|', '█', ['▏', '▎', '▍', '▌', '▋', '▊', '▉'], ' ', '|'), ProgressMeter.ProgressCore(:green, \"Progress: \", 0.1, true, 0, IJulia.IJuliaStdio{Base.PipeEndpoint}(IOContext(Base.PipeEndpoint(RawFD(40) open, 0 bytes waiting))), false, 1, 0, ReentrantLock(nothing, 0x00000000, 0x00, Base.GenericCondition{Base.Threads.SpinLock}(Base.IntrusiveLinkedList{Task}(nothing, nothing), Base.Threads.SpinLock(0)), (4664767233, 1, 22)), 0, 1, false, false, 1.742397777685163e9, 1.742397777685163e9, 1.742397777685163e9))"
     ]
    },
    {
     "name": "stderr",
     "output_type": "stream",
     "text": [
      "\u001b[32mProgress:  50%|████████████████████▋                    |  ETA: 0:00:00\u001b[39m"
     ]
    },
    {
     "name": "stdout",
     "output_type": "stream",
     "text": [
      "\n"
     ]
    },
    {
     "name": "stderr",
     "output_type": "stream",
     "text": [
      "\u001b[32mProgress: 100%|█████████████████████████████████████████| Time: 0:00:00\u001b[39m\n"
     ]
    },
    {
     "name": "stdout",
     "output_type": "stream",
     "text": [
      "progress = Progress(n_steps) = ProgressMeter.Progress(1000, 0, nothing, ProgressMeter.BarGlyphs('|', '█', ['▏', '▎', '▍', '▌', '▋', '▊', '▉'], ' ', '|'), ProgressMeter.ProgressCore(:green, \"Progress: \", 0.1, true, 0, IJulia.IJuliaStdio{Base.PipeEndpoint}(IOContext(Base.PipeEndpoint(RawFD(40) open, 0 bytes waiting))), false, 1, 0, ReentrantLock(nothing, 0x00000000, 0x00, Base.GenericCondition{Base.Threads.SpinLock}(Base.IntrusiveLinkedList{Task}(nothing, nothing), Base.Threads.SpinLock(0)), (13152099329, 1, 22)), 0, 1, false, false, 1.742397777934899e9, 1.742397777934899e9, 1.742397777934899e9))\n"
     ]
    },
    {
     "name": "stderr",
     "output_type": "stream",
     "text": [
      "\u001b[32mProgress: 100%|█████████████████████████████████████████| Time: 0:00:00\u001b[39m\n"
     ]
    },
    {
     "name": "stdout",
     "output_type": "stream",
     "text": [
      "progress = Progress(n_steps) = ProgressMeter.Progress(1000, 0, nothing, ProgressMeter.BarGlyphs('|', '█', ['▏', '▎', '▍', '▌', '▋', '▊', '▉'], ' ', '|'), ProgressMeter.ProgressCore(:green, \"Progress: \", 0.1, true, 0, IJulia.IJuliaStdio{Base.PipeEndpoint}(IOContext(Base.PipeEndpoint(RawFD(40) open, 0 bytes waiting))), false, 1, 0, ReentrantLock(nothing, 0x00000000, 0x00, Base.GenericCondition{Base.Threads.SpinLock}(Base.IntrusiveLinkedList{Task}(nothing, nothing), Base.Threads.SpinLock(0)), (0, 0, -281330640536715)), 0, 1, false, false, 1.742397778137442e9, 1.742397778137442e9, 1.742397778137442e9))\n"
     ]
    },
    {
     "name": "stderr",
     "output_type": "stream",
     "text": [
      "\u001b[32mProgress: 100%|█████████████████████████████████████████| Time: 0:00:00\u001b[39m\n"
     ]
    },
    {
     "name": "stdout",
     "output_type": "stream",
     "text": [
      "progress = Progress(n_steps) = ProgressMeter.Progress(1000, 0, nothing, ProgressMeter.BarGlyphs('|', '█', ['▏', '▎', '▍', '▌', '▋', '▊', '▉'], ' ', '|'), ProgressMeter.ProgressCore(:green, \"Progress: \", 0.1, true, 0, IJulia.IJuliaStdio{Base.PipeEndpoint}(IOContext(Base.PipeEndpoint(RawFD(40) open, 0 bytes waiting))), false, 1, 0, ReentrantLock(nothing, 0x00000000, 0x00, Base.GenericCondition{Base.Threads.SpinLock}(Base.IntrusiveLinkedList{Task}(nothing, nothing), Base.Threads.SpinLock(0)), (4610916787295108353, 1, 22)), 0, 1, false, false, 1.742397778337591e9, 1.742397778337591e9, 1.742397778337591e9))\n"
     ]
    },
    {
     "name": "stderr",
     "output_type": "stream",
     "text": [
      "\u001b[32mProgress: 100%|█████████████████████████████████████████| Time: 0:00:00\u001b[39m\n"
     ]
    },
    {
     "name": "stdout",
     "output_type": "stream",
     "text": [
      "progress = Progress(n_steps) = ProgressMeter.Progress(1000, 0, nothing, ProgressMeter.BarGlyphs('|', '█', ['▏', '▎', '▍', '▌', '▋', '▊', '▉'], ' ', '|'), ProgressMeter.ProgressCore(:green, \"Progress: \", 0.1, true, 0, IJulia.IJuliaStdio{Base.PipeEndpoint}(IOContext(Base.PipeEndpoint(RawFD(40) open, 0 bytes waiting))), false, 1, 0, ReentrantLock(nothing, 0x00000000, 0x00, Base.GenericCondition{Base.Threads.SpinLock}(Base.IntrusiveLinkedList{Task}(nothing, nothing), Base.Threads.SpinLock(0)), (1, 1, 22)), 0, 1, false, false, 1.74239777853844e9, 1.74239777853844e9, 1.74239777853844e9))\n"
     ]
    },
    {
     "name": "stderr",
     "output_type": "stream",
     "text": [
      "\u001b[32mProgress: 100%|█████████████████████████████████████████| Time: 0:00:00\u001b[39m\n"
     ]
    },
    {
     "name": "stdout",
     "output_type": "stream",
     "text": [
      "progress = Progress(n_steps) = ProgressMeter.Progress(1000, 0, nothing, ProgressMeter.BarGlyphs('|', '█', ['▏', '▎', '▍', '▌', '▋', '▊', '▉'], ' ', '|'), ProgressMeter.ProgressCore(:green, \"Progress: \", 0.1, true, 0, IJulia.IJuliaStdio{Base.PipeEndpoint}(IOContext(Base.PipeEndpoint(RawFD(40) open, 0 bytes waiting))), false, 1, 0, ReentrantLock(nothing, 0x00000000, 0x00, Base.GenericCondition{Base.Threads.SpinLock}(Base.IntrusiveLinkedList{Task}(nothing, nothing), Base.Threads.SpinLock(0)), (0, 0, 430036378497)), 0, 1, false, false, 1.742397778736625e9, 1.742397778736625e9, 1.742397778736625e9))\n"
     ]
    },
    {
     "name": "stderr",
     "output_type": "stream",
     "text": [
      "\u001b[32mProgress: 100%|█████████████████████████████████████████| Time: 0:00:00\u001b[39m\n"
     ]
    },
    {
     "name": "stdout",
     "output_type": "stream",
     "text": [
      "progress = Progress(n_steps) = ProgressMeter.Progress(1000, 0, nothing, ProgressMeter.BarGlyphs('|', '█', ['▏', '▎', '▍', '▌', '▋', '▊', '▉'], ' ', '|'), ProgressMeter.ProgressCore(:green, \"Progress: \", 0.1, true, 0, IJulia.IJuliaStdio{Base.PipeEndpoint}(IOContext(Base.PipeEndpoint(RawFD(40) open, 0 bytes waiting))), false, 1, 0, ReentrantLock(nothing, 0x00000000, 0x00, Base.GenericCondition{Base.Threads.SpinLock}(Base.IntrusiveLinkedList{Task}(nothing, nothing), Base.Threads.SpinLock(0)), (1, 1, 22)), 0, 1, false, false, 1.742397778942657e9, 1.742397778942657e9, 1.742397778942657e9))\n"
     ]
    },
    {
     "name": "stderr",
     "output_type": "stream",
     "text": [
      "\u001b[32mProgress: 100%|█████████████████████████████████████████| Time: 0:00:00\u001b[39m\n"
     ]
    },
    {
     "name": "stdout",
     "output_type": "stream",
     "text": [
      "progress = Progress(n_steps) = ProgressMeter.Progress(1000, 0, nothing, ProgressMeter.BarGlyphs('|', '█', ['▏', '▎', '▍', '▌', '▋', '▊', '▉'], ' ', '|'), ProgressMeter.ProgressCore(:green, \"Progress: \", 0.1, true, 0, IJulia.IJuliaStdio{Base.PipeEndpoint}(IOContext(Base.PipeEndpoint(RawFD(40) open, 0 bytes waiting))), false, 1, 0, ReentrantLock(nothing, 0x00000000, 0x00, Base.GenericCondition{Base.Threads.SpinLock}(Base.IntrusiveLinkedList{Task}(nothing, nothing), Base.Threads.SpinLock(0)), (4611859651306884353, 1, 22)), 0, 1, false, false, 1.74239777913884e9, 1.74239777913884e9, 1.74239777913884e9))\n"
     ]
    },
    {
     "name": "stderr",
     "output_type": "stream",
     "text": [
      "\u001b[32mProgress: 100%|█████████████████████████████████████████| Time: 0:00:00\u001b[39m\n"
     ]
    },
    {
     "name": "stdout",
     "output_type": "stream",
     "text": [
      "progress = Progress(n_steps) = ProgressMeter.Progress(1000, 0, nothing, ProgressMeter.BarGlyphs('|', '█', ['▏', '▎', '▍', '▌', '▋', '▊', '▉'], ' ', '|'), ProgressMeter.ProgressCore(:green, \"Progress: \", 0.1, true, 0, IJulia.IJuliaStdio{Base.PipeEndpoint}(IOContext(Base.PipeEndpoint(RawFD(40) open, 0 bytes waiting))), false, 1, 0, ReentrantLock(nothing, 0x00000000, 0x00, Base.GenericCondition{Base.Threads.SpinLock}(Base.IntrusiveLinkedList{Task}(nothing, nothing), Base.Threads.SpinLock(0)), (0, 0, 4703380704)), 0, 1, false, false, 1.742397779341487e9, 1.742397779341487e9, 1.742397779341487e9))\n"
     ]
    },
    {
     "name": "stderr",
     "output_type": "stream",
     "text": [
      "\u001b[32mProgress: 100%|█████████████████████████████████████████| Time: 0:00:00\u001b[39m\n"
     ]
    },
    {
     "name": "stdout",
     "output_type": "stream",
     "text": [
      "progress = Progress(n_steps) = ProgressMeter.Progress(1000, 0, nothing, ProgressMeter.BarGlyphs('|', '█', ['▏', '▎', '▍', '▌', '▋', '▊', '▉'], ' ', '|'), ProgressMeter.ProgressCore(:green, \"Progress: \", 0.1, true, 0, IJulia.IJuliaStdio{Base.PipeEndpoint}(IOContext(Base.PipeEndpoint(RawFD(40) open, 0 bytes waiting))), false, 1, 0, ReentrantLock(nothing, 0x00000000, 0x00, Base.GenericCondition{Base.Threads.SpinLock}(Base.IntrusiveLinkedList{Task}(nothing, nothing), Base.Threads.SpinLock(0)), (1, 1, 22)), 0, 1, false, false, 1.742397779547172e9, 1.742397779547172e9, 1.742397779547172e9))\n"
     ]
    },
    {
     "name": "stderr",
     "output_type": "stream",
     "text": [
      "\u001b[32mProgress: 100%|█████████████████████████████████████████| Time: 0:00:00\u001b[39m\n"
     ]
    },
    {
     "name": "stdout",
     "output_type": "stream",
     "text": [
      "progress = Progress(n_steps) = ProgressMeter.Progress(1000, 0, nothing, ProgressMeter.BarGlyphs('|', '█', ['▏', '▎', '▍', '▌', '▋', '▊', '▉'], ' ', '|'), ProgressMeter.ProgressCore(:green, \"Progress: \", 0.1, true, 0, IJulia.IJuliaStdio{Base.PipeEndpoint}(IOContext(Base.PipeEndpoint(RawFD(40) open, 0 bytes waiting))), false, 1, 0, ReentrantLock(nothing, 0x00000000, 0x00, Base.GenericCondition{Base.Threads.SpinLock}(Base.IntrusiveLinkedList{Task}(nothing, nothing), Base.Threads.SpinLock(0)), (2, 1, 431322352720)), 0, 1, false, false, 1.742397779753839e9, 1.742397779753839e9, 1.742397779753839e9))\n"
     ]
    },
    {
     "name": "stderr",
     "output_type": "stream",
     "text": [
      "\u001b[32mProgress: 100%|█████████████████████████████████████████| Time: 0:00:00\u001b[39m\n"
     ]
    },
    {
     "name": "stdout",
     "output_type": "stream",
     "text": [
      "progress = Progress(n_steps) = ProgressMeter.Progress(1000, 0, nothing, ProgressMeter.BarGlyphs('|', '█', ['▏', '▎', '▍', '▌', '▋', '▊', '▉'], ' ', '|'), ProgressMeter.ProgressCore(:green, \"Progress: \", 0.1, true, 0, IJulia.IJuliaStdio{Base.PipeEndpoint}(IOContext(Base.PipeEndpoint(RawFD(40) open, 0 bytes waiting))), false, 1, 0, ReentrantLock(nothing, 0x00000000, 0x00, Base.GenericCondition{Base.Threads.SpinLock}(Base.IntrusiveLinkedList{Task}(nothing, nothing), Base.Threads.SpinLock(0)), (5714805200, 4705868944, 4703380704)), 0, 1, false, false, 1.742397779999227e9, 1.742397779999227e9, 1.742397779999227e9))\n"
     ]
    },
    {
     "name": "stderr",
     "output_type": "stream",
     "text": [
      "\u001b[32mProgress: 100%|█████████████████████████████████████████| Time: 0:00:00\u001b[39m\n"
     ]
    },
    {
     "name": "stdout",
     "output_type": "stream",
     "text": [
      "progress = Progress(n_steps) = ProgressMeter.Progress(1000, 0, nothing, ProgressMeter.BarGlyphs('|', '█', ['▏', '▎', '▍', '▌', '▋', '▊', '▉'], ' ', '|'), ProgressMeter.ProgressCore(:green, \"Progress: \", 0.1, true, 0, IJulia.IJuliaStdio{Base.PipeEndpoint}(IOContext(Base.PipeEndpoint(RawFD(40) open, 0 bytes waiting))), false, 1, 0, ReentrantLock(nothing, 0x00000000, 0x00, Base.GenericCondition{Base.Threads.SpinLock}(Base.IntrusiveLinkedList{Task}(nothing, nothing), Base.Threads.SpinLock(0)), (1, 1, 22)), 0, 1, false, false, 1.742397780203213e9, 1.742397780203213e9, 1.742397780203213e9))\n"
     ]
    },
    {
     "name": "stderr",
     "output_type": "stream",
     "text": [
      "\u001b[32mProgress: 100%|█████████████████████████████████████████| Time: 0:00:00\u001b[39m\n"
     ]
    },
    {
     "name": "stdout",
     "output_type": "stream",
     "text": [
      "progress = Progress(n_steps) = ProgressMeter.Progress(1000, 0, nothing, ProgressMeter.BarGlyphs('|', '█', ['▏', '▎', '▍', '▌', '▋', '▊', '▉'], ' ', '|'), ProgressMeter.ProgressCore(:green, \"Progress: \", 0.1, true, 0, IJulia.IJuliaStdio{Base.PipeEndpoint}(IOContext(Base.PipeEndpoint(RawFD(40) open, 0 bytes waiting))), false, 1, 0, ReentrantLock(nothing, 0x00000000, 0x00, Base.GenericCondition{Base.Threads.SpinLock}(Base.IntrusiveLinkedList{Task}(nothing, nothing), Base.Threads.SpinLock(0)), (1, 1, 22)), 0, 1, false, false, 1.74239778040032e9, 1.74239778040032e9, 1.74239778040032e9))\n"
     ]
    },
    {
     "name": "stderr",
     "output_type": "stream",
     "text": [
      "\u001b[32mProgress: 100%|█████████████████████████████████████████| Time: 0:00:00\u001b[39m\n"
     ]
    },
    {
     "name": "stdout",
     "output_type": "stream",
     "text": [
      "progress = Progress(n_steps) = ProgressMeter.Progress(1000, 0, nothing, ProgressMeter.BarGlyphs('|', '█', ['▏', '▎', '▍', '▌', '▋', '▊', '▉'], ' ', '|'), ProgressMeter.ProgressCore(:green, \"Progress: \", 0.1, true, 0, IJulia.IJuliaStdio{Base.PipeEndpoint}(IOContext(Base.PipeEndpoint(RawFD(40) open, 0 bytes waiting))), false, 1, 0, ReentrantLock(nothing, 0x00000000, 0x00, Base.GenericCondition{Base.Threads.SpinLock}(Base.IntrusiveLinkedList{Task}(nothing, nothing), Base.Threads.SpinLock(0)), (4610890368634902137, 4610135022540745064, 22)), 0, 1, false, false, 1.742397780605907e9, 1.742397780605907e9, 1.742397780605908e9))"
     ]
    },
    {
     "name": "stderr",
     "output_type": "stream",
     "text": [
      "\u001b[32mProgress:  51%|████████████████████▉                    |  ETA: 0:00:00\u001b[39m"
     ]
    },
    {
     "name": "stdout",
     "output_type": "stream",
     "text": [
      "\n"
     ]
    },
    {
     "name": "stderr",
     "output_type": "stream",
     "text": [
      "\u001b[32mProgress: 100%|█████████████████████████████████████████| Time: 0:00:00\u001b[39m\n"
     ]
    },
    {
     "name": "stdout",
     "output_type": "stream",
     "text": [
      "progress = Progress(n_steps) = ProgressMeter.Progress(1000, 0, nothing, ProgressMeter.BarGlyphs('|', '█', ['▏', '▎', '▍', '▌', '▋', '▊', '▉'], ' ', '|'), ProgressMeter.ProgressCore(:green, \"Progress: \", 0.1, true, 0, IJulia.IJuliaStdio{Base.PipeEndpoint}(IOContext(Base.PipeEndpoint(RawFD(40) open, 0 bytes waiting))), false, 1, 0, ReentrantLock(nothing, 0x00000000, 0x00, Base.GenericCondition{Base.Threads.SpinLock}(Base.IntrusiveLinkedList{Task}(nothing, nothing), Base.Threads.SpinLock(0)), (1, 1, 22)), 0, 1, false, false, 1.742397780808183e9, 1.742397780808183e9, 1.742397780808183e9))\n"
     ]
    },
    {
     "name": "stderr",
     "output_type": "stream",
     "text": [
      "\u001b[32mProgress: 100%|█████████████████████████████████████████| Time: 0:00:00\u001b[39m\n"
     ]
    },
    {
     "name": "stdout",
     "output_type": "stream",
     "text": [
      "progress = Progress(n_steps) = ProgressMeter.Progress(1000, 0, nothing, ProgressMeter.BarGlyphs('|', '█', ['▏', '▎', '▍', '▌', '▋', '▊', '▉'], ' ', '|'), ProgressMeter.ProgressCore(:green, \"Progress: \", 0.1, true, 0, IJulia.IJuliaStdio{Base.PipeEndpoint}(IOContext(Base.PipeEndpoint(RawFD(40) open, 0 bytes waiting))), false, 1, 0, ReentrantLock(nothing, 0x00000000, 0x00, Base.GenericCondition{Base.Threads.SpinLock}(Base.IntrusiveLinkedList{Task}(nothing, nothing), Base.Threads.SpinLock(0)), (0, 0, -281330640536715)), 0, 1, false, false, 1.742397781010801e9, 1.742397781010801e9, 1.742397781010801e9))\n"
     ]
    },
    {
     "name": "stderr",
     "output_type": "stream",
     "text": [
      "\u001b[32mProgress: 100%|█████████████████████████████████████████| Time: 0:00:00\u001b[39m\n"
     ]
    },
    {
     "name": "stdout",
     "output_type": "stream",
     "text": [
      "progress = Progress(n_steps) = ProgressMeter.Progress(1000, 0, nothing, ProgressMeter.BarGlyphs('|', '█', ['▏', '▎', '▍', '▌', '▋', '▊', '▉'], ' ', '|'), ProgressMeter.ProgressCore(:green, \"Progress: \", 0.1, true, 0, IJulia.IJuliaStdio{Base.PipeEndpoint}(IOContext(Base.PipeEndpoint(RawFD(40) open, 0 bytes waiting))), false, 1, 0, ReentrantLock(nothing, 0x00000000, 0x00, Base.GenericCondition{Base.Threads.SpinLock}(Base.IntrusiveLinkedList{Task}(nothing, nothing), Base.Threads.SpinLock(0)), (4611468723124210433, 1, 22)), 0, 1, false, false, 1.742397781213911e9, 1.742397781213911e9, 1.742397781213911e9))"
     ]
    },
    {
     "name": "stderr",
     "output_type": "stream",
     "text": [
      "\u001b[32mProgress:  51%|█████████████████████▏                   |  ETA: 0:00:00\u001b[39m"
     ]
    },
    {
     "name": "stdout",
     "output_type": "stream",
     "text": [
      "\n"
     ]
    },
    {
     "name": "stderr",
     "output_type": "stream",
     "text": [
      "\u001b[32mProgress: 100%|█████████████████████████████████████████| Time: 0:00:00\u001b[39m\n"
     ]
    },
    {
     "name": "stdout",
     "output_type": "stream",
     "text": [
      "progress = Progress(n_steps) = ProgressMeter.Progress(1000, 0, nothing, ProgressMeter.BarGlyphs('|', '█', ['▏', '▎', '▍', '▌', '▋', '▊', '▉'], ' ', '|'), ProgressMeter.ProgressCore(:green, \"Progress: \", 0.1, true, 0, IJulia.IJuliaStdio{Base.PipeEndpoint}(IOContext(Base.PipeEndpoint(RawFD(40) open, 0 bytes waiting))), false, 1, 0, ReentrantLock(nothing, 0x00000000, 0x00, Base.GenericCondition{Base.Threads.SpinLock}(Base.IntrusiveLinkedList{Task}(nothing, nothing), Base.Threads.SpinLock(0)), (4568645510995893283, 5694363216, 22)), 0, 1, false, false, 1.742397781415803e9, 1.742397781415803e9, 1.742397781415803e9))\n"
     ]
    },
    {
     "name": "stderr",
     "output_type": "stream",
     "text": [
      "\u001b[32mProgress: 100%|█████████████████████████████████████████| Time: 0:00:00\u001b[39m\n"
     ]
    },
    {
     "name": "stdout",
     "output_type": "stream",
     "text": [
      "Results saved to mean_and_std_angles.csv\n"
     ]
    }
   ],
   "source": [
    "using Statistics\n",
    "using Molly\n",
    "using ConstrainedDynamicsSimulator\n",
    "using Unitful\n",
    "using CSV\n",
    "using DataFrames\n",
    "using Threads\n",
    "\n",
    "function init_system(logging_interval)\n",
    "    ff_dir = joinpath(dirname(pathof(Molly)), \"..\", \"data\", \"force_fields\")\n",
    "    ff = MolecularForceField(joinpath.(ff_dir, [\"ff99SBildn.xml\", \"tip3p_standard.xml\"])...)\n",
    "    sys = System(\"dipeptide_nowater.pdb\", ff; rename_terminal_res=false)\n",
    "\n",
    "    function phi_wrapper(sys, args...; kwargs...)\n",
    "        rad2deg(torsion_angle(sys.coords[5], sys.coords[7], sys.coords[9],\n",
    "                            sys.coords[15], sys.boundary))\n",
    "    end\n",
    "\n",
    "    function psi_wrapper(sys, args...; kwargs...)\n",
    "        rad2deg(torsion_angle(sys.coords[7], sys.coords[9], sys.coords[15],\n",
    "                            sys.coords[17], sys.boundary))\n",
    "    end\n",
    "\n",
    "    sys = System(\n",
    "        \"dipeptide_nowater.pdb\",\n",
    "        ff;\n",
    "        rename_terminal_res=false,\n",
    "        loggers=(\n",
    "            phi=GeneralObservableLogger(phi_wrapper, Float64, logging_interval),\n",
    "            psi=GeneralObservableLogger(psi_wrapper, Float64, logging_interval),\n",
    "        ),\n",
    "        implicit_solvent=\"gbn2\",\n",
    "    )\n",
    "\n",
    "    return sys\n",
    "end\n",
    "\n",
    "timestep = 0.002u\"ps\"\n",
    "fric = 5000.0u\"ps^-1\"\n",
    "temps = [3 * 10^(x) for x in 0:0.1:3]\n",
    "traj_length = 1_000\n",
    "logging_interval = 1\n",
    "phi_data_array = zeros((length(temps), div(traj_length, logging_interval) + 1))\n",
    "psi_data_array = zeros((length(temps), div(traj_length, logging_interval) + 1))\n",
    "mean_phi_increment = zeros(length(temps))\n",
    "mean_psi_increment = zeros(length(temps))\n",
    "\n",
    "@threads for (idx, temp) in enumerate(temps)\n",
    "    sys = init_system(logging_interval)\n",
    "    temp = temp*u\"K\"\n",
    "    simulator = CVConstrainedOverdampedLangevin(dt=timestep, T=temp, γ=fric, φ_grid=ConstrainedDynamicsSimulator.Dihedrals.φ_grid, φ_flat=ConstrainedDynamicsSimulator.Dihedrals.φ_flat)\n",
    "    ConstrainedDynamicsSimulator.simulate!(sys, simulator, traj_length)\n",
    "    phi_data_array[idx, :] = values(sys.loggers.phi)\n",
    "    psi_data_array[idx, :] = values(sys.loggers.psi)\n",
    "    mean_phi_increment[idx] = mean(abs.(diff(values(sys.loggers.phi))))\n",
    "    mean_psi_increment[idx] = mean(abs.(diff(values(sys.loggers.psi))))\n",
    "end\n",
    "\n",
    "mean_phi_angles = vec(mean(phi_data_array, dims=2))\n",
    "mean_psi_angles = vec(mean(psi_data_array, dims=2))\n",
    "std_phi_angles = vec(std(phi_data_array, dims=2))\n",
    "std_psi_angles = vec(std(psi_data_array, dims=2))\n",
    "\n",
    "df = DataFrame(\n",
    "    Temperature_K = temps,\n",
    "    Mean_Phi_Angles = mean_phi_angles,\n",
    "    Std_Phi_Angles = std_phi_angles,\n",
    "    Mean_Phi_Increment = mean_phi_increment,\n",
    "    Mean_Psi_Angles = mean_psi_angles,\n",
    "    Std_Psi_Angles = std_psi_angles,\n",
    "    Mean_Psi_Increment = mean_psi_increment\n",
    ")\n",
    "\n",
    "metadata = \"\"\"\n",
    "# Timestep: $(timestep)\n",
    "# Friction Coefficient: $(fric)\n",
    "# Trajectory Length: $(traj_length) steps\n",
    "# Logging Interval: $(logging_interval)\n",
    "# Temperature Range: $(minimum(temps)) K to $(maximum(temps)) K\n",
    "# Number of Temperatures: $(length(temps))\n",
    "\"\"\"\n",
    "\n",
    "open(\"./results/EM/mean_and_std_angles.csv\", \"w\") do io\n",
    "    write(io, metadata)\n",
    "    CSV.write(io, df; append=true, writeheader=true)\n",
    "end\n",
    "\n",
    "println(\"Results saved to mean_and_std_angles.csv\")"
   ]
  },
  {
   "cell_type": "code",
   "execution_count": null,
   "metadata": {},
   "outputs": [],
   "source": []
  }
 ],
 "metadata": {
  "kernelspec": {
   "display_name": "Julia 1.11 1.11.4",
   "language": "julia",
   "name": "julia-1.11-1.11"
  },
  "language_info": {
   "file_extension": ".jl",
   "mimetype": "application/julia",
   "name": "julia",
   "version": "1.11.4"
  }
 },
 "nbformat": 4,
 "nbformat_minor": 2
}
