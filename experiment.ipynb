{
 "cells": [
  {
   "cell_type": "code",
   "execution_count": 1,
   "metadata": {},
   "outputs": [
    {
     "name": "stderr",
     "output_type": "stream",
     "text": [
      "\u001b[36m\u001b[1m[ \u001b[22m\u001b[39m\u001b[36m\u001b[1mInfo: \u001b[22m\u001b[39mPrecompiling Revise [295af30f-e4ad-537b-8983-00126c2a3abe] (cache misses: incompatible header (4))\n",
      "\u001b[36m\u001b[1m[ \u001b[22m\u001b[39m\u001b[36m\u001b[1mInfo: \u001b[22m\u001b[39mPrecompiling DistributedExt [075b2bf6-2807-5c02-93c4-9c66b4782582] (cache misses: incompatible header (4))\n",
      "\u001b[36m\u001b[1m[ \u001b[22m\u001b[39m\u001b[36m\u001b[1mInfo: \u001b[22m\u001b[39mPrecompiling ConstrainedDynamicsSimulator [c57ba902-cf0d-4687-8605-981b463e8666] (cache misses: include_dependency fsize change (2), incompatible header (10))\n"
     ]
    }
   ],
   "source": [
    "using Revise\n",
    "using Molly\n",
    "using Unitful\n",
    "using ConstrainedDynamicsSimulator"
   ]
  },
  {
   "cell_type": "code",
   "execution_count": 2,
   "metadata": {},
   "outputs": [
    {
     "data": {
      "text/plain": [
       "CVConstrainedOverdampedLangevin{Quantity{Float64, 𝐓, Unitful.FreeUnits{(ps,), 𝐓, nothing}}, Quantity{Float64, 𝚯, Unitful.FreeUnits{(K,), 𝚯, nothing}}, Quantity{Float64, 𝐓⁻¹, Unitful.FreeUnits{(ps⁻¹,), 𝐓⁻¹, nothing}}, typeof(ConstrainedDynamicsSimulator.Dihedrals.φ_grid), typeof(ConstrainedDynamicsSimulator.Dihedrals.φ_flat)}(0.002 ps, 30.0 K, 5000.0 ps⁻¹, ConstrainedDynamicsSimulator.Dihedrals.φ_grid, ConstrainedDynamicsSimulator.Dihedrals.φ_flat, 1)"
      ]
     },
     "execution_count": 2,
     "metadata": {},
     "output_type": "execute_result"
    }
   ],
   "source": [
    "# TODO: might still need to worry about boundary issues\n",
    "ff_dir = joinpath(dirname(pathof(Molly)), \"..\", \"data\", \"force_fields\")\n",
    "ff = MolecularForceField(joinpath.(ff_dir, [\"ff99SBildn.xml\", \"tip3p_standard.xml\"])...)\n",
    "sys = System(\"dipeptide_nowater.pdb\", ff; rename_terminal_res=false)\n",
    "\n",
    "function phi_wrapper(sys, args...; kwargs...)\n",
    "    rad2deg(torsion_angle(sys.coords[5], sys.coords[7], sys.coords[9],\n",
    "                          sys.coords[15], sys.boundary))\n",
    "end\n",
    "\n",
    "function psi_wrapper(sys, args...; kwargs...)\n",
    "    rad2deg(torsion_angle(sys.coords[7], sys.coords[9], sys.coords[15],\n",
    "                          sys.coords[17], sys.boundary))\n",
    "end\n",
    "\n",
    "sys = System(\n",
    "    \"dipeptide_nowater.pdb\",\n",
    "    ff;\n",
    "    rename_terminal_res=false,\n",
    "    loggers=(\n",
    "        writer=StructureWriter(100, \"trajectory.pdb\"),\n",
    "        phi=GeneralObservableLogger(phi_wrapper, Float64, 100),\n",
    "        psi=GeneralObservableLogger(psi_wrapper, Float64, 100),\n",
    "    ),\n",
    "    implicit_solvent=\"gbn2\",\n",
    ")\n",
    "\n",
    "temp = 30.0u\"K\"\n",
    "timestep = 0.002u\"ps\"\n",
    "fric = 5000.0u\"ps^-1\"\n",
    "simulator = CVConstrainedOverdampedLangevin(dt=timestep, T=temp, γ=fric, φ_grid=ConstrainedDynamicsSimulator.Dihedrals.φ_grid, φ_flat=ConstrainedDynamicsSimulator.Dihedrals.φ_flat)"
   ]
  },
  {
   "cell_type": "code",
   "execution_count": 3,
   "metadata": {},
   "outputs": [
    {
     "data": {
      "text/plain": [
       "OverdampedLangevin{Quantity{Float64, 𝐓, Unitful.FreeUnits{(ps,), 𝐓, nothing}}, Quantity{Float64, 𝚯, Unitful.FreeUnits{(K,), 𝚯, nothing}}, Quantity{Float64, 𝐓⁻¹, Unitful.FreeUnits{(ps⁻¹,), 𝐓⁻¹, nothing}}}(0.002 ps, 300.0 K, 5000.0 ps⁻¹, 1)"
      ]
     },
     "execution_count": 3,
     "metadata": {},
     "output_type": "execute_result"
    }
   ],
   "source": [
    "simulator = OverdampedLangevin(\n",
    "    dt=timestep,\n",
    "    temperature=temp,\n",
    "    friction=fric,\n",
    ")"
   ]
  },
  {
   "cell_type": "code",
   "execution_count": null,
   "metadata": {},
   "outputs": [],
   "source": [
    "Molly.simulate!(sys, simulator, 100000)"
   ]
  },
  {
   "cell_type": "code",
   "execution_count": 4,
   "metadata": {},
   "outputs": [
    {
     "name": "stdout",
     "output_type": "stream",
     "text": [
      "progress = Progress(n_steps) = ProgressMeter.Progress(100000, 0, nothing, ProgressMeter.BarGlyphs('|', '█', ['▏', '▎', '▍', '▌', '▋', '▊', '▉'], ' ', '|'), ProgressMeter.ProgressCore(:green, \"Progress: \", 0.1, true, 0, IJulia.IJuliaStdio{Base.PipeEndpoint}(IOContext(Base.PipeEndpoint(RawFD(40) open, 0 bytes waiting))), false, 1, 0, ReentrantLock(nothing, 0x00000000, 0x00, Base.GenericCondition{Base.Threads.SpinLock}(Base.IntrusiveLinkedList{Task}(nothing, nothing), Base.Threads.SpinLock(0)), (7813023473343947621, 4717514496, 143753118144)), 0, 1, false, false, 1.742481126790529e9, 1.742481126790529e9, 1.742481126790529e9))\n"
     ]
    },
    {
     "name": "stderr",
     "output_type": "stream",
     "text": [
      "\u001b[32mProgress: 100%|█████████████████████████████████████████| Time: 0:00:31\u001b[39m:36\u001b[39m\n"
     ]
    },
    {
     "data": {
      "text/plain": [
       "System with 22 atoms, boundary CubicBoundary{Quantity{Float64, 𝐋, Unitful.FreeUnits{(nm,), 𝐋, nothing}}}(Quantity{Float64, 𝐋, Unitful.FreeUnits{(nm,), 𝐋, nothing}}[3.4224000000000006 nm, 3.9133000000000004 nm, 3.3010999999999995 nm])"
      ]
     },
     "execution_count": 4,
     "metadata": {},
     "output_type": "execute_result"
    }
   ],
   "source": [
    "ConstrainedDynamicsSimulator.simulate_lambda_correction!(sys, simulator, 100_000) # This will take a little while to run"
   ]
  },
  {
   "cell_type": "code",
   "execution_count": 50,
   "metadata": {},
   "outputs": [],
   "source": [
    "# TODO: We should include an equilibration period?\n",
    "# TODO: We'll most likely need to enforce something like a SHAKE correction to avoid drifting issues.\n",
    "# TODO: We need to investigate how multiprocessing works with Zigote and ForwardDIff in Julia"
   ]
  },
  {
   "cell_type": "code",
   "execution_count": 5,
   "metadata": {},
   "outputs": [
    {
     "data": {
      "text/plain": [
       "1001-element Vector{Float64}:\n",
       " 160.7338408636881\n",
       " 165.3617464026328\n",
       " 165.43917758674442\n",
       " 163.92518939269945\n",
       " 168.28003354741793\n",
       " 165.66115810214853\n",
       " 167.42972787931137\n",
       " 167.17585208697395\n",
       " 167.4880148665721\n",
       " 165.40708188237946\n",
       " 163.85696405281715\n",
       " 166.1135308868981\n",
       " 166.4469512208078\n",
       "   ⋮\n",
       " 153.1952570639646\n",
       " 151.87052489671362\n",
       " 153.03699326670917\n",
       " 152.71665192607057\n",
       " 151.2904499806625\n",
       " 150.4761790878575\n",
       " 150.68044456272247\n",
       " 152.69399290541259\n",
       " 156.26620974116645\n",
       " 155.32834212011014\n",
       " 154.1549912720129\n",
       " 155.49239074462787"
      ]
     },
     "execution_count": 5,
     "metadata": {},
     "output_type": "execute_result"
    }
   ],
   "source": [
    "phi_values = values(sys.loggers.phi)\n",
    "psi_values = values(sys.loggers.psi)"
   ]
  },
  {
   "cell_type": "code",
   "execution_count": 6,
   "metadata": {},
   "outputs": [
    {
     "name": "stderr",
     "output_type": "stream",
     "text": [
      "\u001b[36m\u001b[1m[ \u001b[22m\u001b[39m\u001b[36m\u001b[1mInfo: \u001b[22m\u001b[39mPrecompiling Plots [91a5bcdd-55d7-5caf-9e0b-520d859cae80] (cache misses: incompatible header (4))\n"
     ]
    },
    {
     "name": "stderr",
     "output_type": "stream",
     "text": [
      "\u001b[36m\u001b[1m[ \u001b[22m\u001b[39m\u001b[36m\u001b[1mInfo: \u001b[22m\u001b[39mPrecompiling ZygoteColorsExt [e68c091a-8ea5-5ca7-be4f-380657d4ad79] (cache misses: incompatible header (4))\n",
      "\u001b[36m\u001b[1m[ \u001b[22m\u001b[39m\u001b[36m\u001b[1mInfo: \u001b[22m\u001b[39mPrecompiling SpecialFunctionsExt [997ecda8-951a-5f50-90ea-61382e97704b] (cache misses: incompatible header (4))\n",
      "\u001b[36m\u001b[1m[ \u001b[22m\u001b[39m\u001b[36m\u001b[1mInfo: \u001b[22m\u001b[39mPrecompiling UnitfulExt [0e51ec96-f580-5f12-a625-1297083d7970] (cache misses: incompatible header (4))\n",
      "\u001b[36m\u001b[1m[ \u001b[22m\u001b[39m\u001b[36m\u001b[1mInfo: \u001b[22m\u001b[39mPrecompiling SparseArraysExt [b89a79fa-fa5a-56f8-98ad-0d55ac4e0ff2] (cache misses: incompatible header (4))\n",
      "\u001b[36m\u001b[1m[ \u001b[22m\u001b[39m\u001b[36m\u001b[1mInfo: \u001b[22m\u001b[39mPrecompiling IJuliaExt [2f4121a4-3b3a-5ce6-9c5e-1f2673ce168a] (cache misses: incompatible header (4))\n"
     ]
    },
    {
     "data": {
      "image/png": "[encoded data removed]",
      "image/svg+xml": [
       "<?xml version=\"1.0\" encoding=\"utf-8\"?>\n",
       "<svg xmlns=\"http://www.w3.org/2000/svg\" xmlns:xlink=\"http://www.w3.org/1999/xlink\" width=\"600\" height=\"400\" viewBox=\"0 0 2400 1600\">\n",
       "<defs>\n",
       "  <clipPath id=\"clip620\">\n",
       "    <rect x=\"0\" y=\"0\" width=\"2400\" height=\"1600\"/>\n",
       "  </clipPath>\n",
       "</defs>\n",
       "<path clip-path=\"url(#clip620)\" d=\"M0 1600 L2400 1600 L2400 0 L0 0  Z\" fill=\"#ffffff\" fill-rule=\"evenodd\" fill-opacity=\"1\"/>\n",
       "<defs>\n",
       "  <clipPath id=\"clip621\">\n",
       "    <rect x=\"480\" y=\"0\" width=\"1681\" height=\"1600\"/>\n",
       "  </clipPath>\n",
       "</defs>\n",
       "<path clip-path=\"url(#clip620)\" d=\"M209.029 1486.45 L2352.76 1486.45 L2352.76 47.2441 L209.029 47.2441  Z\" fill=\"#ffffff\" fill-rule=\"evenodd\" fill-opacity=\"1\"/>\n",
       "<defs>\n",
       "  <clipPath id=\"clip622\">\n",
       "    <rect x=\"209\" y=\"47\" width=\"2145\" height=\"1440\"/>\n",
       "  </clipPath>\n",
       "</defs>\n",
       "<polyline clip-path=\"url(#clip622)\" style=\"stroke:#000000; stroke-linecap:round; stroke-linejoin:round; stroke-width:2; stroke-opacity:0.1; fill:none\" points=\"267.678,1486.45 267.678,47.2441 \"/>\n",
       "<polyline clip-path=\"url(#clip622)\" style=\"stroke:#000000; stroke-linecap:round; stroke-linejoin:round; stroke-width:2; stroke-opacity:0.1; fill:none\" points=\"773.274,1486.45 773.274,47.2441 \"/>\n",
       "<polyline clip-path=\"url(#clip622)\" style=\"stroke:#000000; stroke-linecap:round; stroke-linejoin:round; stroke-width:2; stroke-opacity:0.1; fill:none\" points=\"1278.87,1486.45 1278.87,47.2441 \"/>\n",
       "<polyline clip-path=\"url(#clip622)\" style=\"stroke:#000000; stroke-linecap:round; stroke-linejoin:round; stroke-width:2; stroke-opacity:0.1; fill:none\" points=\"1784.47,1486.45 1784.47,47.2441 \"/>\n",
       "<polyline clip-path=\"url(#clip622)\" style=\"stroke:#000000; stroke-linecap:round; stroke-linejoin:round; stroke-width:2; stroke-opacity:0.1; fill:none\" points=\"2290.06,1486.45 2290.06,47.2441 \"/>\n",
       "<polyline clip-path=\"url(#clip622)\" style=\"stroke:#000000; stroke-linecap:round; stroke-linejoin:round; stroke-width:2; stroke-opacity:0.1; fill:none\" points=\"209.029,1403.43 2352.76,1403.43 \"/>\n",
       "<polyline clip-path=\"url(#clip622)\" style=\"stroke:#000000; stroke-linecap:round; stroke-linejoin:round; stroke-width:2; stroke-opacity:0.1; fill:none\" points=\"209.029,1198.61 2352.76,1198.61 \"/>\n",
       "<polyline clip-path=\"url(#clip622)\" style=\"stroke:#000000; stroke-linecap:round; stroke-linejoin:round; stroke-width:2; stroke-opacity:0.1; fill:none\" points=\"209.029,993.784 2352.76,993.784 \"/>\n",
       "<polyline clip-path=\"url(#clip622)\" style=\"stroke:#000000; stroke-linecap:round; stroke-linejoin:round; stroke-width:2; stroke-opacity:0.1; fill:none\" points=\"209.029,788.962 2352.76,788.962 \"/>\n",
       "<polyline clip-path=\"url(#clip622)\" style=\"stroke:#000000; stroke-linecap:round; stroke-linejoin:round; stroke-width:2; stroke-opacity:0.1; fill:none\" points=\"209.029,584.14 2352.76,584.14 \"/>\n",
       "<polyline clip-path=\"url(#clip622)\" style=\"stroke:#000000; stroke-linecap:round; stroke-linejoin:round; stroke-width:2; stroke-opacity:0.1; fill:none\" points=\"209.029,379.318 2352.76,379.318 \"/>\n",
       "<polyline clip-path=\"url(#clip622)\" style=\"stroke:#000000; stroke-linecap:round; stroke-linejoin:round; stroke-width:2; stroke-opacity:0.1; fill:none\" points=\"209.029,174.496 2352.76,174.496 \"/>\n",
       "<polyline clip-path=\"url(#clip620)\" style=\"stroke:#000000; stroke-linecap:round; stroke-linejoin:round; stroke-width:4; stroke-opacity:1; fill:none\" points=\"209.029,1486.45 2352.76,1486.45 \"/>\n",
       "<polyline clip-path=\"url(#clip620)\" style=\"stroke:#000000; stroke-linecap:round; stroke-linejoin:round; stroke-width:4; stroke-opacity:1; fill:none\" points=\"267.678,1486.45 267.678,1467.55 \"/>\n",
       "<polyline clip-path=\"url(#clip620)\" style=\"stroke:#000000; stroke-linecap:round; stroke-linejoin:round; stroke-width:4; stroke-opacity:1; fill:none\" points=\"773.274,1486.45 773.274,1467.55 \"/>\n",
       "<polyline clip-path=\"url(#clip620)\" style=\"stroke:#000000; stroke-linecap:round; stroke-linejoin:round; stroke-width:4; stroke-opacity:1; fill:none\" points=\"1278.87,1486.45 1278.87,1467.55 \"/>\n",
       "<polyline clip-path=\"url(#clip620)\" style=\"stroke:#000000; stroke-linecap:round; stroke-linejoin:round; stroke-width:4; stroke-opacity:1; fill:none\" points=\"1784.47,1486.45 1784.47,1467.55 \"/>\n",
       "<polyline clip-path=\"url(#clip620)\" style=\"stroke:#000000; stroke-linecap:round; stroke-linejoin:round; stroke-width:4; stroke-opacity:1; fill:none\" points=\"2290.06,1486.45 2290.06,1467.55 \"/>\n",
       "<path clip-path=\"url(#clip620)\" d=\"M267.678 1517.37 Q264.067 1517.37 262.238 1520.93 Q260.432 1524.47 260.432 1531.6 Q260.432 1538.71 262.238 1542.27 Q264.067 1545.82 267.678 1545.82 Q271.312 1545.82 273.117 1542.27 Q274.946 1538.71 274.946 1531.6 Q274.946 1524.47 273.117 1520.93 Q271.312 1517.37 267.678 1517.37 M267.678 1513.66 Q273.488 1513.66 276.543 1518.27 Q279.622 1522.85 279.622 1531.6 Q279.622 1540.33 276.543 1544.94 Q273.488 1549.52 267.678 1549.52 Q261.868 1549.52 258.789 1544.94 Q255.733 1540.33 255.733 1531.6 Q255.733 1522.85 258.789 1518.27 Q261.868 1513.66 267.678 1513.66 Z\" fill=\"#000000\" fill-rule=\"nonzero\" fill-opacity=\"1\" /><path clip-path=\"url(#clip620)\" d=\"M736.966 1544.91 L753.285 1544.91 L753.285 1548.85 L731.341 1548.85 L731.341 1544.91 Q734.003 1542.16 738.586 1537.53 Q743.193 1532.88 744.373 1531.53 Q746.619 1529.01 747.498 1527.27 Q748.401 1525.51 748.401 1523.82 Q748.401 1521.07 746.457 1519.33 Q744.535 1517.6 741.434 1517.6 Q739.235 1517.6 736.781 1518.36 Q734.35 1519.13 731.573 1520.68 L731.573 1515.95 Q734.397 1514.82 736.85 1514.24 Q739.304 1513.66 741.341 1513.66 Q746.711 1513.66 749.906 1516.35 Q753.1 1519.03 753.1 1523.52 Q753.1 1525.65 752.29 1527.57 Q751.503 1529.47 749.397 1532.07 Q748.818 1532.74 745.716 1535.95 Q742.614 1539.15 736.966 1544.91 Z\" fill=\"#000000\" fill-rule=\"nonzero\" fill-opacity=\"1\" /><path clip-path=\"url(#clip620)\" d=\"M763.146 1514.29 L781.503 1514.29 L781.503 1518.22 L767.429 1518.22 L767.429 1526.7 Q768.447 1526.35 769.466 1526.19 Q770.484 1526 771.503 1526 Q777.29 1526 780.67 1529.17 Q784.049 1532.34 784.049 1537.76 Q784.049 1543.34 780.577 1546.44 Q777.105 1549.52 770.785 1549.52 Q768.609 1549.52 766.341 1549.15 Q764.096 1548.78 761.688 1548.04 L761.688 1543.34 Q763.771 1544.47 765.994 1545.03 Q768.216 1545.58 770.693 1545.58 Q774.697 1545.58 777.035 1543.48 Q779.373 1541.37 779.373 1537.76 Q779.373 1534.15 777.035 1532.04 Q774.697 1529.94 770.693 1529.94 Q768.818 1529.94 766.943 1530.35 Q765.091 1530.77 763.146 1531.65 L763.146 1514.29 Z\" fill=\"#000000\" fill-rule=\"nonzero\" fill-opacity=\"1\" /><path clip-path=\"url(#clip620)\" d=\"M803.262 1517.37 Q799.651 1517.37 797.822 1520.93 Q796.017 1524.47 796.017 1531.6 Q796.017 1538.71 797.822 1542.27 Q799.651 1545.82 803.262 1545.82 Q806.896 1545.82 808.702 1542.27 Q810.53 1538.71 810.53 1531.6 Q810.53 1524.47 808.702 1520.93 Q806.896 1517.37 803.262 1517.37 M803.262 1513.66 Q809.072 1513.66 812.128 1518.27 Q815.206 1522.85 815.206 1531.6 Q815.206 1540.33 812.128 1544.94 Q809.072 1549.52 803.262 1549.52 Q797.452 1549.52 794.373 1544.94 Q791.318 1540.33 791.318 1531.6 Q791.318 1522.85 794.373 1518.27 Q797.452 1513.66 803.262 1513.66 Z\" fill=\"#000000\" fill-rule=\"nonzero\" fill-opacity=\"1\" /><path clip-path=\"url(#clip620)\" d=\"M1238.49 1514.29 L1256.84 1514.29 L1256.84 1518.22 L1242.77 1518.22 L1242.77 1526.7 Q1243.79 1526.35 1244.81 1526.19 Q1245.83 1526 1246.84 1526 Q1252.63 1526 1256.01 1529.17 Q1259.39 1532.34 1259.39 1537.76 Q1259.39 1543.34 1255.92 1546.44 Q1252.45 1549.52 1246.13 1549.52 Q1243.95 1549.52 1241.68 1549.15 Q1239.44 1548.78 1237.03 1548.04 L1237.03 1543.34 Q1239.11 1544.47 1241.34 1545.03 Q1243.56 1545.58 1246.03 1545.58 Q1250.04 1545.58 1252.38 1543.48 Q1254.71 1541.37 1254.71 1537.76 Q1254.71 1534.15 1252.38 1532.04 Q1250.04 1529.94 1246.03 1529.94 Q1244.16 1529.94 1242.28 1530.35 Q1240.43 1530.77 1238.49 1531.65 L1238.49 1514.29 Z\" fill=\"#000000\" fill-rule=\"nonzero\" fill-opacity=\"1\" /><path clip-path=\"url(#clip620)\" d=\"M1278.6 1517.37 Q1274.99 1517.37 1273.16 1520.93 Q1271.36 1524.47 1271.36 1531.6 Q1271.36 1538.71 1273.16 1542.27 Q1274.99 1545.82 1278.6 1545.82 Q1282.24 1545.82 1284.04 1542.27 Q1285.87 1538.71 1285.87 1531.6 Q1285.87 1524.47 1284.04 1520.93 Q1282.24 1517.37 1278.6 1517.37 M1278.6 1513.66 Q1284.41 1513.66 1287.47 1518.27 Q1290.55 1522.85 1290.55 1531.6 Q1290.55 1540.33 1287.47 1544.94 Q1284.41 1549.52 1278.6 1549.52 Q1272.79 1549.52 1269.71 1544.94 Q1266.66 1540.33 1266.66 1531.6 Q1266.66 1522.85 1269.71 1518.27 Q1272.79 1513.66 1278.6 1513.66 Z\" fill=\"#000000\" fill-rule=\"nonzero\" fill-opacity=\"1\" /><path clip-path=\"url(#clip620)\" d=\"M1308.77 1517.37 Q1305.15 1517.37 1303.33 1520.93 Q1301.52 1524.47 1301.52 1531.6 Q1301.52 1538.71 1303.33 1542.27 Q1305.15 1545.82 1308.77 1545.82 Q1312.4 1545.82 1314.21 1542.27 Q1316.03 1538.71 1316.03 1531.6 Q1316.03 1524.47 1314.21 1520.93 Q1312.4 1517.37 1308.77 1517.37 M1308.77 1513.66 Q1314.58 1513.66 1317.63 1518.27 Q1320.71 1522.85 1320.71 1531.6 Q1320.71 1540.33 1317.63 1544.94 Q1314.58 1549.52 1308.77 1549.52 Q1302.96 1549.52 1299.88 1544.94 Q1296.82 1540.33 1296.82 1531.6 Q1296.82 1522.85 1299.88 1518.27 Q1302.96 1513.66 1308.77 1513.66 Z\" fill=\"#000000\" fill-rule=\"nonzero\" fill-opacity=\"1\" /><path clip-path=\"url(#clip620)\" d=\"M1742.74 1514.29 L1764.96 1514.29 L1764.96 1516.28 L1752.42 1548.85 L1747.53 1548.85 L1759.34 1518.22 L1742.74 1518.22 L1742.74 1514.29 Z\" fill=\"#000000\" fill-rule=\"nonzero\" fill-opacity=\"1\" /><path clip-path=\"url(#clip620)\" d=\"M1774.13 1514.29 L1792.49 1514.29 L1792.49 1518.22 L1778.41 1518.22 L1778.41 1526.7 Q1779.43 1526.35 1780.45 1526.19 Q1781.47 1526 1782.49 1526 Q1788.27 1526 1791.65 1529.17 Q1795.03 1532.34 1795.03 1537.76 Q1795.03 1543.34 1791.56 1546.44 Q1788.09 1549.52 1781.77 1549.52 Q1779.59 1549.52 1777.32 1549.15 Q1775.08 1548.78 1772.67 1548.04 L1772.67 1543.34 Q1774.76 1544.47 1776.98 1545.03 Q1779.2 1545.58 1781.68 1545.58 Q1785.68 1545.58 1788.02 1543.48 Q1790.36 1541.37 1790.36 1537.76 Q1790.36 1534.15 1788.02 1532.04 Q1785.68 1529.94 1781.68 1529.94 Q1779.8 1529.94 1777.93 1530.35 Q1776.07 1530.77 1774.13 1531.65 L1774.13 1514.29 Z\" fill=\"#000000\" fill-rule=\"nonzero\" fill-opacity=\"1\" /><path clip-path=\"url(#clip620)\" d=\"M1814.25 1517.37 Q1810.63 1517.37 1808.81 1520.93 Q1807 1524.47 1807 1531.6 Q1807 1538.71 1808.81 1542.27 Q1810.63 1545.82 1814.25 1545.82 Q1817.88 1545.82 1819.69 1542.27 Q1821.51 1538.71 1821.51 1531.6 Q1821.51 1524.47 1819.69 1520.93 Q1817.88 1517.37 1814.25 1517.37 M1814.25 1513.66 Q1820.06 1513.66 1823.11 1518.27 Q1826.19 1522.85 1826.19 1531.6 Q1826.19 1540.33 1823.11 1544.94 Q1820.06 1549.52 1814.25 1549.52 Q1808.44 1549.52 1805.36 1544.94 Q1802.3 1540.33 1802.3 1531.6 Q1802.3 1522.85 1805.36 1518.27 Q1808.44 1513.66 1814.25 1513.66 Z\" fill=\"#000000\" fill-rule=\"nonzero\" fill-opacity=\"1\" /><path clip-path=\"url(#clip620)\" d=\"M2234.59 1544.91 L2242.23 1544.91 L2242.23 1518.55 L2233.92 1520.21 L2233.92 1515.95 L2242.18 1514.29 L2246.86 1514.29 L2246.86 1544.91 L2254.5 1544.91 L2254.5 1548.85 L2234.59 1548.85 L2234.59 1544.91 Z\" fill=\"#000000\" fill-rule=\"nonzero\" fill-opacity=\"1\" /><path clip-path=\"url(#clip620)\" d=\"M2273.94 1517.37 Q2270.33 1517.37 2268.5 1520.93 Q2266.69 1524.47 2266.69 1531.6 Q2266.69 1538.71 2268.5 1542.27 Q2270.33 1545.82 2273.94 1545.82 Q2277.57 1545.82 2279.38 1542.27 Q2281.21 1538.71 2281.21 1531.6 Q2281.21 1524.47 2279.38 1520.93 Q2277.57 1517.37 2273.94 1517.37 M2273.94 1513.66 Q2279.75 1513.66 2282.81 1518.27 Q2285.88 1522.85 2285.88 1531.6 Q2285.88 1540.33 2282.81 1544.94 Q2279.75 1549.52 2273.94 1549.52 Q2268.13 1549.52 2265.05 1544.94 Q2262 1540.33 2262 1531.6 Q2262 1522.85 2265.05 1518.27 Q2268.13 1513.66 2273.94 1513.66 Z\" fill=\"#000000\" fill-rule=\"nonzero\" fill-opacity=\"1\" /><path clip-path=\"url(#clip620)\" d=\"M2304.1 1517.37 Q2300.49 1517.37 2298.66 1520.93 Q2296.86 1524.47 2296.86 1531.6 Q2296.86 1538.71 2298.66 1542.27 Q2300.49 1545.82 2304.1 1545.82 Q2307.74 1545.82 2309.54 1542.27 Q2311.37 1538.71 2311.37 1531.6 Q2311.37 1524.47 2309.54 1520.93 Q2307.74 1517.37 2304.1 1517.37 M2304.1 1513.66 Q2309.91 1513.66 2312.97 1518.27 Q2316.05 1522.85 2316.05 1531.6 Q2316.05 1540.33 2312.97 1544.94 Q2309.91 1549.52 2304.1 1549.52 Q2298.29 1549.52 2295.21 1544.94 Q2292.16 1540.33 2292.16 1531.6 Q2292.16 1522.85 2295.21 1518.27 Q2298.29 1513.66 2304.1 1513.66 Z\" fill=\"#000000\" fill-rule=\"nonzero\" fill-opacity=\"1\" /><path clip-path=\"url(#clip620)\" d=\"M2334.26 1517.37 Q2330.65 1517.37 2328.82 1520.93 Q2327.02 1524.47 2327.02 1531.6 Q2327.02 1538.71 2328.82 1542.27 Q2330.65 1545.82 2334.26 1545.82 Q2337.9 1545.82 2339.7 1542.27 Q2341.53 1538.71 2341.53 1531.6 Q2341.53 1524.47 2339.7 1520.93 Q2337.9 1517.37 2334.26 1517.37 M2334.26 1513.66 Q2340.07 1513.66 2343.13 1518.27 Q2346.21 1522.85 2346.21 1531.6 Q2346.21 1540.33 2343.13 1544.94 Q2340.07 1549.52 2334.26 1549.52 Q2328.45 1549.52 2325.37 1544.94 Q2322.32 1540.33 2322.32 1531.6 Q2322.32 1522.85 2325.37 1518.27 Q2328.45 1513.66 2334.26 1513.66 Z\" fill=\"#000000\" fill-rule=\"nonzero\" fill-opacity=\"1\" /><polyline clip-path=\"url(#clip620)\" style=\"stroke:#000000; stroke-linecap:round; stroke-linejoin:round; stroke-width:4; stroke-opacity:1; fill:none\" points=\"209.029,1486.45 209.029,47.2441 \"/>\n",
       "<polyline clip-path=\"url(#clip620)\" style=\"stroke:#000000; stroke-linecap:round; stroke-linejoin:round; stroke-width:4; stroke-opacity:1; fill:none\" points=\"209.029,1403.43 227.926,1403.43 \"/>\n",
       "<polyline clip-path=\"url(#clip620)\" style=\"stroke:#000000; stroke-linecap:round; stroke-linejoin:round; stroke-width:4; stroke-opacity:1; fill:none\" points=\"209.029,1198.61 227.926,1198.61 \"/>\n",
       "<polyline clip-path=\"url(#clip620)\" style=\"stroke:#000000; stroke-linecap:round; stroke-linejoin:round; stroke-width:4; stroke-opacity:1; fill:none\" points=\"209.029,993.784 227.926,993.784 \"/>\n",
       "<polyline clip-path=\"url(#clip620)\" style=\"stroke:#000000; stroke-linecap:round; stroke-linejoin:round; stroke-width:4; stroke-opacity:1; fill:none\" points=\"209.029,788.962 227.926,788.962 \"/>\n",
       "<polyline clip-path=\"url(#clip620)\" style=\"stroke:#000000; stroke-linecap:round; stroke-linejoin:round; stroke-width:4; stroke-opacity:1; fill:none\" points=\"209.029,584.14 227.926,584.14 \"/>\n",
       "<polyline clip-path=\"url(#clip620)\" style=\"stroke:#000000; stroke-linecap:round; stroke-linejoin:round; stroke-width:4; stroke-opacity:1; fill:none\" points=\"209.029,379.318 227.926,379.318 \"/>\n",
       "<polyline clip-path=\"url(#clip620)\" style=\"stroke:#000000; stroke-linecap:round; stroke-linejoin:round; stroke-width:4; stroke-opacity:1; fill:none\" points=\"209.029,174.496 227.926,174.496 \"/>\n",
       "<path clip-path=\"url(#clip620)\" d=\"M50.9921 1403.88 L80.6679 1403.88 L80.6679 1407.81 L50.9921 1407.81 L50.9921 1403.88 Z\" fill=\"#000000\" fill-rule=\"nonzero\" fill-opacity=\"1\" /><path clip-path=\"url(#clip620)\" d=\"M91.5706 1416.77 L99.2095 1416.77 L99.2095 1390.41 L90.8993 1392.07 L90.8993 1387.81 L99.1632 1386.15 L103.839 1386.15 L103.839 1416.77 L111.478 1416.77 L111.478 1420.71 L91.5706 1420.71 L91.5706 1416.77 Z\" fill=\"#000000\" fill-rule=\"nonzero\" fill-opacity=\"1\" /><path clip-path=\"url(#clip620)\" d=\"M120.969 1386.15 L139.325 1386.15 L139.325 1390.08 L125.251 1390.08 L125.251 1398.56 Q126.27 1398.21 127.288 1398.05 Q128.307 1397.86 129.325 1397.86 Q135.112 1397.86 138.492 1401.03 Q141.871 1404.2 141.871 1409.62 Q141.871 1415.2 138.399 1418.3 Q134.927 1421.38 128.607 1421.38 Q126.432 1421.38 124.163 1421.01 Q121.918 1420.64 119.51 1419.9 L119.51 1415.2 Q121.594 1416.33 123.816 1416.89 Q126.038 1417.44 128.515 1417.44 Q132.519 1417.44 134.857 1415.34 Q137.195 1413.23 137.195 1409.62 Q137.195 1406.01 134.857 1403.9 Q132.519 1401.8 128.515 1401.8 Q126.64 1401.8 124.765 1402.21 Q122.913 1402.63 120.969 1403.51 L120.969 1386.15 Z\" fill=\"#000000\" fill-rule=\"nonzero\" fill-opacity=\"1\" /><path clip-path=\"url(#clip620)\" d=\"M161.084 1389.23 Q157.473 1389.23 155.644 1392.79 Q153.839 1396.33 153.839 1403.46 Q153.839 1410.57 155.644 1414.13 Q157.473 1417.68 161.084 1417.68 Q164.718 1417.68 166.524 1414.13 Q168.353 1410.57 168.353 1403.46 Q168.353 1396.33 166.524 1392.79 Q164.718 1389.23 161.084 1389.23 M161.084 1385.52 Q166.894 1385.52 169.95 1390.13 Q173.029 1394.71 173.029 1403.46 Q173.029 1412.19 169.95 1416.8 Q166.894 1421.38 161.084 1421.38 Q155.274 1421.38 152.195 1416.8 Q149.14 1412.19 149.14 1403.46 Q149.14 1394.71 152.195 1390.13 Q155.274 1385.52 161.084 1385.52 Z\" fill=\"#000000\" fill-rule=\"nonzero\" fill-opacity=\"1\" /><path clip-path=\"url(#clip620)\" d=\"M50.9921 1199.06 L80.6679 1199.06 L80.6679 1202.99 L50.9921 1202.99 L50.9921 1199.06 Z\" fill=\"#000000\" fill-rule=\"nonzero\" fill-opacity=\"1\" /><path clip-path=\"url(#clip620)\" d=\"M91.5706 1211.95 L99.2095 1211.95 L99.2095 1185.59 L90.8993 1187.25 L90.8993 1182.99 L99.1632 1181.33 L103.839 1181.33 L103.839 1211.95 L111.478 1211.95 L111.478 1215.89 L91.5706 1215.89 L91.5706 1211.95 Z\" fill=\"#000000\" fill-rule=\"nonzero\" fill-opacity=\"1\" /><path clip-path=\"url(#clip620)\" d=\"M130.922 1184.4 Q127.311 1184.4 125.482 1187.97 Q123.677 1191.51 123.677 1198.64 Q123.677 1205.75 125.482 1209.31 Q127.311 1212.85 130.922 1212.85 Q134.556 1212.85 136.362 1209.31 Q138.191 1205.75 138.191 1198.64 Q138.191 1191.51 136.362 1187.97 Q134.556 1184.4 130.922 1184.4 M130.922 1180.7 Q136.732 1180.7 139.788 1185.31 Q142.867 1189.89 142.867 1198.64 Q142.867 1207.37 139.788 1211.97 Q136.732 1216.56 130.922 1216.56 Q125.112 1216.56 122.033 1211.97 Q118.978 1207.37 118.978 1198.64 Q118.978 1189.89 122.033 1185.31 Q125.112 1180.7 130.922 1180.7 Z\" fill=\"#000000\" fill-rule=\"nonzero\" fill-opacity=\"1\" /><path clip-path=\"url(#clip620)\" d=\"M161.084 1184.4 Q157.473 1184.4 155.644 1187.97 Q153.839 1191.51 153.839 1198.64 Q153.839 1205.75 155.644 1209.31 Q157.473 1212.85 161.084 1212.85 Q164.718 1212.85 166.524 1209.31 Q168.353 1205.75 168.353 1198.64 Q168.353 1191.51 166.524 1187.97 Q164.718 1184.4 161.084 1184.4 M161.084 1180.7 Q166.894 1180.7 169.95 1185.31 Q173.029 1189.89 173.029 1198.64 Q173.029 1207.37 169.95 1211.97 Q166.894 1216.56 161.084 1216.56 Q155.274 1216.56 152.195 1211.97 Q149.14 1207.37 149.14 1198.64 Q149.14 1189.89 152.195 1185.31 Q155.274 1180.7 161.084 1180.7 Z\" fill=\"#000000\" fill-rule=\"nonzero\" fill-opacity=\"1\" /><path clip-path=\"url(#clip620)\" d=\"M81.154 994.235 L110.83 994.235 L110.83 998.171 L81.154 998.171 L81.154 994.235 Z\" fill=\"#000000\" fill-rule=\"nonzero\" fill-opacity=\"1\" /><path clip-path=\"url(#clip620)\" d=\"M120.969 976.504 L139.325 976.504 L139.325 980.439 L125.251 980.439 L125.251 988.911 Q126.27 988.564 127.288 988.402 Q128.307 988.217 129.325 988.217 Q135.112 988.217 138.492 991.388 Q141.871 994.559 141.871 999.976 Q141.871 1005.55 138.399 1008.66 Q134.927 1011.74 128.607 1011.74 Q126.432 1011.74 124.163 1011.36 Q121.918 1010.99 119.51 1010.25 L119.51 1005.55 Q121.594 1006.69 123.816 1007.24 Q126.038 1007.8 128.515 1007.8 Q132.519 1007.8 134.857 1005.69 Q137.195 1003.59 137.195 999.976 Q137.195 996.365 134.857 994.259 Q132.519 992.152 128.515 992.152 Q126.64 992.152 124.765 992.569 Q122.913 992.985 120.969 993.865 L120.969 976.504 Z\" fill=\"#000000\" fill-rule=\"nonzero\" fill-opacity=\"1\" /><path clip-path=\"url(#clip620)\" d=\"M161.084 979.583 Q157.473 979.583 155.644 983.147 Q153.839 986.689 153.839 993.819 Q153.839 1000.93 155.644 1004.49 Q157.473 1008.03 161.084 1008.03 Q164.718 1008.03 166.524 1004.49 Q168.353 1000.93 168.353 993.819 Q168.353 986.689 166.524 983.147 Q164.718 979.583 161.084 979.583 M161.084 975.879 Q166.894 975.879 169.95 980.485 Q173.029 985.069 173.029 993.819 Q173.029 1002.55 169.95 1007.15 Q166.894 1011.74 161.084 1011.74 Q155.274 1011.74 152.195 1007.15 Q149.14 1002.55 149.14 993.819 Q149.14 985.069 152.195 980.485 Q155.274 975.879 161.084 975.879 Z\" fill=\"#000000\" fill-rule=\"nonzero\" fill-opacity=\"1\" /><path clip-path=\"url(#clip620)\" d=\"M161.084 774.761 Q157.473 774.761 155.644 778.325 Q153.839 781.867 153.839 788.997 Q153.839 796.103 155.644 799.668 Q157.473 803.21 161.084 803.21 Q164.718 803.21 166.524 799.668 Q168.353 796.103 168.353 788.997 Q168.353 781.867 166.524 778.325 Q164.718 774.761 161.084 774.761 M161.084 771.057 Q166.894 771.057 169.95 775.663 Q173.029 780.247 173.029 788.997 Q173.029 797.723 169.95 802.33 Q166.894 806.913 161.084 806.913 Q155.274 806.913 152.195 802.33 Q149.14 797.723 149.14 788.997 Q149.14 780.247 152.195 775.663 Q155.274 771.057 161.084 771.057 Z\" fill=\"#000000\" fill-rule=\"nonzero\" fill-opacity=\"1\" /><path clip-path=\"url(#clip620)\" d=\"M120.969 566.86 L139.325 566.86 L139.325 570.795 L125.251 570.795 L125.251 579.267 Q126.27 578.92 127.288 578.758 Q128.307 578.573 129.325 578.573 Q135.112 578.573 138.492 581.744 Q141.871 584.915 141.871 590.332 Q141.871 595.911 138.399 599.013 Q134.927 602.091 128.607 602.091 Q126.432 602.091 124.163 601.721 Q121.918 601.351 119.51 600.61 L119.51 595.911 Q121.594 597.045 123.816 597.601 Q126.038 598.156 128.515 598.156 Q132.519 598.156 134.857 596.05 Q137.195 593.943 137.195 590.332 Q137.195 586.721 134.857 584.614 Q132.519 582.508 128.515 582.508 Q126.64 582.508 124.765 582.925 Q122.913 583.341 120.969 584.221 L120.969 566.86 Z\" fill=\"#000000\" fill-rule=\"nonzero\" fill-opacity=\"1\" /><path clip-path=\"url(#clip620)\" d=\"M161.084 569.939 Q157.473 569.939 155.644 573.503 Q153.839 577.045 153.839 584.175 Q153.839 591.281 155.644 594.846 Q157.473 598.388 161.084 598.388 Q164.718 598.388 166.524 594.846 Q168.353 591.281 168.353 584.175 Q168.353 577.045 166.524 573.503 Q164.718 569.939 161.084 569.939 M161.084 566.235 Q166.894 566.235 169.95 570.841 Q173.029 575.425 173.029 584.175 Q173.029 592.901 169.95 597.508 Q166.894 602.091 161.084 602.091 Q155.274 602.091 152.195 597.508 Q149.14 592.901 149.14 584.175 Q149.14 575.425 152.195 570.841 Q155.274 566.235 161.084 566.235 Z\" fill=\"#000000\" fill-rule=\"nonzero\" fill-opacity=\"1\" /><path clip-path=\"url(#clip620)\" d=\"M91.5706 392.663 L99.2095 392.663 L99.2095 366.297 L90.8993 367.964 L90.8993 363.705 L99.1632 362.038 L103.839 362.038 L103.839 392.663 L111.478 392.663 L111.478 396.598 L91.5706 396.598 L91.5706 392.663 Z\" fill=\"#000000\" fill-rule=\"nonzero\" fill-opacity=\"1\" /><path clip-path=\"url(#clip620)\" d=\"M130.922 365.117 Q127.311 365.117 125.482 368.681 Q123.677 372.223 123.677 379.353 Q123.677 386.459 125.482 390.024 Q127.311 393.566 130.922 393.566 Q134.556 393.566 136.362 390.024 Q138.191 386.459 138.191 379.353 Q138.191 372.223 136.362 368.681 Q134.556 365.117 130.922 365.117 M130.922 361.413 Q136.732 361.413 139.788 366.019 Q142.867 370.603 142.867 379.353 Q142.867 388.079 139.788 392.686 Q136.732 397.269 130.922 397.269 Q125.112 397.269 122.033 392.686 Q118.978 388.079 118.978 379.353 Q118.978 370.603 122.033 366.019 Q125.112 361.413 130.922 361.413 Z\" fill=\"#000000\" fill-rule=\"nonzero\" fill-opacity=\"1\" /><path clip-path=\"url(#clip620)\" d=\"M161.084 365.117 Q157.473 365.117 155.644 368.681 Q153.839 372.223 153.839 379.353 Q153.839 386.459 155.644 390.024 Q157.473 393.566 161.084 393.566 Q164.718 393.566 166.524 390.024 Q168.353 386.459 168.353 379.353 Q168.353 372.223 166.524 368.681 Q164.718 365.117 161.084 365.117 M161.084 361.413 Q166.894 361.413 169.95 366.019 Q173.029 370.603 173.029 379.353 Q173.029 388.079 169.95 392.686 Q166.894 397.269 161.084 397.269 Q155.274 397.269 152.195 392.686 Q149.14 388.079 149.14 379.353 Q149.14 370.603 152.195 366.019 Q155.274 361.413 161.084 361.413 Z\" fill=\"#000000\" fill-rule=\"nonzero\" fill-opacity=\"1\" /><path clip-path=\"url(#clip620)\" d=\"M91.5706 187.841 L99.2095 187.841 L99.2095 161.475 L90.8993 163.142 L90.8993 158.883 L99.1632 157.216 L103.839 157.216 L103.839 187.841 L111.478 187.841 L111.478 191.776 L91.5706 191.776 L91.5706 187.841 Z\" fill=\"#000000\" fill-rule=\"nonzero\" fill-opacity=\"1\" /><path clip-path=\"url(#clip620)\" d=\"M120.969 157.216 L139.325 157.216 L139.325 161.151 L125.251 161.151 L125.251 169.623 Q126.27 169.276 127.288 169.114 Q128.307 168.929 129.325 168.929 Q135.112 168.929 138.492 172.1 Q141.871 175.271 141.871 180.688 Q141.871 186.267 138.399 189.369 Q134.927 192.447 128.607 192.447 Q126.432 192.447 124.163 192.077 Q121.918 191.706 119.51 190.966 L119.51 186.267 Q121.594 187.401 123.816 187.956 Q126.038 188.512 128.515 188.512 Q132.519 188.512 134.857 186.406 Q137.195 184.299 137.195 180.688 Q137.195 177.077 134.857 174.97 Q132.519 172.864 128.515 172.864 Q126.64 172.864 124.765 173.281 Q122.913 173.697 120.969 174.577 L120.969 157.216 Z\" fill=\"#000000\" fill-rule=\"nonzero\" fill-opacity=\"1\" /><path clip-path=\"url(#clip620)\" d=\"M161.084 160.295 Q157.473 160.295 155.644 163.859 Q153.839 167.401 153.839 174.531 Q153.839 181.637 155.644 185.202 Q157.473 188.744 161.084 188.744 Q164.718 188.744 166.524 185.202 Q168.353 181.637 168.353 174.531 Q168.353 167.401 166.524 163.859 Q164.718 160.295 161.084 160.295 M161.084 156.591 Q166.894 156.591 169.95 161.197 Q173.029 165.781 173.029 174.531 Q173.029 183.257 169.95 187.864 Q166.894 192.447 161.084 192.447 Q155.274 192.447 152.195 187.864 Q149.14 183.257 149.14 174.531 Q149.14 165.781 152.195 161.197 Q155.274 156.591 161.084 156.591 Z\" fill=\"#000000\" fill-rule=\"nonzero\" fill-opacity=\"1\" /><polyline clip-path=\"url(#clip622)\" style=\"stroke:#009af9; stroke-linecap:round; stroke-linejoin:round; stroke-width:4; stroke-opacity:1; fill:none\" points=\"269.7,1445.72 271.722,1445.72 273.745,1445.72 275.767,1445.72 277.79,1445.72 279.812,1445.72 281.834,1445.72 283.857,1445.72 285.879,1445.72 287.901,1445.72 289.924,1445.72 291.946,1445.72 293.969,1445.72 295.991,1445.72 298.013,1445.72 300.036,1445.72 302.058,1445.72 304.081,1445.72 306.103,1445.72 308.125,1445.72 310.148,1445.72 312.17,1445.72 314.192,1445.72 316.215,1445.72 318.237,1445.72 320.26,1445.72 322.282,1445.72 324.304,1445.72 326.327,1445.72 328.349,1445.72 330.372,1445.72 332.394,1445.72 334.416,1445.72 336.439,1445.72 338.461,1445.72 340.483,1445.72 342.506,1445.72 344.528,1445.72 346.551,1445.72 348.573,1445.72 350.595,1445.72 352.618,1445.72 354.64,1445.72 356.663,1445.72 358.685,1445.72 360.707,1445.72 362.73,1445.72 364.752,1445.72 366.774,1445.72 368.797,1445.72 370.819,1445.72 372.842,1445.72 374.864,1445.72 376.886,1445.72 378.909,1445.72 380.931,1445.72 382.954,1445.72 384.976,1445.72 386.998,1445.72 389.021,1445.72 391.043,1445.72 393.065,1445.72 395.088,1445.72 397.11,1445.72 399.133,1445.72 401.155,1445.72 403.177,1445.72 405.2,1445.72 407.222,1445.72 409.245,1445.72 411.267,1445.72 413.289,1445.72 415.312,1445.72 417.334,1445.72 419.356,1445.72 421.379,1445.72 423.401,1445.72 425.424,1445.72 427.446,1445.72 429.468,1445.72 431.491,1445.72 433.513,1445.72 435.536,1445.72 437.558,1445.72 439.58,1445.72 441.603,1445.72 443.625,1445.72 445.647,1445.72 447.67,1445.72 449.692,1445.72 451.715,1445.72 453.737,1445.72 455.759,1445.72 457.782,1445.72 459.804,1445.72 461.827,1445.72 463.849,1445.72 465.871,1445.72 467.894,1445.72 469.916,1445.72 471.938,1445.72 473.961,1445.72 475.983,1445.72 478.006,1445.72 480.028,1445.72 482.05,1445.72 484.073,1445.72 486.095,1445.72 488.118,1445.72 490.14,1445.72 492.162,1445.72 494.185,1445.72 496.207,1445.72 498.229,1445.72 500.252,1445.72 502.274,1445.72 504.297,1445.72 506.319,1445.72 508.341,1445.72 510.364,1445.72 512.386,1445.72 514.409,1445.72 516.431,1445.72 518.453,1445.72 520.476,1445.72 522.498,1445.72 524.52,1445.72 526.543,1445.72 528.565,1445.72 530.588,1445.72 532.61,1445.72 534.632,1445.72 536.655,1445.72 538.677,1445.72 540.7,1445.72 542.722,1445.72 544.744,1445.72 546.767,1445.72 548.789,1445.72 550.811,1445.72 552.834,1445.72 554.856,1445.72 556.879,1445.72 558.901,1445.72 560.923,1445.72 562.946,1445.72 564.968,1445.72 566.991,1445.72 569.013,1445.72 571.035,1445.72 573.058,1445.72 575.08,1445.72 577.102,1445.72 579.125,1445.72 581.147,1445.72 583.17,1445.72 585.192,1445.72 587.214,1445.72 589.237,1445.72 591.259,1445.72 593.282,1445.72 595.304,1445.72 597.326,1445.72 599.349,1445.72 601.371,1445.72 603.393,1445.72 605.416,1445.72 607.438,1445.72 609.461,1445.72 611.483,1445.72 613.505,1445.72 615.528,1445.72 617.55,1445.72 619.573,1445.72 621.595,1445.72 623.617,1445.72 625.64,1445.72 627.662,1445.72 629.684,1445.72 631.707,1445.72 633.729,1445.72 635.752,1445.72 637.774,1445.72 639.796,1445.72 641.819,1445.72 643.841,1445.72 645.864,1445.72 647.886,1445.72 649.908,1445.72 651.931,1445.72 653.953,1445.72 655.975,1445.72 657.998,1445.72 660.02,1445.72 662.043,1445.72 664.065,1445.72 666.087,1445.72 668.11,1445.72 670.132,1445.72 672.155,1445.72 674.177,1445.72 676.199,1445.72 678.222,1445.72 680.244,1445.72 682.266,1445.72 684.289,1445.72 686.311,1445.72 688.334,1445.72 690.356,1445.72 692.378,1445.72 694.401,1445.72 696.423,1445.72 698.446,1445.72 700.468,1445.72 702.49,1445.72 704.513,1445.72 706.535,1445.72 708.557,1445.72 710.58,1445.72 712.602,1445.72 714.625,1445.72 716.647,1445.72 718.669,1445.72 720.692,1445.72 722.714,1445.72 724.737,1445.72 726.759,1445.72 728.781,1445.72 730.804,1445.72 732.826,1445.72 734.848,1445.72 736.871,1445.72 738.893,1445.72 740.916,1445.72 742.938,1445.72 744.96,1445.72 746.983,1445.72 749.005,1445.72 751.028,1445.72 753.05,1445.72 755.072,1445.72 757.095,1445.72 759.117,1445.72 761.139,1445.72 763.162,1445.72 765.184,1445.72 767.207,1445.72 769.229,1445.72 771.251,1445.72 773.274,1445.72 775.296,1445.72 777.319,1445.72 779.341,1445.72 781.363,1445.72 783.386,1445.72 785.408,1445.72 787.43,1445.72 789.453,1445.72 791.475,1445.72 793.498,1445.72 795.52,1445.72 797.542,1445.72 799.565,1445.72 801.587,1445.72 803.61,1445.72 805.632,1445.72 807.654,1445.72 809.677,1445.72 811.699,1445.72 813.721,1445.72 815.744,1445.72 817.766,1445.72 819.789,1445.72 821.811,1445.72 823.833,1445.72 825.856,1445.72 827.878,1445.72 829.901,1445.72 831.923,1445.72 833.945,1445.72 835.968,1445.72 837.99,1445.72 840.012,1445.72 842.035,1445.72 844.057,1445.72 846.08,1445.72 848.102,1445.72 850.124,1445.72 852.147,1445.72 854.169,1445.72 856.191,1445.72 858.214,1445.72 860.236,1445.72 862.259,1445.72 864.281,1445.72 866.303,1445.72 868.326,1445.72 870.348,1445.72 872.371,1445.72 874.393,1445.72 876.415,1445.72 878.438,1445.72 880.46,1445.72 882.482,1445.72 884.505,1445.72 886.527,1445.72 888.55,1445.72 890.572,1445.72 892.594,1445.72 894.617,1445.72 896.639,1445.72 898.662,1445.72 900.684,1445.72 902.706,1445.72 904.729,1445.72 906.751,1445.72 908.773,1445.72 910.796,1445.72 912.818,1445.72 914.841,1445.72 916.863,1445.72 918.885,1445.72 920.908,1445.72 922.93,1445.72 924.953,1445.72 926.975,1445.72 928.997,1445.72 931.02,1445.72 933.042,1445.72 935.064,1445.72 937.087,1445.72 939.109,1445.72 941.132,1445.72 943.154,1445.72 945.176,1445.72 947.199,1445.72 949.221,1445.72 951.244,1445.72 953.266,1445.72 955.288,1445.72 957.311,1445.72 959.333,1445.72 961.355,1445.72 963.378,1445.72 965.4,1445.72 967.423,1445.72 969.445,1445.72 971.467,1445.72 973.49,1445.72 975.512,1445.72 977.535,1445.72 979.557,1445.72 981.579,1445.72 983.602,1445.72 985.624,1445.72 987.646,1445.72 989.669,1445.72 991.691,1445.72 993.714,1445.72 995.736,1445.72 997.758,1445.72 999.781,1445.72 1001.8,1445.72 1003.83,1445.72 1005.85,1445.72 1007.87,1445.72 1009.89,1445.72 1011.92,1445.72 1013.94,1445.72 1015.96,1445.72 1017.98,1445.72 1020,1445.72 1022.03,1445.72 1024.05,1445.72 1026.07,1445.72 1028.09,1445.72 1030.12,1445.72 1032.14,1445.72 1034.16,1445.72 1036.18,1445.72 1038.21,1445.72 1040.23,1445.72 1042.25,1445.72 1044.27,1445.72 1046.3,1445.72 1048.32,1445.72 1050.34,1445.72 1052.36,1445.72 1054.39,1445.72 1056.41,1445.72 1058.43,1445.72 1060.45,1445.72 1062.47,1445.72 1064.5,1445.72 1066.52,1445.72 1068.54,1445.72 1070.56,1445.72 1072.59,1445.72 1074.61,1445.72 1076.63,1445.72 1078.65,1445.72 1080.68,1445.72 1082.7,1445.72 1084.72,1445.72 1086.74,1445.72 1088.77,1445.72 1090.79,1445.72 1092.81,1445.72 1094.83,1445.72 1096.86,1445.72 1098.88,1445.72 1100.9,1445.72 1102.92,1445.72 1104.94,1445.72 1106.97,1445.72 1108.99,1445.72 1111.01,1445.72 1113.03,1445.72 1115.06,1445.72 1117.08,1445.72 1119.1,1445.72 1121.12,1445.72 1123.15,1445.72 1125.17,1445.72 1127.19,1445.72 1129.21,1445.72 1131.24,1445.72 1133.26,1445.72 1135.28,1445.72 1137.3,1445.72 1139.33,1445.72 1141.35,1445.72 1143.37,1445.72 1145.39,1445.72 1147.41,1445.72 1149.44,1445.72 1151.46,1445.72 1153.48,1445.72 1155.5,1445.72 1157.53,1445.72 1159.55,1445.72 1161.57,1445.72 1163.59,1445.72 1165.62,1445.72 1167.64,1445.72 1169.66,1445.72 1171.68,1445.72 1173.71,1445.72 1175.73,1445.72 1177.75,1445.72 1179.77,1445.72 1181.8,1445.72 1183.82,1445.72 1185.84,1445.72 1187.86,1445.72 1189.88,1445.72 1191.91,1445.72 1193.93,1445.72 1195.95,1445.72 1197.97,1445.72 1200,1445.72 1202.02,1445.72 1204.04,1445.72 1206.06,1445.72 1208.09,1445.72 1210.11,1445.72 1212.13,1445.72 1214.15,1445.72 1216.18,1445.72 1218.2,1445.72 1220.22,1445.72 1222.24,1445.72 1224.27,1445.72 1226.29,1445.72 1228.31,1445.72 1230.33,1445.72 1232.35,1445.72 1234.38,1445.72 1236.4,1445.72 1238.42,1445.72 1240.44,1445.72 1242.47,1445.72 1244.49,1445.72 1246.51,1445.72 1248.53,1445.72 1250.56,1445.72 1252.58,1445.72 1254.6,1445.72 1256.62,1445.72 1258.65,1445.72 1260.67,1445.72 1262.69,1445.72 1264.71,1445.72 1266.74,1445.72 1268.76,1445.72 1270.78,1445.72 1272.8,1445.72 1274.83,1445.72 1276.85,1445.72 1278.87,1445.72 1280.89,1445.72 1282.91,1445.72 1284.94,1445.72 1286.96,1445.72 1288.98,1445.72 1291,1445.72 1293.03,1445.72 1295.05,1445.72 1297.07,1445.72 1299.09,1445.72 1301.12,1445.72 1303.14,1445.72 1305.16,1445.72 1307.18,1445.72 1309.21,1445.72 1311.23,1445.72 1313.25,1445.72 1315.27,1445.72 1317.3,1445.72 1319.32,1445.72 1321.34,1445.72 1323.36,1445.72 1325.38,1445.72 1327.41,1445.72 1329.43,1445.72 1331.45,1445.72 1333.47,1445.72 1335.5,1445.72 1337.52,1445.72 1339.54,1445.72 1341.56,1445.72 1343.59,1445.72 1345.61,1445.72 1347.63,1445.72 1349.65,1445.72 1351.68,1445.72 1353.7,1445.72 1355.72,1445.72 1357.74,1445.72 1359.77,1445.72 1361.79,1445.72 1363.81,1445.72 1365.83,1445.72 1367.85,1445.72 1369.88,1445.72 1371.9,1445.72 1373.92,1445.72 1375.94,1445.72 1377.97,1445.72 1379.99,1445.72 1382.01,1445.72 1384.03,1445.72 1386.06,1445.72 1388.08,1445.72 1390.1,1445.72 1392.12,1445.72 1394.15,1445.72 1396.17,1445.72 1398.19,1445.72 1400.21,1445.72 1402.24,1445.72 1404.26,1445.72 1406.28,1445.72 1408.3,1445.72 1410.32,1445.72 1412.35,1445.72 1414.37,1445.72 1416.39,1445.72 1418.41,1445.72 1420.44,1445.72 1422.46,1445.72 1424.48,1445.72 1426.5,1445.72 1428.53,1445.72 1430.55,1445.72 1432.57,1445.72 1434.59,1445.72 1436.62,1445.72 1438.64,1445.72 1440.66,1445.72 1442.68,1445.72 1444.71,1445.72 1446.73,1445.72 1448.75,1445.72 1450.77,1445.72 1452.79,1445.72 1454.82,1445.72 1456.84,1445.72 1458.86,1445.72 1460.88,1445.72 1462.91,1445.72 1464.93,1445.72 1466.95,1445.72 1468.97,1445.72 1471,1445.72 1473.02,1445.72 1475.04,1445.72 1477.06,1445.72 1479.09,1445.72 1481.11,1445.72 1483.13,1445.72 1485.15,1445.72 1487.18,1445.72 1489.2,1445.72 1491.22,1445.72 1493.24,1445.72 1495.26,1445.72 1497.29,1445.72 1499.31,1445.72 1501.33,1445.72 1503.35,1445.72 1505.38,1445.72 1507.4,1445.72 1509.42,1445.72 1511.44,1445.72 1513.47,1445.72 1515.49,1445.72 1517.51,1445.72 1519.53,1445.72 1521.56,1445.72 1523.58,1445.72 1525.6,1445.72 1527.62,1445.72 1529.65,1445.72 1531.67,1445.72 1533.69,1445.72 1535.71,1445.72 1537.74,1445.72 1539.76,1445.72 1541.78,1445.72 1543.8,1445.72 1545.82,1445.72 1547.85,1445.72 1549.87,1445.72 1551.89,1445.72 1553.91,1445.72 1555.94,1445.72 1557.96,1445.72 1559.98,1445.72 1562,1445.72 1564.03,1445.72 1566.05,1445.72 1568.07,1445.72 1570.09,1445.72 1572.12,1445.72 1574.14,1445.72 1576.16,1445.72 1578.18,1445.72 1580.21,1445.72 1582.23,1445.72 1584.25,1445.72 1586.27,1445.72 1588.29,1445.72 1590.32,1445.72 1592.34,1445.72 1594.36,1445.72 1596.38,1445.72 1598.41,1445.72 1600.43,1445.72 1602.45,1445.72 1604.47,1445.72 1606.5,1445.72 1608.52,1445.72 1610.54,1445.72 1612.56,1445.72 1614.59,1445.72 1616.61,1445.72 1618.63,1445.72 1620.65,1445.72 1622.68,1445.72 1624.7,1445.72 1626.72,1445.72 1628.74,1445.72 1630.76,1445.72 1632.79,1445.72 1634.81,1445.72 1636.83,1445.72 1638.85,1445.72 1640.88,1445.72 1642.9,1445.72 1644.92,1445.72 1646.94,1445.72 1648.97,1445.72 1650.99,1445.72 1653.01,1445.72 1655.03,1445.72 1657.06,1445.72 1659.08,1445.72 1661.1,1445.72 1663.12,1445.72 1665.15,1445.72 1667.17,1445.72 1669.19,1445.72 1671.21,1445.72 1673.23,1445.72 1675.26,1445.72 1677.28,1445.72 1679.3,1445.72 1681.32,1445.72 1683.35,1445.72 1685.37,1445.72 1687.39,1445.72 1689.41,1445.72 1691.44,1445.72 1693.46,1445.72 1695.48,1445.72 1697.5,1445.72 1699.53,1445.72 1701.55,1445.72 1703.57,1445.72 1705.59,1445.72 1707.62,1445.72 1709.64,1445.72 1711.66,1445.72 1713.68,1445.72 1715.7,1445.72 1717.73,1445.72 1719.75,1445.72 1721.77,1445.72 1723.79,1445.72 1725.82,1445.72 1727.84,1445.72 1729.86,1445.72 1731.88,1445.72 1733.91,1445.72 1735.93,1445.72 1737.95,1445.72 1739.97,1445.72 1742,1445.72 1744.02,1445.72 1746.04,1445.72 1748.06,1445.72 1750.09,1445.72 1752.11,1445.72 1754.13,1445.72 1756.15,1445.72 1758.17,1445.72 1760.2,1445.72 1762.22,1445.72 1764.24,1445.72 1766.26,1445.72 1768.29,1445.72 1770.31,1445.72 1772.33,1445.72 1774.35,1445.72 1776.38,1445.72 1778.4,1445.72 1780.42,1445.72 1782.44,1445.72 1784.47,1445.72 1786.49,1445.72 1788.51,1445.72 1790.53,1445.72 1792.56,1445.72 1794.58,1445.72 1796.6,1445.72 1798.62,1445.72 1800.64,1445.72 1802.67,1445.72 1804.69,1445.72 1806.71,1445.72 1808.73,1445.72 1810.76,1445.72 1812.78,1445.72 1814.8,1445.72 1816.82,1445.72 1818.85,1445.72 1820.87,1445.72 1822.89,1445.72 1824.91,1445.72 1826.94,1445.72 1828.96,1445.72 1830.98,1445.72 1833,1445.72 1835.03,1445.72 1837.05,1445.72 1839.07,1445.72 1841.09,1445.72 1843.12,1445.72 1845.14,1445.72 1847.16,1445.72 1849.18,1445.72 1851.2,1445.72 1853.23,1445.72 1855.25,1445.72 1857.27,1445.72 1859.29,1445.72 1861.32,1445.72 1863.34,1445.72 1865.36,1445.72 1867.38,1445.72 1869.41,1445.72 1871.43,1445.72 1873.45,1445.72 1875.47,1445.72 1877.5,1445.72 1879.52,1445.72 1881.54,1445.72 1883.56,1445.72 1885.59,1445.72 1887.61,1445.72 1889.63,1445.72 1891.65,1445.72 1893.67,1445.72 1895.7,1445.72 1897.72,1445.72 1899.74,1445.72 1901.76,1445.72 1903.79,1445.72 1905.81,1445.72 1907.83,1445.72 1909.85,1445.72 1911.88,1445.72 1913.9,1445.72 1915.92,1445.72 1917.94,1445.72 1919.97,1445.72 1921.99,1445.72 1924.01,1445.72 1926.03,1445.72 1928.06,1445.72 1930.08,1445.72 1932.1,1445.72 1934.12,1445.72 1936.14,1445.72 1938.17,1445.72 1940.19,1445.72 1942.21,1445.72 1944.23,1445.72 1946.26,1445.72 1948.28,1445.72 1950.3,1445.72 1952.32,1445.72 1954.35,1445.72 1956.37,1445.72 1958.39,1445.72 1960.41,1445.72 1962.44,1445.72 1964.46,1445.72 1966.48,1445.72 1968.5,1445.72 1970.53,1445.72 1972.55,1445.72 1974.57,1445.72 1976.59,1445.72 1978.61,1445.72 1980.64,1445.72 1982.66,1445.72 1984.68,1445.72 1986.7,1445.72 1988.73,1445.72 1990.75,1445.72 1992.77,1445.72 1994.79,1445.72 1996.82,1445.72 1998.84,1445.72 2000.86,1445.72 2002.88,1445.72 2004.91,1445.72 2006.93,1445.72 2008.95,1445.72 2010.97,1445.72 2013,1445.72 2015.02,1445.72 2017.04,1445.72 2019.06,1445.72 2021.08,1445.72 2023.11,1445.72 2025.13,1445.72 2027.15,1445.72 2029.17,1445.72 2031.2,1445.72 2033.22,1445.72 2035.24,1445.72 2037.26,1445.72 2039.29,1445.72 2041.31,1445.72 2043.33,1445.72 2045.35,1445.72 2047.38,1445.72 2049.4,1445.72 2051.42,1445.72 2053.44,1445.72 2055.47,1445.72 2057.49,1445.72 2059.51,1445.72 2061.53,1445.72 2063.55,1445.72 2065.58,1445.72 2067.6,1445.72 2069.62,1445.72 2071.64,1445.72 2073.67,1445.72 2075.69,1445.72 2077.71,1445.72 2079.73,1445.72 2081.76,1445.72 2083.78,1445.72 2085.8,1445.72 2087.82,1445.72 2089.85,1445.72 2091.87,1445.72 2093.89,1445.72 2095.91,1445.72 2097.94,1445.72 2099.96,1445.72 2101.98,1445.72 2104,1445.72 2106.03,1445.72 2108.05,1445.72 2110.07,1445.72 2112.09,1445.72 2114.11,1445.72 2116.14,1445.72 2118.16,1445.72 2120.18,1445.72 2122.2,1445.72 2124.23,1445.72 2126.25,1445.72 2128.27,1445.72 2130.29,1445.72 2132.32,1445.72 2134.34,1445.72 2136.36,1445.72 2138.38,1445.72 2140.41,1445.72 2142.43,1445.72 2144.45,1445.72 2146.47,1445.72 2148.5,1445.72 2150.52,1445.72 2152.54,1445.72 2154.56,1445.72 2156.58,1445.72 2158.61,1445.72 2160.63,1445.72 2162.65,1445.72 2164.67,1445.72 2166.7,1445.72 2168.72,1445.72 2170.74,1445.72 2172.76,1445.72 2174.79,1445.72 2176.81,1445.72 2178.83,1445.72 2180.85,1445.72 2182.88,1445.72 2184.9,1445.72 2186.92,1445.72 2188.94,1445.72 2190.97,1445.72 2192.99,1445.72 2195.01,1445.72 2197.03,1445.72 2199.05,1445.72 2201.08,1445.72 2203.1,1445.72 2205.12,1445.72 2207.14,1445.72 2209.17,1445.72 2211.19,1445.72 2213.21,1445.72 2215.23,1445.72 2217.26,1445.72 2219.28,1445.72 2221.3,1445.72 2223.32,1445.72 2225.35,1445.72 2227.37,1445.72 2229.39,1445.72 2231.41,1445.72 2233.44,1445.72 2235.46,1445.72 2237.48,1445.72 2239.5,1445.72 2241.52,1445.72 2243.55,1445.72 2245.57,1445.72 2247.59,1445.72 2249.61,1445.72 2251.64,1445.72 2253.66,1445.72 2255.68,1445.72 2257.7,1445.72 2259.73,1445.72 2261.75,1445.72 2263.77,1445.72 2265.79,1445.72 2267.82,1445.72 2269.84,1445.72 2271.86,1445.72 2273.88,1445.72 2275.91,1445.72 2277.93,1445.72 2279.95,1445.72 2281.97,1445.72 2283.99,1445.72 2286.02,1445.72 2288.04,1445.72 2290.06,1445.72 2292.08,1445.72 \"/>\n",
       "<polyline clip-path=\"url(#clip622)\" style=\"stroke:#e26f46; stroke-linecap:round; stroke-linejoin:round; stroke-width:4; stroke-opacity:1; fill:none\" points=\"269.7,130.525 271.722,111.567 273.745,111.25 275.767,117.452 277.79,99.6128 279.812,110.341 281.834,103.096 283.857,104.136 285.879,102.857 287.901,111.382 289.924,117.732 291.946,108.488 293.969,107.122 295.991,112.194 298.013,116.767 300.036,130.49 302.058,126.479 304.081,122.572 306.103,136.065 308.125,120.903 310.148,120.914 312.17,121.854 314.192,124.271 316.215,123.125 318.237,125.524 320.26,117.205 322.282,135.447 324.304,148.059 326.327,150.356 328.349,154.33 330.372,169.815 332.394,154.936 334.416,139.509 336.439,149.644 338.461,141.496 340.483,140.445 342.506,151.09 344.528,138.791 346.551,136.579 348.573,137.343 350.595,141.217 352.618,126.849 354.64,129.469 356.663,117.526 358.685,120.417 360.707,130.043 362.73,132.94 364.752,139.583 366.774,142.982 368.797,134.566 370.819,128.443 372.842,129.86 374.864,127.775 376.886,132.057 378.909,139.027 380.931,150.122 382.954,140.156 384.976,134.89 386.998,144.065 389.021,150.694 391.043,146.903 393.065,146.383 395.088,145.716 397.11,145.739 399.133,139.142 401.155,147.87 403.177,145.753 405.2,144.397 407.222,146.776 409.245,148.294 411.267,147.697 413.289,147.811 415.312,152.645 417.334,152.221 419.356,153.443 421.379,150.207 423.401,140.126 425.424,131.973 427.446,134.054 429.468,140.129 431.491,127.67 433.513,132.873 435.536,133.14 437.558,128.832 439.58,119.548 441.603,124.735 443.625,130.446 445.647,132.689 447.67,132.914 449.692,124.074 451.715,132.494 453.737,124.409 455.759,126.768 457.782,126.327 459.804,113.759 461.827,137.026 463.849,137.916 465.871,134.752 467.894,142.487 469.916,135.781 471.938,146.625 473.961,152.447 475.983,153.962 478.006,147.169 480.028,153.854 482.05,142.527 484.073,138.716 486.095,139.564 488.118,150.401 490.14,151.022 492.162,145.195 494.185,147.142 496.207,135.373 498.229,148.331 500.252,145.194 502.274,132.433 504.297,146.088 506.319,155.567 508.341,149.93 510.364,143.225 512.386,138.377 514.409,134.972 516.431,127.674 518.453,128.749 520.476,133.852 522.498,126.367 524.52,121.558 526.543,107.659 528.565,108.49 530.588,93.9438 532.61,104.798 534.632,111.697 536.655,120.132 538.677,121.413 540.7,121.895 542.722,120.638 544.744,109.787 546.767,114.589 548.789,112.788 550.811,111.688 552.834,107.551 554.856,111.604 556.879,107.179 558.901,112.422 560.923,111.159 562.946,124.464 564.968,109.72 566.991,119.236 569.013,113.862 571.035,122.441 573.058,112.848 575.08,123.891 577.102,130.315 579.125,127.913 581.147,135.545 583.17,134.658 585.192,133.449 587.214,135.093 589.237,136.985 591.259,128.88 593.282,130.065 595.304,137.874 597.326,143.351 599.349,129.777 601.371,140.753 603.393,143.158 605.416,136.616 607.438,139.401 609.461,132.025 611.483,132.849 613.505,144.376 615.528,134.36 617.55,141.98 619.573,140.354 621.595,141.171 623.617,141.815 625.64,147.071 627.662,142.512 629.684,144.223 631.707,142.808 633.729,140.475 635.752,143.456 637.774,140.6 639.796,138.687 641.819,152.472 643.841,148.359 645.864,152.051 647.886,153.867 649.908,145.136 651.931,148.144 653.953,145.837 655.975,145.19 657.998,150.719 660.02,150.492 662.043,143.416 664.065,148.837 666.087,146.16 668.11,141.951 670.132,152.756 672.155,141.019 674.177,142.088 676.199,135.263 678.222,131.836 680.244,131.363 682.266,144.359 684.289,145.461 686.311,145.061 688.334,149.243 690.356,150.492 692.378,139.383 694.401,142.433 696.423,140.57 698.446,144.878 700.468,152.327 702.49,141.187 704.513,146.614 706.535,158.389 708.557,160.992 710.58,165.775 712.602,172.625 714.625,170.267 716.647,173.124 718.669,174.013 720.692,168.519 722.714,174.903 724.737,179.725 726.759,174.646 728.781,171.907 730.804,157.551 732.826,173.421 734.848,165.189 736.871,175.353 738.893,179.382 740.916,166.404 742.938,162.935 744.96,150.284 746.983,139.134 749.005,145.562 751.028,137.364 753.05,148.747 755.072,152.086 757.095,141.684 759.117,139.114 761.139,141.199 763.162,139.891 765.184,154.281 767.207,155.991 769.229,145.093 771.251,133.123 773.274,131.829 775.296,125.747 777.319,131.697 779.341,137.799 781.363,139.193 783.386,141.523 785.408,130.274 787.43,131.727 789.453,141.288 791.475,133.523 793.498,139.25 795.52,131.634 797.542,138.172 799.565,132.693 801.587,136.597 803.61,148.065 805.632,139.443 807.654,130.486 809.677,134.641 811.699,144.046 813.721,154.05 815.744,145.1 817.766,149.279 819.789,151.657 821.811,138.189 823.833,153.24 825.856,155.278 827.878,148.701 829.901,160.922 831.923,154.579 833.945,148.925 835.968,148.743 837.99,145.003 840.012,146.629 842.035,151.36 844.057,156.506 846.08,151.218 848.102,147.265 850.124,138.892 852.147,139.702 854.169,129.112 856.191,133.979 858.214,141.501 860.236,130.696 862.259,125.817 864.281,132.351 866.303,139.363 868.326,143.811 870.348,137.268 872.371,129.98 874.393,143.97 876.415,144.25 878.438,146.52 880.46,150.082 882.482,150.15 884.505,140.89 886.527,131.44 888.55,142.263 890.572,140.388 892.594,139.981 894.617,133.186 896.639,126.546 898.662,128.764 900.684,128.306 902.706,134.861 904.729,139.313 906.751,130.461 908.773,131.17 910.796,137.522 912.818,143.713 914.841,125.334 916.863,139.771 918.885,137.2 920.908,139.992 922.93,140.388 924.953,135.423 926.975,132.706 928.997,134.814 931.02,128.46 933.042,136.163 935.064,127.403 937.087,132.302 939.109,129.561 941.132,145.384 943.154,134.998 945.176,132.416 947.199,132.693 949.221,132.779 951.244,146.758 953.266,144.723 955.288,150.571 957.311,134.798 959.333,150.122 961.355,149.174 963.378,141.138 965.4,138.792 967.423,132.27 969.445,136.875 971.467,130.05 973.49,137.797 975.512,149.552 977.535,147.919 979.557,145.065 981.579,140.169 983.602,147.019 985.624,146.96 987.646,149.37 989.669,157.171 991.691,158.676 993.714,143.329 995.736,142.125 997.758,142.039 999.781,133.598 1001.8,137.136 1003.83,127.428 1005.85,138.542 1007.87,136.828 1009.89,138.813 1011.92,137.492 1013.94,137.9 1015.96,142.589 1017.98,153.511 1020,143.226 1022.03,140.774 1024.05,145.022 1026.07,137.367 1028.09,143.021 1030.12,135.573 1032.14,136.172 1034.16,129.626 1036.18,137.091 1038.21,131.27 1040.23,135.248 1042.25,137.79 1044.27,138.693 1046.3,151.151 1048.32,135.17 1050.34,141.393 1052.36,139.075 1054.39,147.709 1056.41,139.06 1058.43,137.185 1060.45,124.711 1062.47,111.251 1064.5,126.759 1066.52,118.654 1068.54,124.788 1070.56,141.661 1072.59,126.6 1074.61,130.207 1076.63,128.264 1078.65,120.464 1080.68,124.412 1082.7,124.395 1084.72,117.239 1086.74,116.954 1088.77,117.927 1090.79,119.995 1092.81,127.022 1094.83,123.54 1096.86,125.276 1098.88,136.855 1100.9,133.662 1102.92,119.633 1104.94,136.502 1106.97,130.373 1108.99,139.147 1111.01,143.394 1113.03,138.395 1115.06,132.178 1117.08,139.253 1119.1,141.428 1121.12,139.143 1123.15,140.819 1125.17,137.111 1127.19,136.657 1129.21,136.854 1131.24,130.719 1133.26,129.357 1135.28,138.127 1137.3,135.009 1139.33,135.585 1141.35,147.139 1143.37,154.716 1145.39,145.557 1147.41,156.652 1149.44,162.444 1151.46,142.545 1153.48,153.869 1155.5,135.701 1157.53,149.377 1159.55,145.826 1161.57,147.15 1163.59,145.96 1165.62,149.519 1167.64,159.461 1169.66,152.991 1171.68,142.586 1173.71,144.423 1175.73,150.021 1177.75,149.734 1179.77,150.374 1181.8,147.512 1183.82,148.478 1185.84,153.95 1187.86,152.853 1189.88,150.307 1191.91,152.047 1193.93,140.355 1195.95,150.458 1197.97,154.556 1200,160.625 1202.02,157.037 1204.04,145.404 1206.06,135.635 1208.09,131.915 1210.11,136.488 1212.13,132.522 1214.15,133.997 1216.18,124.144 1218.2,123.766 1220.22,122.548 1222.24,117.071 1224.27,119.883 1226.29,116.23 1228.31,123.152 1230.33,120.687 1232.35,116.966 1234.38,119.852 1236.4,125.317 1238.42,126.232 1240.44,120.678 1242.47,129.462 1244.49,127.198 1246.51,130.092 1248.53,128.749 1250.56,128.322 1252.58,131.089 1254.6,133.595 1256.62,134.739 1258.65,151.149 1260.67,133.785 1262.69,130.708 1264.71,132.828 1266.74,119.587 1268.76,123.247 1270.78,130.188 1272.8,132.075 1274.83,128.24 1276.85,134.295 1278.87,137.037 1280.89,137.251 1282.91,127.891 1284.94,132.897 1286.96,133.944 1288.98,135.899 1291,128.756 1293.03,121.1 1295.05,129.272 1297.07,130.338 1299.09,125.216 1301.12,112.9 1303.14,124.262 1305.16,122.477 1307.18,132.589 1309.21,124.138 1311.23,130.038 1313.25,118.451 1315.27,130.402 1317.3,133.865 1319.32,127.597 1321.34,134.552 1323.36,137.148 1325.38,121.269 1327.41,139.414 1329.43,137.157 1331.45,135.156 1333.47,133.352 1335.5,135.744 1337.52,135.77 1339.54,140.605 1341.56,143.532 1343.59,137.256 1345.61,142.136 1347.63,147.625 1349.65,145.694 1351.68,149.968 1353.7,158.525 1355.72,146.933 1357.74,137.936 1359.77,146.257 1361.79,144.673 1363.81,142.401 1365.83,143.674 1367.85,142.933 1369.88,155.68 1371.9,155.605 1373.92,154.448 1375.94,156.311 1377.97,146.493 1379.99,148.638 1382.01,148.457 1384.03,155.889 1386.06,150.374 1388.08,142.074 1390.1,136.058 1392.12,142.795 1394.15,149.2 1396.17,144.513 1398.19,131.025 1400.21,139.013 1402.24,131.779 1404.26,120.755 1406.28,124.428 1408.3,124.901 1410.32,121.137 1412.35,128.149 1414.37,135.284 1416.39,138.32 1418.41,144.847 1420.44,137.803 1422.46,143.578 1424.48,135.637 1426.5,142.515 1428.53,141.278 1430.55,138.573 1432.57,148.637 1434.59,146.834 1436.62,142.859 1438.64,141.733 1440.66,149.232 1442.68,151.869 1444.71,147.017 1446.73,138.648 1448.75,138.348 1450.77,136.013 1452.79,137.962 1454.82,127.971 1456.84,132.638 1458.86,136.573 1460.88,135.605 1462.91,143.772 1464.93,148.979 1466.95,154.041 1468.97,149.612 1471,148.817 1473.02,136.941 1475.04,131.111 1477.06,143.099 1479.09,141.153 1481.11,139.87 1483.13,139.397 1485.15,145.77 1487.18,144.129 1489.2,148.161 1491.22,137.898 1493.24,141.571 1495.26,138.809 1497.29,146.478 1499.31,145.34 1501.33,136.424 1503.35,147.664 1505.38,156.639 1507.4,155.912 1509.42,151.25 1511.44,146.121 1513.47,152.832 1515.49,135.833 1517.51,140.305 1519.53,141.715 1521.56,150.229 1523.58,152.829 1525.6,147.149 1527.62,151.12 1529.65,162.153 1531.67,152.821 1533.69,146.819 1535.71,152.99 1537.74,147.57 1539.76,150.67 1541.78,151.649 1543.8,146.228 1545.82,138.781 1547.85,134.675 1549.87,136.99 1551.89,126.158 1553.91,121.572 1555.94,121.972 1557.96,128.052 1559.98,130.527 1562,121.311 1564.03,131.948 1566.05,138.938 1568.07,144.804 1570.09,148.004 1572.12,151.165 1574.14,148.419 1576.16,138.755 1578.18,140.675 1580.21,131.962 1582.23,129.911 1584.25,126.995 1586.27,121.478 1588.29,119.039 1590.32,123.417 1592.34,121.891 1594.36,115.146 1596.38,113.421 1598.41,97.6696 1600.43,115.637 1602.45,116.071 1604.47,111.723 1606.5,103.28 1608.52,112.987 1610.54,105.182 1612.56,117.595 1614.59,100.012 1616.61,91.7929 1618.63,94.6551 1620.65,96.7495 1622.68,94.9216 1624.7,87.9763 1626.72,98.8601 1628.74,94.8573 1630.76,110.104 1632.79,94.6163 1634.81,95.5207 1636.83,103.352 1638.85,96.5362 1640.88,96.0347 1642.9,93.5934 1644.92,106.152 1646.94,119.418 1648.97,107.191 1650.99,105.859 1653.01,99.7495 1655.03,103.415 1657.06,105.555 1659.08,106.165 1661.1,109.099 1663.12,109.883 1665.15,126.533 1667.17,115.622 1669.19,120.697 1671.21,120.379 1673.23,117.375 1675.26,116.754 1677.28,114.147 1679.3,117.956 1681.32,113.55 1683.35,120.971 1685.37,131.313 1687.39,123.559 1689.41,106.016 1691.44,110.344 1693.46,116.33 1695.48,110.28 1697.5,90.6866 1699.53,98.686 1701.55,106.257 1703.57,97.2212 1705.59,102.122 1707.62,117.61 1709.64,114.468 1711.66,120.596 1713.68,120.63 1715.7,124.181 1717.73,112.873 1719.75,116.197 1721.77,120.241 1723.79,124.665 1725.82,112.689 1727.84,108.737 1729.86,102.527 1731.88,111.128 1733.91,111.12 1735.93,118.2 1737.95,120.473 1739.97,120.571 1742,120.094 1744.02,133.478 1746.04,115.61 1748.06,119.031 1750.09,117.723 1752.11,113.755 1754.13,113.695 1756.15,112.512 1758.17,116.549 1760.2,111.78 1762.22,118.096 1764.24,113.348 1766.26,119.475 1768.29,106.591 1770.31,109.88 1772.33,106.309 1774.35,114.612 1776.38,104.895 1778.4,109.137 1780.42,113.119 1782.44,122.135 1784.47,107.373 1786.49,120.88 1788.51,108.454 1790.53,106.85 1792.56,100.304 1794.58,109.472 1796.6,118.138 1798.62,106.374 1800.64,108.336 1802.67,109.762 1804.69,107.047 1806.71,95.3473 1808.73,101.52 1810.76,109.894 1812.78,116.542 1814.8,111.818 1816.82,113.239 1818.85,118.591 1820.87,114.54 1822.89,110.199 1824.91,119.134 1826.94,118.902 1828.96,123.154 1830.98,114.795 1833,122.457 1835.03,120.558 1837.05,121.662 1839.07,114.561 1841.09,122.6 1843.12,123.061 1845.14,133.338 1847.16,121.977 1849.18,116.719 1851.2,125.309 1853.23,131.692 1855.25,130.766 1857.27,122.572 1859.29,129.397 1861.32,130.295 1863.34,123.142 1865.36,122.073 1867.38,122.549 1869.41,106.877 1871.43,104.804 1873.45,115.553 1875.47,117.285 1877.5,127.574 1879.52,119.382 1881.54,114.284 1883.56,124.02 1885.59,117.826 1887.61,112.772 1889.63,127.039 1891.65,108.722 1893.67,115.178 1895.7,125.548 1897.72,128.437 1899.74,132.867 1901.76,136.312 1903.79,136.116 1905.81,127.875 1907.83,123.943 1909.85,124.528 1911.88,136.307 1913.9,127.758 1915.92,135.013 1917.94,140.098 1919.97,129.707 1921.99,130.327 1924.01,133.814 1926.03,130.556 1928.06,134.835 1930.08,131.834 1932.1,126.817 1934.12,132.653 1936.14,134.136 1938.17,131.423 1940.19,136.734 1942.21,132.923 1944.23,128.97 1946.26,124.265 1948.28,120.782 1950.3,121.613 1952.32,121.851 1954.35,119.358 1956.37,101.557 1958.39,115.786 1960.41,119.772 1962.44,127.848 1964.46,121.733 1966.48,110.23 1968.5,117.447 1970.53,113.843 1972.55,119.13 1974.57,106.866 1976.59,108.83 1978.61,109.245 1980.64,118.59 1982.66,118.728 1984.68,121.625 1986.7,121.601 1988.73,133.274 1990.75,126.382 1992.77,127.57 1994.79,124.743 1996.82,134.037 1998.84,139.98 2000.86,138.979 2002.88,144.435 2004.91,139.076 2006.93,133.462 2008.95,137.703 2010.97,132.304 2013,133.374 2015.02,134.005 2017.04,138.668 2019.06,142.729 2021.08,129.729 2023.11,131.081 2025.13,136.797 2027.15,131.56 2029.17,123.139 2031.2,136.097 2033.22,130.201 2035.24,125.273 2037.26,119.937 2039.29,123.998 2041.31,114.498 2043.33,124.95 2045.35,113.126 2047.38,115.343 2049.4,108.686 2051.42,108.014 2053.44,112.618 2055.47,110.167 2057.49,103.112 2059.51,112.89 2061.53,119.69 2063.55,102.963 2065.58,105.443 2067.6,112.967 2069.62,110.189 2071.64,98.9631 2073.67,98.7945 2075.69,102.636 2077.71,104.753 2079.73,107.478 2081.76,97.2295 2083.78,94.6978 2085.8,96.3358 2087.82,94.9573 2089.85,93.9181 2091.87,107.891 2093.89,101.481 2095.91,112.635 2097.94,110.195 2099.96,117.636 2101.98,119.049 2104,114.15 2106.03,118.395 2108.05,121.716 2110.07,121.672 2112.09,122.395 2114.11,108.641 2116.14,109.899 2118.16,114.143 2120.18,119.451 2122.2,113.772 2124.23,107.524 2126.25,115.092 2128.27,106.043 2130.29,102.273 2132.32,106.542 2134.34,101.031 2136.36,101.26 2138.38,100.302 2140.41,108.266 2142.43,103.73 2144.45,107.358 2146.47,102.471 2148.5,132.405 2150.52,118.138 2152.54,116.384 2154.56,115.471 2156.58,116.122 2158.61,123.815 2160.63,119.1 2162.65,113.952 2164.67,116.415 2166.7,116.43 2168.72,112.38 2170.74,123.121 2172.76,118.483 2174.79,111.979 2176.81,97.5725 2178.83,109.096 2180.85,116.032 2182.88,122.19 2184.9,111.263 2186.92,111.681 2188.94,114.594 2190.97,110.879 2192.99,121.852 2195.01,113.018 2197.03,124.381 2199.05,123.037 2201.08,110.031 2203.1,113.597 2205.12,123.33 2207.14,117.313 2209.17,115.816 2211.19,123.89 2213.21,120.509 2215.23,125.758 2217.26,126.495 2219.28,125.543 2221.3,115.543 2223.32,130.243 2225.35,120.837 2227.37,127.302 2229.39,124.259 2231.41,131.557 2233.44,132.606 2235.46,126.868 2237.48,126.293 2239.5,131.561 2241.52,131.536 2243.55,142.299 2245.57,145.17 2247.59,137.801 2249.61,143.368 2251.64,138.978 2253.66,141.35 2255.68,144.682 2257.7,147.572 2259.73,153.998 2261.75,158.679 2263.77,158.32 2265.79,164.291 2267.82,164.404 2269.84,161.407 2271.86,166.833 2273.88,162.055 2275.91,163.367 2277.93,169.21 2279.95,172.545 2281.97,171.709 2283.99,163.46 2286.02,148.827 2288.04,152.669 2290.06,157.475 2292.08,151.997 \"/>\n",
       "<path clip-path=\"url(#clip620)\" d=\"M280.486 250.738 L547.289 250.738 L547.289 95.2176 L280.486 95.2176  Z\" fill=\"#ffffff\" fill-rule=\"evenodd\" fill-opacity=\"1\"/>\n",
       "<polyline clip-path=\"url(#clip620)\" style=\"stroke:#000000; stroke-linecap:round; stroke-linejoin:round; stroke-width:4; stroke-opacity:1; fill:none\" points=\"280.486,250.738 547.289,250.738 547.289,95.2176 280.486,95.2176 280.486,250.738 \"/>\n",
       "<polyline clip-path=\"url(#clip620)\" style=\"stroke:#009af9; stroke-linecap:round; stroke-linejoin:round; stroke-width:4; stroke-opacity:1; fill:none\" points=\"304.305,147.058 447.22,147.058 \"/>\n",
       "<path clip-path=\"url(#clip620)\" d=\"M484.882 166.745 Q483.077 171.375 481.364 172.787 Q479.651 174.199 476.78 174.199 L473.378 174.199 L473.378 170.634 L475.878 170.634 Q477.637 170.634 478.609 169.8 Q479.581 168.967 480.762 165.865 L481.526 163.921 L471.04 138.412 L475.554 138.412 L483.655 158.689 L491.757 138.412 L496.271 138.412 L484.882 166.745 Z\" fill=\"#000000\" fill-rule=\"nonzero\" fill-opacity=\"1\" /><path clip-path=\"url(#clip620)\" d=\"M503.563 160.402 L511.201 160.402 L511.201 134.037 L502.891 135.703 L502.891 131.444 L511.155 129.778 L515.831 129.778 L515.831 160.402 L523.47 160.402 L523.47 164.338 L503.563 164.338 L503.563 160.402 Z\" fill=\"#000000\" fill-rule=\"nonzero\" fill-opacity=\"1\" /><polyline clip-path=\"url(#clip620)\" style=\"stroke:#e26f46; stroke-linecap:round; stroke-linejoin:round; stroke-width:4; stroke-opacity:1; fill:none\" points=\"304.305,198.898 447.22,198.898 \"/>\n",
       "<path clip-path=\"url(#clip620)\" d=\"M484.882 218.585 Q483.077 223.215 481.364 224.627 Q479.651 226.039 476.78 226.039 L473.378 226.039 L473.378 222.474 L475.878 222.474 Q477.637 222.474 478.609 221.64 Q479.581 220.807 480.762 217.705 L481.526 215.761 L471.04 190.252 L475.554 190.252 L483.655 210.529 L491.757 190.252 L496.271 190.252 L484.882 218.585 Z\" fill=\"#000000\" fill-rule=\"nonzero\" fill-opacity=\"1\" /><path clip-path=\"url(#clip620)\" d=\"M506.78 212.242 L523.1 212.242 L523.1 216.178 L501.155 216.178 L501.155 212.242 Q503.817 209.488 508.401 204.858 Q513.007 200.205 514.188 198.863 Q516.433 196.34 517.313 194.604 Q518.215 192.844 518.215 191.155 Q518.215 188.4 516.271 186.664 Q514.35 184.928 511.248 184.928 Q509.049 184.928 506.595 185.692 Q504.164 186.455 501.387 188.006 L501.387 183.284 Q504.211 182.15 506.664 181.571 Q509.118 180.993 511.155 180.993 Q516.526 180.993 519.72 183.678 Q522.914 186.363 522.914 190.854 Q522.914 192.983 522.104 194.905 Q521.317 196.803 519.211 199.395 Q518.632 200.067 515.53 203.284 Q512.428 206.479 506.78 212.242 Z\" fill=\"#000000\" fill-rule=\"nonzero\" fill-opacity=\"1\" /></svg>\n"
      ],
      "text/html": [
       "<?xml version=\"1.0\" encoding=\"utf-8\"?>\n",
       "<svg xmlns=\"http://www.w3.org/2000/svg\" xmlns:xlink=\"http://www.w3.org/1999/xlink\" width=\"600\" height=\"400\" viewBox=\"0 0 2400 1600\">\n",
       "<defs>\n",
       "  <clipPath id=\"clip670\">\n",
       "    <rect x=\"0\" y=\"0\" width=\"2400\" height=\"1600\"/>\n",
       "  </clipPath>\n",
       "</defs>\n",
       "<path clip-path=\"url(#clip670)\" d=\"M0 1600 L2400 1600 L2400 0 L0 0  Z\" fill=\"#ffffff\" fill-rule=\"evenodd\" fill-opacity=\"1\"/>\n",
       "<defs>\n",
       "  <clipPath id=\"clip671\">\n",
       "    <rect x=\"480\" y=\"0\" width=\"1681\" height=\"1600\"/>\n",
       "  </clipPath>\n",
       "</defs>\n",
       "<path clip-path=\"url(#clip670)\" d=\"M209.029 1486.45 L2352.76 1486.45 L2352.76 47.2441 L209.029 47.2441  Z\" fill=\"#ffffff\" fill-rule=\"evenodd\" fill-opacity=\"1\"/>\n",
       "<defs>\n",
       "  <clipPath id=\"clip672\">\n",
       "    <rect x=\"209\" y=\"47\" width=\"2145\" height=\"1440\"/>\n",
       "  </clipPath>\n",
       "</defs>\n",
       "<polyline clip-path=\"url(#clip672)\" style=\"stroke:#000000; stroke-linecap:round; stroke-linejoin:round; stroke-width:2; stroke-opacity:0.1; fill:none\" points=\"267.678,1486.45 267.678,47.2441 \"/>\n",
       "<polyline clip-path=\"url(#clip672)\" style=\"stroke:#000000; stroke-linecap:round; stroke-linejoin:round; stroke-width:2; stroke-opacity:0.1; fill:none\" points=\"773.274,1486.45 773.274,47.2441 \"/>\n",
       "<polyline clip-path=\"url(#clip672)\" style=\"stroke:#000000; stroke-linecap:round; stroke-linejoin:round; stroke-width:2; stroke-opacity:0.1; fill:none\" points=\"1278.87,1486.45 1278.87,47.2441 \"/>\n",
       "<polyline clip-path=\"url(#clip672)\" style=\"stroke:#000000; stroke-linecap:round; stroke-linejoin:round; stroke-width:2; stroke-opacity:0.1; fill:none\" points=\"1784.47,1486.45 1784.47,47.2441 \"/>\n",
       "<polyline clip-path=\"url(#clip672)\" style=\"stroke:#000000; stroke-linecap:round; stroke-linejoin:round; stroke-width:2; stroke-opacity:0.1; fill:none\" points=\"2290.06,1486.45 2290.06,47.2441 \"/>\n",
       "<polyline clip-path=\"url(#clip672)\" style=\"stroke:#000000; stroke-linecap:round; stroke-linejoin:round; stroke-width:2; stroke-opacity:0.1; fill:none\" points=\"209.029,1403.43 2352.76,1403.43 \"/>\n",
       "<polyline clip-path=\"url(#clip672)\" style=\"stroke:#000000; stroke-linecap:round; stroke-linejoin:round; stroke-width:2; stroke-opacity:0.1; fill:none\" points=\"209.029,1198.61 2352.76,1198.61 \"/>\n",
       "<polyline clip-path=\"url(#clip672)\" style=\"stroke:#000000; stroke-linecap:round; stroke-linejoin:round; stroke-width:2; stroke-opacity:0.1; fill:none\" points=\"209.029,993.784 2352.76,993.784 \"/>\n",
       "<polyline clip-path=\"url(#clip672)\" style=\"stroke:#000000; stroke-linecap:round; stroke-linejoin:round; stroke-width:2; stroke-opacity:0.1; fill:none\" points=\"209.029,788.962 2352.76,788.962 \"/>\n",
       "<polyline clip-path=\"url(#clip672)\" style=\"stroke:#000000; stroke-linecap:round; stroke-linejoin:round; stroke-width:2; stroke-opacity:0.1; fill:none\" points=\"209.029,584.14 2352.76,584.14 \"/>\n",
       "<polyline clip-path=\"url(#clip672)\" style=\"stroke:#000000; stroke-linecap:round; stroke-linejoin:round; stroke-width:2; stroke-opacity:0.1; fill:none\" points=\"209.029,379.318 2352.76,379.318 \"/>\n",
       "<polyline clip-path=\"url(#clip672)\" style=\"stroke:#000000; stroke-linecap:round; stroke-linejoin:round; stroke-width:2; stroke-opacity:0.1; fill:none\" points=\"209.029,174.496 2352.76,174.496 \"/>\n",
       "<polyline clip-path=\"url(#clip670)\" style=\"stroke:#000000; stroke-linecap:round; stroke-linejoin:round; stroke-width:4; stroke-opacity:1; fill:none\" points=\"209.029,1486.45 2352.76,1486.45 \"/>\n",
       "<polyline clip-path=\"url(#clip670)\" style=\"stroke:#000000; stroke-linecap:round; stroke-linejoin:round; stroke-width:4; stroke-opacity:1; fill:none\" points=\"267.678,1486.45 267.678,1467.55 \"/>\n",
       "<polyline clip-path=\"url(#clip670)\" style=\"stroke:#000000; stroke-linecap:round; stroke-linejoin:round; stroke-width:4; stroke-opacity:1; fill:none\" points=\"773.274,1486.45 773.274,1467.55 \"/>\n",
       "<polyline clip-path=\"url(#clip670)\" style=\"stroke:#000000; stroke-linecap:round; stroke-linejoin:round; stroke-width:4; stroke-opacity:1; fill:none\" points=\"1278.87,1486.45 1278.87,1467.55 \"/>\n",
       "<polyline clip-path=\"url(#clip670)\" style=\"stroke:#000000; stroke-linecap:round; stroke-linejoin:round; stroke-width:4; stroke-opacity:1; fill:none\" points=\"1784.47,1486.45 1784.47,1467.55 \"/>\n",
       "<polyline clip-path=\"url(#clip670)\" style=\"stroke:#000000; stroke-linecap:round; stroke-linejoin:round; stroke-width:4; stroke-opacity:1; fill:none\" points=\"2290.06,1486.45 2290.06,1467.55 \"/>\n",
       "<path clip-path=\"url(#clip670)\" d=\"M267.678 1517.37 Q264.067 1517.37 262.238 1520.93 Q260.432 1524.47 260.432 1531.6 Q260.432 1538.71 262.238 1542.27 Q264.067 1545.82 267.678 1545.82 Q271.312 1545.82 273.117 1542.27 Q274.946 1538.71 274.946 1531.6 Q274.946 1524.47 273.117 1520.93 Q271.312 1517.37 267.678 1517.37 M267.678 1513.66 Q273.488 1513.66 276.543 1518.27 Q279.622 1522.85 279.622 1531.6 Q279.622 1540.33 276.543 1544.94 Q273.488 1549.52 267.678 1549.52 Q261.868 1549.52 258.789 1544.94 Q255.733 1540.33 255.733 1531.6 Q255.733 1522.85 258.789 1518.27 Q261.868 1513.66 267.678 1513.66 Z\" fill=\"#000000\" fill-rule=\"nonzero\" fill-opacity=\"1\" /><path clip-path=\"url(#clip670)\" d=\"M736.966 1544.91 L753.285 1544.91 L753.285 1548.85 L731.341 1548.85 L731.341 1544.91 Q734.003 1542.16 738.586 1537.53 Q743.193 1532.88 744.373 1531.53 Q746.619 1529.01 747.498 1527.27 Q748.401 1525.51 748.401 1523.82 Q748.401 1521.07 746.457 1519.33 Q744.535 1517.6 741.434 1517.6 Q739.235 1517.6 736.781 1518.36 Q734.35 1519.13 731.573 1520.68 L731.573 1515.95 Q734.397 1514.82 736.85 1514.24 Q739.304 1513.66 741.341 1513.66 Q746.711 1513.66 749.906 1516.35 Q753.1 1519.03 753.1 1523.52 Q753.1 1525.65 752.29 1527.57 Q751.503 1529.47 749.397 1532.07 Q748.818 1532.74 745.716 1535.95 Q742.614 1539.15 736.966 1544.91 Z\" fill=\"#000000\" fill-rule=\"nonzero\" fill-opacity=\"1\" /><path clip-path=\"url(#clip670)\" d=\"M763.146 1514.29 L781.503 1514.29 L781.503 1518.22 L767.429 1518.22 L767.429 1526.7 Q768.447 1526.35 769.466 1526.19 Q770.484 1526 771.503 1526 Q777.29 1526 780.67 1529.17 Q784.049 1532.34 784.049 1537.76 Q784.049 1543.34 780.577 1546.44 Q777.105 1549.52 770.785 1549.52 Q768.609 1549.52 766.341 1549.15 Q764.096 1548.78 761.688 1548.04 L761.688 1543.34 Q763.771 1544.47 765.994 1545.03 Q768.216 1545.58 770.693 1545.58 Q774.697 1545.58 777.035 1543.48 Q779.373 1541.37 779.373 1537.76 Q779.373 1534.15 777.035 1532.04 Q774.697 1529.94 770.693 1529.94 Q768.818 1529.94 766.943 1530.35 Q765.091 1530.77 763.146 1531.65 L763.146 1514.29 Z\" fill=\"#000000\" fill-rule=\"nonzero\" fill-opacity=\"1\" /><path clip-path=\"url(#clip670)\" d=\"M803.262 1517.37 Q799.651 1517.37 797.822 1520.93 Q796.017 1524.47 796.017 1531.6 Q796.017 1538.71 797.822 1542.27 Q799.651 1545.82 803.262 1545.82 Q806.896 1545.82 808.702 1542.27 Q810.53 1538.71 810.53 1531.6 Q810.53 1524.47 808.702 1520.93 Q806.896 1517.37 803.262 1517.37 M803.262 1513.66 Q809.072 1513.66 812.128 1518.27 Q815.206 1522.85 815.206 1531.6 Q815.206 1540.33 812.128 1544.94 Q809.072 1549.52 803.262 1549.52 Q797.452 1549.52 794.373 1544.94 Q791.318 1540.33 791.318 1531.6 Q791.318 1522.85 794.373 1518.27 Q797.452 1513.66 803.262 1513.66 Z\" fill=\"#000000\" fill-rule=\"nonzero\" fill-opacity=\"1\" /><path clip-path=\"url(#clip670)\" d=\"M1238.49 1514.29 L1256.84 1514.29 L1256.84 1518.22 L1242.77 1518.22 L1242.77 1526.7 Q1243.79 1526.35 1244.81 1526.19 Q1245.83 1526 1246.84 1526 Q1252.63 1526 1256.01 1529.17 Q1259.39 1532.34 1259.39 1537.76 Q1259.39 1543.34 1255.92 1546.44 Q1252.45 1549.52 1246.13 1549.52 Q1243.95 1549.52 1241.68 1549.15 Q1239.44 1548.78 1237.03 1548.04 L1237.03 1543.34 Q1239.11 1544.47 1241.34 1545.03 Q1243.56 1545.58 1246.03 1545.58 Q1250.04 1545.58 1252.38 1543.48 Q1254.71 1541.37 1254.71 1537.76 Q1254.71 1534.15 1252.38 1532.04 Q1250.04 1529.94 1246.03 1529.94 Q1244.16 1529.94 1242.28 1530.35 Q1240.43 1530.77 1238.49 1531.65 L1238.49 1514.29 Z\" fill=\"#000000\" fill-rule=\"nonzero\" fill-opacity=\"1\" /><path clip-path=\"url(#clip670)\" d=\"M1278.6 1517.37 Q1274.99 1517.37 1273.16 1520.93 Q1271.36 1524.47 1271.36 1531.6 Q1271.36 1538.71 1273.16 1542.27 Q1274.99 1545.82 1278.6 1545.82 Q1282.24 1545.82 1284.04 1542.27 Q1285.87 1538.71 1285.87 1531.6 Q1285.87 1524.47 1284.04 1520.93 Q1282.24 1517.37 1278.6 1517.37 M1278.6 1513.66 Q1284.41 1513.66 1287.47 1518.27 Q1290.55 1522.85 1290.55 1531.6 Q1290.55 1540.33 1287.47 1544.94 Q1284.41 1549.52 1278.6 1549.52 Q1272.79 1549.52 1269.71 1544.94 Q1266.66 1540.33 1266.66 1531.6 Q1266.66 1522.85 1269.71 1518.27 Q1272.79 1513.66 1278.6 1513.66 Z\" fill=\"#000000\" fill-rule=\"nonzero\" fill-opacity=\"1\" /><path clip-path=\"url(#clip670)\" d=\"M1308.77 1517.37 Q1305.15 1517.37 1303.33 1520.93 Q1301.52 1524.47 1301.52 1531.6 Q1301.52 1538.71 1303.33 1542.27 Q1305.15 1545.82 1308.77 1545.82 Q1312.4 1545.82 1314.21 1542.27 Q1316.03 1538.71 1316.03 1531.6 Q1316.03 1524.47 1314.21 1520.93 Q1312.4 1517.37 1308.77 1517.37 M1308.77 1513.66 Q1314.58 1513.66 1317.63 1518.27 Q1320.71 1522.85 1320.71 1531.6 Q1320.71 1540.33 1317.63 1544.94 Q1314.58 1549.52 1308.77 1549.52 Q1302.96 1549.52 1299.88 1544.94 Q1296.82 1540.33 1296.82 1531.6 Q1296.82 1522.85 1299.88 1518.27 Q1302.96 1513.66 1308.77 1513.66 Z\" fill=\"#000000\" fill-rule=\"nonzero\" fill-opacity=\"1\" /><path clip-path=\"url(#clip670)\" d=\"M1742.74 1514.29 L1764.96 1514.29 L1764.96 1516.28 L1752.42 1548.85 L1747.53 1548.85 L1759.34 1518.22 L1742.74 1518.22 L1742.74 1514.29 Z\" fill=\"#000000\" fill-rule=\"nonzero\" fill-opacity=\"1\" /><path clip-path=\"url(#clip670)\" d=\"M1774.13 1514.29 L1792.49 1514.29 L1792.49 1518.22 L1778.41 1518.22 L1778.41 1526.7 Q1779.43 1526.35 1780.45 1526.19 Q1781.47 1526 1782.49 1526 Q1788.27 1526 1791.65 1529.17 Q1795.03 1532.34 1795.03 1537.76 Q1795.03 1543.34 1791.56 1546.44 Q1788.09 1549.52 1781.77 1549.52 Q1779.59 1549.52 1777.32 1549.15 Q1775.08 1548.78 1772.67 1548.04 L1772.67 1543.34 Q1774.76 1544.47 1776.98 1545.03 Q1779.2 1545.58 1781.68 1545.58 Q1785.68 1545.58 1788.02 1543.48 Q1790.36 1541.37 1790.36 1537.76 Q1790.36 1534.15 1788.02 1532.04 Q1785.68 1529.94 1781.68 1529.94 Q1779.8 1529.94 1777.93 1530.35 Q1776.07 1530.77 1774.13 1531.65 L1774.13 1514.29 Z\" fill=\"#000000\" fill-rule=\"nonzero\" fill-opacity=\"1\" /><path clip-path=\"url(#clip670)\" d=\"M1814.25 1517.37 Q1810.63 1517.37 1808.81 1520.93 Q1807 1524.47 1807 1531.6 Q1807 1538.71 1808.81 1542.27 Q1810.63 1545.82 1814.25 1545.82 Q1817.88 1545.82 1819.69 1542.27 Q1821.51 1538.71 1821.51 1531.6 Q1821.51 1524.47 1819.69 1520.93 Q1817.88 1517.37 1814.25 1517.37 M1814.25 1513.66 Q1820.06 1513.66 1823.11 1518.27 Q1826.19 1522.85 1826.19 1531.6 Q1826.19 1540.33 1823.11 1544.94 Q1820.06 1549.52 1814.25 1549.52 Q1808.44 1549.52 1805.36 1544.94 Q1802.3 1540.33 1802.3 1531.6 Q1802.3 1522.85 1805.36 1518.27 Q1808.44 1513.66 1814.25 1513.66 Z\" fill=\"#000000\" fill-rule=\"nonzero\" fill-opacity=\"1\" /><path clip-path=\"url(#clip670)\" d=\"M2234.59 1544.91 L2242.23 1544.91 L2242.23 1518.55 L2233.92 1520.21 L2233.92 1515.95 L2242.18 1514.29 L2246.86 1514.29 L2246.86 1544.91 L2254.5 1544.91 L2254.5 1548.85 L2234.59 1548.85 L2234.59 1544.91 Z\" fill=\"#000000\" fill-rule=\"nonzero\" fill-opacity=\"1\" /><path clip-path=\"url(#clip670)\" d=\"M2273.94 1517.37 Q2270.33 1517.37 2268.5 1520.93 Q2266.69 1524.47 2266.69 1531.6 Q2266.69 1538.71 2268.5 1542.27 Q2270.33 1545.82 2273.94 1545.82 Q2277.57 1545.82 2279.38 1542.27 Q2281.21 1538.71 2281.21 1531.6 Q2281.21 1524.47 2279.38 1520.93 Q2277.57 1517.37 2273.94 1517.37 M2273.94 1513.66 Q2279.75 1513.66 2282.81 1518.27 Q2285.88 1522.85 2285.88 1531.6 Q2285.88 1540.33 2282.81 1544.94 Q2279.75 1549.52 2273.94 1549.52 Q2268.13 1549.52 2265.05 1544.94 Q2262 1540.33 2262 1531.6 Q2262 1522.85 2265.05 1518.27 Q2268.13 1513.66 2273.94 1513.66 Z\" fill=\"#000000\" fill-rule=\"nonzero\" fill-opacity=\"1\" /><path clip-path=\"url(#clip670)\" d=\"M2304.1 1517.37 Q2300.49 1517.37 2298.66 1520.93 Q2296.86 1524.47 2296.86 1531.6 Q2296.86 1538.71 2298.66 1542.27 Q2300.49 1545.82 2304.1 1545.82 Q2307.74 1545.82 2309.54 1542.27 Q2311.37 1538.71 2311.37 1531.6 Q2311.37 1524.47 2309.54 1520.93 Q2307.74 1517.37 2304.1 1517.37 M2304.1 1513.66 Q2309.91 1513.66 2312.97 1518.27 Q2316.05 1522.85 2316.05 1531.6 Q2316.05 1540.33 2312.97 1544.94 Q2309.91 1549.52 2304.1 1549.52 Q2298.29 1549.52 2295.21 1544.94 Q2292.16 1540.33 2292.16 1531.6 Q2292.16 1522.85 2295.21 1518.27 Q2298.29 1513.66 2304.1 1513.66 Z\" fill=\"#000000\" fill-rule=\"nonzero\" fill-opacity=\"1\" /><path clip-path=\"url(#clip670)\" d=\"M2334.26 1517.37 Q2330.65 1517.37 2328.82 1520.93 Q2327.02 1524.47 2327.02 1531.6 Q2327.02 1538.71 2328.82 1542.27 Q2330.65 1545.82 2334.26 1545.82 Q2337.9 1545.82 2339.7 1542.27 Q2341.53 1538.71 2341.53 1531.6 Q2341.53 1524.47 2339.7 1520.93 Q2337.9 1517.37 2334.26 1517.37 M2334.26 1513.66 Q2340.07 1513.66 2343.13 1518.27 Q2346.21 1522.85 2346.21 1531.6 Q2346.21 1540.33 2343.13 1544.94 Q2340.07 1549.52 2334.26 1549.52 Q2328.45 1549.52 2325.37 1544.94 Q2322.32 1540.33 2322.32 1531.6 Q2322.32 1522.85 2325.37 1518.27 Q2328.45 1513.66 2334.26 1513.66 Z\" fill=\"#000000\" fill-rule=\"nonzero\" fill-opacity=\"1\" /><polyline clip-path=\"url(#clip670)\" style=\"stroke:#000000; stroke-linecap:round; stroke-linejoin:round; stroke-width:4; stroke-opacity:1; fill:none\" points=\"209.029,1486.45 209.029,47.2441 \"/>\n",
       "<polyline clip-path=\"url(#clip670)\" style=\"stroke:#000000; stroke-linecap:round; stroke-linejoin:round; stroke-width:4; stroke-opacity:1; fill:none\" points=\"209.029,1403.43 227.926,1403.43 \"/>\n",
       "<polyline clip-path=\"url(#clip670)\" style=\"stroke:#000000; stroke-linecap:round; stroke-linejoin:round; stroke-width:4; stroke-opacity:1; fill:none\" points=\"209.029,1198.61 227.926,1198.61 \"/>\n",
       "<polyline clip-path=\"url(#clip670)\" style=\"stroke:#000000; stroke-linecap:round; stroke-linejoin:round; stroke-width:4; stroke-opacity:1; fill:none\" points=\"209.029,993.784 227.926,993.784 \"/>\n",
       "<polyline clip-path=\"url(#clip670)\" style=\"stroke:#000000; stroke-linecap:round; stroke-linejoin:round; stroke-width:4; stroke-opacity:1; fill:none\" points=\"209.029,788.962 227.926,788.962 \"/>\n",
       "<polyline clip-path=\"url(#clip670)\" style=\"stroke:#000000; stroke-linecap:round; stroke-linejoin:round; stroke-width:4; stroke-opacity:1; fill:none\" points=\"209.029,584.14 227.926,584.14 \"/>\n",
       "<polyline clip-path=\"url(#clip670)\" style=\"stroke:#000000; stroke-linecap:round; stroke-linejoin:round; stroke-width:4; stroke-opacity:1; fill:none\" points=\"209.029,379.318 227.926,379.318 \"/>\n",
       "<polyline clip-path=\"url(#clip670)\" style=\"stroke:#000000; stroke-linecap:round; stroke-linejoin:round; stroke-width:4; stroke-opacity:1; fill:none\" points=\"209.029,174.496 227.926,174.496 \"/>\n",
       "<path clip-path=\"url(#clip670)\" d=\"M50.9921 1403.88 L80.6679 1403.88 L80.6679 1407.81 L50.9921 1407.81 L50.9921 1403.88 Z\" fill=\"#000000\" fill-rule=\"nonzero\" fill-opacity=\"1\" /><path clip-path=\"url(#clip670)\" d=\"M91.5706 1416.77 L99.2095 1416.77 L99.2095 1390.41 L90.8993 1392.07 L90.8993 1387.81 L99.1632 1386.15 L103.839 1386.15 L103.839 1416.77 L111.478 1416.77 L111.478 1420.71 L91.5706 1420.71 L91.5706 1416.77 Z\" fill=\"#000000\" fill-rule=\"nonzero\" fill-opacity=\"1\" /><path clip-path=\"url(#clip670)\" d=\"M120.969 1386.15 L139.325 1386.15 L139.325 1390.08 L125.251 1390.08 L125.251 1398.56 Q126.27 1398.21 127.288 1398.05 Q128.307 1397.86 129.325 1397.86 Q135.112 1397.86 138.492 1401.03 Q141.871 1404.2 141.871 1409.62 Q141.871 1415.2 138.399 1418.3 Q134.927 1421.38 128.607 1421.38 Q126.432 1421.38 124.163 1421.01 Q121.918 1420.64 119.51 1419.9 L119.51 1415.2 Q121.594 1416.33 123.816 1416.89 Q126.038 1417.44 128.515 1417.44 Q132.519 1417.44 134.857 1415.34 Q137.195 1413.23 137.195 1409.62 Q137.195 1406.01 134.857 1403.9 Q132.519 1401.8 128.515 1401.8 Q126.64 1401.8 124.765 1402.21 Q122.913 1402.63 120.969 1403.51 L120.969 1386.15 Z\" fill=\"#000000\" fill-rule=\"nonzero\" fill-opacity=\"1\" /><path clip-path=\"url(#clip670)\" d=\"M161.084 1389.23 Q157.473 1389.23 155.644 1392.79 Q153.839 1396.33 153.839 1403.46 Q153.839 1410.57 155.644 1414.13 Q157.473 1417.68 161.084 1417.68 Q164.718 1417.68 166.524 1414.13 Q168.353 1410.57 168.353 1403.46 Q168.353 1396.33 166.524 1392.79 Q164.718 1389.23 161.084 1389.23 M161.084 1385.52 Q166.894 1385.52 169.95 1390.13 Q173.029 1394.71 173.029 1403.46 Q173.029 1412.19 169.95 1416.8 Q166.894 1421.38 161.084 1421.38 Q155.274 1421.38 152.195 1416.8 Q149.14 1412.19 149.14 1403.46 Q149.14 1394.71 152.195 1390.13 Q155.274 1385.52 161.084 1385.52 Z\" fill=\"#000000\" fill-rule=\"nonzero\" fill-opacity=\"1\" /><path clip-path=\"url(#clip670)\" d=\"M50.9921 1199.06 L80.6679 1199.06 L80.6679 1202.99 L50.9921 1202.99 L50.9921 1199.06 Z\" fill=\"#000000\" fill-rule=\"nonzero\" fill-opacity=\"1\" /><path clip-path=\"url(#clip670)\" d=\"M91.5706 1211.95 L99.2095 1211.95 L99.2095 1185.59 L90.8993 1187.25 L90.8993 1182.99 L99.1632 1181.33 L103.839 1181.33 L103.839 1211.95 L111.478 1211.95 L111.478 1215.89 L91.5706 1215.89 L91.5706 1211.95 Z\" fill=\"#000000\" fill-rule=\"nonzero\" fill-opacity=\"1\" /><path clip-path=\"url(#clip670)\" d=\"M130.922 1184.4 Q127.311 1184.4 125.482 1187.97 Q123.677 1191.51 123.677 1198.64 Q123.677 1205.75 125.482 1209.31 Q127.311 1212.85 130.922 1212.85 Q134.556 1212.85 136.362 1209.31 Q138.191 1205.75 138.191 1198.64 Q138.191 1191.51 136.362 1187.97 Q134.556 1184.4 130.922 1184.4 M130.922 1180.7 Q136.732 1180.7 139.788 1185.31 Q142.867 1189.89 142.867 1198.64 Q142.867 1207.37 139.788 1211.97 Q136.732 1216.56 130.922 1216.56 Q125.112 1216.56 122.033 1211.97 Q118.978 1207.37 118.978 1198.64 Q118.978 1189.89 122.033 1185.31 Q125.112 1180.7 130.922 1180.7 Z\" fill=\"#000000\" fill-rule=\"nonzero\" fill-opacity=\"1\" /><path clip-path=\"url(#clip670)\" d=\"M161.084 1184.4 Q157.473 1184.4 155.644 1187.97 Q153.839 1191.51 153.839 1198.64 Q153.839 1205.75 155.644 1209.31 Q157.473 1212.85 161.084 1212.85 Q164.718 1212.85 166.524 1209.31 Q168.353 1205.75 168.353 1198.64 Q168.353 1191.51 166.524 1187.97 Q164.718 1184.4 161.084 1184.4 M161.084 1180.7 Q166.894 1180.7 169.95 1185.31 Q173.029 1189.89 173.029 1198.64 Q173.029 1207.37 169.95 1211.97 Q166.894 1216.56 161.084 1216.56 Q155.274 1216.56 152.195 1211.97 Q149.14 1207.37 149.14 1198.64 Q149.14 1189.89 152.195 1185.31 Q155.274 1180.7 161.084 1180.7 Z\" fill=\"#000000\" fill-rule=\"nonzero\" fill-opacity=\"1\" /><path clip-path=\"url(#clip670)\" d=\"M81.154 994.235 L110.83 994.235 L110.83 998.171 L81.154 998.171 L81.154 994.235 Z\" fill=\"#000000\" fill-rule=\"nonzero\" fill-opacity=\"1\" /><path clip-path=\"url(#clip670)\" d=\"M120.969 976.504 L139.325 976.504 L139.325 980.439 L125.251 980.439 L125.251 988.911 Q126.27 988.564 127.288 988.402 Q128.307 988.217 129.325 988.217 Q135.112 988.217 138.492 991.388 Q141.871 994.559 141.871 999.976 Q141.871 1005.55 138.399 1008.66 Q134.927 1011.74 128.607 1011.74 Q126.432 1011.74 124.163 1011.36 Q121.918 1010.99 119.51 1010.25 L119.51 1005.55 Q121.594 1006.69 123.816 1007.24 Q126.038 1007.8 128.515 1007.8 Q132.519 1007.8 134.857 1005.69 Q137.195 1003.59 137.195 999.976 Q137.195 996.365 134.857 994.259 Q132.519 992.152 128.515 992.152 Q126.64 992.152 124.765 992.569 Q122.913 992.985 120.969 993.865 L120.969 976.504 Z\" fill=\"#000000\" fill-rule=\"nonzero\" fill-opacity=\"1\" /><path clip-path=\"url(#clip670)\" d=\"M161.084 979.583 Q157.473 979.583 155.644 983.147 Q153.839 986.689 153.839 993.819 Q153.839 1000.93 155.644 1004.49 Q157.473 1008.03 161.084 1008.03 Q164.718 1008.03 166.524 1004.49 Q168.353 1000.93 168.353 993.819 Q168.353 986.689 166.524 983.147 Q164.718 979.583 161.084 979.583 M161.084 975.879 Q166.894 975.879 169.95 980.485 Q173.029 985.069 173.029 993.819 Q173.029 1002.55 169.95 1007.15 Q166.894 1011.74 161.084 1011.74 Q155.274 1011.74 152.195 1007.15 Q149.14 1002.55 149.14 993.819 Q149.14 985.069 152.195 980.485 Q155.274 975.879 161.084 975.879 Z\" fill=\"#000000\" fill-rule=\"nonzero\" fill-opacity=\"1\" /><path clip-path=\"url(#clip670)\" d=\"M161.084 774.761 Q157.473 774.761 155.644 778.325 Q153.839 781.867 153.839 788.997 Q153.839 796.103 155.644 799.668 Q157.473 803.21 161.084 803.21 Q164.718 803.21 166.524 799.668 Q168.353 796.103 168.353 788.997 Q168.353 781.867 166.524 778.325 Q164.718 774.761 161.084 774.761 M161.084 771.057 Q166.894 771.057 169.95 775.663 Q173.029 780.247 173.029 788.997 Q173.029 797.723 169.95 802.33 Q166.894 806.913 161.084 806.913 Q155.274 806.913 152.195 802.33 Q149.14 797.723 149.14 788.997 Q149.14 780.247 152.195 775.663 Q155.274 771.057 161.084 771.057 Z\" fill=\"#000000\" fill-rule=\"nonzero\" fill-opacity=\"1\" /><path clip-path=\"url(#clip670)\" d=\"M120.969 566.86 L139.325 566.86 L139.325 570.795 L125.251 570.795 L125.251 579.267 Q126.27 578.92 127.288 578.758 Q128.307 578.573 129.325 578.573 Q135.112 578.573 138.492 581.744 Q141.871 584.915 141.871 590.332 Q141.871 595.911 138.399 599.013 Q134.927 602.091 128.607 602.091 Q126.432 602.091 124.163 601.721 Q121.918 601.351 119.51 600.61 L119.51 595.911 Q121.594 597.045 123.816 597.601 Q126.038 598.156 128.515 598.156 Q132.519 598.156 134.857 596.05 Q137.195 593.943 137.195 590.332 Q137.195 586.721 134.857 584.614 Q132.519 582.508 128.515 582.508 Q126.64 582.508 124.765 582.925 Q122.913 583.341 120.969 584.221 L120.969 566.86 Z\" fill=\"#000000\" fill-rule=\"nonzero\" fill-opacity=\"1\" /><path clip-path=\"url(#clip670)\" d=\"M161.084 569.939 Q157.473 569.939 155.644 573.503 Q153.839 577.045 153.839 584.175 Q153.839 591.281 155.644 594.846 Q157.473 598.388 161.084 598.388 Q164.718 598.388 166.524 594.846 Q168.353 591.281 168.353 584.175 Q168.353 577.045 166.524 573.503 Q164.718 569.939 161.084 569.939 M161.084 566.235 Q166.894 566.235 169.95 570.841 Q173.029 575.425 173.029 584.175 Q173.029 592.901 169.95 597.508 Q166.894 602.091 161.084 602.091 Q155.274 602.091 152.195 597.508 Q149.14 592.901 149.14 584.175 Q149.14 575.425 152.195 570.841 Q155.274 566.235 161.084 566.235 Z\" fill=\"#000000\" fill-rule=\"nonzero\" fill-opacity=\"1\" /><path clip-path=\"url(#clip670)\" d=\"M91.5706 392.663 L99.2095 392.663 L99.2095 366.297 L90.8993 367.964 L90.8993 363.705 L99.1632 362.038 L103.839 362.038 L103.839 392.663 L111.478 392.663 L111.478 396.598 L91.5706 396.598 L91.5706 392.663 Z\" fill=\"#000000\" fill-rule=\"nonzero\" fill-opacity=\"1\" /><path clip-path=\"url(#clip670)\" d=\"M130.922 365.117 Q127.311 365.117 125.482 368.681 Q123.677 372.223 123.677 379.353 Q123.677 386.459 125.482 390.024 Q127.311 393.566 130.922 393.566 Q134.556 393.566 136.362 390.024 Q138.191 386.459 138.191 379.353 Q138.191 372.223 136.362 368.681 Q134.556 365.117 130.922 365.117 M130.922 361.413 Q136.732 361.413 139.788 366.019 Q142.867 370.603 142.867 379.353 Q142.867 388.079 139.788 392.686 Q136.732 397.269 130.922 397.269 Q125.112 397.269 122.033 392.686 Q118.978 388.079 118.978 379.353 Q118.978 370.603 122.033 366.019 Q125.112 361.413 130.922 361.413 Z\" fill=\"#000000\" fill-rule=\"nonzero\" fill-opacity=\"1\" /><path clip-path=\"url(#clip670)\" d=\"M161.084 365.117 Q157.473 365.117 155.644 368.681 Q153.839 372.223 153.839 379.353 Q153.839 386.459 155.644 390.024 Q157.473 393.566 161.084 393.566 Q164.718 393.566 166.524 390.024 Q168.353 386.459 168.353 379.353 Q168.353 372.223 166.524 368.681 Q164.718 365.117 161.084 365.117 M161.084 361.413 Q166.894 361.413 169.95 366.019 Q173.029 370.603 173.029 379.353 Q173.029 388.079 169.95 392.686 Q166.894 397.269 161.084 397.269 Q155.274 397.269 152.195 392.686 Q149.14 388.079 149.14 379.353 Q149.14 370.603 152.195 366.019 Q155.274 361.413 161.084 361.413 Z\" fill=\"#000000\" fill-rule=\"nonzero\" fill-opacity=\"1\" /><path clip-path=\"url(#clip670)\" d=\"M91.5706 187.841 L99.2095 187.841 L99.2095 161.475 L90.8993 163.142 L90.8993 158.883 L99.1632 157.216 L103.839 157.216 L103.839 187.841 L111.478 187.841 L111.478 191.776 L91.5706 191.776 L91.5706 187.841 Z\" fill=\"#000000\" fill-rule=\"nonzero\" fill-opacity=\"1\" /><path clip-path=\"url(#clip670)\" d=\"M120.969 157.216 L139.325 157.216 L139.325 161.151 L125.251 161.151 L125.251 169.623 Q126.27 169.276 127.288 169.114 Q128.307 168.929 129.325 168.929 Q135.112 168.929 138.492 172.1 Q141.871 175.271 141.871 180.688 Q141.871 186.267 138.399 189.369 Q134.927 192.447 128.607 192.447 Q126.432 192.447 124.163 192.077 Q121.918 191.706 119.51 190.966 L119.51 186.267 Q121.594 187.401 123.816 187.956 Q126.038 188.512 128.515 188.512 Q132.519 188.512 134.857 186.406 Q137.195 184.299 137.195 180.688 Q137.195 177.077 134.857 174.97 Q132.519 172.864 128.515 172.864 Q126.64 172.864 124.765 173.281 Q122.913 173.697 120.969 174.577 L120.969 157.216 Z\" fill=\"#000000\" fill-rule=\"nonzero\" fill-opacity=\"1\" /><path clip-path=\"url(#clip670)\" d=\"M161.084 160.295 Q157.473 160.295 155.644 163.859 Q153.839 167.401 153.839 174.531 Q153.839 181.637 155.644 185.202 Q157.473 188.744 161.084 188.744 Q164.718 188.744 166.524 185.202 Q168.353 181.637 168.353 174.531 Q168.353 167.401 166.524 163.859 Q164.718 160.295 161.084 160.295 M161.084 156.591 Q166.894 156.591 169.95 161.197 Q173.029 165.781 173.029 174.531 Q173.029 183.257 169.95 187.864 Q166.894 192.447 161.084 192.447 Q155.274 192.447 152.195 187.864 Q149.14 183.257 149.14 174.531 Q149.14 165.781 152.195 161.197 Q155.274 156.591 161.084 156.591 Z\" fill=\"#000000\" fill-rule=\"nonzero\" fill-opacity=\"1\" /><polyline clip-path=\"url(#clip672)\" style=\"stroke:#009af9; stroke-linecap:round; stroke-linejoin:round; stroke-width:4; stroke-opacity:1; fill:none\" points=\"269.7,1445.72 271.722,1445.72 273.745,1445.72 275.767,1445.72 277.79,1445.72 279.812,1445.72 281.834,1445.72 283.857,1445.72 285.879,1445.72 287.901,1445.72 289.924,1445.72 291.946,1445.72 293.969,1445.72 295.991,1445.72 298.013,1445.72 300.036,1445.72 302.058,1445.72 304.081,1445.72 306.103,1445.72 308.125,1445.72 310.148,1445.72 312.17,1445.72 314.192,1445.72 316.215,1445.72 318.237,1445.72 320.26,1445.72 322.282,1445.72 324.304,1445.72 326.327,1445.72 328.349,1445.72 330.372,1445.72 332.394,1445.72 334.416,1445.72 336.439,1445.72 338.461,1445.72 340.483,1445.72 342.506,1445.72 344.528,1445.72 346.551,1445.72 348.573,1445.72 350.595,1445.72 352.618,1445.72 354.64,1445.72 356.663,1445.72 358.685,1445.72 360.707,1445.72 362.73,1445.72 364.752,1445.72 366.774,1445.72 368.797,1445.72 370.819,1445.72 372.842,1445.72 374.864,1445.72 376.886,1445.72 378.909,1445.72 380.931,1445.72 382.954,1445.72 384.976,1445.72 386.998,1445.72 389.021,1445.72 391.043,1445.72 393.065,1445.72 395.088,1445.72 397.11,1445.72 399.133,1445.72 401.155,1445.72 403.177,1445.72 405.2,1445.72 407.222,1445.72 409.245,1445.72 411.267,1445.72 413.289,1445.72 415.312,1445.72 417.334,1445.72 419.356,1445.72 421.379,1445.72 423.401,1445.72 425.424,1445.72 427.446,1445.72 429.468,1445.72 431.491,1445.72 433.513,1445.72 435.536,1445.72 437.558,1445.72 439.58,1445.72 441.603,1445.72 443.625,1445.72 445.647,1445.72 447.67,1445.72 449.692,1445.72 451.715,1445.72 453.737,1445.72 455.759,1445.72 457.782,1445.72 459.804,1445.72 461.827,1445.72 463.849,1445.72 465.871,1445.72 467.894,1445.72 469.916,1445.72 471.938,1445.72 473.961,1445.72 475.983,1445.72 478.006,1445.72 480.028,1445.72 482.05,1445.72 484.073,1445.72 486.095,1445.72 488.118,1445.72 490.14,1445.72 492.162,1445.72 494.185,1445.72 496.207,1445.72 498.229,1445.72 500.252,1445.72 502.274,1445.72 504.297,1445.72 506.319,1445.72 508.341,1445.72 510.364,1445.72 512.386,1445.72 514.409,1445.72 516.431,1445.72 518.453,1445.72 520.476,1445.72 522.498,1445.72 524.52,1445.72 526.543,1445.72 528.565,1445.72 530.588,1445.72 532.61,1445.72 534.632,1445.72 536.655,1445.72 538.677,1445.72 540.7,1445.72 542.722,1445.72 544.744,1445.72 546.767,1445.72 548.789,1445.72 550.811,1445.72 552.834,1445.72 554.856,1445.72 556.879,1445.72 558.901,1445.72 560.923,1445.72 562.946,1445.72 564.968,1445.72 566.991,1445.72 569.013,1445.72 571.035,1445.72 573.058,1445.72 575.08,1445.72 577.102,1445.72 579.125,1445.72 581.147,1445.72 583.17,1445.72 585.192,1445.72 587.214,1445.72 589.237,1445.72 591.259,1445.72 593.282,1445.72 595.304,1445.72 597.326,1445.72 599.349,1445.72 601.371,1445.72 603.393,1445.72 605.416,1445.72 607.438,1445.72 609.461,1445.72 611.483,1445.72 613.505,1445.72 615.528,1445.72 617.55,1445.72 619.573,1445.72 621.595,1445.72 623.617,1445.72 625.64,1445.72 627.662,1445.72 629.684,1445.72 631.707,1445.72 633.729,1445.72 635.752,1445.72 637.774,1445.72 639.796,1445.72 641.819,1445.72 643.841,1445.72 645.864,1445.72 647.886,1445.72 649.908,1445.72 651.931,1445.72 653.953,1445.72 655.975,1445.72 657.998,1445.72 660.02,1445.72 662.043,1445.72 664.065,1445.72 666.087,1445.72 668.11,1445.72 670.132,1445.72 672.155,1445.72 674.177,1445.72 676.199,1445.72 678.222,1445.72 680.244,1445.72 682.266,1445.72 684.289,1445.72 686.311,1445.72 688.334,1445.72 690.356,1445.72 692.378,1445.72 694.401,1445.72 696.423,1445.72 698.446,1445.72 700.468,1445.72 702.49,1445.72 704.513,1445.72 706.535,1445.72 708.557,1445.72 710.58,1445.72 712.602,1445.72 714.625,1445.72 716.647,1445.72 718.669,1445.72 720.692,1445.72 722.714,1445.72 724.737,1445.72 726.759,1445.72 728.781,1445.72 730.804,1445.72 732.826,1445.72 734.848,1445.72 736.871,1445.72 738.893,1445.72 740.916,1445.72 742.938,1445.72 744.96,1445.72 746.983,1445.72 749.005,1445.72 751.028,1445.72 753.05,1445.72 755.072,1445.72 757.095,1445.72 759.117,1445.72 761.139,1445.72 763.162,1445.72 765.184,1445.72 767.207,1445.72 769.229,1445.72 771.251,1445.72 773.274,1445.72 775.296,1445.72 777.319,1445.72 779.341,1445.72 781.363,1445.72 783.386,1445.72 785.408,1445.72 787.43,1445.72 789.453,1445.72 791.475,1445.72 793.498,1445.72 795.52,1445.72 797.542,1445.72 799.565,1445.72 801.587,1445.72 803.61,1445.72 805.632,1445.72 807.654,1445.72 809.677,1445.72 811.699,1445.72 813.721,1445.72 815.744,1445.72 817.766,1445.72 819.789,1445.72 821.811,1445.72 823.833,1445.72 825.856,1445.72 827.878,1445.72 829.901,1445.72 831.923,1445.72 833.945,1445.72 835.968,1445.72 837.99,1445.72 840.012,1445.72 842.035,1445.72 844.057,1445.72 846.08,1445.72 848.102,1445.72 850.124,1445.72 852.147,1445.72 854.169,1445.72 856.191,1445.72 858.214,1445.72 860.236,1445.72 862.259,1445.72 864.281,1445.72 866.303,1445.72 868.326,1445.72 870.348,1445.72 872.371,1445.72 874.393,1445.72 876.415,1445.72 878.438,1445.72 880.46,1445.72 882.482,1445.72 884.505,1445.72 886.527,1445.72 888.55,1445.72 890.572,1445.72 892.594,1445.72 894.617,1445.72 896.639,1445.72 898.662,1445.72 900.684,1445.72 902.706,1445.72 904.729,1445.72 906.751,1445.72 908.773,1445.72 910.796,1445.72 912.818,1445.72 914.841,1445.72 916.863,1445.72 918.885,1445.72 920.908,1445.72 922.93,1445.72 924.953,1445.72 926.975,1445.72 928.997,1445.72 931.02,1445.72 933.042,1445.72 935.064,1445.72 937.087,1445.72 939.109,1445.72 941.132,1445.72 943.154,1445.72 945.176,1445.72 947.199,1445.72 949.221,1445.72 951.244,1445.72 953.266,1445.72 955.288,1445.72 957.311,1445.72 959.333,1445.72 961.355,1445.72 963.378,1445.72 965.4,1445.72 967.423,1445.72 969.445,1445.72 971.467,1445.72 973.49,1445.72 975.512,1445.72 977.535,1445.72 979.557,1445.72 981.579,1445.72 983.602,1445.72 985.624,1445.72 987.646,1445.72 989.669,1445.72 991.691,1445.72 993.714,1445.72 995.736,1445.72 997.758,1445.72 999.781,1445.72 1001.8,1445.72 1003.83,1445.72 1005.85,1445.72 1007.87,1445.72 1009.89,1445.72 1011.92,1445.72 1013.94,1445.72 1015.96,1445.72 1017.98,1445.72 1020,1445.72 1022.03,1445.72 1024.05,1445.72 1026.07,1445.72 1028.09,1445.72 1030.12,1445.72 1032.14,1445.72 1034.16,1445.72 1036.18,1445.72 1038.21,1445.72 1040.23,1445.72 1042.25,1445.72 1044.27,1445.72 1046.3,1445.72 1048.32,1445.72 1050.34,1445.72 1052.36,1445.72 1054.39,1445.72 1056.41,1445.72 1058.43,1445.72 1060.45,1445.72 1062.47,1445.72 1064.5,1445.72 1066.52,1445.72 1068.54,1445.72 1070.56,1445.72 1072.59,1445.72 1074.61,1445.72 1076.63,1445.72 1078.65,1445.72 1080.68,1445.72 1082.7,1445.72 1084.72,1445.72 1086.74,1445.72 1088.77,1445.72 1090.79,1445.72 1092.81,1445.72 1094.83,1445.72 1096.86,1445.72 1098.88,1445.72 1100.9,1445.72 1102.92,1445.72 1104.94,1445.72 1106.97,1445.72 1108.99,1445.72 1111.01,1445.72 1113.03,1445.72 1115.06,1445.72 1117.08,1445.72 1119.1,1445.72 1121.12,1445.72 1123.15,1445.72 1125.17,1445.72 1127.19,1445.72 1129.21,1445.72 1131.24,1445.72 1133.26,1445.72 1135.28,1445.72 1137.3,1445.72 1139.33,1445.72 1141.35,1445.72 1143.37,1445.72 1145.39,1445.72 1147.41,1445.72 1149.44,1445.72 1151.46,1445.72 1153.48,1445.72 1155.5,1445.72 1157.53,1445.72 1159.55,1445.72 1161.57,1445.72 1163.59,1445.72 1165.62,1445.72 1167.64,1445.72 1169.66,1445.72 1171.68,1445.72 1173.71,1445.72 1175.73,1445.72 1177.75,1445.72 1179.77,1445.72 1181.8,1445.72 1183.82,1445.72 1185.84,1445.72 1187.86,1445.72 1189.88,1445.72 1191.91,1445.72 1193.93,1445.72 1195.95,1445.72 1197.97,1445.72 1200,1445.72 1202.02,1445.72 1204.04,1445.72 1206.06,1445.72 1208.09,1445.72 1210.11,1445.72 1212.13,1445.72 1214.15,1445.72 1216.18,1445.72 1218.2,1445.72 1220.22,1445.72 1222.24,1445.72 1224.27,1445.72 1226.29,1445.72 1228.31,1445.72 1230.33,1445.72 1232.35,1445.72 1234.38,1445.72 1236.4,1445.72 1238.42,1445.72 1240.44,1445.72 1242.47,1445.72 1244.49,1445.72 1246.51,1445.72 1248.53,1445.72 1250.56,1445.72 1252.58,1445.72 1254.6,1445.72 1256.62,1445.72 1258.65,1445.72 1260.67,1445.72 1262.69,1445.72 1264.71,1445.72 1266.74,1445.72 1268.76,1445.72 1270.78,1445.72 1272.8,1445.72 1274.83,1445.72 1276.85,1445.72 1278.87,1445.72 1280.89,1445.72 1282.91,1445.72 1284.94,1445.72 1286.96,1445.72 1288.98,1445.72 1291,1445.72 1293.03,1445.72 1295.05,1445.72 1297.07,1445.72 1299.09,1445.72 1301.12,1445.72 1303.14,1445.72 1305.16,1445.72 1307.18,1445.72 1309.21,1445.72 1311.23,1445.72 1313.25,1445.72 1315.27,1445.72 1317.3,1445.72 1319.32,1445.72 1321.34,1445.72 1323.36,1445.72 1325.38,1445.72 1327.41,1445.72 1329.43,1445.72 1331.45,1445.72 1333.47,1445.72 1335.5,1445.72 1337.52,1445.72 1339.54,1445.72 1341.56,1445.72 1343.59,1445.72 1345.61,1445.72 1347.63,1445.72 1349.65,1445.72 1351.68,1445.72 1353.7,1445.72 1355.72,1445.72 1357.74,1445.72 1359.77,1445.72 1361.79,1445.72 1363.81,1445.72 1365.83,1445.72 1367.85,1445.72 1369.88,1445.72 1371.9,1445.72 1373.92,1445.72 1375.94,1445.72 1377.97,1445.72 1379.99,1445.72 1382.01,1445.72 1384.03,1445.72 1386.06,1445.72 1388.08,1445.72 1390.1,1445.72 1392.12,1445.72 1394.15,1445.72 1396.17,1445.72 1398.19,1445.72 1400.21,1445.72 1402.24,1445.72 1404.26,1445.72 1406.28,1445.72 1408.3,1445.72 1410.32,1445.72 1412.35,1445.72 1414.37,1445.72 1416.39,1445.72 1418.41,1445.72 1420.44,1445.72 1422.46,1445.72 1424.48,1445.72 1426.5,1445.72 1428.53,1445.72 1430.55,1445.72 1432.57,1445.72 1434.59,1445.72 1436.62,1445.72 1438.64,1445.72 1440.66,1445.72 1442.68,1445.72 1444.71,1445.72 1446.73,1445.72 1448.75,1445.72 1450.77,1445.72 1452.79,1445.72 1454.82,1445.72 1456.84,1445.72 1458.86,1445.72 1460.88,1445.72 1462.91,1445.72 1464.93,1445.72 1466.95,1445.72 1468.97,1445.72 1471,1445.72 1473.02,1445.72 1475.04,1445.72 1477.06,1445.72 1479.09,1445.72 1481.11,1445.72 1483.13,1445.72 1485.15,1445.72 1487.18,1445.72 1489.2,1445.72 1491.22,1445.72 1493.24,1445.72 1495.26,1445.72 1497.29,1445.72 1499.31,1445.72 1501.33,1445.72 1503.35,1445.72 1505.38,1445.72 1507.4,1445.72 1509.42,1445.72 1511.44,1445.72 1513.47,1445.72 1515.49,1445.72 1517.51,1445.72 1519.53,1445.72 1521.56,1445.72 1523.58,1445.72 1525.6,1445.72 1527.62,1445.72 1529.65,1445.72 1531.67,1445.72 1533.69,1445.72 1535.71,1445.72 1537.74,1445.72 1539.76,1445.72 1541.78,1445.72 1543.8,1445.72 1545.82,1445.72 1547.85,1445.72 1549.87,1445.72 1551.89,1445.72 1553.91,1445.72 1555.94,1445.72 1557.96,1445.72 1559.98,1445.72 1562,1445.72 1564.03,1445.72 1566.05,1445.72 1568.07,1445.72 1570.09,1445.72 1572.12,1445.72 1574.14,1445.72 1576.16,1445.72 1578.18,1445.72 1580.21,1445.72 1582.23,1445.72 1584.25,1445.72 1586.27,1445.72 1588.29,1445.72 1590.32,1445.72 1592.34,1445.72 1594.36,1445.72 1596.38,1445.72 1598.41,1445.72 1600.43,1445.72 1602.45,1445.72 1604.47,1445.72 1606.5,1445.72 1608.52,1445.72 1610.54,1445.72 1612.56,1445.72 1614.59,1445.72 1616.61,1445.72 1618.63,1445.72 1620.65,1445.72 1622.68,1445.72 1624.7,1445.72 1626.72,1445.72 1628.74,1445.72 1630.76,1445.72 1632.79,1445.72 1634.81,1445.72 1636.83,1445.72 1638.85,1445.72 1640.88,1445.72 1642.9,1445.72 1644.92,1445.72 1646.94,1445.72 1648.97,1445.72 1650.99,1445.72 1653.01,1445.72 1655.03,1445.72 1657.06,1445.72 1659.08,1445.72 1661.1,1445.72 1663.12,1445.72 1665.15,1445.72 1667.17,1445.72 1669.19,1445.72 1671.21,1445.72 1673.23,1445.72 1675.26,1445.72 1677.28,1445.72 1679.3,1445.72 1681.32,1445.72 1683.35,1445.72 1685.37,1445.72 1687.39,1445.72 1689.41,1445.72 1691.44,1445.72 1693.46,1445.72 1695.48,1445.72 1697.5,1445.72 1699.53,1445.72 1701.55,1445.72 1703.57,1445.72 1705.59,1445.72 1707.62,1445.72 1709.64,1445.72 1711.66,1445.72 1713.68,1445.72 1715.7,1445.72 1717.73,1445.72 1719.75,1445.72 1721.77,1445.72 1723.79,1445.72 1725.82,1445.72 1727.84,1445.72 1729.86,1445.72 1731.88,1445.72 1733.91,1445.72 1735.93,1445.72 1737.95,1445.72 1739.97,1445.72 1742,1445.72 1744.02,1445.72 1746.04,1445.72 1748.06,1445.72 1750.09,1445.72 1752.11,1445.72 1754.13,1445.72 1756.15,1445.72 1758.17,1445.72 1760.2,1445.72 1762.22,1445.72 1764.24,1445.72 1766.26,1445.72 1768.29,1445.72 1770.31,1445.72 1772.33,1445.72 1774.35,1445.72 1776.38,1445.72 1778.4,1445.72 1780.42,1445.72 1782.44,1445.72 1784.47,1445.72 1786.49,1445.72 1788.51,1445.72 1790.53,1445.72 1792.56,1445.72 1794.58,1445.72 1796.6,1445.72 1798.62,1445.72 1800.64,1445.72 1802.67,1445.72 1804.69,1445.72 1806.71,1445.72 1808.73,1445.72 1810.76,1445.72 1812.78,1445.72 1814.8,1445.72 1816.82,1445.72 1818.85,1445.72 1820.87,1445.72 1822.89,1445.72 1824.91,1445.72 1826.94,1445.72 1828.96,1445.72 1830.98,1445.72 1833,1445.72 1835.03,1445.72 1837.05,1445.72 1839.07,1445.72 1841.09,1445.72 1843.12,1445.72 1845.14,1445.72 1847.16,1445.72 1849.18,1445.72 1851.2,1445.72 1853.23,1445.72 1855.25,1445.72 1857.27,1445.72 1859.29,1445.72 1861.32,1445.72 1863.34,1445.72 1865.36,1445.72 1867.38,1445.72 1869.41,1445.72 1871.43,1445.72 1873.45,1445.72 1875.47,1445.72 1877.5,1445.72 1879.52,1445.72 1881.54,1445.72 1883.56,1445.72 1885.59,1445.72 1887.61,1445.72 1889.63,1445.72 1891.65,1445.72 1893.67,1445.72 1895.7,1445.72 1897.72,1445.72 1899.74,1445.72 1901.76,1445.72 1903.79,1445.72 1905.81,1445.72 1907.83,1445.72 1909.85,1445.72 1911.88,1445.72 1913.9,1445.72 1915.92,1445.72 1917.94,1445.72 1919.97,1445.72 1921.99,1445.72 1924.01,1445.72 1926.03,1445.72 1928.06,1445.72 1930.08,1445.72 1932.1,1445.72 1934.12,1445.72 1936.14,1445.72 1938.17,1445.72 1940.19,1445.72 1942.21,1445.72 1944.23,1445.72 1946.26,1445.72 1948.28,1445.72 1950.3,1445.72 1952.32,1445.72 1954.35,1445.72 1956.37,1445.72 1958.39,1445.72 1960.41,1445.72 1962.44,1445.72 1964.46,1445.72 1966.48,1445.72 1968.5,1445.72 1970.53,1445.72 1972.55,1445.72 1974.57,1445.72 1976.59,1445.72 1978.61,1445.72 1980.64,1445.72 1982.66,1445.72 1984.68,1445.72 1986.7,1445.72 1988.73,1445.72 1990.75,1445.72 1992.77,1445.72 1994.79,1445.72 1996.82,1445.72 1998.84,1445.72 2000.86,1445.72 2002.88,1445.72 2004.91,1445.72 2006.93,1445.72 2008.95,1445.72 2010.97,1445.72 2013,1445.72 2015.02,1445.72 2017.04,1445.72 2019.06,1445.72 2021.08,1445.72 2023.11,1445.72 2025.13,1445.72 2027.15,1445.72 2029.17,1445.72 2031.2,1445.72 2033.22,1445.72 2035.24,1445.72 2037.26,1445.72 2039.29,1445.72 2041.31,1445.72 2043.33,1445.72 2045.35,1445.72 2047.38,1445.72 2049.4,1445.72 2051.42,1445.72 2053.44,1445.72 2055.47,1445.72 2057.49,1445.72 2059.51,1445.72 2061.53,1445.72 2063.55,1445.72 2065.58,1445.72 2067.6,1445.72 2069.62,1445.72 2071.64,1445.72 2073.67,1445.72 2075.69,1445.72 2077.71,1445.72 2079.73,1445.72 2081.76,1445.72 2083.78,1445.72 2085.8,1445.72 2087.82,1445.72 2089.85,1445.72 2091.87,1445.72 2093.89,1445.72 2095.91,1445.72 2097.94,1445.72 2099.96,1445.72 2101.98,1445.72 2104,1445.72 2106.03,1445.72 2108.05,1445.72 2110.07,1445.72 2112.09,1445.72 2114.11,1445.72 2116.14,1445.72 2118.16,1445.72 2120.18,1445.72 2122.2,1445.72 2124.23,1445.72 2126.25,1445.72 2128.27,1445.72 2130.29,1445.72 2132.32,1445.72 2134.34,1445.72 2136.36,1445.72 2138.38,1445.72 2140.41,1445.72 2142.43,1445.72 2144.45,1445.72 2146.47,1445.72 2148.5,1445.72 2150.52,1445.72 2152.54,1445.72 2154.56,1445.72 2156.58,1445.72 2158.61,1445.72 2160.63,1445.72 2162.65,1445.72 2164.67,1445.72 2166.7,1445.72 2168.72,1445.72 2170.74,1445.72 2172.76,1445.72 2174.79,1445.72 2176.81,1445.72 2178.83,1445.72 2180.85,1445.72 2182.88,1445.72 2184.9,1445.72 2186.92,1445.72 2188.94,1445.72 2190.97,1445.72 2192.99,1445.72 2195.01,1445.72 2197.03,1445.72 2199.05,1445.72 2201.08,1445.72 2203.1,1445.72 2205.12,1445.72 2207.14,1445.72 2209.17,1445.72 2211.19,1445.72 2213.21,1445.72 2215.23,1445.72 2217.26,1445.72 2219.28,1445.72 2221.3,1445.72 2223.32,1445.72 2225.35,1445.72 2227.37,1445.72 2229.39,1445.72 2231.41,1445.72 2233.44,1445.72 2235.46,1445.72 2237.48,1445.72 2239.5,1445.72 2241.52,1445.72 2243.55,1445.72 2245.57,1445.72 2247.59,1445.72 2249.61,1445.72 2251.64,1445.72 2253.66,1445.72 2255.68,1445.72 2257.7,1445.72 2259.73,1445.72 2261.75,1445.72 2263.77,1445.72 2265.79,1445.72 2267.82,1445.72 2269.84,1445.72 2271.86,1445.72 2273.88,1445.72 2275.91,1445.72 2277.93,1445.72 2279.95,1445.72 2281.97,1445.72 2283.99,1445.72 2286.02,1445.72 2288.04,1445.72 2290.06,1445.72 2292.08,1445.72 \"/>\n",
       "<polyline clip-path=\"url(#clip672)\" style=\"stroke:#e26f46; stroke-linecap:round; stroke-linejoin:round; stroke-width:4; stroke-opacity:1; fill:none\" points=\"269.7,130.525 271.722,111.567 273.745,111.25 275.767,117.452 277.79,99.6128 279.812,110.341 281.834,103.096 283.857,104.136 285.879,102.857 287.901,111.382 289.924,117.732 291.946,108.488 293.969,107.122 295.991,112.194 298.013,116.767 300.036,130.49 302.058,126.479 304.081,122.572 306.103,136.065 308.125,120.903 310.148,120.914 312.17,121.854 314.192,124.271 316.215,123.125 318.237,125.524 320.26,117.205 322.282,135.447 324.304,148.059 326.327,150.356 328.349,154.33 330.372,169.815 332.394,154.936 334.416,139.509 336.439,149.644 338.461,141.496 340.483,140.445 342.506,151.09 344.528,138.791 346.551,136.579 348.573,137.343 350.595,141.217 352.618,126.849 354.64,129.469 356.663,117.526 358.685,120.417 360.707,130.043 362.73,132.94 364.752,139.583 366.774,142.982 368.797,134.566 370.819,128.443 372.842,129.86 374.864,127.775 376.886,132.057 378.909,139.027 380.931,150.122 382.954,140.156 384.976,134.89 386.998,144.065 389.021,150.694 391.043,146.903 393.065,146.383 395.088,145.716 397.11,145.739 399.133,139.142 401.155,147.87 403.177,145.753 405.2,144.397 407.222,146.776 409.245,148.294 411.267,147.697 413.289,147.811 415.312,152.645 417.334,152.221 419.356,153.443 421.379,150.207 423.401,140.126 425.424,131.973 427.446,134.054 429.468,140.129 431.491,127.67 433.513,132.873 435.536,133.14 437.558,128.832 439.58,119.548 441.603,124.735 443.625,130.446 445.647,132.689 447.67,132.914 449.692,124.074 451.715,132.494 453.737,124.409 455.759,126.768 457.782,126.327 459.804,113.759 461.827,137.026 463.849,137.916 465.871,134.752 467.894,142.487 469.916,135.781 471.938,146.625 473.961,152.447 475.983,153.962 478.006,147.169 480.028,153.854 482.05,142.527 484.073,138.716 486.095,139.564 488.118,150.401 490.14,151.022 492.162,145.195 494.185,147.142 496.207,135.373 498.229,148.331 500.252,145.194 502.274,132.433 504.297,146.088 506.319,155.567 508.341,149.93 510.364,143.225 512.386,138.377 514.409,134.972 516.431,127.674 518.453,128.749 520.476,133.852 522.498,126.367 524.52,121.558 526.543,107.659 528.565,108.49 530.588,93.9438 532.61,104.798 534.632,111.697 536.655,120.132 538.677,121.413 540.7,121.895 542.722,120.638 544.744,109.787 546.767,114.589 548.789,112.788 550.811,111.688 552.834,107.551 554.856,111.604 556.879,107.179 558.901,112.422 560.923,111.159 562.946,124.464 564.968,109.72 566.991,119.236 569.013,113.862 571.035,122.441 573.058,112.848 575.08,123.891 577.102,130.315 579.125,127.913 581.147,135.545 583.17,134.658 585.192,133.449 587.214,135.093 589.237,136.985 591.259,128.88 593.282,130.065 595.304,137.874 597.326,143.351 599.349,129.777 601.371,140.753 603.393,143.158 605.416,136.616 607.438,139.401 609.461,132.025 611.483,132.849 613.505,144.376 615.528,134.36 617.55,141.98 619.573,140.354 621.595,141.171 623.617,141.815 625.64,147.071 627.662,142.512 629.684,144.223 631.707,142.808 633.729,140.475 635.752,143.456 637.774,140.6 639.796,138.687 641.819,152.472 643.841,148.359 645.864,152.051 647.886,153.867 649.908,145.136 651.931,148.144 653.953,145.837 655.975,145.19 657.998,150.719 660.02,150.492 662.043,143.416 664.065,148.837 666.087,146.16 668.11,141.951 670.132,152.756 672.155,141.019 674.177,142.088 676.199,135.263 678.222,131.836 680.244,131.363 682.266,144.359 684.289,145.461 686.311,145.061 688.334,149.243 690.356,150.492 692.378,139.383 694.401,142.433 696.423,140.57 698.446,144.878 700.468,152.327 702.49,141.187 704.513,146.614 706.535,158.389 708.557,160.992 710.58,165.775 712.602,172.625 714.625,170.267 716.647,173.124 718.669,174.013 720.692,168.519 722.714,174.903 724.737,179.725 726.759,174.646 728.781,171.907 730.804,157.551 732.826,173.421 734.848,165.189 736.871,175.353 738.893,179.382 740.916,166.404 742.938,162.935 744.96,150.284 746.983,139.134 749.005,145.562 751.028,137.364 753.05,148.747 755.072,152.086 757.095,141.684 759.117,139.114 761.139,141.199 763.162,139.891 765.184,154.281 767.207,155.991 769.229,145.093 771.251,133.123 773.274,131.829 775.296,125.747 777.319,131.697 779.341,137.799 781.363,139.193 783.386,141.523 785.408,130.274 787.43,131.727 789.453,141.288 791.475,133.523 793.498,139.25 795.52,131.634 797.542,138.172 799.565,132.693 801.587,136.597 803.61,148.065 805.632,139.443 807.654,130.486 809.677,134.641 811.699,144.046 813.721,154.05 815.744,145.1 817.766,149.279 819.789,151.657 821.811,138.189 823.833,153.24 825.856,155.278 827.878,148.701 829.901,160.922 831.923,154.579 833.945,148.925 835.968,148.743 837.99,145.003 840.012,146.629 842.035,151.36 844.057,156.506 846.08,151.218 848.102,147.265 850.124,138.892 852.147,139.702 854.169,129.112 856.191,133.979 858.214,141.501 860.236,130.696 862.259,125.817 864.281,132.351 866.303,139.363 868.326,143.811 870.348,137.268 872.371,129.98 874.393,143.97 876.415,144.25 878.438,146.52 880.46,150.082 882.482,150.15 884.505,140.89 886.527,131.44 888.55,142.263 890.572,140.388 892.594,139.981 894.617,133.186 896.639,126.546 898.662,128.764 900.684,128.306 902.706,134.861 904.729,139.313 906.751,130.461 908.773,131.17 910.796,137.522 912.818,143.713 914.841,125.334 916.863,139.771 918.885,137.2 920.908,139.992 922.93,140.388 924.953,135.423 926.975,132.706 928.997,134.814 931.02,128.46 933.042,136.163 935.064,127.403 937.087,132.302 939.109,129.561 941.132,145.384 943.154,134.998 945.176,132.416 947.199,132.693 949.221,132.779 951.244,146.758 953.266,144.723 955.288,150.571 957.311,134.798 959.333,150.122 961.355,149.174 963.378,141.138 965.4,138.792 967.423,132.27 969.445,136.875 971.467,130.05 973.49,137.797 975.512,149.552 977.535,147.919 979.557,145.065 981.579,140.169 983.602,147.019 985.624,146.96 987.646,149.37 989.669,157.171 991.691,158.676 993.714,143.329 995.736,142.125 997.758,142.039 999.781,133.598 1001.8,137.136 1003.83,127.428 1005.85,138.542 1007.87,136.828 1009.89,138.813 1011.92,137.492 1013.94,137.9 1015.96,142.589 1017.98,153.511 1020,143.226 1022.03,140.774 1024.05,145.022 1026.07,137.367 1028.09,143.021 1030.12,135.573 1032.14,136.172 1034.16,129.626 1036.18,137.091 1038.21,131.27 1040.23,135.248 1042.25,137.79 1044.27,138.693 1046.3,151.151 1048.32,135.17 1050.34,141.393 1052.36,139.075 1054.39,147.709 1056.41,139.06 1058.43,137.185 1060.45,124.711 1062.47,111.251 1064.5,126.759 1066.52,118.654 1068.54,124.788 1070.56,141.661 1072.59,126.6 1074.61,130.207 1076.63,128.264 1078.65,120.464 1080.68,124.412 1082.7,124.395 1084.72,117.239 1086.74,116.954 1088.77,117.927 1090.79,119.995 1092.81,127.022 1094.83,123.54 1096.86,125.276 1098.88,136.855 1100.9,133.662 1102.92,119.633 1104.94,136.502 1106.97,130.373 1108.99,139.147 1111.01,143.394 1113.03,138.395 1115.06,132.178 1117.08,139.253 1119.1,141.428 1121.12,139.143 1123.15,140.819 1125.17,137.111 1127.19,136.657 1129.21,136.854 1131.24,130.719 1133.26,129.357 1135.28,138.127 1137.3,135.009 1139.33,135.585 1141.35,147.139 1143.37,154.716 1145.39,145.557 1147.41,156.652 1149.44,162.444 1151.46,142.545 1153.48,153.869 1155.5,135.701 1157.53,149.377 1159.55,145.826 1161.57,147.15 1163.59,145.96 1165.62,149.519 1167.64,159.461 1169.66,152.991 1171.68,142.586 1173.71,144.423 1175.73,150.021 1177.75,149.734 1179.77,150.374 1181.8,147.512 1183.82,148.478 1185.84,153.95 1187.86,152.853 1189.88,150.307 1191.91,152.047 1193.93,140.355 1195.95,150.458 1197.97,154.556 1200,160.625 1202.02,157.037 1204.04,145.404 1206.06,135.635 1208.09,131.915 1210.11,136.488 1212.13,132.522 1214.15,133.997 1216.18,124.144 1218.2,123.766 1220.22,122.548 1222.24,117.071 1224.27,119.883 1226.29,116.23 1228.31,123.152 1230.33,120.687 1232.35,116.966 1234.38,119.852 1236.4,125.317 1238.42,126.232 1240.44,120.678 1242.47,129.462 1244.49,127.198 1246.51,130.092 1248.53,128.749 1250.56,128.322 1252.58,131.089 1254.6,133.595 1256.62,134.739 1258.65,151.149 1260.67,133.785 1262.69,130.708 1264.71,132.828 1266.74,119.587 1268.76,123.247 1270.78,130.188 1272.8,132.075 1274.83,128.24 1276.85,134.295 1278.87,137.037 1280.89,137.251 1282.91,127.891 1284.94,132.897 1286.96,133.944 1288.98,135.899 1291,128.756 1293.03,121.1 1295.05,129.272 1297.07,130.338 1299.09,125.216 1301.12,112.9 1303.14,124.262 1305.16,122.477 1307.18,132.589 1309.21,124.138 1311.23,130.038 1313.25,118.451 1315.27,130.402 1317.3,133.865 1319.32,127.597 1321.34,134.552 1323.36,137.148 1325.38,121.269 1327.41,139.414 1329.43,137.157 1331.45,135.156 1333.47,133.352 1335.5,135.744 1337.52,135.77 1339.54,140.605 1341.56,143.532 1343.59,137.256 1345.61,142.136 1347.63,147.625 1349.65,145.694 1351.68,149.968 1353.7,158.525 1355.72,146.933 1357.74,137.936 1359.77,146.257 1361.79,144.673 1363.81,142.401 1365.83,143.674 1367.85,142.933 1369.88,155.68 1371.9,155.605 1373.92,154.448 1375.94,156.311 1377.97,146.493 1379.99,148.638 1382.01,148.457 1384.03,155.889 1386.06,150.374 1388.08,142.074 1390.1,136.058 1392.12,142.795 1394.15,149.2 1396.17,144.513 1398.19,131.025 1400.21,139.013 1402.24,131.779 1404.26,120.755 1406.28,124.428 1408.3,124.901 1410.32,121.137 1412.35,128.149 1414.37,135.284 1416.39,138.32 1418.41,144.847 1420.44,137.803 1422.46,143.578 1424.48,135.637 1426.5,142.515 1428.53,141.278 1430.55,138.573 1432.57,148.637 1434.59,146.834 1436.62,142.859 1438.64,141.733 1440.66,149.232 1442.68,151.869 1444.71,147.017 1446.73,138.648 1448.75,138.348 1450.77,136.013 1452.79,137.962 1454.82,127.971 1456.84,132.638 1458.86,136.573 1460.88,135.605 1462.91,143.772 1464.93,148.979 1466.95,154.041 1468.97,149.612 1471,148.817 1473.02,136.941 1475.04,131.111 1477.06,143.099 1479.09,141.153 1481.11,139.87 1483.13,139.397 1485.15,145.77 1487.18,144.129 1489.2,148.161 1491.22,137.898 1493.24,141.571 1495.26,138.809 1497.29,146.478 1499.31,145.34 1501.33,136.424 1503.35,147.664 1505.38,156.639 1507.4,155.912 1509.42,151.25 1511.44,146.121 1513.47,152.832 1515.49,135.833 1517.51,140.305 1519.53,141.715 1521.56,150.229 1523.58,152.829 1525.6,147.149 1527.62,151.12 1529.65,162.153 1531.67,152.821 1533.69,146.819 1535.71,152.99 1537.74,147.57 1539.76,150.67 1541.78,151.649 1543.8,146.228 1545.82,138.781 1547.85,134.675 1549.87,136.99 1551.89,126.158 1553.91,121.572 1555.94,121.972 1557.96,128.052 1559.98,130.527 1562,121.311 1564.03,131.948 1566.05,138.938 1568.07,144.804 1570.09,148.004 1572.12,151.165 1574.14,148.419 1576.16,138.755 1578.18,140.675 1580.21,131.962 1582.23,129.911 1584.25,126.995 1586.27,121.478 1588.29,119.039 1590.32,123.417 1592.34,121.891 1594.36,115.146 1596.38,113.421 1598.41,97.6696 1600.43,115.637 1602.45,116.071 1604.47,111.723 1606.5,103.28 1608.52,112.987 1610.54,105.182 1612.56,117.595 1614.59,100.012 1616.61,91.7929 1618.63,94.6551 1620.65,96.7495 1622.68,94.9216 1624.7,87.9763 1626.72,98.8601 1628.74,94.8573 1630.76,110.104 1632.79,94.6163 1634.81,95.5207 1636.83,103.352 1638.85,96.5362 1640.88,96.0347 1642.9,93.5934 1644.92,106.152 1646.94,119.418 1648.97,107.191 1650.99,105.859 1653.01,99.7495 1655.03,103.415 1657.06,105.555 1659.08,106.165 1661.1,109.099 1663.12,109.883 1665.15,126.533 1667.17,115.622 1669.19,120.697 1671.21,120.379 1673.23,117.375 1675.26,116.754 1677.28,114.147 1679.3,117.956 1681.32,113.55 1683.35,120.971 1685.37,131.313 1687.39,123.559 1689.41,106.016 1691.44,110.344 1693.46,116.33 1695.48,110.28 1697.5,90.6866 1699.53,98.686 1701.55,106.257 1703.57,97.2212 1705.59,102.122 1707.62,117.61 1709.64,114.468 1711.66,120.596 1713.68,120.63 1715.7,124.181 1717.73,112.873 1719.75,116.197 1721.77,120.241 1723.79,124.665 1725.82,112.689 1727.84,108.737 1729.86,102.527 1731.88,111.128 1733.91,111.12 1735.93,118.2 1737.95,120.473 1739.97,120.571 1742,120.094 1744.02,133.478 1746.04,115.61 1748.06,119.031 1750.09,117.723 1752.11,113.755 1754.13,113.695 1756.15,112.512 1758.17,116.549 1760.2,111.78 1762.22,118.096 1764.24,113.348 1766.26,119.475 1768.29,106.591 1770.31,109.88 1772.33,106.309 1774.35,114.612 1776.38,104.895 1778.4,109.137 1780.42,113.119 1782.44,122.135 1784.47,107.373 1786.49,120.88 1788.51,108.454 1790.53,106.85 1792.56,100.304 1794.58,109.472 1796.6,118.138 1798.62,106.374 1800.64,108.336 1802.67,109.762 1804.69,107.047 1806.71,95.3473 1808.73,101.52 1810.76,109.894 1812.78,116.542 1814.8,111.818 1816.82,113.239 1818.85,118.591 1820.87,114.54 1822.89,110.199 1824.91,119.134 1826.94,118.902 1828.96,123.154 1830.98,114.795 1833,122.457 1835.03,120.558 1837.05,121.662 1839.07,114.561 1841.09,122.6 1843.12,123.061 1845.14,133.338 1847.16,121.977 1849.18,116.719 1851.2,125.309 1853.23,131.692 1855.25,130.766 1857.27,122.572 1859.29,129.397 1861.32,130.295 1863.34,123.142 1865.36,122.073 1867.38,122.549 1869.41,106.877 1871.43,104.804 1873.45,115.553 1875.47,117.285 1877.5,127.574 1879.52,119.382 1881.54,114.284 1883.56,124.02 1885.59,117.826 1887.61,112.772 1889.63,127.039 1891.65,108.722 1893.67,115.178 1895.7,125.548 1897.72,128.437 1899.74,132.867 1901.76,136.312 1903.79,136.116 1905.81,127.875 1907.83,123.943 1909.85,124.528 1911.88,136.307 1913.9,127.758 1915.92,135.013 1917.94,140.098 1919.97,129.707 1921.99,130.327 1924.01,133.814 1926.03,130.556 1928.06,134.835 1930.08,131.834 1932.1,126.817 1934.12,132.653 1936.14,134.136 1938.17,131.423 1940.19,136.734 1942.21,132.923 1944.23,128.97 1946.26,124.265 1948.28,120.782 1950.3,121.613 1952.32,121.851 1954.35,119.358 1956.37,101.557 1958.39,115.786 1960.41,119.772 1962.44,127.848 1964.46,121.733 1966.48,110.23 1968.5,117.447 1970.53,113.843 1972.55,119.13 1974.57,106.866 1976.59,108.83 1978.61,109.245 1980.64,118.59 1982.66,118.728 1984.68,121.625 1986.7,121.601 1988.73,133.274 1990.75,126.382 1992.77,127.57 1994.79,124.743 1996.82,134.037 1998.84,139.98 2000.86,138.979 2002.88,144.435 2004.91,139.076 2006.93,133.462 2008.95,137.703 2010.97,132.304 2013,133.374 2015.02,134.005 2017.04,138.668 2019.06,142.729 2021.08,129.729 2023.11,131.081 2025.13,136.797 2027.15,131.56 2029.17,123.139 2031.2,136.097 2033.22,130.201 2035.24,125.273 2037.26,119.937 2039.29,123.998 2041.31,114.498 2043.33,124.95 2045.35,113.126 2047.38,115.343 2049.4,108.686 2051.42,108.014 2053.44,112.618 2055.47,110.167 2057.49,103.112 2059.51,112.89 2061.53,119.69 2063.55,102.963 2065.58,105.443 2067.6,112.967 2069.62,110.189 2071.64,98.9631 2073.67,98.7945 2075.69,102.636 2077.71,104.753 2079.73,107.478 2081.76,97.2295 2083.78,94.6978 2085.8,96.3358 2087.82,94.9573 2089.85,93.9181 2091.87,107.891 2093.89,101.481 2095.91,112.635 2097.94,110.195 2099.96,117.636 2101.98,119.049 2104,114.15 2106.03,118.395 2108.05,121.716 2110.07,121.672 2112.09,122.395 2114.11,108.641 2116.14,109.899 2118.16,114.143 2120.18,119.451 2122.2,113.772 2124.23,107.524 2126.25,115.092 2128.27,106.043 2130.29,102.273 2132.32,106.542 2134.34,101.031 2136.36,101.26 2138.38,100.302 2140.41,108.266 2142.43,103.73 2144.45,107.358 2146.47,102.471 2148.5,132.405 2150.52,118.138 2152.54,116.384 2154.56,115.471 2156.58,116.122 2158.61,123.815 2160.63,119.1 2162.65,113.952 2164.67,116.415 2166.7,116.43 2168.72,112.38 2170.74,123.121 2172.76,118.483 2174.79,111.979 2176.81,97.5725 2178.83,109.096 2180.85,116.032 2182.88,122.19 2184.9,111.263 2186.92,111.681 2188.94,114.594 2190.97,110.879 2192.99,121.852 2195.01,113.018 2197.03,124.381 2199.05,123.037 2201.08,110.031 2203.1,113.597 2205.12,123.33 2207.14,117.313 2209.17,115.816 2211.19,123.89 2213.21,120.509 2215.23,125.758 2217.26,126.495 2219.28,125.543 2221.3,115.543 2223.32,130.243 2225.35,120.837 2227.37,127.302 2229.39,124.259 2231.41,131.557 2233.44,132.606 2235.46,126.868 2237.48,126.293 2239.5,131.561 2241.52,131.536 2243.55,142.299 2245.57,145.17 2247.59,137.801 2249.61,143.368 2251.64,138.978 2253.66,141.35 2255.68,144.682 2257.7,147.572 2259.73,153.998 2261.75,158.679 2263.77,158.32 2265.79,164.291 2267.82,164.404 2269.84,161.407 2271.86,166.833 2273.88,162.055 2275.91,163.367 2277.93,169.21 2279.95,172.545 2281.97,171.709 2283.99,163.46 2286.02,148.827 2288.04,152.669 2290.06,157.475 2292.08,151.997 \"/>\n",
       "<path clip-path=\"url(#clip670)\" d=\"M280.486 250.738 L547.289 250.738 L547.289 95.2176 L280.486 95.2176  Z\" fill=\"#ffffff\" fill-rule=\"evenodd\" fill-opacity=\"1\"/>\n",
       "<polyline clip-path=\"url(#clip670)\" style=\"stroke:#000000; stroke-linecap:round; stroke-linejoin:round; stroke-width:4; stroke-opacity:1; fill:none\" points=\"280.486,250.738 547.289,250.738 547.289,95.2176 280.486,95.2176 280.486,250.738 \"/>\n",
       "<polyline clip-path=\"url(#clip670)\" style=\"stroke:#009af9; stroke-linecap:round; stroke-linejoin:round; stroke-width:4; stroke-opacity:1; fill:none\" points=\"304.305,147.058 447.22,147.058 \"/>\n",
       "<path clip-path=\"url(#clip670)\" d=\"M484.882 166.745 Q483.077 171.375 481.364 172.787 Q479.651 174.199 476.78 174.199 L473.378 174.199 L473.378 170.634 L475.878 170.634 Q477.637 170.634 478.609 169.8 Q479.581 168.967 480.762 165.865 L481.526 163.921 L471.04 138.412 L475.554 138.412 L483.655 158.689 L491.757 138.412 L496.271 138.412 L484.882 166.745 Z\" fill=\"#000000\" fill-rule=\"nonzero\" fill-opacity=\"1\" /><path clip-path=\"url(#clip670)\" d=\"M503.563 160.402 L511.201 160.402 L511.201 134.037 L502.891 135.703 L502.891 131.444 L511.155 129.778 L515.831 129.778 L515.831 160.402 L523.47 160.402 L523.47 164.338 L503.563 164.338 L503.563 160.402 Z\" fill=\"#000000\" fill-rule=\"nonzero\" fill-opacity=\"1\" /><polyline clip-path=\"url(#clip670)\" style=\"stroke:#e26f46; stroke-linecap:round; stroke-linejoin:round; stroke-width:4; stroke-opacity:1; fill:none\" points=\"304.305,198.898 447.22,198.898 \"/>\n",
       "<path clip-path=\"url(#clip670)\" d=\"M484.882 218.585 Q483.077 223.215 481.364 224.627 Q479.651 226.039 476.78 226.039 L473.378 226.039 L473.378 222.474 L475.878 222.474 Q477.637 222.474 478.609 221.64 Q479.581 220.807 480.762 217.705 L481.526 215.761 L471.04 190.252 L475.554 190.252 L483.655 210.529 L491.757 190.252 L496.271 190.252 L484.882 218.585 Z\" fill=\"#000000\" fill-rule=\"nonzero\" fill-opacity=\"1\" /><path clip-path=\"url(#clip670)\" d=\"M506.78 212.242 L523.1 212.242 L523.1 216.178 L501.155 216.178 L501.155 212.242 Q503.817 209.488 508.401 204.858 Q513.007 200.205 514.188 198.863 Q516.433 196.34 517.313 194.604 Q518.215 192.844 518.215 191.155 Q518.215 188.4 516.271 186.664 Q514.35 184.928 511.248 184.928 Q509.049 184.928 506.595 185.692 Q504.164 186.455 501.387 188.006 L501.387 183.284 Q504.211 182.15 506.664 181.571 Q509.118 180.993 511.155 180.993 Q516.526 180.993 519.72 183.678 Q522.914 186.363 522.914 190.854 Q522.914 192.983 522.104 194.905 Q521.317 196.803 519.211 199.395 Q518.632 200.067 515.53 203.284 Q512.428 206.479 506.78 212.242 Z\" fill=\"#000000\" fill-rule=\"nonzero\" fill-opacity=\"1\" /></svg>\n"
      ]
     },
     "execution_count": 6,
     "metadata": {},
     "output_type": "execute_result"
    }
   ],
   "source": [
    "# This is with the default integrator\n",
    "\n",
    "using Plots\n",
    "\n",
    "plot(phi_values)\n",
    "plot!(psi_values)"
   ]
  },
  {
   "cell_type": "code",
   "execution_count": null,
   "metadata": {},
   "outputs": [
    {
     "name": "stdout",
     "output_type": "stream",
     "text": [
      "progress = Progress(n_steps) = ProgressMeter.Progress(1000, 0, nothing, ProgressMeter.BarGlyphs('|', '█', ['▏', '▎', '▍', '▌', '▋', '▊', '▉'], ' ', '|'), ProgressMeter.ProgressCore(:green, \"Progress: \", 0.1, true, 0, IJulia.IJuliaStdio{Base.PipeEndpoint}(IOContext(Base.PipeEndpoint(RawFD(40) open, 0 bytes waiting))), false, 1, 0, ReentrantLock(nothing, 0x00000000, 0x00, Base.GenericCondition{Base.Threads.SpinLock}(Base.IntrusiveLinkedList{Task}(nothing, nothing), Base.Threads.SpinLock(0)), (0, 0, 144336173941)), 0, 1, false, false, 1.742397775215447e9, 1.742397775215447e9, 1.742397775215447e9))\n"
     ]
    },
    {
     "name": "stderr",
     "output_type": "stream",
     "text": [
      "\u001b[32mProgress: 100%|█████████████████████████████████████████| Time: 0:00:00\u001b[39m\n"
     ]
    },
    {
     "name": "stdout",
     "output_type": "stream",
     "text": [
      "progress = Progress(n_steps) = ProgressMeter.Progress(1000, 0, nothing, ProgressMeter.BarGlyphs('|', '█', ['▏', '▎', '▍', '▌', '▋', '▊', '▉'], ' ', '|'), ProgressMeter.ProgressCore(:green, \"Progress: \", 0.1, true, 0, IJulia.IJuliaStdio{Base.PipeEndpoint}(IOContext(Base.PipeEndpoint(RawFD(40) open, 0 bytes waiting))), false, 1, 0, ReentrantLock(nothing, 0x00000000, 0x00, Base.GenericCondition{Base.Threads.SpinLock}(Base.IntrusiveLinkedList{Task}(nothing, nothing), Base.Threads.SpinLock(0)), (4300722896, 4300513024, -1)), 0, 1, false, false, 1.742397775427767e9, 1.742397775427767e9, 1.742397775427767e9))\n"
     ]
    },
    {
     "name": "stderr",
     "output_type": "stream",
     "text": [
      "\u001b[32mProgress: 100%|█████████████████████████████████████████| Time: 0:00:00\u001b[39m\n"
     ]
    },
    {
     "name": "stdout",
     "output_type": "stream",
     "text": [
      "progress = Progress(n_steps) = ProgressMeter.Progress(1000, 0, nothing, ProgressMeter.BarGlyphs('|', '█', ['▏', '▎', '▍', '▌', '▋', '▊', '▉'], ' ', '|'), ProgressMeter.ProgressCore(:green, \"Progress: \", 0.1, true, 0, IJulia.IJuliaStdio{Base.PipeEndpoint}(IOContext(Base.PipeEndpoint(RawFD(40) open, 0 bytes waiting))), false, 1, 0, ReentrantLock(nothing, 0x00000000, 0x00, Base.GenericCondition{Base.Threads.SpinLock}(Base.IntrusiveLinkedList{Task}(nothing, nothing), Base.Threads.SpinLock(0)), (5709910320, 5709910352, 431792399119)), 0, 1, false, false, 1.742397775633433e9, 1.742397775633433e9, 1.742397775633433e9))\n"
     ]
    },
    {
     "name": "stderr",
     "output_type": "stream",
     "text": [
      "\u001b[32mProgress: 100%|█████████████████████████████████████████| Time: 0:00:00\u001b[39m\n"
     ]
    },
    {
     "name": "stdout",
     "output_type": "stream",
     "text": [
      "progress = Progress(n_steps) = ProgressMeter.Progress(1000, 0, nothing, ProgressMeter.BarGlyphs('|', '█', ['▏', '▎', '▍', '▌', '▋', '▊', '▉'], ' ', '|'), ProgressMeter.ProgressCore(:green, \"Progress: \", 0.1, true, 0, IJulia.IJuliaStdio{Base.PipeEndpoint}(IOContext(Base.PipeEndpoint(RawFD(40) open, 0 bytes waiting))), false, 1, 0, ReentrantLock(nothing, 0x00000000, 0x00, Base.GenericCondition{Base.Threads.SpinLock}(Base.IntrusiveLinkedList{Task}(nothing, nothing), Base.Threads.SpinLock(0)), (0, 0, 2377900747084643388)), 0, 1, false, false, 1.742397775833764e9, 1.742397775833764e9, 1.742397775833764e9))\n"
     ]
    },
    {
     "name": "stderr",
     "output_type": "stream",
     "text": [
      "\u001b[32mProgress: 100%|█████████████████████████████████████████| Time: 0:00:00\u001b[39m\n"
     ]
    },
    {
     "name": "stdout",
     "output_type": "stream",
     "text": [
      "progress = Progress(n_steps) = ProgressMeter.Progress(1000, 0, nothing, ProgressMeter.BarGlyphs('|', '█', ['▏', '▎', '▍', '▌', '▋', '▊', '▉'], ' ', '|'), ProgressMeter.ProgressCore(:green, \"Progress: \", 0.1, true, 0, IJulia.IJuliaStdio{Base.PipeEndpoint}(IOContext(Base.PipeEndpoint(RawFD(40) open, 0 bytes waiting))), false, 1, 0, ReentrantLock(nothing, 0x00000000, 0x00, Base.GenericCondition{Base.Threads.SpinLock}(Base.IntrusiveLinkedList{Task}(nothing, nothing), Base.Threads.SpinLock(0)), (0, 0, 141733920768)), 0, 1, false, false, 1.742397776075817e9, 1.742397776075817e9, 1.742397776075817e9))\n"
     ]
    },
    {
     "name": "stderr",
     "output_type": "stream",
     "text": [
      "\u001b[32mProgress: 100%|█████████████████████████████████████████| Time: 0:00:00\u001b[39m\n"
     ]
    },
    {
     "name": "stdout",
     "output_type": "stream",
     "text": [
      "progress = Progress(n_steps) = ProgressMeter.Progress(1000, 0, nothing, ProgressMeter.BarGlyphs('|', '█', ['▏', '▎', '▍', '▌', '▋', '▊', '▉'], ' ', '|'), ProgressMeter.ProgressCore(:green, \"Progress: \", 0.1, true, 0, IJulia.IJuliaStdio{Base.PipeEndpoint}(IOContext(Base.PipeEndpoint(RawFD(40) open, 0 bytes waiting))), false, 1, 0, ReentrantLock(nothing, 0x00000000, 0x00, Base.GenericCondition{Base.Threads.SpinLock}(Base.IntrusiveLinkedList{Task}(nothing, nothing), Base.Threads.SpinLock(0)), (0, 0, 144336173941)), 0, 1, false, false, 1.742397776277502e9, 1.742397776277502e9, 1.742397776277502e9))\n"
     ]
    },
    {
     "name": "stderr",
     "output_type": "stream",
     "text": [
      "\u001b[32mProgress: 100%|█████████████████████████████████████████| Time: 0:00:00\u001b[39m\n"
     ]
    },
    {
     "name": "stdout",
     "output_type": "stream",
     "text": [
      "progress = Progress(n_steps) = ProgressMeter.Progress(1000, 0, nothing, ProgressMeter.BarGlyphs('|', '█', ['▏', '▎', '▍', '▌', '▋', '▊', '▉'], ' ', '|'), ProgressMeter.ProgressCore(:green, \"Progress: \", 0.1, true, 0, IJulia.IJuliaStdio{Base.PipeEndpoint}(IOContext(Base.PipeEndpoint(RawFD(40) open, 0 bytes waiting))), false, 1, 0, ReentrantLock(nothing, 0x00000000, 0x00, Base.GenericCondition{Base.Threads.SpinLock}(Base.IntrusiveLinkedList{Task}(nothing, nothing), Base.Threads.SpinLock(0)), (5, 6, -281333242789888)), 0, 1, false, false, 1.742397776479636e9, 1.742397776479638e9, 1.742397776479638e9))\n"
     ]
    },
    {
     "name": "stderr",
     "output_type": "stream",
     "text": [
      "\u001b[32mProgress: 100%|█████████████████████████████████████████| Time: 0:00:00\u001b[39m\n"
     ]
    },
    {
     "name": "stdout",
     "output_type": "stream",
     "text": [
      "progress = Progress(n_steps) = ProgressMeter.Progress(1000, 0, nothing, ProgressMeter.BarGlyphs('|', '█', ['▏', '▎', '▍', '▌', '▋', '▊', '▉'], ' ', '|'), ProgressMeter.ProgressCore(:green, \"Progress: \", 0.1, true, 0, IJulia.IJuliaStdio{Base.PipeEndpoint}(IOContext(Base.PipeEndpoint(RawFD(40) open, 0 bytes waiting))), false, 1, 0, ReentrantLock(nothing, 0x00000000, 0x00, Base.GenericCondition{Base.Threads.SpinLock}(Base.IntrusiveLinkedList{Task}(nothing, nothing), Base.Threads.SpinLock(0)), (1, 1, 22)), 0, 1, false, false, 1.742397776678322e9, 1.742397776678322e9, 1.742397776678322e9))\n"
     ]
    },
    {
     "name": "stderr",
     "output_type": "stream",
     "text": [
      "\u001b[32mProgress: 100%|█████████████████████████████████████████| Time: 0:00:00\u001b[39m\n"
     ]
    },
    {
     "name": "stdout",
     "output_type": "stream",
     "text": [
      "progress = Progress(n_steps) = ProgressMeter.Progress(1000, 0, nothing, ProgressMeter.BarGlyphs('|', '█', ['▏', '▎', '▍', '▌', '▋', '▊', '▉'], ' ', '|'), ProgressMeter.ProgressCore(:green, \"Progress: \", 0.1, true, 0, IJulia.IJuliaStdio{Base.PipeEndpoint}(IOContext(Base.PipeEndpoint(RawFD(40) open, 0 bytes waiting))), false, 1, 0, ReentrantLock(nothing, 0x00000000, 0x00, Base.GenericCondition{Base.Threads.SpinLock}(Base.IntrusiveLinkedList{Task}(nothing, nothing), Base.Threads.SpinLock(0)), (7, 0, -1)), 0, 1, false, false, 1.742397776879789e9, 1.742397776879789e9, 1.742397776879789e9))\n"
     ]
    },
    {
     "name": "stderr",
     "output_type": "stream",
     "text": [
      "\u001b[32mProgress: 100%|█████████████████████████████████████████| Time: 0:00:00\u001b[39m\n"
     ]
    },
    {
     "name": "stdout",
     "output_type": "stream",
     "text": [
      "progress = Progress(n_steps) = ProgressMeter.Progress(1000, 0, nothing, ProgressMeter.BarGlyphs('|', '█', ['▏', '▎', '▍', '▌', '▋', '▊', '▉'], ' ', '|'), ProgressMeter.ProgressCore(:green, \"Progress: \", 0.1, true, 0, IJulia.IJuliaStdio{Base.PipeEndpoint}(IOContext(Base.PipeEndpoint(RawFD(40) open, 0 bytes waiting))), false, 1, 0, ReentrantLock(nothing, 0x00000000, 0x00, Base.GenericCondition{Base.Threads.SpinLock}(Base.IntrusiveLinkedList{Task}(nothing, nothing), Base.Threads.SpinLock(0)), (0, 0, 430036378497)), 0, 1, false, false, 1.742397777082881e9, 1.742397777082881e9, 1.742397777082881e9))\n"
     ]
    },
    {
     "name": "stderr",
     "output_type": "stream",
     "text": [
      "\u001b[32mProgress: 100%|█████████████████████████████████████████| Time: 0:00:00\u001b[39m\n"
     ]
    },
    {
     "name": "stdout",
     "output_type": "stream",
     "text": [
      "progress = Progress(n_steps) = ProgressMeter.Progress(1000, 0, nothing, ProgressMeter.BarGlyphs('|', '█', ['▏', '▎', '▍', '▌', '▋', '▊', '▉'], ' ', '|'), ProgressMeter.ProgressCore(:green, \"Progress: \", 0.1, true, 0, IJulia.IJuliaStdio{Base.PipeEndpoint}(IOContext(Base.PipeEndpoint(RawFD(40) open, 0 bytes waiting))), false, 1, 0, ReentrantLock(nothing, 0x00000000, 0x00, Base.GenericCondition{Base.Threads.SpinLock}(Base.IntrusiveLinkedList{Task}(nothing, nothing), Base.Threads.SpinLock(0)), (1, 1, 22)), 0, 1, false, false, 1.742397777282821e9, 1.742397777282821e9, 1.742397777282821e9))"
     ]
    },
    {
     "name": "stderr",
     "output_type": "stream",
     "text": [
      "\u001b[32mProgress:  51%|████████████████████▉                    |  ETA: 0:00:00\u001b[39m"
     ]
    },
    {
     "name": "stdout",
     "output_type": "stream",
     "text": [
      "\n"
     ]
    },
    {
     "name": "stderr",
     "output_type": "stream",
     "text": [
      "\u001b[32mProgress: 100%|█████████████████████████████████████████| Time: 0:00:00\u001b[39m\n"
     ]
    },
    {
     "name": "stdout",
     "output_type": "stream",
     "text": [
      "progress = Progress(n_steps) = ProgressMeter.Progress(1000, 0, nothing, ProgressMeter.BarGlyphs('|', '█', ['▏', '▎', '▍', '▌', '▋', '▊', '▉'], ' ', '|'), ProgressMeter.ProgressCore(:green, \"Progress: \", 0.1, true, 0, IJulia.IJuliaStdio{Base.PipeEndpoint}(IOContext(Base.PipeEndpoint(RawFD(40) open, 0 bytes waiting))), false, 1, 0, ReentrantLock(nothing, 0x00000000, 0x00, Base.GenericCondition{Base.Threads.SpinLock}(Base.IntrusiveLinkedList{Task}(nothing, nothing), Base.Threads.SpinLock(0)), (8, 14, 141733920768)), 0, 1, false, false, 1.74239777748339e9, 1.74239777748339e9, 1.74239777748339e9))\n"
     ]
    },
    {
     "name": "stderr",
     "output_type": "stream",
     "text": [
      "\u001b[32mProgress: 100%|█████████████████████████████████████████| Time: 0:00:00\u001b[39m\n"
     ]
    },
    {
     "name": "stdout",
     "output_type": "stream",
     "text": [
      "progress = Progress(n_steps) = ProgressMeter.Progress(1000, 0, nothing, ProgressMeter.BarGlyphs('|', '█', ['▏', '▎', '▍', '▌', '▋', '▊', '▉'], ' ', '|'), ProgressMeter.ProgressCore(:green, \"Progress: \", 0.1, true, 0, IJulia.IJuliaStdio{Base.PipeEndpoint}(IOContext(Base.PipeEndpoint(RawFD(40) open, 0 bytes waiting))), false, 1, 0, ReentrantLock(nothing, 0x00000000, 0x00, Base.GenericCondition{Base.Threads.SpinLock}(Base.IntrusiveLinkedList{Task}(nothing, nothing), Base.Threads.SpinLock(0)), (4664767233, 1, 22)), 0, 1, false, false, 1.742397777685163e9, 1.742397777685163e9, 1.742397777685163e9))"
     ]
    },
    {
     "name": "stderr",
     "output_type": "stream",
     "text": [
      "\u001b[32mProgress:  50%|████████████████████▋                    |  ETA: 0:00:00\u001b[39m"
     ]
    },
    {
     "name": "stdout",
     "output_type": "stream",
     "text": [
      "\n"
     ]
    },
    {
     "name": "stderr",
     "output_type": "stream",
     "text": [
      "\u001b[32mProgress: 100%|█████████████████████████████████████████| Time: 0:00:00\u001b[39m\n"
     ]
    },
    {
     "name": "stdout",
     "output_type": "stream",
     "text": [
      "progress = Progress(n_steps) = ProgressMeter.Progress(1000, 0, nothing, ProgressMeter.BarGlyphs('|', '█', ['▏', '▎', '▍', '▌', '▋', '▊', '▉'], ' ', '|'), ProgressMeter.ProgressCore(:green, \"Progress: \", 0.1, true, 0, IJulia.IJuliaStdio{Base.PipeEndpoint}(IOContext(Base.PipeEndpoint(RawFD(40) open, 0 bytes waiting))), false, 1, 0, ReentrantLock(nothing, 0x00000000, 0x00, Base.GenericCondition{Base.Threads.SpinLock}(Base.IntrusiveLinkedList{Task}(nothing, nothing), Base.Threads.SpinLock(0)), (13152099329, 1, 22)), 0, 1, false, false, 1.742397777934899e9, 1.742397777934899e9, 1.742397777934899e9))\n"
     ]
    },
    {
     "name": "stderr",
     "output_type": "stream",
     "text": [
      "\u001b[32mProgress: 100%|█████████████████████████████████████████| Time: 0:00:00\u001b[39m\n"
     ]
    },
    {
     "name": "stdout",
     "output_type": "stream",
     "text": [
      "progress = Progress(n_steps) = ProgressMeter.Progress(1000, 0, nothing, ProgressMeter.BarGlyphs('|', '█', ['▏', '▎', '▍', '▌', '▋', '▊', '▉'], ' ', '|'), ProgressMeter.ProgressCore(:green, \"Progress: \", 0.1, true, 0, IJulia.IJuliaStdio{Base.PipeEndpoint}(IOContext(Base.PipeEndpoint(RawFD(40) open, 0 bytes waiting))), false, 1, 0, ReentrantLock(nothing, 0x00000000, 0x00, Base.GenericCondition{Base.Threads.SpinLock}(Base.IntrusiveLinkedList{Task}(nothing, nothing), Base.Threads.SpinLock(0)), (0, 0, -281330640536715)), 0, 1, false, false, 1.742397778137442e9, 1.742397778137442e9, 1.742397778137442e9))\n"
     ]
    },
    {
     "name": "stderr",
     "output_type": "stream",
     "text": [
      "\u001b[32mProgress: 100%|█████████████████████████████████████████| Time: 0:00:00\u001b[39m\n"
     ]
    },
    {
     "name": "stdout",
     "output_type": "stream",
     "text": [
      "progress = Progress(n_steps) = ProgressMeter.Progress(1000, 0, nothing, ProgressMeter.BarGlyphs('|', '█', ['▏', '▎', '▍', '▌', '▋', '▊', '▉'], ' ', '|'), ProgressMeter.ProgressCore(:green, \"Progress: \", 0.1, true, 0, IJulia.IJuliaStdio{Base.PipeEndpoint}(IOContext(Base.PipeEndpoint(RawFD(40) open, 0 bytes waiting))), false, 1, 0, ReentrantLock(nothing, 0x00000000, 0x00, Base.GenericCondition{Base.Threads.SpinLock}(Base.IntrusiveLinkedList{Task}(nothing, nothing), Base.Threads.SpinLock(0)), (4610916787295108353, 1, 22)), 0, 1, false, false, 1.742397778337591e9, 1.742397778337591e9, 1.742397778337591e9))\n"
     ]
    },
    {
     "name": "stderr",
     "output_type": "stream",
     "text": [
      "\u001b[32mProgress: 100%|█████████████████████████████████████████| Time: 0:00:00\u001b[39m\n"
     ]
    },
    {
     "name": "stdout",
     "output_type": "stream",
     "text": [
      "progress = Progress(n_steps) = ProgressMeter.Progress(1000, 0, nothing, ProgressMeter.BarGlyphs('|', '█', ['▏', '▎', '▍', '▌', '▋', '▊', '▉'], ' ', '|'), ProgressMeter.ProgressCore(:green, \"Progress: \", 0.1, true, 0, IJulia.IJuliaStdio{Base.PipeEndpoint}(IOContext(Base.PipeEndpoint(RawFD(40) open, 0 bytes waiting))), false, 1, 0, ReentrantLock(nothing, 0x00000000, 0x00, Base.GenericCondition{Base.Threads.SpinLock}(Base.IntrusiveLinkedList{Task}(nothing, nothing), Base.Threads.SpinLock(0)), (1, 1, 22)), 0, 1, false, false, 1.74239777853844e9, 1.74239777853844e9, 1.74239777853844e9))\n"
     ]
    },
    {
     "name": "stderr",
     "output_type": "stream",
     "text": [
      "\u001b[32mProgress: 100%|█████████████████████████████████████████| Time: 0:00:00\u001b[39m\n"
     ]
    },
    {
     "name": "stdout",
     "output_type": "stream",
     "text": [
      "progress = Progress(n_steps) = ProgressMeter.Progress(1000, 0, nothing, ProgressMeter.BarGlyphs('|', '█', ['▏', '▎', '▍', '▌', '▋', '▊', '▉'], ' ', '|'), ProgressMeter.ProgressCore(:green, \"Progress: \", 0.1, true, 0, IJulia.IJuliaStdio{Base.PipeEndpoint}(IOContext(Base.PipeEndpoint(RawFD(40) open, 0 bytes waiting))), false, 1, 0, ReentrantLock(nothing, 0x00000000, 0x00, Base.GenericCondition{Base.Threads.SpinLock}(Base.IntrusiveLinkedList{Task}(nothing, nothing), Base.Threads.SpinLock(0)), (0, 0, 430036378497)), 0, 1, false, false, 1.742397778736625e9, 1.742397778736625e9, 1.742397778736625e9))\n"
     ]
    },
    {
     "name": "stderr",
     "output_type": "stream",
     "text": [
      "\u001b[32mProgress: 100%|█████████████████████████████████████████| Time: 0:00:00\u001b[39m\n"
     ]
    },
    {
     "name": "stdout",
     "output_type": "stream",
     "text": [
      "progress = Progress(n_steps) = ProgressMeter.Progress(1000, 0, nothing, ProgressMeter.BarGlyphs('|', '█', ['▏', '▎', '▍', '▌', '▋', '▊', '▉'], ' ', '|'), ProgressMeter.ProgressCore(:green, \"Progress: \", 0.1, true, 0, IJulia.IJuliaStdio{Base.PipeEndpoint}(IOContext(Base.PipeEndpoint(RawFD(40) open, 0 bytes waiting))), false, 1, 0, ReentrantLock(nothing, 0x00000000, 0x00, Base.GenericCondition{Base.Threads.SpinLock}(Base.IntrusiveLinkedList{Task}(nothing, nothing), Base.Threads.SpinLock(0)), (1, 1, 22)), 0, 1, false, false, 1.742397778942657e9, 1.742397778942657e9, 1.742397778942657e9))\n"
     ]
    },
    {
     "name": "stderr",
     "output_type": "stream",
     "text": [
      "\u001b[32mProgress: 100%|█████████████████████████████████████████| Time: 0:00:00\u001b[39m\n"
     ]
    },
    {
     "name": "stdout",
     "output_type": "stream",
     "text": [
      "progress = Progress(n_steps) = ProgressMeter.Progress(1000, 0, nothing, ProgressMeter.BarGlyphs('|', '█', ['▏', '▎', '▍', '▌', '▋', '▊', '▉'], ' ', '|'), ProgressMeter.ProgressCore(:green, \"Progress: \", 0.1, true, 0, IJulia.IJuliaStdio{Base.PipeEndpoint}(IOContext(Base.PipeEndpoint(RawFD(40) open, 0 bytes waiting))), false, 1, 0, ReentrantLock(nothing, 0x00000000, 0x00, Base.GenericCondition{Base.Threads.SpinLock}(Base.IntrusiveLinkedList{Task}(nothing, nothing), Base.Threads.SpinLock(0)), (4611859651306884353, 1, 22)), 0, 1, false, false, 1.74239777913884e9, 1.74239777913884e9, 1.74239777913884e9))\n"
     ]
    },
    {
     "name": "stderr",
     "output_type": "stream",
     "text": [
      "\u001b[32mProgress: 100%|█████████████████████████████████████████| Time: 0:00:00\u001b[39m\n"
     ]
    },
    {
     "name": "stdout",
     "output_type": "stream",
     "text": [
      "progress = Progress(n_steps) = ProgressMeter.Progress(1000, 0, nothing, ProgressMeter.BarGlyphs('|', '█', ['▏', '▎', '▍', '▌', '▋', '▊', '▉'], ' ', '|'), ProgressMeter.ProgressCore(:green, \"Progress: \", 0.1, true, 0, IJulia.IJuliaStdio{Base.PipeEndpoint}(IOContext(Base.PipeEndpoint(RawFD(40) open, 0 bytes waiting))), false, 1, 0, ReentrantLock(nothing, 0x00000000, 0x00, Base.GenericCondition{Base.Threads.SpinLock}(Base.IntrusiveLinkedList{Task}(nothing, nothing), Base.Threads.SpinLock(0)), (0, 0, 4703380704)), 0, 1, false, false, 1.742397779341487e9, 1.742397779341487e9, 1.742397779341487e9))\n"
     ]
    },
    {
     "name": "stderr",
     "output_type": "stream",
     "text": [
      "\u001b[32mProgress: 100%|█████████████████████████████████████████| Time: 0:00:00\u001b[39m\n"
     ]
    },
    {
     "name": "stdout",
     "output_type": "stream",
     "text": [
      "progress = Progress(n_steps) = ProgressMeter.Progress(1000, 0, nothing, ProgressMeter.BarGlyphs('|', '█', ['▏', '▎', '▍', '▌', '▋', '▊', '▉'], ' ', '|'), ProgressMeter.ProgressCore(:green, \"Progress: \", 0.1, true, 0, IJulia.IJuliaStdio{Base.PipeEndpoint}(IOContext(Base.PipeEndpoint(RawFD(40) open, 0 bytes waiting))), false, 1, 0, ReentrantLock(nothing, 0x00000000, 0x00, Base.GenericCondition{Base.Threads.SpinLock}(Base.IntrusiveLinkedList{Task}(nothing, nothing), Base.Threads.SpinLock(0)), (1, 1, 22)), 0, 1, false, false, 1.742397779547172e9, 1.742397779547172e9, 1.742397779547172e9))\n"
     ]
    },
    {
     "name": "stderr",
     "output_type": "stream",
     "text": [
      "\u001b[32mProgress: 100%|█████████████████████████████████████████| Time: 0:00:00\u001b[39m\n"
     ]
    },
    {
     "name": "stdout",
     "output_type": "stream",
     "text": [
      "progress = Progress(n_steps) = ProgressMeter.Progress(1000, 0, nothing, ProgressMeter.BarGlyphs('|', '█', ['▏', '▎', '▍', '▌', '▋', '▊', '▉'], ' ', '|'), ProgressMeter.ProgressCore(:green, \"Progress: \", 0.1, true, 0, IJulia.IJuliaStdio{Base.PipeEndpoint}(IOContext(Base.PipeEndpoint(RawFD(40) open, 0 bytes waiting))), false, 1, 0, ReentrantLock(nothing, 0x00000000, 0x00, Base.GenericCondition{Base.Threads.SpinLock}(Base.IntrusiveLinkedList{Task}(nothing, nothing), Base.Threads.SpinLock(0)), (2, 1, 431322352720)), 0, 1, false, false, 1.742397779753839e9, 1.742397779753839e9, 1.742397779753839e9))\n"
     ]
    },
    {
     "name": "stderr",
     "output_type": "stream",
     "text": [
      "\u001b[32mProgress: 100%|█████████████████████████████████████████| Time: 0:00:00\u001b[39m\n"
     ]
    },
    {
     "name": "stdout",
     "output_type": "stream",
     "text": [
      "progress = Progress(n_steps) = ProgressMeter.Progress(1000, 0, nothing, ProgressMeter.BarGlyphs('|', '█', ['▏', '▎', '▍', '▌', '▋', '▊', '▉'], ' ', '|'), ProgressMeter.ProgressCore(:green, \"Progress: \", 0.1, true, 0, IJulia.IJuliaStdio{Base.PipeEndpoint}(IOContext(Base.PipeEndpoint(RawFD(40) open, 0 bytes waiting))), false, 1, 0, ReentrantLock(nothing, 0x00000000, 0x00, Base.GenericCondition{Base.Threads.SpinLock}(Base.IntrusiveLinkedList{Task}(nothing, nothing), Base.Threads.SpinLock(0)), (5714805200, 4705868944, 4703380704)), 0, 1, false, false, 1.742397779999227e9, 1.742397779999227e9, 1.742397779999227e9))\n"
     ]
    },
    {
     "name": "stderr",
     "output_type": "stream",
     "text": [
      "\u001b[32mProgress: 100%|█████████████████████████████████████████| Time: 0:00:00\u001b[39m\n"
     ]
    },
    {
     "name": "stdout",
     "output_type": "stream",
     "text": [
      "progress = Progress(n_steps) = ProgressMeter.Progress(1000, 0, nothing, ProgressMeter.BarGlyphs('|', '█', ['▏', '▎', '▍', '▌', '▋', '▊', '▉'], ' ', '|'), ProgressMeter.ProgressCore(:green, \"Progress: \", 0.1, true, 0, IJulia.IJuliaStdio{Base.PipeEndpoint}(IOContext(Base.PipeEndpoint(RawFD(40) open, 0 bytes waiting))), false, 1, 0, ReentrantLock(nothing, 0x00000000, 0x00, Base.GenericCondition{Base.Threads.SpinLock}(Base.IntrusiveLinkedList{Task}(nothing, nothing), Base.Threads.SpinLock(0)), (1, 1, 22)), 0, 1, false, false, 1.742397780203213e9, 1.742397780203213e9, 1.742397780203213e9))\n"
     ]
    },
    {
     "name": "stderr",
     "output_type": "stream",
     "text": [
      "\u001b[32mProgress: 100%|█████████████████████████████████████████| Time: 0:00:00\u001b[39m\n"
     ]
    },
    {
     "name": "stdout",
     "output_type": "stream",
     "text": [
      "progress = Progress(n_steps) = ProgressMeter.Progress(1000, 0, nothing, ProgressMeter.BarGlyphs('|', '█', ['▏', '▎', '▍', '▌', '▋', '▊', '▉'], ' ', '|'), ProgressMeter.ProgressCore(:green, \"Progress: \", 0.1, true, 0, IJulia.IJuliaStdio{Base.PipeEndpoint}(IOContext(Base.PipeEndpoint(RawFD(40) open, 0 bytes waiting))), false, 1, 0, ReentrantLock(nothing, 0x00000000, 0x00, Base.GenericCondition{Base.Threads.SpinLock}(Base.IntrusiveLinkedList{Task}(nothing, nothing), Base.Threads.SpinLock(0)), (1, 1, 22)), 0, 1, false, false, 1.74239778040032e9, 1.74239778040032e9, 1.74239778040032e9))\n"
     ]
    },
    {
     "name": "stderr",
     "output_type": "stream",
     "text": [
      "\u001b[32mProgress: 100%|█████████████████████████████████████████| Time: 0:00:00\u001b[39m\n"
     ]
    },
    {
     "name": "stdout",
     "output_type": "stream",
     "text": [
      "progress = Progress(n_steps) = ProgressMeter.Progress(1000, 0, nothing, ProgressMeter.BarGlyphs('|', '█', ['▏', '▎', '▍', '▌', '▋', '▊', '▉'], ' ', '|'), ProgressMeter.ProgressCore(:green, \"Progress: \", 0.1, true, 0, IJulia.IJuliaStdio{Base.PipeEndpoint}(IOContext(Base.PipeEndpoint(RawFD(40) open, 0 bytes waiting))), false, 1, 0, ReentrantLock(nothing, 0x00000000, 0x00, Base.GenericCondition{Base.Threads.SpinLock}(Base.IntrusiveLinkedList{Task}(nothing, nothing), Base.Threads.SpinLock(0)), (4610890368634902137, 4610135022540745064, 22)), 0, 1, false, false, 1.742397780605907e9, 1.742397780605907e9, 1.742397780605908e9))"
     ]
    },
    {
     "name": "stderr",
     "output_type": "stream",
     "text": [
      "\u001b[32mProgress:  51%|████████████████████▉                    |  ETA: 0:00:00\u001b[39m"
     ]
    },
    {
     "name": "stdout",
     "output_type": "stream",
     "text": [
      "\n"
     ]
    },
    {
     "name": "stderr",
     "output_type": "stream",
     "text": [
      "\u001b[32mProgress: 100%|█████████████████████████████████████████| Time: 0:00:00\u001b[39m\n"
     ]
    },
    {
     "name": "stdout",
     "output_type": "stream",
     "text": [
      "progress = Progress(n_steps) = ProgressMeter.Progress(1000, 0, nothing, ProgressMeter.BarGlyphs('|', '█', ['▏', '▎', '▍', '▌', '▋', '▊', '▉'], ' ', '|'), ProgressMeter.ProgressCore(:green, \"Progress: \", 0.1, true, 0, IJulia.IJuliaStdio{Base.PipeEndpoint}(IOContext(Base.PipeEndpoint(RawFD(40) open, 0 bytes waiting))), false, 1, 0, ReentrantLock(nothing, 0x00000000, 0x00, Base.GenericCondition{Base.Threads.SpinLock}(Base.IntrusiveLinkedList{Task}(nothing, nothing), Base.Threads.SpinLock(0)), (1, 1, 22)), 0, 1, false, false, 1.742397780808183e9, 1.742397780808183e9, 1.742397780808183e9))\n"
     ]
    },
    {
     "name": "stderr",
     "output_type": "stream",
     "text": [
      "\u001b[32mProgress: 100%|█████████████████████████████████████████| Time: 0:00:00\u001b[39m\n"
     ]
    },
    {
     "name": "stdout",
     "output_type": "stream",
     "text": [
      "progress = Progress(n_steps) = ProgressMeter.Progress(1000, 0, nothing, ProgressMeter.BarGlyphs('|', '█', ['▏', '▎', '▍', '▌', '▋', '▊', '▉'], ' ', '|'), ProgressMeter.ProgressCore(:green, \"Progress: \", 0.1, true, 0, IJulia.IJuliaStdio{Base.PipeEndpoint}(IOContext(Base.PipeEndpoint(RawFD(40) open, 0 bytes waiting))), false, 1, 0, ReentrantLock(nothing, 0x00000000, 0x00, Base.GenericCondition{Base.Threads.SpinLock}(Base.IntrusiveLinkedList{Task}(nothing, nothing), Base.Threads.SpinLock(0)), (0, 0, -281330640536715)), 0, 1, false, false, 1.742397781010801e9, 1.742397781010801e9, 1.742397781010801e9))\n"
     ]
    },
    {
     "name": "stderr",
     "output_type": "stream",
     "text": [
      "\u001b[32mProgress: 100%|█████████████████████████████████████████| Time: 0:00:00\u001b[39m\n"
     ]
    },
    {
     "name": "stdout",
     "output_type": "stream",
     "text": [
      "progress = Progress(n_steps) = ProgressMeter.Progress(1000, 0, nothing, ProgressMeter.BarGlyphs('|', '█', ['▏', '▎', '▍', '▌', '▋', '▊', '▉'], ' ', '|'), ProgressMeter.ProgressCore(:green, \"Progress: \", 0.1, true, 0, IJulia.IJuliaStdio{Base.PipeEndpoint}(IOContext(Base.PipeEndpoint(RawFD(40) open, 0 bytes waiting))), false, 1, 0, ReentrantLock(nothing, 0x00000000, 0x00, Base.GenericCondition{Base.Threads.SpinLock}(Base.IntrusiveLinkedList{Task}(nothing, nothing), Base.Threads.SpinLock(0)), (4611468723124210433, 1, 22)), 0, 1, false, false, 1.742397781213911e9, 1.742397781213911e9, 1.742397781213911e9))"
     ]
    },
    {
     "name": "stderr",
     "output_type": "stream",
     "text": [
      "\u001b[32mProgress:  51%|█████████████████████▏                   |  ETA: 0:00:00\u001b[39m"
     ]
    },
    {
     "name": "stdout",
     "output_type": "stream",
     "text": [
      "\n"
     ]
    },
    {
     "name": "stderr",
     "output_type": "stream",
     "text": [
      "\u001b[32mProgress: 100%|█████████████████████████████████████████| Time: 0:00:00\u001b[39m\n"
     ]
    },
    {
     "name": "stdout",
     "output_type": "stream",
     "text": [
      "progress = Progress(n_steps) = ProgressMeter.Progress(1000, 0, nothing, ProgressMeter.BarGlyphs('|', '█', ['▏', '▎', '▍', '▌', '▋', '▊', '▉'], ' ', '|'), ProgressMeter.ProgressCore(:green, \"Progress: \", 0.1, true, 0, IJulia.IJuliaStdio{Base.PipeEndpoint}(IOContext(Base.PipeEndpoint(RawFD(40) open, 0 bytes waiting))), false, 1, 0, ReentrantLock(nothing, 0x00000000, 0x00, Base.GenericCondition{Base.Threads.SpinLock}(Base.IntrusiveLinkedList{Task}(nothing, nothing), Base.Threads.SpinLock(0)), (4568645510995893283, 5694363216, 22)), 0, 1, false, false, 1.742397781415803e9, 1.742397781415803e9, 1.742397781415803e9))\n"
     ]
    },
    {
     "name": "stderr",
     "output_type": "stream",
     "text": [
      "\u001b[32mProgress: 100%|█████████████████████████████████████████| Time: 0:00:00\u001b[39m\n"
     ]
    },
    {
     "name": "stdout",
     "output_type": "stream",
     "text": [
      "Results saved to mean_and_std_angles.csv\n"
     ]
    }
   ],
   "source": [
    "using Statistics\n",
    "using Molly\n",
    "using ConstrainedDynamicsSimulator\n",
    "using Unitful\n",
    "using CSV\n",
    "using DataFrames\n",
    "using Threads\n",
    "\n",
    "function init_system(logging_interval)\n",
    "    ff_dir = joinpath(dirname(pathof(Molly)), \"..\", \"data\", \"force_fields\")\n",
    "    ff = MolecularForceField(joinpath.(ff_dir, [\"ff99SBildn.xml\", \"tip3p_standard.xml\"])...)\n",
    "    sys = System(\"dipeptide_nowater.pdb\", ff; rename_terminal_res=false)\n",
    "\n",
    "    function phi_wrapper(sys, args...; kwargs...)\n",
    "        rad2deg(torsion_angle(sys.coords[5], sys.coords[7], sys.coords[9],\n",
    "                            sys.coords[15], sys.boundary))\n",
    "    end\n",
    "\n",
    "    function psi_wrapper(sys, args...; kwargs...)\n",
    "        rad2deg(torsion_angle(sys.coords[7], sys.coords[9], sys.coords[15],\n",
    "                            sys.coords[17], sys.boundary))\n",
    "    end\n",
    "\n",
    "    sys = System(\n",
    "        \"dipeptide_nowater.pdb\",\n",
    "        ff;\n",
    "        rename_terminal_res=false,\n",
    "        loggers=(\n",
    "            phi=GeneralObservableLogger(phi_wrapper, Float64, logging_interval),\n",
    "            psi=GeneralObservableLogger(psi_wrapper, Float64, logging_interval),\n",
    "        ),\n",
    "        implicit_solvent=\"gbn2\",\n",
    "    )\n",
    "\n",
    "    return sys\n",
    "end\n",
    "\n",
    "timestep = 0.002u\"ps\"\n",
    "fric = 5000.0u\"ps^-1\"\n",
    "temps = [3 * 10^(x) for x in 0:0.1:3]\n",
    "traj_length = 1_000\n",
    "logging_interval = 1\n",
    "phi_data_array = zeros((length(temps), div(traj_length, logging_interval) + 1))\n",
    "psi_data_array = zeros((length(temps), div(traj_length, logging_interval) + 1))\n",
    "mean_phi_increment = zeros(length(temps))\n",
    "mean_psi_increment = zeros(length(temps))\n",
    "\n",
    "@threads for (idx, temp) in enumerate(temps)\n",
    "    sys = init_system(logging_interval)\n",
    "    temp = temp*u\"K\"\n",
    "    simulator = CVConstrainedOverdampedLangevin(dt=timestep, T=temp, γ=fric, φ_grid=ConstrainedDynamicsSimulator.Dihedrals.φ_grid, φ_flat=ConstrainedDynamicsSimulator.Dihedrals.φ_flat)\n",
    "    ConstrainedDynamicsSimulator.simulate!(sys, simulator, traj_length)\n",
    "    phi_data_array[idx, :] = values(sys.loggers.phi)\n",
    "    psi_data_array[idx, :] = values(sys.loggers.psi)\n",
    "    mean_phi_increment[idx] = mean(abs.(diff(values(sys.loggers.phi))))\n",
    "    mean_psi_increment[idx] = mean(abs.(diff(values(sys.loggers.psi))))\n",
    "end\n",
    "\n",
    "mean_phi_angles = vec(mean(phi_data_array, dims=2))\n",
    "mean_psi_angles = vec(mean(psi_data_array, dims=2))\n",
    "std_phi_angles = vec(std(phi_data_array, dims=2))\n",
    "std_psi_angles = vec(std(psi_data_array, dims=2))\n",
    "\n",
    "df = DataFrame(\n",
    "    Temperature_K = temps,\n",
    "    Mean_Phi_Angles = mean_phi_angles,\n",
    "    Std_Phi_Angles = std_phi_angles,\n",
    "    Mean_Phi_Increment = mean_phi_increment,\n",
    "    Mean_Psi_Angles = mean_psi_angles,\n",
    "    Std_Psi_Angles = std_psi_angles,\n",
    "    Mean_Psi_Increment = mean_psi_increment\n",
    ")\n",
    "\n",
    "metadata = \"\"\"\n",
    "# Timestep: $(timestep)\n",
    "# Friction Coefficient: $(fric)\n",
    "# Trajectory Length: $(traj_length) steps\n",
    "# Logging Interval: $(logging_interval)\n",
    "# Temperature Range: $(minimum(temps)) K to $(maximum(temps)) K\n",
    "# Number of Temperatures: $(length(temps))\n",
    "\"\"\"\n",
    "\n",
    "open(\"./results/EM/mean_and_std_angles.csv\", \"w\") do io\n",
    "    write(io, metadata)\n",
    "    CSV.write(io, df; append=true, writeheader=true)\n",
    "end\n",
    "\n",
    "println(\"Results saved to mean_and_std_angles.csv\")"
   ]
  },
  {
   "cell_type": "code",
   "execution_count": null,
   "metadata": {},
   "outputs": [],
   "source": []
  }
 ],
 "metadata": {
  "kernelspec": {
   "display_name": "Julia 1.11 1.11.4",
   "language": "julia",
   "name": "julia-1.11-1.11"
  },
  "language_info": {
   "file_extension": ".jl",
   "mimetype": "application/julia",
   "name": "julia",
   "version": "1.11.4"
  }
 },
 "nbformat": 4,
 "nbformat_minor": 2
}
